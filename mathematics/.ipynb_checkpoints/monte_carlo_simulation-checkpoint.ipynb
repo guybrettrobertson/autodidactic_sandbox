{
 "cells": [
  {
   "cell_type": "markdown",
   "metadata": {},
   "source": [
    "# Monte Carlo Simulation"
   ]
  },
  {
   "cell_type": "markdown",
   "metadata": {},
   "source": [
    "## Import packages"
   ]
  },
  {
   "cell_type": "code",
   "execution_count": 1,
   "metadata": {},
   "outputs": [],
   "source": [
    "import numpy as np"
   ]
  },
  {
   "cell_type": "markdown",
   "metadata": {},
   "source": [
    "## Estimate pi\n",
    "\n",
    "A Monte Carlo simulation can be used as a method for estimating the value of pi. Randomly sample numbers in the unit square between [-0.5, -0.5] and [0.5, 0.5], and calculate the distance from each point to the origin. If a point is within 0.5 of distance from the origin, then it falls within a circle centred on the origin of radius diameter equal to 1. The proportion of the points falling in the circle relates to the area of the circle and square according to the following equation:\n",
    "\n",
    "$\\frac{\\text{Number of points in circle}}{\\text{Total number of points}} = \"$"
   ]
  },
  {
   "cell_type": "code",
   "execution_count": 41,
   "metadata": {},
   "outputs": [
    {
     "name": "stdout",
     "output_type": "stream",
     "text": [
      "3.1414692\n"
     ]
    }
   ],
   "source": [
    "def estimate_pi(n, seed):\n",
    "    '''Calculate the value of pi using Monte Carlo simulation of n samples.'''\n",
    "    \n",
    "    np.random.seed = seed\n",
    "\n",
    "    random_nums = np.random.rand(n, 2) - 0.5\n",
    "\n",
    "    squares = np.multiply(random_nums, random_nums)\n",
    "\n",
    "    sums_of_squares = np.sum(squares, axis=1)\n",
    "\n",
    "    distances = np.sqrt(sums_of_squares)\n",
    "\n",
    "    within_circle = n - np.sum(np.round(distances, decimals=0))\n",
    "\n",
    "    pi_estimate = np.sum(within_circle) / n / 0.25\n",
    "\n",
    "    return pi_estimate"
   ]
  },
  {
   "cell_type": "code",
   "execution_count": null,
   "metadata": {},
   "outputs": [],
   "source": []
  },
  {
   "cell_type": "code",
   "execution_count": null,
   "metadata": {},
   "outputs": [],
   "source": [
    "within_circle / n = pi r"
   ]
  }
 ],
 "metadata": {
  "kernelspec": {
   "display_name": "Python 3",
   "language": "python",
   "name": "python3"
  },
  "language_info": {
   "codemirror_mode": {
    "name": "ipython",
    "version": 3
   },
   "file_extension": ".py",
   "mimetype": "text/x-python",
   "name": "python",
   "nbconvert_exporter": "python",
   "pygments_lexer": "ipython3",
   "version": "3.7.6"
  }
 },
 "nbformat": 4,
 "nbformat_minor": 4
}
