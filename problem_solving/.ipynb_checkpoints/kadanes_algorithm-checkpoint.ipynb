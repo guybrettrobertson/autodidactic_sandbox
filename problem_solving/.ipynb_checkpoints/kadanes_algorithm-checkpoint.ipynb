{
 "cells": [
  {
   "cell_type": "markdown",
   "metadata": {},
   "source": [
    "# Kadane's algorithm\n",
    "\n",
    "## Solution"
   ]
  },
  {
   "cell_type": "code",
   "execution_count": 1,
   "metadata": {},
   "outputs": [],
   "source": [
    "def kadanes_algorithm(array):\n",
    "    '''Find the subarray of adjacent elements that has the greatest sum.'''\n",
    "    \n",
    "    n = len(array)\n",
    "    sum_subarray = array[0]\n",
    "    max_sum_subarray = array[0]\n",
    "    \n",
    "    for i in range(1, n):\n",
    "        num = array[i]\n",
    "        sum_subarray = max(sum_subarray + num, num)\n",
    "        max_sum_subarray = max(max_sum_subarray, sum_subarray)\n",
    "    \n",
    "    return max_sum_subarray"
   ]
  },
  {
   "cell_type": "markdown",
   "metadata": {},
   "source": [
    "### Testing"
   ]
  },
  {
   "cell_type": "code",
   "execution_count": 2,
   "metadata": {},
   "outputs": [],
   "source": [
    "assert(kadanes_algorithm([2, -1]) == 2)\n",
    "assert(kadanes_algorithm([1, -2]) == 1)\n",
    "assert(kadanes_algorithm([3, 5, -9, 1, 3, -2, 3, 4, 7, 2, -9, 6, 3, 1, -5, 4]) == 19)\n",
    "assert(kadanes_algorithm([1, 2, -4, 3, 5, -9, 8, 1, 2]) == 11)\n",
    "assert(kadanes_algorithm([-10, -5, -6, -2, -3, -20, -1, -50]) == -1)"
   ]
  }
 ],
 "metadata": {
  "kernelspec": {
   "display_name": "Python 3",
   "language": "python",
   "name": "python3"
  },
  "language_info": {
   "codemirror_mode": {
    "name": "ipython",
    "version": 3
   },
   "file_extension": ".py",
   "mimetype": "text/x-python",
   "name": "python",
   "nbconvert_exporter": "python",
   "pygments_lexer": "ipython3",
   "version": "3.7.6"
  }
 },
 "nbformat": 4,
 "nbformat_minor": 4
}
