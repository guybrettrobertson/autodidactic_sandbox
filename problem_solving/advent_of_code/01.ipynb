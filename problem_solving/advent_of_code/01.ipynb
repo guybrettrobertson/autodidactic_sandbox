{
 "cells": [
  {
   "cell_type": "markdown",
   "metadata": {},
   "source": [
    "# Day 1: Sum to 2020\n",
    "\n",
    "## Part 1: Problem statement\n",
    "\n",
    "Find the two entries of an array that sum to 2020 and then multiply those two numbers together.\n",
    "\n",
    "For example, for:\n",
    "\n",
    "1721<br>\n",
    "979<br>\n",
    "366<br>\n",
    "299<br>\n",
    "675<br>\n",
    "1456\n",
    "\n",
    "The two entries that sum to 2020 are 1721 and 299. Multiplying them together produces 1721 * 299 = 514579, so the correct answer is 514579."
   ]
  },
  {
   "cell_type": "markdown",
   "metadata": {},
   "source": [
    "## Solution\n",
    "\n",
    "Brute force approach with time complexity: $O(N^2)$. But N is small enough that a more complex solution is not necessary. See below for a more efficient solution anyway."
   ]
  },
  {
   "cell_type": "code",
   "execution_count": 1,
   "metadata": {},
   "outputs": [],
   "source": [
    "def solve_01_part_01(array, target):\n",
    "    '''Find the two numbers in array that sum to target and return their product.'''\n",
    "    \n",
    "    n = len(array)\n",
    "    \n",
    "    for i in range(n - 1):\n",
    "        for j in range(i + 1, n):\n",
    "            if array[i] + array[j] == target:\n",
    "                return array[i] * array[j]\n",
    "        \n",
    "    return 'Solution not found.'"
   ]
  },
  {
   "cell_type": "markdown",
   "metadata": {},
   "source": [
    "## Testing"
   ]
  },
  {
   "cell_type": "markdown",
   "metadata": {},
   "source": [
    "array = [1721, 979, 366, 299, 675, 1456]<br>\n",
    "target = 2020<br>\n",
    "solution = 514,579"
   ]
  },
  {
   "cell_type": "code",
   "execution_count": 2,
   "metadata": {},
   "outputs": [
    {
     "data": {
      "text/plain": [
       "514579"
      ]
     },
     "execution_count": 2,
     "metadata": {},
     "output_type": "execute_result"
    }
   ],
   "source": [
    "array = [1721, 979, 366, 299, 675, 1456]\n",
    "target = 2020\n",
    "solve_01_part_01(array, target)"
   ]
  },
  {
   "cell_type": "markdown",
   "metadata": {},
   "source": [
    "## Final solution\n",
    "\n",
    "The array is given [here](https://adventofcode.com/2020/day/1/input)."
   ]
  },
  {
   "cell_type": "code",
   "execution_count": 3,
   "metadata": {},
   "outputs": [
    {
     "data": {
      "text/plain": [
       "713184"
      ]
     },
     "execution_count": 3,
     "metadata": {},
     "output_type": "execute_result"
    }
   ],
   "source": [
    "import pandas as pd\n",
    "array = pd.read_csv('01_data.csv', header=None).values\n",
    "length = array.shape[0]\n",
    "array = array.reshape(length)\n",
    "target = 2020\n",
    "solve_01_part_01(array, target)"
   ]
  },
  {
   "cell_type": "markdown",
   "metadata": {},
   "source": [
    "## Part 2: Problem statement\n",
    "\n",
    "Find three numbers in your expense report that meet the same criteria.\n",
    "\n",
    "Using the above example again, the three entries that sum to 2020 are 979, 366, and 675. Multiplying them together produces the answer, 241861950.\n",
    "\n",
    "In your expense report, what is the product of the three entries that sum to 2020?\n",
    "\n",
    "## Solution\n",
    "\n",
    "Brute force approach with time complexity: $O(N^3)$. But N is small enough that a more complex solution is not necessary."
   ]
  },
  {
   "cell_type": "code",
   "execution_count": 4,
   "metadata": {},
   "outputs": [],
   "source": [
    "def solve_01_part_02(array, target):\n",
    "    '''Find the three numbers in array that sum to target and return their product.'''\n",
    "    \n",
    "    n = len(array)\n",
    "    \n",
    "    for i in range(n - 2):\n",
    "        for j in range(i + 1, n - 1):\n",
    "            for k in range(i + 2, n):\n",
    "                if array[i] + array[j] + array[k] == target:\n",
    "                    return array[i] * array[j] * array[k]\n",
    "        \n",
    "    return 'Solution not found.'"
   ]
  },
  {
   "cell_type": "markdown",
   "metadata": {},
   "source": [
    "## Testing"
   ]
  },
  {
   "cell_type": "markdown",
   "metadata": {},
   "source": [
    "array = [1721, 979, 366, 299, 675, 1456]<br>\n",
    "target = 2020<br>\n",
    "solution = 241,861,950"
   ]
  },
  {
   "cell_type": "code",
   "execution_count": 5,
   "metadata": {},
   "outputs": [
    {
     "data": {
      "text/plain": [
       "241861950"
      ]
     },
     "execution_count": 5,
     "metadata": {},
     "output_type": "execute_result"
    }
   ],
   "source": [
    "array = [1721, 979, 366, 299, 675, 1456]\n",
    "target = 2020\n",
    "solve_01_part_02(array, target)"
   ]
  },
  {
   "cell_type": "markdown",
   "metadata": {},
   "source": [
    "## Final solution\n",
    "\n",
    "array given [here](https://adventofcode.com/2020/day/1/input)."
   ]
  },
  {
   "cell_type": "code",
   "execution_count": 6,
   "metadata": {},
   "outputs": [
    {
     "data": {
      "text/plain": [
       "261244452"
      ]
     },
     "execution_count": 6,
     "metadata": {},
     "output_type": "execute_result"
    }
   ],
   "source": [
    "import pandas as pd\n",
    "array = pd.read_csv('01_data.csv', header=None).values\n",
    "length = array.shape[0]\n",
    "array = array.reshape(length)\n",
    "target = 2020\n",
    "solve_01_part_02(array, target)"
   ]
  },
  {
   "cell_type": "markdown",
   "metadata": {},
   "source": [
    "## More efficient solution to part 1\n",
    "\n",
    "First, sort the array. This would take $O(NlogN)$ time with a method like quicksort. Next, start with a pointer at each end of the array. Check if the sum is greater than or less than the target. If the sum is less than the target, increase the sum by moving the left pointer to the right. If the sum is greater than the target, decreased the sum by moving the right pointer to the left. This second part would take $O(N)$."
   ]
  },
  {
   "cell_type": "code",
   "execution_count": 7,
   "metadata": {},
   "outputs": [],
   "source": [
    "def solve_01_part_01(array, target):\n",
    "    '''Find the two numbers in array that sum to target and return their product.'''\n",
    "    \n",
    "    array.sort()\n",
    "    \n",
    "    i = 0\n",
    "    j = len(array) - 1\n",
    "    \n",
    "    while i != j:\n",
    "        check_sum = array[i] + array[j]\n",
    "        if check_sum == target:\n",
    "            return array[i] * array[j]\n",
    "        elif check_sum < target:\n",
    "            i += 1\n",
    "        else:\n",
    "            j -= 1\n",
    "        \n",
    "    return 'Solution not found.'"
   ]
  },
  {
   "cell_type": "markdown",
   "metadata": {},
   "source": [
    "## Testing"
   ]
  },
  {
   "cell_type": "markdown",
   "metadata": {},
   "source": [
    "array = [1721, 979, 366, 299, 675, 1456]<br>\n",
    "target = 2020<br>\n",
    "solution = 514,579"
   ]
  },
  {
   "cell_type": "code",
   "execution_count": 8,
   "metadata": {},
   "outputs": [
    {
     "data": {
      "text/plain": [
       "514579"
      ]
     },
     "execution_count": 8,
     "metadata": {},
     "output_type": "execute_result"
    }
   ],
   "source": [
    "array = [1721, 979, 366, 299, 675, 1456]\n",
    "target = 2020\n",
    "solve_01_part_01(array, target)"
   ]
  },
  {
   "cell_type": "markdown",
   "metadata": {},
   "source": [
    "## Final solution\n",
    "\n",
    "The array is given [here](https://adventofcode.com/2020/day/1/input)."
   ]
  },
  {
   "cell_type": "code",
   "execution_count": 9,
   "metadata": {},
   "outputs": [
    {
     "data": {
      "text/plain": [
       "713184"
      ]
     },
     "execution_count": 9,
     "metadata": {},
     "output_type": "execute_result"
    }
   ],
   "source": [
    "import pandas as pd\n",
    "array = pd.read_csv('01_data.csv', header=None).values\n",
    "length = array.shape[0]\n",
    "array = array.reshape(length)\n",
    "target = 2020\n",
    "solve_01_part_01(array, target)"
   ]
  }
 ],
 "metadata": {
  "kernelspec": {
   "display_name": "Python 3",
   "language": "python",
   "name": "python3"
  },
  "language_info": {
   "codemirror_mode": {
    "name": "ipython",
    "version": 3
   },
   "file_extension": ".py",
   "mimetype": "text/x-python",
   "name": "python",
   "nbconvert_exporter": "python",
   "pygments_lexer": "ipython3",
   "version": "3.6.5"
  }
 },
 "nbformat": 4,
 "nbformat_minor": 2
}
