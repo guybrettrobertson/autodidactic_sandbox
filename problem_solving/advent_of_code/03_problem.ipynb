{
 "cells": [
  {
   "cell_type": "markdown",
   "metadata": {},
   "source": [
    "# Day 3\n",
    "\n",
    "## Part 1: Problem statement\n",
    "\n",
    "Problem given [here](https://adventofcode.com/2020/day/3)."
   ]
  },
  {
   "cell_type": "markdown",
   "metadata": {},
   "source": [
    "### Import packages"
   ]
  },
  {
   "cell_type": "code",
   "execution_count": 1,
   "metadata": {},
   "outputs": [],
   "source": [
    "import numpy as np\n",
    "import pandas as pd"
   ]
  },
  {
   "cell_type": "markdown",
   "metadata": {},
   "source": [
    "### Solution"
   ]
  },
  {
   "cell_type": "code",
   "execution_count": 2,
   "metadata": {},
   "outputs": [],
   "source": [
    "def solve_3_part_1(trees, moves_down, moves_across):\n",
    "    '''Finds the number of trees encountered traversing across the forest.'''\n",
    "    \n",
    "    n_rows = len(trees)\n",
    "    n_cols = len(list(trees[0][0]))\n",
    "    \n",
    "    count = 0\n",
    "    \n",
    "    for i in range(n_rows):\n",
    "        row = i * moves_down\n",
    "        col = i * moves_across % n_cols\n",
    "        # Check if the bottom has been reached\n",
    "        if row > n_rows:\n",
    "            break\n",
    "        # x is the character in position [row, col]\n",
    "        x = list(trees[row][0])[col]\n",
    "        # Check if x is a tree or not\n",
    "        if x == '#':\n",
    "            count +=1\n",
    "            \n",
    "    return count"
   ]
  },
  {
   "cell_type": "markdown",
   "metadata": {},
   "source": [
    "### Testing"
   ]
  },
  {
   "cell_type": "code",
   "execution_count": 3,
   "metadata": {},
   "outputs": [],
   "source": [
    "trees_1 = [\n",
    "            ['..##.......'],\n",
    "            ['#...#...#..'],\n",
    "            ['.#....#..#.'],\n",
    "            ['..#.#...#.#'],\n",
    "            ['.#...##..#.'],\n",
    "            ['..#.##.....'],\n",
    "            ['.#.#.#....#'],\n",
    "            ['.#........#'],\n",
    "            ['#.##...#...'],\n",
    "            ['#...##....#'],\n",
    "            ['.#..#...#.#']\n",
    "]\n",
    "moves_down = 1\n",
    "moves_across = 3"
   ]
  },
  {
   "cell_type": "markdown",
   "metadata": {},
   "source": [
    "Expected output: 7"
   ]
  },
  {
   "cell_type": "code",
   "execution_count": 4,
   "metadata": {},
   "outputs": [
    {
     "name": "stdout",
     "output_type": "stream",
     "text": [
      "7\n"
     ]
    }
   ],
   "source": [
    "print(solve_3_part_1(trees_1, moves_down, moves_across))"
   ]
  },
  {
   "cell_type": "markdown",
   "metadata": {},
   "source": [
    "### Final solution"
   ]
  },
  {
   "cell_type": "code",
   "execution_count": 5,
   "metadata": {},
   "outputs": [],
   "source": [
    "trees_2 = pd.read_csv('03_data.csv', header=None).values.tolist()\n",
    "moves_down = 1\n",
    "moves_across = 3"
   ]
  },
  {
   "cell_type": "code",
   "execution_count": 6,
   "metadata": {},
   "outputs": [
    {
     "name": "stdout",
     "output_type": "stream",
     "text": [
      "223\n"
     ]
    }
   ],
   "source": [
    "print(solve_3_part_1(trees_2, moves_down, moves_across))"
   ]
  },
  {
   "cell_type": "markdown",
   "metadata": {},
   "source": [
    "# Part 2: Problem statement\n",
    "\n",
    "Calculate the product of the numbers of trees encounters when traversing the forest according to the 5 moves below."
   ]
  },
  {
   "cell_type": "code",
   "execution_count": 7,
   "metadata": {},
   "outputs": [],
   "source": [
    "moves = [\n",
    "    [1, 1],\n",
    "    [1, 3],\n",
    "    [1, 5],\n",
    "    [1, 7],\n",
    "    [2, 1]\n",
    "]"
   ]
  },
  {
   "cell_type": "markdown",
   "metadata": {},
   "source": [
    "### Solution"
   ]
  },
  {
   "cell_type": "code",
   "execution_count": 8,
   "metadata": {},
   "outputs": [],
   "source": [
    "def solve_3_part_2(trees, moves):\n",
    "    '''Finds the product of the numbers of trees encountered using the different routes given.'''\n",
    "    \n",
    "    # The result is a product\n",
    "    res = 1\n",
    "    for j in range(len(moves)):\n",
    "        moves_down = moves[j][0]\n",
    "        moves_across = moves[j][1]\n",
    "        count = solve_3_part_1(trees, moves_down, moves_across)\n",
    "        res *= count\n",
    "    \n",
    "    return res"
   ]
  },
  {
   "cell_type": "markdown",
   "metadata": {},
   "source": [
    "### Testing\n",
    "\n",
    "Expected output: 336"
   ]
  },
  {
   "cell_type": "code",
   "execution_count": 9,
   "metadata": {},
   "outputs": [
    {
     "name": "stdout",
     "output_type": "stream",
     "text": [
      "336\n"
     ]
    }
   ],
   "source": [
    "print(solve_3_part_2(trees_1, moves))"
   ]
  },
  {
   "cell_type": "markdown",
   "metadata": {},
   "source": [
    "### Final result"
   ]
  },
  {
   "cell_type": "code",
   "execution_count": 10,
   "metadata": {},
   "outputs": [
    {
     "name": "stdout",
     "output_type": "stream",
     "text": [
      "3517401300\n"
     ]
    }
   ],
   "source": [
    "print(solve_3_part_2(trees_2, moves))"
   ]
  }
 ],
 "metadata": {
  "kernelspec": {
   "display_name": "Python 3",
   "language": "python",
   "name": "python3"
  },
  "language_info": {
   "codemirror_mode": {
    "name": "ipython",
    "version": 3
   },
   "file_extension": ".py",
   "mimetype": "text/x-python",
   "name": "python",
   "nbconvert_exporter": "python",
   "pygments_lexer": "ipython3",
   "version": "3.7.6"
  }
 },
 "nbformat": 4,
 "nbformat_minor": 2
}
