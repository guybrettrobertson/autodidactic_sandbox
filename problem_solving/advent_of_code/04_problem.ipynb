{
 "cells": [
  {
   "cell_type": "markdown",
   "metadata": {},
   "source": [
    "# Day 4"
   ]
  },
  {
   "cell_type": "markdown",
   "metadata": {},
   "source": [
    "## Part 1: Problem statement\n",
    "\n",
    "Problem is specified [here](https://adventofcode.com/2020/day/4)."
   ]
  },
  {
   "cell_type": "markdown",
   "metadata": {},
   "source": [
    "### Import packages"
   ]
  },
  {
   "cell_type": "code",
   "execution_count": 1,
   "metadata": {},
   "outputs": [],
   "source": [
    "import pandas as pd"
   ]
  },
  {
   "cell_type": "markdown",
   "metadata": {},
   "source": [
    "### Solution\n",
    "\n",
    "Most of the time I would get the data before solving the problem. In this case, processing the data in multiple steps is the problem, so I've chosen not to structure the solution as a function."
   ]
  },
  {
   "cell_type": "code",
   "execution_count": 7,
   "metadata": {},
   "outputs": [
    {
     "name": "stdout",
     "output_type": "stream",
     "text": [
      "               0         1          2         3            4         5  \\\n",
      "0       iyr:2015   cid:189    ecl:oth  byr:1947  hcl:#6c4ab1  eyr:2026   \n",
      "1      hgt:174cm       NaN        NaN       NaN          NaN       NaN   \n",
      "2  pid:526744288       NaN        NaN       NaN          NaN       NaN   \n",
      "3            NaN       NaN        NaN       NaN          NaN       NaN   \n",
      "4  pid:688706448  iyr:2017  hgt:162cm   cid:174      ecl:grn  byr:1943   \n",
      "\n",
      "             6         7  \n",
      "0          NaN       NaN  \n",
      "1          NaN       NaN  \n",
      "2          NaN       NaN  \n",
      "3          NaN       NaN  \n",
      "4  hcl:#808e9e  eyr:2025  \n"
     ]
    }
   ],
   "source": [
    "raw_data = pd.read_csv('04_data.csv', header=None)\n",
    "print(raw_data.head(5))"
   ]
  },
  {
   "cell_type": "markdown",
   "metadata": {},
   "source": [
    "Here I remove combine the clusters of passport codes into Python lists and remove the NaNs. I also separate the keys and values as this will be easier to work with down the line."
   ]
  },
  {
   "cell_type": "code",
   "execution_count": 3,
   "metadata": {},
   "outputs": [
    {
     "name": "stdout",
     "output_type": "stream",
     "text": [
      "[['iyr', 'cid', 'ecl', 'byr', 'hcl', 'eyr', 'hgt', 'pid'], ['pid', 'iyr', 'hgt', 'cid', 'ecl', 'byr', 'hcl', 'eyr'], ['ecl', 'hcl', 'cid', 'pid', 'iyr', 'eyr', 'byr', 'hgt'], ['pid', 'hgt', 'hcl', 'byr', 'iyr', 'cid', 'ecl', 'eyr'], ['cid', 'pid', 'iyr', 'ecl', 'byr', 'hgt', 'hcl', 'eyr'], ['ecl', 'hcl', 'pid', 'hgt', 'cid', 'byr', 'eyr'], ['pid', 'ecl', 'hgt', 'byr', 'eyr', 'iyr', 'hcl'], ['byr', 'eyr', 'ecl', 'iyr', 'pid', 'hcl', 'hgt'], ['cid', 'byr', 'hcl', 'pid', 'iyr', 'eyr', 'hgt'], ['ecl', 'pid', 'eyr', 'byr', 'iyr', 'hcl', 'hgt']]\n"
     ]
    }
   ],
   "source": [
    "# New data structures that contains the passport code keys and values. Each list contains a new passport.\n",
    "keys = [[]]\n",
    "values = [[]]\n",
    "k = 0\n",
    "for i in range(len(raw_data)):\n",
    "    # If you hit a row that is all NaNs, start a new list corresponding to a new passport\n",
    "    if pd.isna(raw_data.iloc[i, 0]):\n",
    "        # New row\n",
    "        k += 1\n",
    "        keys.append([])\n",
    "        values.append([])\n",
    "    else:\n",
    "        j = 0\n",
    "        while j < 8:\n",
    "            if not pd.isna(raw_data.iloc[i, j]):\n",
    "                # Add the key and value\n",
    "                key = raw_data.iloc[i, j].split(':')[0]\n",
    "                value = raw_data.iloc[i, j].split(':')[1]\n",
    "                keys[k].append(key)\n",
    "                values[k].append(value)\n",
    "            j += 1\n",
    "print(keys[0:10])"
   ]
  },
  {
   "cell_type": "markdown",
   "metadata": {},
   "source": [
    "Here I go through every passport and check whether all 7 of the necessary keys are present."
   ]
  },
  {
   "cell_type": "code",
   "execution_count": 4,
   "metadata": {},
   "outputs": [
    {
     "name": "stdout",
     "output_type": "stream",
     "text": [
      "264\n"
     ]
    }
   ],
   "source": [
    "# codes are the passport key codes\n",
    "codes = ['byr', 'iyr', 'eyr', 'hgt', 'hcl', 'ecl', 'pid'] # 'cid' is optional\n",
    "# Number of passports\n",
    "n_passports = len(keys)\n",
    "# Number of potential codes\n",
    "n_codes = len(codes)\n",
    "# Count of valid passports\n",
    "count = 0\n",
    "# New keys and values data structure that only retains the valid ones\n",
    "new_keys = []\n",
    "new_values = []\n",
    "for i in range(n_passports):\n",
    "    for j in range(n_codes):\n",
    "        if codes[j] not in keys[i]:\n",
    "            break\n",
    "        if j == n_codes - 1:\n",
    "            count += 1\n",
    "            new_keys.append(keys[i])\n",
    "            new_values.append(values[i])\n",
    "        \n",
    "print(count)"
   ]
  },
  {
   "cell_type": "markdown",
   "metadata": {},
   "source": [
    "## Part 2"
   ]
  },
  {
   "cell_type": "code",
   "execution_count": 5,
   "metadata": {},
   "outputs": [],
   "source": [
    "def validate_code(key, value):\n",
    "    '''Validate the code with key and value.'''\n",
    "    \n",
    "    if key == 'byr':\n",
    "        value = int(value)\n",
    "        if value < 1920 or value > 2002:\n",
    "            return False\n",
    "        \n",
    "    elif key == 'iyr':\n",
    "        value = int(value)\n",
    "        if value < 2010 or value > 2020:\n",
    "            return False\n",
    "        \n",
    "    elif key == 'eyr':\n",
    "        value = int(value)\n",
    "        if value < 2020 or value > 2030:\n",
    "            return False\n",
    "        \n",
    "    elif key == 'hgt':\n",
    "        value = str(value)\n",
    "        if value[-2:] == 'cm':\n",
    "            if int(value[:-2]) < 150 or int(value[:-2]) > 193:\n",
    "                return False\n",
    "        elif value[-2:] == 'in':\n",
    "            if int(value[:-2]) < 59 or int(value[:-2]) > 76:\n",
    "                return False\n",
    "        else:\n",
    "            return False\n",
    "        \n",
    "    elif key == 'hcl':\n",
    "        value = str(value)\n",
    "        if len(value) != 7:\n",
    "            return False\n",
    "        if value[0] != '#':\n",
    "            return False\n",
    "        for i in range(1, 7):\n",
    "            if value[i] not in ['0', '1', '2', '3', '4', '5', '6', '7', '8', '9', 'a', 'b', 'c', 'd', 'e', 'f']:\n",
    "                return False\n",
    "        \n",
    "    elif key == 'ecl':\n",
    "        if str(value) not in ['amb', 'blu', 'brn', 'gry', 'grn', 'hzl', 'oth']:\n",
    "            return False\n",
    "        \n",
    "    elif key == 'pid':\n",
    "        value = str(value)\n",
    "        if len(value) != 9:\n",
    "            return False\n",
    "        for i in range(9):\n",
    "            if value[i] not in ['0', '1', '2', '3', '4', '5', '6', '7', '8', '9']:\n",
    "                return False\n",
    "    \n",
    "    return True\n",
    "        "
   ]
  },
  {
   "cell_type": "code",
   "execution_count": 6,
   "metadata": {},
   "outputs": [
    {
     "name": "stdout",
     "output_type": "stream",
     "text": [
      "224\n"
     ]
    }
   ],
   "source": [
    "count = 0\n",
    "for i in range(len(new_keys)):\n",
    "    m = len(new_keys[i])\n",
    "    for j in range(m):\n",
    "        check = validate_code(new_keys[i][j], new_values[i][j])\n",
    "        if check == False:\n",
    "            break\n",
    "        if j == m - 1:\n",
    "            count +=1\n",
    "print(count)"
   ]
  }
 ],
 "metadata": {
  "kernelspec": {
   "display_name": "Python 3",
   "language": "python",
   "name": "python3"
  },
  "language_info": {
   "codemirror_mode": {
    "name": "ipython",
    "version": 3
   },
   "file_extension": ".py",
   "mimetype": "text/x-python",
   "name": "python",
   "nbconvert_exporter": "python",
   "pygments_lexer": "ipython3",
   "version": "3.7.6"
  }
 },
 "nbformat": 4,
 "nbformat_minor": 2
}
