{
 "cells": [
  {
   "cell_type": "markdown",
   "metadata": {},
   "source": [
    "# Day 5\n",
    "\n",
    "## Part 1: Problem\n",
    "\n",
    "Problem is specified [here](https://adventofcode.com/2020/day/5).\n",
    "\n",
    "### Import packages"
   ]
  },
  {
   "cell_type": "code",
   "execution_count": 1,
   "metadata": {},
   "outputs": [],
   "source": [
    "import pandas as pd"
   ]
  },
  {
   "cell_type": "markdown",
   "metadata": {},
   "source": [
    "### Import and process data"
   ]
  },
  {
   "cell_type": "code",
   "execution_count": 2,
   "metadata": {},
   "outputs": [
    {
     "name": "stdout",
     "output_type": "stream",
     "text": [
      "[['FFBFBBBRLR'], ['BBFFBFFRRR'], ['BFFFFBBRRR'], ['FFBFFBBLRR'], ['FFBFBFBLLL'], ['FFBFFBFLRR'], ['BFFFBBBLLR'], ['FFBFBFFRLR'], ['FFBFFFBRRR'], ['FFBFFFFRRL']]\n"
     ]
    }
   ],
   "source": [
    "data = pd.read_csv('05_data.csv', header=None)\n",
    "data = data.drop(labels=[1, 2, 3, 4, 5, 6], axis=1)\n",
    "data = data.values.tolist()\n",
    "print(data[0:10])"
   ]
  },
  {
   "cell_type": "code",
   "execution_count": 3,
   "metadata": {},
   "outputs": [
    {
     "name": "stdout",
     "output_type": "stream",
     "text": [
      "[['F', 'F', 'B', 'F', 'B', 'B', 'B', 'R', 'L', 'R'], ['B', 'B', 'F', 'F', 'B', 'F', 'F', 'R', 'R', 'R'], ['B', 'F', 'F', 'F', 'F', 'B', 'B', 'R', 'R', 'R'], ['F', 'F', 'B', 'F', 'F', 'B', 'B', 'L', 'R', 'R'], ['F', 'F', 'B', 'F', 'B', 'F', 'B', 'L', 'L', 'L'], ['F', 'F', 'B', 'F', 'F', 'B', 'F', 'L', 'R', 'R'], ['B', 'F', 'F', 'F', 'B', 'B', 'B', 'L', 'L', 'R'], ['F', 'F', 'B', 'F', 'B', 'F', 'F', 'R', 'L', 'R'], ['F', 'F', 'B', 'F', 'F', 'F', 'B', 'R', 'R', 'R'], ['F', 'F', 'B', 'F', 'F', 'F', 'F', 'R', 'R', 'L']]\n"
     ]
    }
   ],
   "source": [
    "for i in range(len(data)):\n",
    "    data[i] = list(data[i][0])\n",
    "print(data[0:10])"
   ]
  },
  {
   "cell_type": "code",
   "execution_count": 4,
   "metadata": {},
   "outputs": [],
   "source": [
    "def narrow_row(code, index, low, high):\n",
    "    '''Recursive function for narrowing down the row.'''\n",
    "    \n",
    "    if index == 7:\n",
    "        if code[7] == 'F':\n",
    "            return low\n",
    "        else:\n",
    "            return high\n",
    "    if code[index] == 'F':\n",
    "        high = (low + high) // 2\n",
    "        return narrow_row(code, index + 1, low, high)\n",
    "    else:\n",
    "        low = (low + high) // 2 + 1\n",
    "        return narrow_row(code, index + 1, low, high)\n",
    "\n",
    "def narrow_col(code, index, low, high):\n",
    "    '''Recursive function for narrowing down the column.'''\n",
    "    \n",
    "    if index == 9:\n",
    "        if code[9] == 'L':\n",
    "            return low\n",
    "        else:\n",
    "            return high\n",
    "    if code[index] == 'L':\n",
    "        high = (low + high) // 2\n",
    "        return narrow_col(code, index + 1, low, high)\n",
    "    else:\n",
    "        low = (low + high) // 2 + 1\n",
    "        return narrow_col(code, index + 1, low, high)\n",
    "        "
   ]
  },
  {
   "cell_type": "code",
   "execution_count": 5,
   "metadata": {},
   "outputs": [
    {
     "name": "stdout",
     "output_type": "stream",
     "text": [
      "818\n"
     ]
    }
   ],
   "source": [
    "biggest = 0\n",
    "filled_seats = []\n",
    "for code in data:\n",
    "    row = narrow_row(code, 0, 0, 127)\n",
    "    col = narrow_col(code, 7, 0, 7)\n",
    "    res = row * 8 + col\n",
    "    if res > biggest:\n",
    "        biggest = res\n",
    "    filled_seats.append(res)\n",
    "print(biggest)"
   ]
  },
  {
   "cell_type": "markdown",
   "metadata": {},
   "source": [
    "## Part 2"
   ]
  },
  {
   "cell_type": "code",
   "execution_count": 6,
   "metadata": {},
   "outputs": [
    {
     "name": "stdout",
     "output_type": "stream",
     "text": [
      "559\n"
     ]
    }
   ],
   "source": [
    "filled_seats.sort()\n",
    "for i in range(min(filled_seats), max(filled_seats)):\n",
    "    if i not in filled_seats:\n",
    "        print(i)"
   ]
  }
 ],
 "metadata": {
  "kernelspec": {
   "display_name": "Python 3",
   "language": "python",
   "name": "python3"
  },
  "language_info": {
   "codemirror_mode": {
    "name": "ipython",
    "version": 3
   },
   "file_extension": ".py",
   "mimetype": "text/x-python",
   "name": "python",
   "nbconvert_exporter": "python",
   "pygments_lexer": "ipython3",
   "version": "3.7.6"
  }
 },
 "nbformat": 4,
 "nbformat_minor": 4
}
