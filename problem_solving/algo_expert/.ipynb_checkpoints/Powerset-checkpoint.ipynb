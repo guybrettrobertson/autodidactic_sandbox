{
 "cells": [
  {
   "cell_type": "markdown",
   "metadata": {},
   "source": [
    "# Powerset\n",
    "\n",
    "## Solution\n",
    "\n",
    "Recursive solution."
   ]
  },
  {
   "cell_type": "code",
   "execution_count": 1,
   "metadata": {},
   "outputs": [],
   "source": [
    "def powerset(array, idx=None):\n",
    "    '''Return the powerset of the array.'''\n",
    "    \n",
    "    if idx == None:\n",
    "        idx = len(array) - 1\n",
    "    if idx == -1:\n",
    "        return [[]]\n",
    "    \n",
    "    output = powerset(array[:idx], idx - 1)\n",
    "    \n",
    "    for i in range(len(output)):\n",
    "        output.append(output[i] + [array[idx]])\n",
    "    \n",
    "    return output"
   ]
  },
  {
   "cell_type": "markdown",
   "metadata": {},
   "source": [
    "### Testing"
   ]
  },
  {
   "cell_type": "code",
   "execution_count": 2,
   "metadata": {},
   "outputs": [],
   "source": [
    "actual = powerset([])\n",
    "assert(actual == [[]])"
   ]
  },
  {
   "cell_type": "code",
   "execution_count": 3,
   "metadata": {},
   "outputs": [],
   "source": [
    "actual = powerset([1])\n",
    "assert(actual == [[], [1]])"
   ]
  },
  {
   "cell_type": "code",
   "execution_count": 4,
   "metadata": {},
   "outputs": [],
   "source": [
    "actual = powerset([1, 2])\n",
    "assert(actual == [[], [1], [2], [1, 2]])"
   ]
  },
  {
   "cell_type": "code",
   "execution_count": 5,
   "metadata": {},
   "outputs": [],
   "source": [
    "actual = powerset([1, 2, 3])\n",
    "assert(actual == [[], [1], [2], [1, 2], [3], [1, 3], [2, 3], [1, 2, 3]])"
   ]
  },
  {
   "cell_type": "markdown",
   "metadata": {},
   "source": [
    "## Solution\n",
    "\n",
    "Iterative solution."
   ]
  },
  {
   "cell_type": "code",
   "execution_count": 6,
   "metadata": {},
   "outputs": [],
   "source": [
    "def powerset(array):\n",
    "    '''Return the powerset of the array.'''\n",
    "    \n",
    "    output = [[]]\n",
    "    \n",
    "    for num in array:\n",
    "        for i in range(len(output)):\n",
    "            output.append(output[i] + [num])\n",
    "    \n",
    "    return output"
   ]
  },
  {
   "cell_type": "markdown",
   "metadata": {},
   "source": [
    "### Testing"
   ]
  },
  {
   "cell_type": "code",
   "execution_count": 7,
   "metadata": {},
   "outputs": [],
   "source": [
    "actual = powerset([])\n",
    "assert(actual == [[]])"
   ]
  },
  {
   "cell_type": "code",
   "execution_count": 8,
   "metadata": {},
   "outputs": [],
   "source": [
    "actual = powerset([1])\n",
    "assert(actual == [[], [1]])"
   ]
  },
  {
   "cell_type": "code",
   "execution_count": 9,
   "metadata": {},
   "outputs": [],
   "source": [
    "actual = powerset([1, 2])\n",
    "assert(actual == [[], [1], [2], [1, 2]])"
   ]
  },
  {
   "cell_type": "code",
   "execution_count": 10,
   "metadata": {},
   "outputs": [],
   "source": [
    "actual = powerset([1, 2, 3])\n",
    "assert(actual == [[], [1], [2], [1, 2], [3], [1, 3], [2, 3], [1, 2, 3]])"
   ]
  }
 ],
 "metadata": {
  "kernelspec": {
   "display_name": "Python 3",
   "language": "python",
   "name": "python3"
  },
  "language_info": {
   "codemirror_mode": {
    "name": "ipython",
    "version": 3
   },
   "file_extension": ".py",
   "mimetype": "text/x-python",
   "name": "python",
   "nbconvert_exporter": "python",
   "pygments_lexer": "ipython3",
   "version": "3.7.6"
  }
 },
 "nbformat": 4,
 "nbformat_minor": 4
}
