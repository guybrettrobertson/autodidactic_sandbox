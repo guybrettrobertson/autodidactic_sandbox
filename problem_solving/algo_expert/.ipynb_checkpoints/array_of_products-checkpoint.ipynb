{
 "cells": [
  {
   "cell_type": "markdown",
   "metadata": {},
   "source": [
    "# Array of products\n",
    "\n",
    "## Solution"
   ]
  },
  {
   "cell_type": "code",
   "execution_count": 1,
   "metadata": {},
   "outputs": [],
   "source": [
    "def array_of_products(array):\n",
    "    '''Return an array where each element is equal to all the other numbers in the input array.'''\n",
    "    \n",
    "    n = len(array)\n",
    "    if n <= 1:\n",
    "        return array\n",
    "    product = 1\n",
    "    \n",
    "    num_zeros = array.count(0)\n",
    "    if num_zeros == 0:\n",
    "        product = calc_product(array[1:n])\n",
    "\n",
    "        output = [product]\n",
    "\n",
    "        for i in range(1, n):\n",
    "            output.append(int(product * array[0] / array[i]))\n",
    "\n",
    "        return output\n",
    "    \n",
    "    elif num_zeros == 1:\n",
    "        for i in range(n):\n",
    "            if array[i] == 0:\n",
    "                output = [0] * i  + [calc_product(array[0:i]) * calc_product(array[i + 1:])] + [0] * (n - i - 1)\n",
    "                return output\n",
    "    else:\n",
    "        return [0] * n\n",
    "\n",
    "def calc_product(array):\n",
    "    '''Calculate the product of the values of an array.'''\n",
    "    \n",
    "    product = 1\n",
    "    for i in range(len(array)):\n",
    "        product *= array[i]\n",
    "    return product"
   ]
  },
  {
   "cell_type": "markdown",
   "metadata": {},
   "source": [
    "### Testing"
   ]
  },
  {
   "cell_type": "code",
   "execution_count": 2,
   "metadata": {},
   "outputs": [],
   "source": [
    "assert(array_of_products([0, 1, 2, 3, 4]) == [24, 0, 0, 0, 0])\n",
    "assert(array_of_products([0, 0, 1, 2, 3]) == [0, 0, 0, 0, 0])\n",
    "assert(array_of_products([1, 2, 3, 4, 5]) == [120, 60, 40, 30, 24])"
   ]
  }
 ],
 "metadata": {
  "kernelspec": {
   "display_name": "Python 3",
   "language": "python",
   "name": "python3"
  },
  "language_info": {
   "codemirror_mode": {
    "name": "ipython",
    "version": 3
   },
   "file_extension": ".py",
   "mimetype": "text/x-python",
   "name": "python",
   "nbconvert_exporter": "python",
   "pygments_lexer": "ipython3",
   "version": "3.7.6"
  }
 },
 "nbformat": 4,
 "nbformat_minor": 4
}
