{
 "cells": [
  {
   "cell_type": "markdown",
   "metadata": {},
   "source": [
    "# Binary search\n",
    "\n",
    "## Solution"
   ]
  },
  {
   "cell_type": "code",
   "execution_count": 1,
   "metadata": {},
   "outputs": [],
   "source": [
    "def binarySearch(array, target):\n",
    "    return binarySearchHelper(array, target, 0, len(array) - 1)\n",
    "\n",
    "def binarySearchHelper(array, target, left, right):\n",
    "    if right < left:\n",
    "        return -1\n",
    "    \n",
    "    mid = (left + right) // 2\n",
    "    \n",
    "    if target == array[mid]:\n",
    "        return mid\n",
    "    elif target < array[mid]:\n",
    "        return binarySearchHelper(array, target, left, mid - 1)\n",
    "    else:\n",
    "        return binarySearchHelper(array, target, mid + 1, right)"
   ]
  },
  {
   "cell_type": "markdown",
   "metadata": {},
   "source": [
    "### Testing"
   ]
  },
  {
   "cell_type": "code",
   "execution_count": 2,
   "metadata": {},
   "outputs": [],
   "source": [
    "array = []\n",
    "target = 0\n",
    "assert(binarySearch(array, target) == -1)"
   ]
  },
  {
   "cell_type": "code",
   "execution_count": 3,
   "metadata": {},
   "outputs": [],
   "source": [
    "array = [0, 3, 4, 5, 6]\n",
    "assert(binarySearch(array, 0) == 0)\n",
    "assert(binarySearch(array, 3) == 1)\n",
    "assert(binarySearch(array, 4) == 2)\n",
    "assert(binarySearch(array, 5) == 3)\n",
    "assert(binarySearch(array, 6) == 4)\n",
    "assert(binarySearch(array, 100) == -1)"
   ]
  }
 ],
 "metadata": {
  "kernelspec": {
   "display_name": "Python 3",
   "language": "python",
   "name": "python3"
  },
  "language_info": {
   "codemirror_mode": {
    "name": "ipython",
    "version": 3
   },
   "file_extension": ".py",
   "mimetype": "text/x-python",
   "name": "python",
   "nbconvert_exporter": "python",
   "pygments_lexer": "ipython3",
   "version": "3.7.6"
  }
 },
 "nbformat": 4,
 "nbformat_minor": 4
}
