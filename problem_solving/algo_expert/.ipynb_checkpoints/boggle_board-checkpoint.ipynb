{
 "cells": [
  {
   "cell_type": "markdown",
   "metadata": {},
   "source": [
    "# Boggle board\n",
    "\n",
    "You're given a two-dimensional array of potentially unequal height and width containing letters; this matrix represents a boggle board. You're also given a list of words.\n",
    "\n",
    "Write a function that returns an array of all the words contained in the boggle board. The final words don't need to be in any particular order.\n",
    "\n",
    "A word is constructed in the boggle board by connecting adjacent (horizontally, vertically, or diagonally) letters, without using any single letter at a given position more than once; while a word can of course have repeated letters, those repeated letters must come from different positions in the boggle board in order for the word to be contained in the board. Note that two or more words are allowed to overlap and use the same letters in the boggle board.\n",
    "\n",
    "## Solution"
   ]
  },
  {
   "cell_type": "code",
   "execution_count": 3,
   "metadata": {},
   "outputs": [],
   "source": [
    "def boggle_board(board, words):\n",
    "    '''Find which words are contained in the boggle board.'''\n",
    "    \n",
    "    n_rows = len(board)\n",
    "    n_cols = len(board[0])\n",
    "    output = []\n",
    "    \n",
    "    for i in range(n_rows):\n",
    "        for j in range(n_cols):\n",
    "            print(i, j, board[i][j])\n",
    "            find_words(board, words, output, row, col)\n",
    "\n",
    "def find_words(board, words, output, row, col):\n",
    "    ''''''"
   ]
  },
  {
   "cell_type": "markdown",
   "metadata": {},
   "source": [
    "### Testing"
   ]
  },
  {
   "cell_type": "code",
   "execution_count": 4,
   "metadata": {},
   "outputs": [
    {
     "name": "stdout",
     "output_type": "stream",
     "text": [
      "0 0 t\n",
      "0 1 h\n",
      "0 2 i\n",
      "0 3 s\n",
      "0 4 i\n",
      "0 5 s\n",
      "0 6 a\n",
      "1 0 s\n",
      "1 1 i\n",
      "1 2 m\n",
      "1 3 p\n",
      "1 4 l\n",
      "1 5 e\n",
      "1 6 x\n",
      "2 0 b\n",
      "2 1 x\n",
      "2 2 x\n",
      "2 3 x\n",
      "2 4 x\n",
      "2 5 e\n",
      "2 6 b\n",
      "3 0 x\n",
      "3 1 o\n",
      "3 2 g\n",
      "3 3 g\n",
      "3 4 l\n",
      "3 5 x\n",
      "3 6 o\n",
      "4 0 x\n",
      "4 1 x\n",
      "4 2 x\n",
      "4 3 D\n",
      "4 4 T\n",
      "4 5 r\n",
      "4 6 a\n",
      "5 0 R\n",
      "5 1 E\n",
      "5 2 P\n",
      "5 3 E\n",
      "5 4 A\n",
      "5 5 d\n",
      "5 6 x\n",
      "6 0 x\n",
      "6 1 x\n",
      "6 2 x\n",
      "6 3 x\n",
      "6 4 x\n",
      "6 5 x\n",
      "6 6 x\n",
      "7 0 N\n",
      "7 1 O\n",
      "7 2 T\n",
      "7 3 R\n",
      "7 4 E\n",
      "7 5 -\n",
      "7 6 P\n",
      "8 0 x\n",
      "8 1 x\n",
      "8 2 D\n",
      "8 3 E\n",
      "8 4 T\n",
      "8 5 A\n",
      "8 6 E\n"
     ]
    }
   ],
   "source": [
    "board = [\n",
    "            [\"t\", \"h\", \"i\", \"s\", \"i\", \"s\", \"a\"],\n",
    "            [\"s\", \"i\", \"m\", \"p\", \"l\", \"e\", \"x\"],\n",
    "            [\"b\", \"x\", \"x\", \"x\", \"x\", \"e\", \"b\"],\n",
    "            [\"x\", \"o\", \"g\", \"g\", \"l\", \"x\", \"o\"],\n",
    "            [\"x\", \"x\", \"x\", \"D\", \"T\", \"r\", \"a\"],\n",
    "            [\"R\", \"E\", \"P\", \"E\", \"A\", \"d\", \"x\"],\n",
    "            [\"x\", \"x\", \"x\", \"x\", \"x\", \"x\", \"x\"],\n",
    "            [\"N\", \"O\", \"T\", \"R\", \"E\", \"-\", \"P\"],\n",
    "            [\"x\", \"x\", \"D\", \"E\", \"T\", \"A\", \"E\"],\n",
    "        ]\n",
    "words = [\"this\", \"is\", \"not\", \"a\", \"simple\", \"boggle\", \"board\", \"test\", \"REPEATED\", \"NOTRE-PEATED\"]\n",
    "boggle_board(board, words)"
   ]
  },
  {
   "cell_type": "code",
   "execution_count": null,
   "metadata": {},
   "outputs": [],
   "source": []
  }
 ],
 "metadata": {
  "kernelspec": {
   "display_name": "Python 3",
   "language": "python",
   "name": "python3"
  },
  "language_info": {
   "codemirror_mode": {
    "name": "ipython",
    "version": 3
   },
   "file_extension": ".py",
   "mimetype": "text/x-python",
   "name": "python",
   "nbconvert_exporter": "python",
   "pygments_lexer": "ipython3",
   "version": "3.7.6"
  }
 },
 "nbformat": 4,
 "nbformat_minor": 4
}
