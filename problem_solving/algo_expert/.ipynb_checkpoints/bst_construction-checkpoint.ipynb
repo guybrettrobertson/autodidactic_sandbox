{
 "cells": [
  {
   "cell_type": "markdown",
   "metadata": {},
   "source": [
    "# Binary search tree construction\n",
    "\n",
    "## Solution"
   ]
  },
  {
   "cell_type": "code",
   "execution_count": null,
   "metadata": {},
   "outputs": [],
   "source": [
    "class BST:\n",
    "    '''Binary search tree data structure.'''\n",
    "    def __init__(self, value):\n",
    "        '''Initialise the BST with the value given.'''\n",
    "        self.value = value\n",
    "        self.left = None\n",
    "        self.right = None\n",
    "\n",
    "    def insert(self, value):\n",
    "        '''Insert the value given in the BST.'''\n",
    "        if value < self.value:\n",
    "            if self.left is None:\n",
    "                self.left = BST(value)\n",
    "            else:\n",
    "                self.left.insert(value)\n",
    "        else:\n",
    "            if self.right is None:\n",
    "                self.right = BST(value)\n",
    "            else:\n",
    "                self.right.insert(value)\n",
    "        \n",
    "        return self\n",
    "\n",
    "    def contains(self, value):\n",
    "        '''Check whether the BST contains the value given.'''\n",
    "        if value is self.value:\n",
    "            return True\n",
    "        elif value < self.value:\n",
    "            if self.left is None:\n",
    "                return False\n",
    "            else:\n",
    "                self.left.contains(value)\n",
    "        else:\n",
    "            if self.right is None:\n",
    "                return False\n",
    "            else:\n",
    "                self.right.contains(value)\n",
    "\n",
    "    def remove(self, value):\n",
    "        '''Remove the given value from the BST.'''\n",
    "        if value is self.value:\n",
    "            self.value = None\n",
    "        elif value < self.value:\n",
    "            self.left.remove(value)\n",
    "        else:\n",
    "            self.right.remove(value)\n",
    "            \n",
    "        return self"
   ]
  }
 ],
 "metadata": {
  "kernelspec": {
   "display_name": "Python 3",
   "language": "python",
   "name": "python3"
  },
  "language_info": {
   "codemirror_mode": {
    "name": "ipython",
    "version": 3
   },
   "file_extension": ".py",
   "mimetype": "text/x-python",
   "name": "python",
   "nbconvert_exporter": "python",
   "pygments_lexer": "ipython3",
   "version": "3.7.6"
  }
 },
 "nbformat": 4,
 "nbformat_minor": 4
}
