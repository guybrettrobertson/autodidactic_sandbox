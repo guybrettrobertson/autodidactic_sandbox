{
 "cells": [
  {
   "cell_type": "markdown",
   "metadata": {},
   "source": [
    "# Depth first traversal"
   ]
  },
  {
   "cell_type": "code",
   "execution_count": 1,
   "metadata": {},
   "outputs": [],
   "source": [
    "class BST:\n",
    "    def __init__(self, value):\n",
    "        self.value = value\n",
    "        self.left = None\n",
    "        self.right = None\n",
    "\n",
    "def depth_first_traversal(root):\n",
    "    output = []\n",
    "    depth_first_traversal_helper(root, output)\n",
    "    return output\n",
    "\n",
    "def depth_first_traversal_helper(node, output):\n",
    "    if node is None:\n",
    "        return\n",
    "    \n",
    "    output.append(node.value)\n",
    "    \n",
    "    if node.left is None and node.right is None:\n",
    "        return\n",
    "    \n",
    "    depth_first_traversal_helper(node.left, output)\n",
    "    depth_first_traversal_helper(node.right, output)"
   ]
  },
  {
   "cell_type": "markdown",
   "metadata": {},
   "source": [
    "### Testing"
   ]
  },
  {
   "cell_type": "code",
   "execution_count": 2,
   "metadata": {},
   "outputs": [],
   "source": [
    "root = BST(1)\n",
    "root.left = BST(2)\n",
    "root.left.left = BST(3)\n",
    "root.left.left.left = BST(4)\n",
    "root.left.right = BST(5)\n",
    "root.right = BST(6)\n",
    "root.right.left = BST(7)\n",
    "root.right.left.right = BST(8)\n",
    "root.right.right = BST(9)\n",
    "assert depth_first_traversal(root) == [1, 2, 3, 4, 5, 6, 7, 8, 9]"
   ]
  },
  {
   "cell_type": "code",
   "execution_count": 3,
   "metadata": {},
   "outputs": [],
   "source": [
    "root = BST(1)\n",
    "root.left = BST(2)\n",
    "root.right = BST(3)\n",
    "assert depth_first_traversal(root) == [1, 2, 3]"
   ]
  },
  {
   "cell_type": "code",
   "execution_count": 4,
   "metadata": {},
   "outputs": [],
   "source": [
    "root = BST(1)\n",
    "root.left = BST(2)\n",
    "root.left.left = BST(3)\n",
    "root.right = BST(4)\n",
    "assert depth_first_traversal(root) == [1, 2, 3, 4]"
   ]
  }
 ],
 "metadata": {
  "kernelspec": {
   "display_name": "Python 3",
   "language": "python",
   "name": "python3"
  },
  "language_info": {
   "codemirror_mode": {
    "name": "ipython",
    "version": 3
   },
   "file_extension": ".py",
   "mimetype": "text/x-python",
   "name": "python",
   "nbconvert_exporter": "python",
   "pygments_lexer": "ipython3",
   "version": "3.7.6"
  }
 },
 "nbformat": 4,
 "nbformat_minor": 2
}
