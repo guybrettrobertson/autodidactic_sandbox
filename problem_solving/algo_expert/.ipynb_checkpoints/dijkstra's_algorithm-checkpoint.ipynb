{
 "cells": [
  {
   "cell_type": "markdown",
   "metadata": {},
   "source": [
    "# Dijkstra's algorithm\n",
    "\n",
    "You're given an integer start and a list edges of pairs of integers.\n",
    "\n",
    "The list is what's called an adjacency list, and it represents a graph. The number of vertices in the graph is equal to the length of edges, where each index i in edges contains vertex i's outbound edges in no particular order. Each individual edge is represented by a pair of two numbers, [destination, distance], where the destination is a positive integer denoting the destination vertex and the distance is a positive integer representing the length fo the edge (the distance from vertex i to vertex destination. Note that these edges are directed, meaning that you can only travel from a particular vertex to its destination, not the other way around (unless the destination vertex itself has an outbound edge to the original vertex.\n",
    "\n",
    "Write a function that computes the lengths of the shortest paths between start and all the other vertices in the graph using Dijkstra's algorithm and returns them in an array. Each index i in the output array should represent the length fo the shortest path between start and vertex i. If no path is found from start to vertex i, then output[i] should be -1.\n",
    "\n",
    "Note that the graph represented by edges won't contain any self-loopts (vertices that have an outbound edge to themselves) and will only have positively weighted edges (i.e. no negative distances).\n",
    "\n",
    "## Solution"
   ]
  },
  {
   "cell_type": "code",
   "execution_count": 5,
   "metadata": {},
   "outputs": [],
   "source": [
    "def disktras_algorithm(start, edges):\n",
    "    \n",
    "    n = len(edges)\n",
    "    shortest_distance = [float('inf') for edge in edges]\n",
    "    nodes_visited = [start]\n",
    "    shortest_distance[start] = 0\n",
    "    \n",
    "    for i in range(len(edges[start])):\n",
    "        shortest_distance[edges[start][i][0]] = edges[start][i][1]\n",
    "    \n",
    "    while len(nodes_visited) < n:\n",
    "        shortest_unvisited_distance = float('inf')\n",
    "        shortest_unvisited_idx = -1\n",
    "        for i in range(n):\n",
    "            if i not in nodes_visited and shortest_distance[i] < shortest_unvisited_distance:\n",
    "                shortest_unvisited_distance = shortest_distance[i]\n",
    "                shortest_unvisited_idx = i\n",
    "        \n",
    "        if shortest_unvisited_idx != -1:\n",
    "            for i in range(len(edges[shortest_unvisited_idx])):\n",
    "                if edges[shortest_unvisited_idx][i][0] in nodes_visited:\n",
    "                    continue\n",
    "                \n",
    "                shortest_distance[edges[shortest_unvisited_idx][i][0]] = \\\n",
    "                min(shortest_distance[edges[shortest_unvisited_idx][i][0]], \\\n",
    "                    shortest_distance[shortest_unvisited_idx] + edges[shortest_unvisited_idx][i][1])\n",
    "        \n",
    "        nodes_visited.append(shortest_unvisited_idx)\n",
    "    \n",
    "    shortest_distance = [-1 if x == float('inf') else x for x in shortest_distance]\n",
    "    \n",
    "    return shortest_distance"
   ]
  },
  {
   "cell_type": "markdown",
   "metadata": {},
   "source": [
    "### Testing"
   ]
  },
  {
   "cell_type": "code",
   "execution_count": 6,
   "metadata": {},
   "outputs": [],
   "source": [
    "start = 0\n",
    "edges = [\n",
    "    [[1, 7]], \n",
    "    [[2, 6], [3, 20], [4, 3]],\n",
    "    [[3, 14]], \n",
    "    [[4, 2]], \n",
    "    [], \n",
    "    []\n",
    "]\n",
    "assert disktras_algorithm(start, edges) == [0, 7, 13, 27, 10, -1]"
   ]
  },
  {
   "cell_type": "code",
   "execution_count": 7,
   "metadata": {},
   "outputs": [],
   "source": [
    "start = 1\n",
    "edges = [[], [], [], []]\n",
    "assert disktras_algorithm(start, edges) == [-1, 0, -1, -1]"
   ]
  },
  {
   "cell_type": "code",
   "execution_count": 8,
   "metadata": {},
   "outputs": [],
   "source": [
    "start = 7\n",
    "edges = [\n",
    "    [[1, 1], [3, 1]],\n",
    "    [[2, 1]],\n",
    "    [[6, 1]],\n",
    "    [[1, 3], [2, 4], [4, 2], [5, 3], [6, 5]],\n",
    "    [[5, 1]],\n",
    "    [[4, 1]],\n",
    "    [[5, 2]],\n",
    "    [[0, 7]]\n",
    "]\n",
    "assert disktras_algorithm(start, edges) == [7, 8, 9, 8, 10, 11, 10, 0]"
   ]
  }
 ],
 "metadata": {
  "kernelspec": {
   "display_name": "Python 3",
   "language": "python",
   "name": "python3"
  },
  "language_info": {
   "codemirror_mode": {
    "name": "ipython",
    "version": 3
   },
   "file_extension": ".py",
   "mimetype": "text/x-python",
   "name": "python",
   "nbconvert_exporter": "python",
   "pygments_lexer": "ipython3",
   "version": "3.7.6"
  }
 },
 "nbformat": 4,
 "nbformat_minor": 4
}
