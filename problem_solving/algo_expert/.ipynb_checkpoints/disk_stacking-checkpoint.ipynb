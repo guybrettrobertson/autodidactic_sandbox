{
 "cells": [
  {
   "cell_type": "markdown",
   "metadata": {},
   "source": [
    "# Disk stacking\n",
    "\n",
    "You're given a non-empty array of arrays where each subsarray holds three integers and represents a disk. These integers represent each disks width, depth, and height respectively. Your goal is to stack up the disks and maximise the total height of the stack. A disk must have a strictly smaller width, depth, and height than any disk below it.\n",
    "\n",
    "Write a function that returns an array of the disks in the final stack, starting with the top disk and ending with the bottom disk. Note that you can't rotate disks; in other words, the integers in each subarray must represent [width, depth, height] at all times.\n",
    "\n",
    "You can assume that there will only be one stack with the greatest total height.\n",
    "\n",
    "## Solution"
   ]
  },
  {
   "cell_type": "code",
   "execution_count": 118,
   "metadata": {},
   "outputs": [],
   "source": [
    "def disk_stacking(disks):\n",
    "    '''Find the disks that make up a stack with the greatest total height.'''\n",
    "    \n",
    "    disks.sort(key=lambda x: x[2])\n",
    "    heights = [disk[2] for disk in disks]\n",
    "    stacks = [[disk] for disk in disks]\n",
    "    \n",
    "    for i in range(1, len(disks)):\n",
    "        current_width = disks[i][0]\n",
    "        current_depth = disks[i][1]\n",
    "        current_height = disks[i][2]\n",
    "        heighest = 0\n",
    "        other_stack = []\n",
    "        for j in range(i):\n",
    "            other_width = disks[j][0]\n",
    "            other_depth = disks[j][1]\n",
    "            other_height = disks[j][2]\n",
    "            if other_width < current_width and other_depth < current_depth and \\\n",
    "            heighest < heights[j] and other_height < current_height:\n",
    "                heighest = heights[j]\n",
    "                other_stack = stacks[j]\n",
    "        heights[i] += heighest\n",
    "        if len(other_stack) > 0:\n",
    "            stacks[i] = other_stack + stacks[i]\n",
    "            \n",
    "    index_max = max(range(len(heights)), key=heights.__getitem__)\n",
    "    return stacks[index_max]"
   ]
  },
  {
   "cell_type": "code",
   "execution_count": 119,
   "metadata": {},
   "outputs": [
    {
     "data": {
      "text/plain": [
       "[[2, 1, 2], [3, 2, 3], [4, 4, 5]]"
      ]
     },
     "execution_count": 119,
     "metadata": {},
     "output_type": "execute_result"
    }
   ],
   "source": [
    "disks = [[2, 1, 2], [3, 2, 3], [2, 2, 8], [2, 3, 4], [2, 2, 1], [4, 4, 5]]\n",
    "disk_stacking(disks)"
   ]
  },
  {
   "cell_type": "code",
   "execution_count": 48,
   "metadata": {},
   "outputs": [],
   "source": [
    "a = [1, 2, 3].copy()"
   ]
  },
  {
   "cell_type": "code",
   "execution_count": 49,
   "metadata": {},
   "outputs": [
    {
     "data": {
      "text/plain": [
       "[1, 2, 3]"
      ]
     },
     "execution_count": 49,
     "metadata": {},
     "output_type": "execute_result"
    }
   ],
   "source": [
    "a"
   ]
  },
  {
   "cell_type": "code",
   "execution_count": 96,
   "metadata": {},
   "outputs": [],
   "source": [
    "a = [[1, 2, 3], [4, 5, 6]]\n",
    "b = [7, 8, 9]"
   ]
  },
  {
   "cell_type": "code",
   "execution_count": 97,
   "metadata": {},
   "outputs": [
    {
     "data": {
      "text/plain": [
       "[[1, 2, 3], [4, 5, 6], [7, 8, 9]]"
      ]
     },
     "execution_count": 97,
     "metadata": {},
     "output_type": "execute_result"
    }
   ],
   "source": [
    "a.append(b)\n",
    "a"
   ]
  },
  {
   "cell_type": "code",
   "execution_count": null,
   "metadata": {},
   "outputs": [],
   "source": []
  }
 ],
 "metadata": {
  "kernelspec": {
   "display_name": "Python 3",
   "language": "python",
   "name": "python3"
  },
  "language_info": {
   "codemirror_mode": {
    "name": "ipython",
    "version": 3
   },
   "file_extension": ".py",
   "mimetype": "text/x-python",
   "name": "python",
   "nbconvert_exporter": "python",
   "pygments_lexer": "ipython3",
   "version": "3.7.6"
  }
 },
 "nbformat": 4,
 "nbformat_minor": 4
}
