{
 "cells": [
  {
   "cell_type": "markdown",
   "metadata": {},
   "source": [
    "# Find the closest value in BST"
   ]
  },
  {
   "cell_type": "markdown",
   "metadata": {},
   "source": [
    "## Solution"
   ]
  },
  {
   "cell_type": "code",
   "execution_count": 1,
   "metadata": {},
   "outputs": [],
   "source": [
    "def find_closest_value_bst(tree, target):\n",
    "    '''\n",
    "    Find the closest value to the target in the root binary search tree.\n",
    "    '''\n",
    "    return find_closest_value_bst_helper(tree, target, tree.value)\n",
    "\n",
    "def find_closest_value_bst_helper(tree, target, closest):\n",
    "    '''\n",
    "    Helper function.\n",
    "    '''\n",
    "    if tree == None:\n",
    "        return closest\n",
    "    if abs(tree.value - target) < abs(closest - target):\n",
    "        closest = tree.value\n",
    "    \n",
    "    if tree.value == target:\n",
    "        return closest\n",
    "    elif target < tree.value:\n",
    "        return find_closest_value_bst_helper(tree.left, target, closest)\n",
    "    else:\n",
    "        return find_closest_value_bst_helper(tree.right, target, closest)\n",
    "\n",
    "class BST:\n",
    "    def __init__(self, value):\n",
    "        self.value = value\n",
    "        self.left = None\n",
    "        self.right = None"
   ]
  },
  {
   "cell_type": "markdown",
   "metadata": {},
   "source": [
    "### Testing"
   ]
  },
  {
   "cell_type": "code",
   "execution_count": 2,
   "metadata": {},
   "outputs": [],
   "source": [
    "root = BST(10)\n",
    "root.left = BST(5)\n",
    "root.left.left = BST(2)\n",
    "root.left.left.left = BST(1)\n",
    "root.left.right = BST(5)\n",
    "root.right = BST(15)\n",
    "root.right.left = BST(13)\n",
    "root.right.left.right = BST(14)\n",
    "root.right.right = BST(22)\n",
    "target = 12\n",
    "\n",
    "actual = find_closest_value_bst(root, target)\n",
    "expected = 13\n",
    "\n",
    "assert(actual == expected)"
   ]
  },
  {
   "cell_type": "code",
   "execution_count": 3,
   "metadata": {},
   "outputs": [],
   "source": [
    "root = BST(10)\n",
    "root.left = BST(5)\n",
    "root.left.left = BST(2)\n",
    "root.left.left.left = BST(1)\n",
    "root.left.right = BST(5)\n",
    "root.right = BST(15)\n",
    "root.right.left = BST(13)\n",
    "root.right.left.right = BST(14)\n",
    "root.right.right = BST(22)\n",
    "target = 100\n",
    "\n",
    "actual = find_closest_value_bst(root, target)\n",
    "expected = 22\n",
    "\n",
    "assert(actual == expected)"
   ]
  },
  {
   "cell_type": "code",
   "execution_count": 4,
   "metadata": {},
   "outputs": [],
   "source": [
    "root = BST(10)\n",
    "root.left = BST(5)\n",
    "root.left.left = BST(2)\n",
    "root.left.left.left = BST(1)\n",
    "root.left.right = BST(5)\n",
    "root.right = BST(15)\n",
    "root.right.left = BST(13)\n",
    "root.right.left.right = BST(14)\n",
    "root.right.right = BST(22)\n",
    "target = -100\n",
    "\n",
    "actual = find_closest_value_bst(root, target)\n",
    "expected = 1\n",
    "\n",
    "assert(actual == expected)"
   ]
  }
 ],
 "metadata": {
  "kernelspec": {
   "display_name": "Python 3",
   "language": "python",
   "name": "python3"
  },
  "language_info": {
   "codemirror_mode": {
    "name": "ipython",
    "version": 3
   },
   "file_extension": ".py",
   "mimetype": "text/x-python",
   "name": "python",
   "nbconvert_exporter": "python",
   "pygments_lexer": "ipython3",
   "version": "3.7.6"
  }
 },
 "nbformat": 4,
 "nbformat_minor": 4
}
