{
 "cells": [
  {
   "cell_type": "markdown",
   "metadata": {},
   "source": [
    "# Find closest value in BST\n",
    "\n",
    "Write a function that takes in a Binary Search Tree (BST) and a target integer value and returns the closets value to that target value contained in the BST.\n",
    "\n",
    "You can assume that there will only be one closest value.\n",
    "\n",
    "Each BST node has an integer value, a left child node, and a right child node. A node is said to be a valid BST node if and only if it satisfies the BST property: its value is strictly greater than the values of every node to its left; its value is less than or equal to the values of every node to its right; and its children are either valid VST nodes themselves or None/Null.\n",
    "\n",
    "## Solution"
   ]
  },
  {
   "cell_type": "code",
   "execution_count": 4,
   "metadata": {},
   "outputs": [],
   "source": [
    "def find_closest_value_in_bst(tree, target):\n",
    "    return find_closest_value_in_bst_helper(tree, target, tree.value)\n",
    "\n",
    "def find_closest_value_in_bst_helper(tree, target, closest):\n",
    "    if tree == None:\n",
    "        return closest\n",
    "    elif tree.value == target:\n",
    "        return tree.value\n",
    "    else:\n",
    "        if abs(target - tree.value) < abs(target - closest):\n",
    "            closest = tree.value\n",
    "        if tree.value > target:\n",
    "            return find_closest_value_in_bst_helper(tree.left, target, closest)\n",
    "        else:\n",
    "            return find_closest_value_in_bst_helper(tree.right, target, closest)\n",
    "    \n",
    "class BST:\n",
    "    def __init__(self, value):\n",
    "        self.value = value\n",
    "        self.left = None\n",
    "        self.right = None"
   ]
  },
  {
   "cell_type": "markdown",
   "metadata": {},
   "source": [
    "### Testing"
   ]
  },
  {
   "cell_type": "code",
   "execution_count": 5,
   "metadata": {},
   "outputs": [
    {
     "data": {
      "text/plain": [
       "13"
      ]
     },
     "execution_count": 5,
     "metadata": {},
     "output_type": "execute_result"
    }
   ],
   "source": [
    "root = BST(10)\n",
    "root.left = BST(5)\n",
    "root.left.left = BST(2)\n",
    "root.left.left.left = BST(1)\n",
    "root.left.right = BST(5)\n",
    "root.right = BST(15)\n",
    "root.right.left = BST(13)\n",
    "root.right.left.right = BST(14)\n",
    "root.right.right = BST(22)\n",
    "find_closest_value_in_bst(root, 12)"
   ]
  },
  {
   "cell_type": "code",
   "execution_count": 6,
   "metadata": {},
   "outputs": [],
   "source": [
    "root = BST(2)\n",
    "root.left = BST(1)\n",
    "root.right = BST(3)\n",
    "assert find_closest_value_in_bst(root, 0) == 1\n",
    "assert find_closest_value_in_bst(root, 1) == 1\n",
    "assert find_closest_value_in_bst(root, 2) == 2\n",
    "assert find_closest_value_in_bst(root, 3) == 3\n",
    "assert find_closest_value_in_bst(root, 4) == 3"
   ]
  }
 ],
 "metadata": {
  "kernelspec": {
   "display_name": "Python 3",
   "language": "python",
   "name": "python3"
  },
  "language_info": {
   "codemirror_mode": {
    "name": "ipython",
    "version": 3
   },
   "file_extension": ".py",
   "mimetype": "text/x-python",
   "name": "python",
   "nbconvert_exporter": "python",
   "pygments_lexer": "ipython3",
   "version": "3.7.6"
  }
 },
 "nbformat": 4,
 "nbformat_minor": 2
}
