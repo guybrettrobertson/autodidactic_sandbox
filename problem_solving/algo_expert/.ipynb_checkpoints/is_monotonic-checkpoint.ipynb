{
 "cells": [
  {
   "cell_type": "markdown",
   "metadata": {},
   "source": [
    "# Is monotonic\n",
    "\n",
    "## Solution"
   ]
  },
  {
   "cell_type": "code",
   "execution_count": 1,
   "metadata": {},
   "outputs": [],
   "source": [
    "def is_monotonic(array):\n",
    "    '''Determine whether the array is monotonic.'''\n",
    "    \n",
    "    n = len(array)\n",
    "    if n == 0:\n",
    "        return True\n",
    "    \n",
    "    direction = None\n",
    "    new_direction = None\n",
    "    \n",
    "    for i in range(1, n):\n",
    "        if array[i] > array[i - 1]:\n",
    "            new_direction = 'Up'\n",
    "        elif array[i] < array[i - 1]:\n",
    "            new_direction = 'Down'\n",
    "        \n",
    "        if direction == None and new_direction != None:\n",
    "            direction = new_direction\n",
    "        elif direction != None:\n",
    "            if new_direction != direction:\n",
    "                return False\n",
    "    \n",
    "    return True"
   ]
  },
  {
   "cell_type": "markdown",
   "metadata": {},
   "source": [
    "### Testing"
   ]
  },
  {
   "cell_type": "code",
   "execution_count": 2,
   "metadata": {},
   "outputs": [],
   "source": [
    "assert(is_monotonic([]) == True)\n",
    "assert(is_monotonic([0]) == True)\n",
    "assert(is_monotonic([0, 1, 2, 3, 4, 5]) == True)\n",
    "assert(is_monotonic([5, 4, 3, 2, 1, 0]) == True)\n",
    "assert(is_monotonic([0, 0, 2, 3, 4, 5]) == True)\n",
    "assert(is_monotonic([0, 1, 2, 3, 4, 3]) == False)"
   ]
  }
 ],
 "metadata": {
  "kernelspec": {
   "display_name": "Python 3",
   "language": "python",
   "name": "python3"
  },
  "language_info": {
   "codemirror_mode": {
    "name": "ipython",
    "version": 3
   },
   "file_extension": ".py",
   "mimetype": "text/x-python",
   "name": "python",
   "nbconvert_exporter": "python",
   "pygments_lexer": "ipython3",
   "version": "3.7.6"
  }
 },
 "nbformat": 4,
 "nbformat_minor": 4
}
