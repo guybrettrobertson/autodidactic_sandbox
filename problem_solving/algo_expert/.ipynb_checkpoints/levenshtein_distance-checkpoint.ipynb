{
 "cells": [
  {
   "cell_type": "markdown",
   "metadata": {},
   "source": [
    "# Levenshtein distance\n",
    "\n",
    "Calculate the Levenshtein distance between two strings. This is the minimum number of edit operations needed to be performed on the first string to obtain the second string. The edit operations include insertion, deletion, and substitution of a character for another.\n",
    "\n",
    "## Solution"
   ]
  },
  {
   "cell_type": "code",
   "execution_count": 36,
   "metadata": {},
   "outputs": [],
   "source": [
    "def levenshtein_distance(string_1, string_2):\n",
    "    '''Calculate the Levenshtein distance between the two strings.'''\n",
    "    \n",
    "    string_1 = [''] + list(string_1)\n",
    "    string_2 = [''] + list(string_2)\n",
    "    n1 = len(string_1)\n",
    "    n2 = len(string_2)\n",
    "    \n",
    "    results = [[0 for i in range(n2)] for j in range(n1)]\n",
    "    results[0][:] = list(range(n2))\n",
    "        \n",
    "    for i in range(1, n1):\n",
    "        print('-----------', i, '-----------')\n",
    "        results[i][0] = i\n",
    "        for j in range(1, n2):\n",
    "            if string_1[i] == string_2[j]:\n",
    "                results[i][j] = results[i - 1][j - 1]\n",
    "            else:\n",
    "                results[i][j] = min(results[i - 1][j - 1],\n",
    "                                    results[i - 1][j],\n",
    "                                    results[i][j - 1]) + 1\n",
    "        print(results)\n",
    "    \n",
    "    return results[-1][-1]"
   ]
  },
  {
   "cell_type": "code",
   "execution_count": 37,
   "metadata": {},
   "outputs": [
    {
     "name": "stdout",
     "output_type": "stream",
     "text": [
      "----------- 1 -----------\n",
      "[[0, 1, 2, 3, 4], [1, 1, 1, 2, 3], [0, 0, 0, 0, 0], [0, 0, 0, 0, 0]]\n",
      "----------- 2 -----------\n",
      "[[0, 1, 2, 3, 4], [1, 1, 1, 2, 3], [2, 2, 2, 1, 2], [0, 0, 0, 0, 0]]\n",
      "----------- 3 -----------\n",
      "[[0, 1, 2, 3, 4], [1, 1, 1, 2, 3], [2, 2, 2, 1, 2], [3, 3, 3, 2, 2]]\n",
      "2\n"
     ]
    }
   ],
   "source": [
    "print(levenshtein_distance('abc', 'yabd'))"
   ]
  },
  {
   "cell_type": "code",
   "execution_count": 38,
   "metadata": {},
   "outputs": [
    {
     "name": "stdout",
     "output_type": "stream",
     "text": [
      "----------- 1 -----------\n",
      "[[0, 1, 2, 3], [1, 1, 2, 3], [0, 0, 0, 0], [0, 0, 0, 0], [0, 0, 0, 0], [0, 0, 0, 0]]\n",
      "----------- 2 -----------\n",
      "[[0, 1, 2, 3], [1, 1, 2, 3], [2, 2, 1, 2], [0, 0, 0, 0], [0, 0, 0, 0], [0, 0, 0, 0]]\n",
      "----------- 3 -----------\n",
      "[[0, 1, 2, 3], [1, 1, 2, 3], [2, 2, 1, 2], [3, 2, 2, 2], [0, 0, 0, 0], [0, 0, 0, 0]]\n",
      "----------- 4 -----------\n",
      "[[0, 1, 2, 3], [1, 1, 2, 3], [2, 2, 1, 2], [3, 2, 2, 2], [4, 3, 3, 2], [0, 0, 0, 0]]\n",
      "----------- 5 -----------\n",
      "[[0, 1, 2, 3], [1, 1, 2, 3], [2, 2, 1, 2], [3, 2, 2, 2], [4, 3, 3, 2], [5, 4, 4, 3]]\n",
      "3\n"
     ]
    }
   ],
   "source": [
    "print(levenshtein_distance('table', 'bal'))"
   ]
  },
  {
   "cell_type": "code",
   "execution_count": null,
   "metadata": {},
   "outputs": [],
   "source": [
    "table\n",
    "tale\n",
    "tal\n",
    "bal"
   ]
  }
 ],
 "metadata": {
  "kernelspec": {
   "display_name": "Python 3",
   "language": "python",
   "name": "python3"
  },
  "language_info": {
   "codemirror_mode": {
    "name": "ipython",
    "version": 3
   },
   "file_extension": ".py",
   "mimetype": "text/x-python",
   "name": "python",
   "nbconvert_exporter": "python",
   "pygments_lexer": "ipython3",
   "version": "3.7.6"
  }
 },
 "nbformat": 4,
 "nbformat_minor": 4
}
