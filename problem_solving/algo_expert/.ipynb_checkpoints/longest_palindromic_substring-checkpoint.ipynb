{
 "cells": [
  {
   "cell_type": "markdown",
   "metadata": {},
   "source": [
    "# Longest palindromic substring\n",
    "\n",
    "## Solution"
   ]
  },
  {
   "cell_type": "code",
   "execution_count": 1,
   "metadata": {},
   "outputs": [],
   "source": [
    "def longest_palindromic_substring(string):\n",
    "    '''Find the palindromic substring that is the longest.'''\n",
    "    \n",
    "    longest = string[0]\n",
    "    n = len(string)\n",
    "    for i in range(n - 1):\n",
    "        for j in range(i + 1, n + 1):\n",
    "            substring = string[i:j]\n",
    "            if is_palindrome(substring) and len(substring) > len(longest):\n",
    "                longest = substring\n",
    "    \n",
    "    return longest\n",
    "                \n",
    "\n",
    "def is_palindrome(string):\n",
    "    \n",
    "    left = 0\n",
    "    right = len(string) - 1\n",
    "    \n",
    "    while left < right:\n",
    "        if string[left] != string[right]:\n",
    "            return False\n",
    "        left += 1\n",
    "        right -= 1\n",
    "    \n",
    "    return True"
   ]
  },
  {
   "cell_type": "markdown",
   "metadata": {},
   "source": [
    "### Testing"
   ]
  },
  {
   "cell_type": "code",
   "execution_count": 2,
   "metadata": {},
   "outputs": [],
   "source": [
    "assert(is_palindrome('a') == True)\n",
    "assert(is_palindrome('abc') == False)\n",
    "assert(is_palindrome('abcba') == True)\n",
    "assert(is_palindrome('abcdcba') == True)"
   ]
  },
  {
   "cell_type": "code",
   "execution_count": 3,
   "metadata": {},
   "outputs": [],
   "source": [
    "assert(longest_palindromic_substring('a') == 'a')\n",
    "assert(longest_palindromic_substring('ab') == 'a')\n",
    "assert(longest_palindromic_substring('abc') == 'a')\n",
    "assert(longest_palindromic_substring('aba') == 'aba')\n",
    "assert(longest_palindromic_substring('ababcba') == 'abcba')\n",
    "assert(longest_palindromic_substring('ababcbac') == 'abcba')"
   ]
  }
 ],
 "metadata": {
  "kernelspec": {
   "display_name": "Python 3",
   "language": "python",
   "name": "python3"
  },
  "language_info": {
   "codemirror_mode": {
    "name": "ipython",
    "version": 3
   },
   "file_extension": ".py",
   "mimetype": "text/x-python",
   "name": "python",
   "nbconvert_exporter": "python",
   "pygments_lexer": "ipython3",
   "version": "3.7.6"
  }
 },
 "nbformat": 4,
 "nbformat_minor": 4
}
