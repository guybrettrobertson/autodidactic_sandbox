{
 "cells": [
  {
   "cell_type": "markdown",
   "metadata": {},
   "source": [
    "# Longest palindromic substring\n",
    "\n",
    "## Solution"
   ]
  },
  {
   "cell_type": "code",
   "execution_count": 60,
   "metadata": {},
   "outputs": [],
   "source": [
    "def longest_palindromic_substring(string):\n",
    "    '''Find the palindromic substring that is the longest.'''\n",
    "    pass\n",
    "\n",
    "def is_palindrome(string):\n",
    "    \n",
    "    left = 0\n",
    "    right = len(string) - 1\n",
    "    \n",
    "    while left < right:\n",
    "        if string[left] != string[right]:\n",
    "            return False\n",
    "        left += 1\n",
    "        right -= 1\n",
    "    \n",
    "    return True"
   ]
  },
  {
   "cell_type": "markdown",
   "metadata": {},
   "source": [
    "### Testing"
   ]
  },
  {
   "cell_type": "code",
   "execution_count": 63,
   "metadata": {},
   "outputs": [],
   "source": [
    "assert(is_palindrome('a') == True)\n",
    "assert(is_palindrome('abc') == False)\n",
    "assert(is_palindrome('abcba') == True)\n",
    "assert(is_palindrome('abcdcba') == True)"
   ]
  }
 ],
 "metadata": {
  "kernelspec": {
   "display_name": "Python 3",
   "language": "python",
   "name": "python3"
  },
  "language_info": {
   "codemirror_mode": {
    "name": "ipython",
    "version": 3
   },
   "file_extension": ".py",
   "mimetype": "text/x-python",
   "name": "python",
   "nbconvert_exporter": "python",
   "pygments_lexer": "ipython3",
   "version": "3.7.6"
  }
 },
 "nbformat": 4,
 "nbformat_minor": 4
}
