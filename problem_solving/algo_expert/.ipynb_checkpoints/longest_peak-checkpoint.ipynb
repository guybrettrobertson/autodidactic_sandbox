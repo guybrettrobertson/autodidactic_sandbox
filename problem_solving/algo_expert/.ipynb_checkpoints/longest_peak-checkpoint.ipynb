{
 "cells": [
  {
   "cell_type": "markdown",
   "metadata": {},
   "source": [
    "# Longest peak\n",
    "\n",
    "## Solution"
   ]
  },
  {
   "cell_type": "code",
   "execution_count": 93,
   "metadata": {},
   "outputs": [],
   "source": [
    "def longest_peak(array):\n",
    "    '''Find the longest peak in the array.'''\n",
    "    \n",
    "    longest_peak = 0\n",
    "    \n",
    "    for i in range(1, len(array) - 1):\n",
    "        print('-----', i, array[i])\n",
    "        is_peak = array[i - 1] < array[i] > array[i + 1]\n",
    "        \n",
    "        if is_peak:\n",
    "            j = i - 1\n",
    "            while j >= 0 and array[j] < array[j + 1]:\n",
    "                j -= 1\n",
    "                \n",
    "            k = i + 1\n",
    "            while k < len(array) and array[k] < array[k - 1]:\n",
    "                k += 1\n",
    "                \n",
    "            peak = k - j - 1\n",
    "            print(j, i, k)\n",
    "            print(peak)\n",
    "            if peak > longest_peak:\n",
    "                longest_peak = peak\n",
    "    \n",
    "    return longest_peak"
   ]
  },
  {
   "cell_type": "code",
   "execution_count": 94,
   "metadata": {},
   "outputs": [
    {
     "name": "stdout",
     "output_type": "stream",
     "text": [
      "4 6 11\n",
      "6\n"
     ]
    },
    {
     "data": {
      "text/plain": [
       "6"
      ]
     },
     "execution_count": 94,
     "metadata": {},
     "output_type": "execute_result"
    }
   ],
   "source": [
    "array = [4, 4, 4, 4, 4, 0, 10, 6, 5, -1, -3, 2, 3]\n",
    "longest_peak(array)"
   ]
  },
  {
   "cell_type": "code",
   "execution_count": 95,
   "metadata": {},
   "outputs": [
    {
     "name": "stdout",
     "output_type": "stream",
     "text": [
      "-1 3 6\n",
      "6\n",
      "4 6 8\n",
      "3\n"
     ]
    },
    {
     "data": {
      "text/plain": [
       "6"
      ]
     },
     "execution_count": 95,
     "metadata": {},
     "output_type": "execute_result"
    }
   ],
   "source": [
    "array = [12, 34, 56, 78, 45, 12, 24, 0]\n",
    "longest_peak(array)"
   ]
  },
  {
   "cell_type": "code",
   "execution_count": 92,
   "metadata": {},
   "outputs": [
    {
     "name": "stdout",
     "output_type": "stream",
     "text": [
      "0 5 11\n",
      "10\n"
     ]
    },
    {
     "data": {
      "text/plain": [
       "10"
      ]
     },
     "execution_count": 92,
     "metadata": {},
     "output_type": "execute_result"
    }
   ],
   "source": [
    "array = [0, 1, 2, 3, 4, 5, 4, 3, 2, 1, 0]\n",
    "longest_peak(array)"
   ]
  },
  {
   "cell_type": "code",
   "execution_count": null,
   "metadata": {},
   "outputs": [],
   "source": []
  }
 ],
 "metadata": {
  "kernelspec": {
   "display_name": "Python 3",
   "language": "python",
   "name": "python3"
  },
  "language_info": {
   "codemirror_mode": {
    "name": "ipython",
    "version": 3
   },
   "file_extension": ".py",
   "mimetype": "text/x-python",
   "name": "python",
   "nbconvert_exporter": "python",
   "pygments_lexer": "ipython3",
   "version": "3.7.6"
  }
 },
 "nbformat": 4,
 "nbformat_minor": 4
}
