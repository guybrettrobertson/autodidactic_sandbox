{
 "cells": [
  {
   "cell_type": "markdown",
   "metadata": {},
   "source": [
    "# Max sum increasing subsequence\n",
    "\n",
    "Write a function that takes in a non-empty array of integers and returns the greatest sum that can be generated from a strictly increasing subsequence in the array, as well as an array of the numbers in that sequence.\n",
    "\n",
    "## Solution"
   ]
  },
  {
   "cell_type": "code",
   "execution_count": 64,
   "metadata": {},
   "outputs": [],
   "source": [
    "def max_sum_increasing_subsequence(array):\n",
    "    '''Find the maximum sum of an increasing subsequence of the array.'''\n",
    "    \n",
    "    sums = array.copy()\n",
    "    for i in range(1, len(array)):\n",
    "        max_sum = array[i]\n",
    "        for j in range(i):\n",
    "            if array[i] > array[j]:\n",
    "                current = array[i] + sums[j]\n",
    "                if current > max_sum:\n",
    "                    sums[i] = current\n",
    "                \n",
    "    \n",
    "    print(sums)"
   ]
  },
  {
   "cell_type": "code",
   "execution_count": 63,
   "metadata": {},
   "outputs": [
    {
     "name": "stdout",
     "output_type": "stream",
     "text": [
      "110\n"
     ]
    }
   ],
   "source": [
    "array = [10, 70, 20, 30, 50, 11, 30]\n",
    "max_sum_increasing_subsequence(array)"
   ]
  },
  {
   "cell_type": "code",
   "execution_count": null,
   "metadata": {},
   "outputs": [],
   "source": []
  }
 ],
 "metadata": {
  "kernelspec": {
   "display_name": "Python 3",
   "language": "python",
   "name": "python3"
  },
  "language_info": {
   "codemirror_mode": {
    "name": "ipython",
    "version": 3
   },
   "file_extension": ".py",
   "mimetype": "text/x-python",
   "name": "python",
   "nbconvert_exporter": "python",
   "pygments_lexer": "ipython3",
   "version": "3.7.6"
  }
 },
 "nbformat": 4,
 "nbformat_minor": 4
}
