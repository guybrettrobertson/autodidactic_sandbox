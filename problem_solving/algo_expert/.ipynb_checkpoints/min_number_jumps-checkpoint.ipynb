{
 "cells": [
  {
   "cell_type": "markdown",
   "metadata": {},
   "source": [
    "# Minimum number of jumps\n",
    "\n",
    "You're given a non-empty array of integers where each integer represents the maximum number of steps you can take forward in the array. For example, if the element at index 1 is 3, you can go from index 1 to index 2, 3, or 4. Write a function to find the minimum number of jumps needed to reach the final index.\n",
    "\n",
    "Note that jumping from index i to index i + x always constitutes one jump, no matter how large x is.\n",
    "\n",
    "## Solution"
   ]
  },
  {
   "cell_type": "code",
   "execution_count": 1,
   "metadata": {},
   "outputs": [],
   "source": [
    "def min_number_jumps(array):\n",
    "    '''Find the minimum number of jumps needed to reach the final index.'''\n",
    "    \n",
    "    mnj = [float('inf') for _ in array]\n",
    "    mnj[0] = 0\n",
    "    \n",
    "    for i in range(len(array)):\n",
    "        j = i + 1\n",
    "        while j <= i + array[i] and j < len(array):\n",
    "            mnj[j] = min(mnj[j], mnj[i] + 1)\n",
    "            j += 1\n",
    "    \n",
    "    return mnj[-1]"
   ]
  },
  {
   "cell_type": "markdown",
   "metadata": {},
   "source": [
    "### Testing"
   ]
  },
  {
   "cell_type": "code",
   "execution_count": 2,
   "metadata": {},
   "outputs": [],
   "source": [
    "assert(min_number_jumps([1]) == 0)\n",
    "assert(min_number_jumps([1, 1]) == 1)\n",
    "assert(min_number_jumps([1, 2, 3, 2, 1]) == 3)\n",
    "assert(min_number_jumps([3, 4, 2, 1, 2, 3, 7, 1, 1, 1, 3]) == 4)"
   ]
  },
  {
   "cell_type": "markdown",
   "metadata": {},
   "source": [
    "## Solution"
   ]
  },
  {
   "cell_type": "code",
   "execution_count": 3,
   "metadata": {},
   "outputs": [],
   "source": [
    "def min_number_jumps(array):\n",
    "    '''Find the minimum number of jumps needed to reach the final index.'''\n",
    "    \n",
    "    if len(array) == 1:\n",
    "        return 0\n",
    "    \n",
    "    max_reach = array[0]\n",
    "    steps = array[0]\n",
    "    jumps = 0\n",
    "    for i in range(1, len(array)):\n",
    "        if i == len(array) - 1:\n",
    "            return jumps + 1\n",
    "        max_reach = max(max_reach, array[i] + i)\n",
    "        steps -= 1\n",
    "        if steps == 0:\n",
    "            jumps += 1\n",
    "            steps = max_reach - i"
   ]
  },
  {
   "cell_type": "markdown",
   "metadata": {},
   "source": [
    "### Testing"
   ]
  },
  {
   "cell_type": "code",
   "execution_count": 4,
   "metadata": {},
   "outputs": [],
   "source": [
    "assert(min_number_jumps([1]) == 0)\n",
    "assert(min_number_jumps([1, 1]) == 1)\n",
    "assert(min_number_jumps([1, 2, 3, 2, 1]) == 3)\n",
    "assert(min_number_jumps([3, 4, 2, 1, 2, 3, 7, 1, 1, 1, 3]) == 4)"
   ]
  }
 ],
 "metadata": {
  "kernelspec": {
   "display_name": "Python 3",
   "language": "python",
   "name": "python3"
  },
  "language_info": {
   "codemirror_mode": {
    "name": "ipython",
    "version": 3
   },
   "file_extension": ".py",
   "mimetype": "text/x-python",
   "name": "python",
   "nbconvert_exporter": "python",
   "pygments_lexer": "ipython3",
   "version": "3.7.6"
  }
 },
 "nbformat": 4,
 "nbformat_minor": 4
}
