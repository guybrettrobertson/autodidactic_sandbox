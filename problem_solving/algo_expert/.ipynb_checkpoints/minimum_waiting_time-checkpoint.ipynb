{
 "cells": [
  {
   "cell_type": "markdown",
   "metadata": {},
   "source": [
    "# Minimum waiting time\n",
    "\n",
    "You're given a non-empty array of positive integers representing the amounts of time that specific queries take to execute. Only one query can be executed at a time, but the queries can be executed in any order.\n",
    "\n",
    "A query's waiting time is defined as the amount of time that it must wait before its execution starts. In other words, if a query is executed second, then its waiting time is the duration of the first query; if a query is executed third, then its waiting time is the sum of the durations of the first two queries.\n",
    "\n",
    "Write a function that returns the minimum amount of total waiting time for all of the queries. For example, if you're given the durations [1, 4, 5], then the total waiting time if the queries were executed in the order [5, 1, 4] would be $(0) + (5) + (5 + 1) = 11$. The first query of duration 5 would be executed immediately, so its waiting time would be 0, the second query of duration 1 would have to wait 5 seconds (the duration of the first query) to be executed, and the last query would have to wait the duration of the first two queries before being executed.\n",
    "\n",
    "Note: you're allowed to mutate the input array.\n",
    "\n",
    "## Solution"
   ]
  },
  {
   "cell_type": "code",
   "execution_count": 1,
   "metadata": {},
   "outputs": [],
   "source": [
    "def minimum_waiting_time(queries):\n",
    "    '''Find the minimum amount of total waiting time for all queries.'''\n",
    "    \n",
    "    queries.sort()\n",
    "    \n",
    "    total_waiting_time = 0\n",
    "    \n",
    "    for i in range(len(queries) - 1):\n",
    "        multiple = len(queries) - 1 - i\n",
    "        total_waiting_time += multiple * queries[i]\n",
    "    \n",
    "    return total_waiting_time"
   ]
  },
  {
   "cell_type": "markdown",
   "metadata": {},
   "source": [
    "### Testing"
   ]
  },
  {
   "cell_type": "code",
   "execution_count": 2,
   "metadata": {},
   "outputs": [],
   "source": [
    "assert(minimum_waiting_time([1]) == 0)\n",
    "assert(minimum_waiting_time([1, 1]) == 1)\n",
    "assert(minimum_waiting_time([1, 100]) == 1)\n",
    "assert(minimum_waiting_time([3, 2, 1, 2, 6]) == 17)\n",
    "assert(minimum_waiting_time([3, 2, 1, 2, 6]) == 17)\n",
    "assert(minimum_waiting_time([1, 2, 3, 4, 5]) == 20)\n",
    "assert(minimum_waiting_time([5, 4, 3, 2, 1]) == 20)"
   ]
  }
 ],
 "metadata": {
  "kernelspec": {
   "display_name": "Python 3",
   "language": "python",
   "name": "python3"
  },
  "language_info": {
   "codemirror_mode": {
    "name": "ipython",
    "version": 3
   },
   "file_extension": ".py",
   "mimetype": "text/x-python",
   "name": "python",
   "nbconvert_exporter": "python",
   "pygments_lexer": "ipython3",
   "version": "3.7.6"
  }
 },
 "nbformat": 4,
 "nbformat_minor": 4
}
