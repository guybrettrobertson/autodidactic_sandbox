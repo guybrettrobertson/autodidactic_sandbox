{
 "cells": [
  {
   "cell_type": "markdown",
   "metadata": {},
   "source": [
    "# Multi string search\n",
    "\n",
    "Write a function that takes in a big string and an array of small strings, all of which are smaller in length than the big string. The function should return an array of booleans, where each boolearn represents whether the small string at that index in the array of small strings is contained in the big string.\n",
    "\n",
    "Note that you can't use language-built-in string-matching methods.\n",
    "\n",
    "## Solution"
   ]
  },
  {
   "cell_type": "code",
   "execution_count": 1,
   "metadata": {},
   "outputs": [],
   "source": [
    "def mult_string_search(big_string, small_strings):\n",
    "    '''Find whether the small strings are found in the big strings.'''\n",
    "    \n",
    "    n = len(big_string)\n",
    "    m = len(small_strings)\n",
    "    \n",
    "    output = dict(zip(small_strings, [False for _ in range(m)]))\n",
    "    \n",
    "    for i in range(n - 1):\n",
    "        for j in range(i + 1, n + 1):\n",
    "            sub_string = big_string[i : j]\n",
    "            if sub_string in small_strings:\n",
    "                output[sub_string] = True\n",
    "    \n",
    "    return list(output.values())"
   ]
  },
  {
   "cell_type": "markdown",
   "metadata": {},
   "source": [
    "### Testing"
   ]
  },
  {
   "cell_type": "code",
   "execution_count": 2,
   "metadata": {},
   "outputs": [],
   "source": [
    "big_string = \"abc def\"\n",
    "small_strings = [\"abc\"]\n",
    "assert mult_string_search(big_string, small_strings) == [True]\n",
    "small_strings = [\"def\"]\n",
    "assert mult_string_search(big_string, small_strings) == [True]\n",
    "small_strings = [\"abc\", \"def\"]\n",
    "assert mult_string_search(big_string, small_strings) == [True, True]\n",
    "small_strings = [\"abc\", \"def\", \"ghi\"]\n",
    "assert mult_string_search(big_string, small_strings) == [True, True, False]\n",
    "small_strings = [\"jkl\", \"mno\"]\n",
    "assert mult_string_search(big_string, small_strings) == [False, False]"
   ]
  },
  {
   "cell_type": "code",
   "execution_count": 3,
   "metadata": {},
   "outputs": [],
   "source": [
    "big_string = \"this is a big string\"\n",
    "small_strings = [\"this\", \"yo\", \"is\", \"a\", \"bigger\", \"string\", \"kappa\"]\n",
    "assert mult_string_search(big_string, small_strings) == [True, False, True, True, False, True, False]"
   ]
  },
  {
   "cell_type": "code",
   "execution_count": 4,
   "metadata": {},
   "outputs": [],
   "source": [
    "big_string = \"abcdefghijklmnopqrstuvwxyz\"\n",
    "small_strings = [\"abc\", \"mnopqr\", \"wyz\", \"no\", \"e\", \"tuuv\"]\n",
    "assert mult_string_search(big_string, small_strings) == [True, True, False, True, True, False]"
   ]
  },
  {
   "cell_type": "code",
   "execution_count": 5,
   "metadata": {},
   "outputs": [],
   "source": [
    "big_string = \"bbbabb\"\n",
    "small_strings = [\"bbabb\"]\n",
    "assert mult_string_search(big_string, small_strings) == [True]"
   ]
  }
 ],
 "metadata": {
  "kernelspec": {
   "display_name": "Python 3",
   "language": "python",
   "name": "python3"
  },
  "language_info": {
   "codemirror_mode": {
    "name": "ipython",
    "version": 3
   },
   "file_extension": ".py",
   "mimetype": "text/x-python",
   "name": "python",
   "nbconvert_exporter": "python",
   "pygments_lexer": "ipython3",
   "version": "3.7.6"
  }
 },
 "nbformat": 4,
 "nbformat_minor": 4
}
