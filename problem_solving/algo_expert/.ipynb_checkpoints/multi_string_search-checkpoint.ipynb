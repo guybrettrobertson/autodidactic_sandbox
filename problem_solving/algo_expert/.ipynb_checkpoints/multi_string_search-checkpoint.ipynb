{
 "cells": [
  {
   "cell_type": "markdown",
   "metadata": {},
   "source": [
    "# Multi string search\n",
    "\n",
    "Write a function that takes in a big string and an array of small strings, all of which are smaller in length than the big string. The function should return an array of booleans, where each boolearn represents whether the small string at that index in the array of small strings is contained in the big string.\n",
    "\n",
    "Note that you can't use language-built-in string-matching methods.\n",
    "\n",
    "## Solution"
   ]
  },
  {
   "cell_type": "code",
   "execution_count": 18,
   "metadata": {},
   "outputs": [],
   "source": [
    "def mult_string_search(big_string, small_strings):\n",
    "    '''Find whether the small strings are found in the big strings.'''\n",
    "    \n",
    "    n = len(big_string)\n",
    "    m = len(small_strings)\n",
    "    \n",
    "    output = dict(zip(small_strings, [False for _ in range(m)]))\n",
    "    \n",
    "    for i in range(n - 1):\n",
    "        for j in range(i + 1, n + 1):\n",
    "            sub_string = big_string[i : j]\n",
    "            if sub_string in small_strings:\n",
    "                output[sub_string] = True\n",
    "    \n",
    "    return list(output.values())"
   ]
  },
  {
   "cell_type": "code",
   "execution_count": 19,
   "metadata": {},
   "outputs": [
    {
     "data": {
      "text/plain": [
       "[True, False, True, True, False, True, False]"
      ]
     },
     "execution_count": 19,
     "metadata": {},
     "output_type": "execute_result"
    }
   ],
   "source": [
    "big_string = \"this is a big string\"\n",
    "small_strings = [\"this\", \"yo\", \"is\", \"a\", \"bigger\", \"string\", \"kappa\"]\n",
    "mult_string_search(big_string, small_strings)"
   ]
  },
  {
   "cell_type": "code",
   "execution_count": null,
   "metadata": {},
   "outputs": [],
   "source": []
  }
 ],
 "metadata": {
  "kernelspec": {
   "display_name": "Python 3",
   "language": "python",
   "name": "python3"
  },
  "language_info": {
   "codemirror_mode": {
    "name": "ipython",
    "version": 3
   },
   "file_extension": ".py",
   "mimetype": "text/x-python",
   "name": "python",
   "nbconvert_exporter": "python",
   "pygments_lexer": "ipython3",
   "version": "3.7.6"
  }
 },
 "nbformat": 4,
 "nbformat_minor": 4
}
