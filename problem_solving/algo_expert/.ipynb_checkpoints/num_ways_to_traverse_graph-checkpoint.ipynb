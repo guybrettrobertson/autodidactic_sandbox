{
 "cells": [
  {
   "cell_type": "markdown",
   "metadata": {},
   "source": [
    "# Number of ways to traverse graph\n",
    "\n",
    "You're given two positive integers representing the width and height of a grid-shaped, rectangular graph. Write an function to find the number of ways of reach the bottom right corner from the top left corner. Each move you take must either take you down or right. In other words, you cannot go up or left in the graph.\n",
    "\n",
    "## Solution"
   ]
  },
  {
   "cell_type": "code",
   "execution_count": 8,
   "metadata": {},
   "outputs": [],
   "source": [
    "def num_ways_to_traverse_graph(width, height):\n",
    "    '''Find the number of ways to go from the top left to the bottom right.'''\n",
    "    \n",
    "    num_ways = [[1 for i in range(width)] for j in range(height)]\n",
    "    \n",
    "    for i in range(1, height):\n",
    "        for j in range(1, width):\n",
    "            num_ways[i][j] = num_ways[i - 1][j] + num_ways[i][j - 1]\n",
    "    \n",
    "    return num_ways[-1][-1]"
   ]
  },
  {
   "cell_type": "markdown",
   "metadata": {},
   "source": [
    "### Testing"
   ]
  },
  {
   "cell_type": "code",
   "execution_count": 13,
   "metadata": {},
   "outputs": [],
   "source": [
    "assert num_ways_to_traverse_graph(2, 3) == 3\n",
    "assert num_ways_to_traverse_graph(3, 2) == 3\n",
    "assert num_ways_to_traverse_graph(3, 4) == 10\n",
    "assert num_ways_to_traverse_graph(5, 5) == 70\n",
    "assert num_ways_to_traverse_graph(6, 5) == 126"
   ]
  }
 ],
 "metadata": {
  "kernelspec": {
   "display_name": "Python 3",
   "language": "python",
   "name": "python3"
  },
  "language_info": {
   "codemirror_mode": {
    "name": "ipython",
    "version": 3
   },
   "file_extension": ".py",
   "mimetype": "text/x-python",
   "name": "python",
   "nbconvert_exporter": "python",
   "pygments_lexer": "ipython3",
   "version": "3.7.6"
  }
 },
 "nbformat": 4,
 "nbformat_minor": 4
}
