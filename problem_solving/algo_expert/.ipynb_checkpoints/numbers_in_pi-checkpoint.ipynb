{
 "cells": [
  {
   "cell_type": "markdown",
   "metadata": {},
   "source": [
    "# Numbers in pi\n",
    "\n",
    "## Solution"
   ]
  },
  {
   "cell_type": "code",
   "execution_count": 1,
   "metadata": {},
   "outputs": [],
   "source": [
    "def numbers_in_pi(pi, numbers):\n",
    "    '''\n",
    "    Find the minimum number of spaces needed to add to pi such that all the resulting \n",
    "    numbers are found in the list of numbers.\n",
    "    '''\n",
    "    \n",
    "    numbers_table = {num: True for num in numbers}\n",
    "    min_spaces = get_min_spaces(pi, numbers_table, {}, 0)\n",
    "    if min_spaces == float('inf'):\n",
    "        return -1\n",
    "    else:\n",
    "        return min_spaces\n",
    "    \n",
    "def get_min_spaces(pi, numbers_table, cache, idx):\n",
    "    '''Helper function.'''\n",
    "    \n",
    "    if idx == len(pi):\n",
    "        return -1\n",
    "    if idx in cache:\n",
    "        return cache[idx]\n",
    "    \n",
    "    min_spaces = float('inf')\n",
    "    \n",
    "    for i in range(idx, len(pi)):\n",
    "        prefix = pi[idx : i + 1]\n",
    "        if prefix in numbers_table:\n",
    "            min_spaces_in_suffix = get_min_spaces(pi, numbers_table, cache, i + 1)\n",
    "            min_spaces = min(min_spaces, min_spaces_in_suffix + 1)\n",
    "    cache[idx] = min_spaces\n",
    "    return cache[idx]"
   ]
  },
  {
   "cell_type": "markdown",
   "metadata": {},
   "source": [
    "### Testing"
   ]
  },
  {
   "cell_type": "code",
   "execution_count": 2,
   "metadata": {},
   "outputs": [],
   "source": [
    "assert(numbers_in_pi('3141592', ['3141', '5', '31', '2', '4159', '9', '42']) == 2)"
   ]
  },
  {
   "cell_type": "code",
   "execution_count": 3,
   "metadata": {},
   "outputs": [],
   "source": [
    "numbers = [\n",
    "    \"314159265358979323846\",\n",
    "    \"26433\",\n",
    "    \"8\",\n",
    "    \"3279\",\n",
    "    \"314159265\",\n",
    "    \"35897932384626433832\",\n",
    "    \"79\"\n",
    "]\n",
    "pi = \"3141592653589793238462643383279\"\n",
    "assert(numbers_in_pi(pi, numbers) == 2)"
   ]
  },
  {
   "cell_type": "code",
   "execution_count": 4,
   "metadata": {},
   "outputs": [],
   "source": [
    "numbers = [\"314159265358979323846264338327\", \"9\"]\n",
    "pi = \"3141592653589793238462643383279\"\n",
    "assert(numbers_in_pi(pi, numbers) == 1)"
   ]
  },
  {
   "cell_type": "code",
   "execution_count": 5,
   "metadata": {},
   "outputs": [],
   "source": [
    "numbers = [\n",
    "    \"3\",\n",
    "    \"141\",\n",
    "    \"592\",\n",
    "    \"65\",\n",
    "    \"55\",\n",
    "    \"35\",\n",
    "    \"8\",\n",
    "    \"9793\",\n",
    "    \"23846264\",\n",
    "    \"3832798\"\n",
    "  ]\n",
    "pi = \"3141592653589793238462643383279\"\n",
    "assert(numbers_in_pi(pi, numbers) == -1)"
   ]
  }
 ],
 "metadata": {
  "kernelspec": {
   "display_name": "Python 3",
   "language": "python",
   "name": "python3"
  },
  "language_info": {
   "codemirror_mode": {
    "name": "ipython",
    "version": 3
   },
   "file_extension": ".py",
   "mimetype": "text/x-python",
   "name": "python",
   "nbconvert_exporter": "python",
   "pygments_lexer": "ipython3",
   "version": "3.7.6"
  }
 },
 "nbformat": 4,
 "nbformat_minor": 4
}
