{
 "cells": [
  {
   "cell_type": "markdown",
   "metadata": {},
   "source": [
    "# Pattern matcher\n",
    "\n",
    "## Solution"
   ]
  },
  {
   "cell_type": "code",
   "execution_count": 11,
   "metadata": {},
   "outputs": [],
   "source": [
    "def patter_matcher(pattern, string):\n",
    "    '''Check whether the string matches the pattern.'''\n",
    "    \n",
    "    is_flipped, pattern = get_new_pattern(pattern)\n",
    "    \n",
    "    \n",
    "def get_new_pattern(pattern):\n",
    "    '''Make pattern start with x.'''\n",
    "    \n",
    "    if pattern[0] == 'x':\n",
    "        return True, list(pattern)\n",
    "    else:\n",
    "        return False, ['x' if char == 'y' else 'y' for char in pattern]"
   ]
  },
  {
   "cell_type": "markdown",
   "metadata": {},
   "source": [
    "### Testing"
   ]
  },
  {
   "cell_type": "code",
   "execution_count": null,
   "metadata": {},
   "outputs": [],
   "source": [
    "pattern = 'xxyxxy'\n",
    "string = 'gogopowerrangergogopowerranger'\n",
    "patter_matcher(pattern, string)"
   ]
  },
  {
   "cell_type": "code",
   "execution_count": 10,
   "metadata": {},
   "outputs": [],
   "source": [
    "assert get_new_pattern('x') == (True, ['x'])\n",
    "assert get_new_pattern('xyyy') == (True, ['x', 'y', 'y', 'y'])\n",
    "assert get_new_pattern('y') == (False, ['x'])\n",
    "assert get_new_pattern('yxxx') == (False, ['x', 'y', 'y', 'y'])"
   ]
  },
  {
   "cell_type": "code",
   "execution_count": 12,
   "metadata": {},
   "outputs": [
    {
     "name": "stdout",
     "output_type": "stream",
     "text": [
      "True\n"
     ]
    }
   ],
   "source": [
    "pattern = 'xxyxxy'\n",
    "string = 'gogopowerrangergogopowerranger'\n",
    "patter_matcher(pattern, string)"
   ]
  },
  {
   "cell_type": "code",
   "execution_count": 1,
   "metadata": {},
   "outputs": [
    {
     "data": {
      "text/plain": [
       "['a', 'b', 'c']"
      ]
     },
     "execution_count": 1,
     "metadata": {},
     "output_type": "execute_result"
    }
   ],
   "source": [
    "list('abc')"
   ]
  },
  {
   "cell_type": "code",
   "execution_count": 7,
   "metadata": {},
   "outputs": [
    {
     "data": {
      "text/plain": [
       "(True, ['x'])"
      ]
     },
     "execution_count": 7,
     "metadata": {},
     "output_type": "execute_result"
    }
   ],
   "source": [
    "get_new_pattern('x')"
   ]
  },
  {
   "cell_type": "code",
   "execution_count": null,
   "metadata": {},
   "outputs": [],
   "source": []
  }
 ],
 "metadata": {
  "kernelspec": {
   "display_name": "Python 3",
   "language": "python",
   "name": "python3"
  },
  "language_info": {
   "codemirror_mode": {
    "name": "ipython",
    "version": 3
   },
   "file_extension": ".py",
   "mimetype": "text/x-python",
   "name": "python",
   "nbconvert_exporter": "python",
   "pygments_lexer": "ipython3",
   "version": "3.7.6"
  }
 },
 "nbformat": 4,
 "nbformat_minor": 4
}
