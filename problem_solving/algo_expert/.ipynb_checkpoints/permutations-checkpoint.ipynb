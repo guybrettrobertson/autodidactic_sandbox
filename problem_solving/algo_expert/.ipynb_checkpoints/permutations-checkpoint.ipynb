{
 "cells": [
  {
   "cell_type": "markdown",
   "metadata": {},
   "source": [
    "# Permutations\n",
    "\n",
    "Write a function that takes in an array of unique integers and returns an array of all permutations of that array in no particular order.\n",
    "\n",
    "If the input array is empty, the function should return an empty array.\n",
    "\n",
    "## Solution"
   ]
  },
  {
   "cell_type": "code",
   "execution_count": 1,
   "metadata": {},
   "outputs": [],
   "source": [
    "def permutations(array):\n",
    "    '''Find all permutations of the array.'''\n",
    "    \n",
    "    if len(array) == 0:\n",
    "        return array\n",
    "    \n",
    "    return permutations_helper([], array)\n",
    "\n",
    "def permutations_helper(perms, chars):\n",
    "    \n",
    "    if len(chars) == 1:\n",
    "        return [chars]\n",
    "    \n",
    "    perms = permutations_helper(perms, chars[:-1])\n",
    "    char = chars[-1]\n",
    "    res = []\n",
    "    \n",
    "    for i in range(len(perms)):\n",
    "        for j in range(len(perms[0])):\n",
    "            res.append(perms[i][:j] + [char] + perms[i][j:])\n",
    "        res.append(perms[i] + [char])\n",
    "    \n",
    "    return res"
   ]
  },
  {
   "cell_type": "markdown",
   "metadata": {},
   "source": [
    "### Testing"
   ]
  },
  {
   "cell_type": "code",
   "execution_count": 2,
   "metadata": {},
   "outputs": [],
   "source": [
    "perms = permutations([])\n",
    "assert(perms == [])"
   ]
  },
  {
   "cell_type": "code",
   "execution_count": 3,
   "metadata": {},
   "outputs": [],
   "source": [
    "perms = permutations([1])\n",
    "assert(perms == [[1]])"
   ]
  },
  {
   "cell_type": "code",
   "execution_count": 4,
   "metadata": {},
   "outputs": [],
   "source": [
    "perms = permutations([1, 2])\n",
    "assert([1, 2] in perms)\n",
    "assert([2, 1] in perms)\n",
    "assert(len(perms) == 2)"
   ]
  },
  {
   "cell_type": "code",
   "execution_count": 5,
   "metadata": {},
   "outputs": [],
   "source": [
    "perms = permutations([1, 2, 3])\n",
    "assert([1, 2, 3] in perms)\n",
    "assert([1, 3, 2] in perms)\n",
    "assert([2, 1, 3] in perms)\n",
    "assert([2, 3, 1] in perms)\n",
    "assert([3, 1, 2] in perms)\n",
    "assert([3, 2, 1] in perms)\n",
    "assert(len(perms) == 6)"
   ]
  }
 ],
 "metadata": {
  "kernelspec": {
   "display_name": "Python 3",
   "language": "python",
   "name": "python3"
  },
  "language_info": {
   "codemirror_mode": {
    "name": "ipython",
    "version": 3
   },
   "file_extension": ".py",
   "mimetype": "text/x-python",
   "name": "python",
   "nbconvert_exporter": "python",
   "pygments_lexer": "ipython3",
   "version": "3.7.6"
  }
 },
 "nbformat": 4,
 "nbformat_minor": 4
}
