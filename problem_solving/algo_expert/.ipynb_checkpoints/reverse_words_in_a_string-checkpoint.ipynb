{
 "cells": [
  {
   "cell_type": "markdown",
   "metadata": {},
   "source": [
    "# Reverse words in a string\n",
    "\n",
    "## Solution"
   ]
  },
  {
   "cell_type": "code",
   "execution_count": 41,
   "metadata": {},
   "outputs": [],
   "source": [
    "def reverse_words_in_string(string):\n",
    "    '''Return a string with the words reversed.'''\n",
    "    \n",
    "    n = len(string)\n",
    "    string_reversed = ''\n",
    "    word = ''\n",
    "    \n",
    "    for i in range(n):\n",
    "        j = n - 1 - i\n",
    "        if string[j] == ' ':\n",
    "            string_reversed += word + ' '\n",
    "            word = ''\n",
    "        else:\n",
    "            word = string[j] + word\n",
    "    \n",
    "    string_reversed += word\n",
    "    return string_reversed"
   ]
  },
  {
   "cell_type": "code",
   "execution_count": 44,
   "metadata": {},
   "outputs": [
    {
     "data": {
      "text/plain": [
       "' dog lazy the over jumps fox brown quick the '"
      ]
     },
     "execution_count": 44,
     "metadata": {},
     "output_type": "execute_result"
    }
   ],
   "source": [
    "reverse_words_in_string(' the quick brown fox jumps over the lazy dog ')"
   ]
  },
  {
   "cell_type": "code",
   "execution_count": null,
   "metadata": {},
   "outputs": [],
   "source": []
  }
 ],
 "metadata": {
  "kernelspec": {
   "display_name": "Python 3",
   "language": "python",
   "name": "python3"
  },
  "language_info": {
   "codemirror_mode": {
    "name": "ipython",
    "version": 3
   },
   "file_extension": ".py",
   "mimetype": "text/x-python",
   "name": "python",
   "nbconvert_exporter": "python",
   "pygments_lexer": "ipython3",
   "version": "3.7.6"
  }
 },
 "nbformat": 4,
 "nbformat_minor": 4
}
