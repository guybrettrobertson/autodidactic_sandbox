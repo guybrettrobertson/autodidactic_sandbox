{
 "cells": [
  {
   "cell_type": "markdown",
   "metadata": {},
   "source": [
    "# Reverse words in a string\n",
    "\n",
    "## Solution"
   ]
  },
  {
   "cell_type": "code",
   "execution_count": 1,
   "metadata": {},
   "outputs": [],
   "source": [
    "def reverse_words_in_string(string):\n",
    "    '''Return a string with the words reversed.'''\n",
    "    \n",
    "    n = len(string)\n",
    "    string_reversed = ''\n",
    "    word = ''\n",
    "    \n",
    "    for i in range(n):\n",
    "        j = n - 1 - i\n",
    "        if string[j] == ' ':\n",
    "            string_reversed += word + ' '\n",
    "            word = ''\n",
    "        else:\n",
    "            word = string[j] + word\n",
    "    \n",
    "    string_reversed += word\n",
    "    return string_reversed"
   ]
  },
  {
   "cell_type": "markdown",
   "metadata": {},
   "source": [
    "### Testing"
   ]
  },
  {
   "cell_type": "code",
   "execution_count": 2,
   "metadata": {},
   "outputs": [],
   "source": [
    "assert(reverse_words_in_string('a') == 'a')\n",
    "assert(reverse_words_in_string('ab') == 'ab')\n",
    "assert(reverse_words_in_string('hello kitty') == 'kitty hello')\n",
    "assert(reverse_words_in_string(' hello kitty') == 'kitty hello ')\n",
    "assert(reverse_words_in_string('hello kitty ') == ' kitty hello')"
   ]
  }
 ],
 "metadata": {
  "kernelspec": {
   "display_name": "Python 3",
   "language": "python",
   "name": "python3"
  },
  "language_info": {
   "codemirror_mode": {
    "name": "ipython",
    "version": 3
   },
   "file_extension": ".py",
   "mimetype": "text/x-python",
   "name": "python",
   "nbconvert_exporter": "python",
   "pygments_lexer": "ipython3",
   "version": "3.7.6"
  }
 },
 "nbformat": 4,
 "nbformat_minor": 4
}
