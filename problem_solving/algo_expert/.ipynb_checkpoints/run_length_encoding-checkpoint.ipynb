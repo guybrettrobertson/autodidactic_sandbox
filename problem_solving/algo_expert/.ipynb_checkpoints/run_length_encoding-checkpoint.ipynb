{
 "cells": [
  {
   "cell_type": "markdown",
   "metadata": {},
   "source": [
    "# Run length encoding\n",
    "\n",
    "## Solution"
   ]
  },
  {
   "cell_type": "code",
   "execution_count": 1,
   "metadata": {},
   "outputs": [],
   "source": [
    "def run_length_encoding(string):\n",
    "\n",
    "    output = []\n",
    "    count = 1\n",
    "    \n",
    "    for i in range(1, len(string)):\n",
    "        if string[i] != string[i - 1] or count == 9:\n",
    "            output.append(str(count))\n",
    "            output.append(string[i - 1])\n",
    "            count = 0\n",
    "        count += 1\n",
    "    \n",
    "    output.append(str(count))\n",
    "    output.append(string[len(string) - 1])\n",
    "    \n",
    "    return ''.join(output)"
   ]
  },
  {
   "cell_type": "markdown",
   "metadata": {},
   "source": [
    "### Testing"
   ]
  },
  {
   "cell_type": "code",
   "execution_count": 2,
   "metadata": {},
   "outputs": [],
   "source": [
    "assert(run_length_encoding('A') == '1A')\n",
    "assert(run_length_encoding('AAAAAAAAAAAAABBCCCCDD') == '9A4A2B4C2D')"
   ]
  }
 ],
 "metadata": {
  "kernelspec": {
   "display_name": "Python 3",
   "language": "python",
   "name": "python3"
  },
  "language_info": {
   "codemirror_mode": {
    "name": "ipython",
    "version": 3
   },
   "file_extension": ".py",
   "mimetype": "text/x-python",
   "name": "python",
   "nbconvert_exporter": "python",
   "pygments_lexer": "ipython3",
   "version": "3.7.6"
  }
 },
 "nbformat": 4,
 "nbformat_minor": 4
}
