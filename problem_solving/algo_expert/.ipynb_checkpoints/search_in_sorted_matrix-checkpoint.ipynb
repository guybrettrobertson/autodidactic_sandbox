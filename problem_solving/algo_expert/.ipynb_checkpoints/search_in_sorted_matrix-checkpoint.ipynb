{
 "cells": [
  {
   "cell_type": "markdown",
   "metadata": {},
   "source": [
    "# Search in sorted matrix\n",
    "\n",
    "You are given a matrix of integers. Each row and each column in the matrix is sorted. Write a function that finds the position of a target integer. If the integer is not found, return [-1, -1].\n",
    "\n",
    "## Solution"
   ]
  },
  {
   "cell_type": "code",
   "execution_count": 91,
   "metadata": {},
   "outputs": [],
   "source": [
    "def search_in_sorted_matrix(matrix, target):\n",
    "    '''Find position of target in matrix.'''\n",
    "    \n",
    "    return search_helper(matrix, target, 0, len(matrix) - 1, 0, len(matrix[0]) - 1)\n",
    "\n",
    "def search_helper(matrix, target, top, bottom, left, right):\n",
    "    '''Helper function for sorted matrix search.'''\n",
    "    \n",
    "    if right < left or bottom < top:\n",
    "        return [-1, -1]\n",
    "    \n",
    "    row = (top + bottom) // 2\n",
    "    col = (left + right) // 2\n",
    "    \n",
    "    if target == matrix[row][col]:\n",
    "        return [row, col]\n",
    "    \n",
    "    elif target < matrix[row][col]:\n",
    "        top_left = search_helper(matrix, target, top, row - 1, left, col - 1)\n",
    "        if top_left != [-1, -1]: return top_left\n",
    "        \n",
    "        top_right = search_helper(matrix, target, top, row - 1, col, right)\n",
    "        if top_right != [-1, -1]: return top_right\n",
    "        \n",
    "        bottom_left = search_helper(matrix, target, row, bottom, left, col - 1)\n",
    "        if bottom_left != [-1, -1]: return bottom_left\n",
    "        \n",
    "        return [-1, -1]\n",
    "    \n",
    "    else:\n",
    "        bottom_right = search_helper(matrix, target, row + 1, bottom, col + 1, right)\n",
    "        if bottom_right != [-1, -1]: return bottom_right\n",
    "        \n",
    "        top_right = search_helper(matrix, target, top, row, col + 1, right)\n",
    "        if top_right != [-1, -1]: return top_right\n",
    "        \n",
    "        bottom_left = search_helper(matrix, target, row + 1, bottom, left, col)\n",
    "        if bottom_left != [-1, -1]: return bottom_left\n",
    "        \n",
    "        return [-1, -1]"
   ]
  },
  {
   "cell_type": "code",
   "execution_count": 102,
   "metadata": {},
   "outputs": [
    {
     "data": {
      "text/plain": [
       "[-1, -1]"
      ]
     },
     "execution_count": 102,
     "metadata": {},
     "output_type": "execute_result"
    }
   ],
   "source": [
    "matrix = [\n",
    "    [0, 1, 2, 3],\n",
    "    [4, 5, 6, 7],\n",
    "    [8, 9, 10, 11],\n",
    "    [12, 13, 14, 15],\n",
    "    [16, 17, 18, 19]\n",
    "]\n",
    "target = 20\n",
    "search_in_sorted_matrix(matrix, target)"
   ]
  },
  {
   "cell_type": "code",
   "execution_count": 101,
   "metadata": {},
   "outputs": [
    {
     "data": {
      "text/plain": [
       "[1, 0]"
      ]
     },
     "execution_count": 101,
     "metadata": {},
     "output_type": "execute_result"
    }
   ],
   "source": [
    "matrix = [\n",
    "    [0],\n",
    "    [1]\n",
    "]\n",
    "target = 1\n",
    "search_in_sorted_matrix(matrix, target)"
   ]
  },
  {
   "cell_type": "code",
   "execution_count": null,
   "metadata": {},
   "outputs": [],
   "source": []
  }
 ],
 "metadata": {
  "kernelspec": {
   "display_name": "Python 3",
   "language": "python",
   "name": "python3"
  },
  "language_info": {
   "codemirror_mode": {
    "name": "ipython",
    "version": 3
   },
   "file_extension": ".py",
   "mimetype": "text/x-python",
   "name": "python",
   "nbconvert_exporter": "python",
   "pygments_lexer": "ipython3",
   "version": "3.7.6"
  }
 },
 "nbformat": 4,
 "nbformat_minor": 4
}
