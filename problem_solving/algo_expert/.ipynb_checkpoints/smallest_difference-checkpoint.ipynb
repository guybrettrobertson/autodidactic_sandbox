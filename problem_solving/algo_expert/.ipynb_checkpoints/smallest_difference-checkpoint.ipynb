{
 "cells": [
  {
   "cell_type": "markdown",
   "metadata": {},
   "source": [
    "# Smallest difference\n",
    "\n",
    "## Solution"
   ]
  },
  {
   "cell_type": "code",
   "execution_count": 14,
   "metadata": {},
   "outputs": [],
   "source": [
    "def smallest_difference(array_1, array_2):\n",
    "    '''Finds the smallest absolute difference between a number in array_1 and a number in array_2.'''\n",
    "    \n",
    "    smallest_diff = float('inf')\n",
    "    \n",
    "    for num_1 in array_1:\n",
    "        for num_2 in array_2:\n",
    "            diff = abs(num_1 - num_2)\n",
    "            if diff < smallest_diff:\n",
    "                smallest_diff = diff\n",
    "    \n",
    "    return smallest_diff"
   ]
  },
  {
   "cell_type": "markdown",
   "metadata": {},
   "source": [
    "### Testing"
   ]
  },
  {
   "cell_type": "code",
   "execution_count": 15,
   "metadata": {},
   "outputs": [],
   "source": [
    "array_1 = [0, 1, 2, 3, 4, 5]\n",
    "array_2 = [10, 11, 12, 13, 14]\n",
    "actual = smallest_difference(array_1, array_2)\n",
    "expected = 5\n",
    "assert(actual == expected)"
   ]
  },
  {
   "cell_type": "code",
   "execution_count": 10,
   "metadata": {},
   "outputs": [],
   "source": [
    "array_1 = [10, 34, 54, 21, 19, 4, 76, 31, 25]\n",
    "array_2 = [0, 45, 2, 89, 12, 1, 44, 26]"
   ]
  },
  {
   "cell_type": "code",
   "execution_count": 11,
   "metadata": {},
   "outputs": [],
   "source": [
    "    array_1.sort()\n",
    "    array_2.sort()"
   ]
  },
  {
   "cell_type": "code",
   "execution_count": 12,
   "metadata": {},
   "outputs": [
    {
     "name": "stdout",
     "output_type": "stream",
     "text": [
      "[4, 10, 19, 21, 25, 31, 34, 54, 76]\n",
      "[0, 1, 2, 12, 26, 44, 45, 89]\n"
     ]
    }
   ],
   "source": [
    "print(array_1)\n",
    "print(array_2)"
   ]
  },
  {
   "cell_type": "code",
   "execution_count": null,
   "metadata": {},
   "outputs": [],
   "source": []
  }
 ],
 "metadata": {
  "kernelspec": {
   "display_name": "Python 3",
   "language": "python",
   "name": "python3"
  },
  "language_info": {
   "codemirror_mode": {
    "name": "ipython",
    "version": 3
   },
   "file_extension": ".py",
   "mimetype": "text/x-python",
   "name": "python",
   "nbconvert_exporter": "python",
   "pygments_lexer": "ipython3",
   "version": "3.7.6"
  }
 },
 "nbformat": 4,
 "nbformat_minor": 4
}
