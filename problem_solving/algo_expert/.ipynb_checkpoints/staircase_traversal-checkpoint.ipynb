{
 "cells": [
  {
   "cell_type": "markdown",
   "metadata": {},
   "source": [
    "# Staircase traversal\n",
    "\n",
    "You're given two positive integers representing the height of a staircase and the maximum number of steps that you can advance up a staircase at a time. Write a function that returns the numbers of ways you can climb the staircase.\n",
    "\n",
    "For example, if you were given a staircase of height = 3 and max_steps = 2, you could climb the staircase in 3 ways. You could take 1 step, 1 step, and 1 step; 1 step and 2 steps; or 2 steps and 1 step.\n",
    "\n",
    "Note that max_steps <= height will always be true.\n",
    "\n",
    "## Solution"
   ]
  },
  {
   "cell_type": "code",
   "execution_count": 2,
   "metadata": {},
   "outputs": [],
   "source": [
    "def staircase_traversal(height, max_steps):\n",
    "    '''Find the number of ways you can climb the staircase.'''\n",
    "    \n",
    "    "
   ]
  },
  {
   "cell_type": "markdown",
   "metadata": {},
   "source": [
    "### Testing"
   ]
  },
  {
   "cell_type": "code",
   "execution_count": 3,
   "metadata": {},
   "outputs": [],
   "source": [
    "staircase_traversal(3, 2)"
   ]
  },
  {
   "cell_type": "code",
   "execution_count": null,
   "metadata": {},
   "outputs": [],
   "source": [
    " , 1, 2, 3, 4, 5\n",
    "1, 1, 1, 1, 1, 1\n",
    "2, 1, 2, 3, 5, 8\n",
    "3, 1, 2, 4, \n",
    "4, 1, "
   ]
  }
 ],
 "metadata": {
  "kernelspec": {
   "display_name": "Python 3",
   "language": "python",
   "name": "python3"
  },
  "language_info": {
   "codemirror_mode": {
    "name": "ipython",
    "version": 3
   },
   "file_extension": ".py",
   "mimetype": "text/x-python",
   "name": "python",
   "nbconvert_exporter": "python",
   "pygments_lexer": "ipython3",
   "version": "3.7.6"
  }
 },
 "nbformat": 4,
 "nbformat_minor": 4
}
