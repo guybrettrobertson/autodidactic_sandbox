{
 "cells": [
  {
   "cell_type": "markdown",
   "metadata": {},
   "source": [
    "# Subarray sort\n",
    "\n",
    "Write a function that takes in an array of integers and returns and array of the starting and ending indices of the smallest subarray in the input array that needs to be sorted in place in order to sort the entire array (in ascending order).\n",
    "\n",
    "If the array is already sorted, the function should return [-1, -1].\n",
    "\n",
    "## Solution"
   ]
  },
  {
   "cell_type": "code",
   "execution_count": 20,
   "metadata": {},
   "outputs": [],
   "source": [
    "def subarray_sort(array):\n",
    "    '''\n",
    "    Give the start and ending indices of the smallest subarray that needs \n",
    "    to be sorted in place in order to sort the entire array.\n",
    "    '''\n",
    "    \n",
    "    n = len(array)\n",
    "    smallest_unsorted = float('inf')\n",
    "    largest_unsorted = float('-inf')\n",
    "    is_sorted = True\n",
    "    \n",
    "    if array[0] > array[1]:\n",
    "        smallest_unsorted = min(array[0], smallest_unsorted)\n",
    "        largest_unsorted = max(array[0], largest_unsorted)\n",
    "        is_sorted = False\n",
    "    \n",
    "    for i in range(1, n - 1):\n",
    "        num = array [i]\n",
    "        if not array[i - 1] <= num <= array[i + 1]:\n",
    "            smallest_unsorted = min(num, smallest_unsorted)\n",
    "            largest_unsorted = max(num, largest_unsorted)\n",
    "            is_sorted = False\n",
    "    \n",
    "    \n",
    "    if array[n - 2] > array[n - 1]:\n",
    "        smallest_unsorted = min(array[n - 1], smallest_unsorted)\n",
    "        largest_unsorted = max(array[n - 1], largest_unsorted)\n",
    "        is_sorted = False\n",
    "    \n",
    "    if is_sorted:\n",
    "        return [-1, -1]\n",
    "    \n",
    "    for i in range(n):\n",
    "        if array[i] > smallest_unsorted:\n",
    "            output = [i]\n",
    "            break\n",
    "    \n",
    "    for i in reversed(range(n)):\n",
    "        if array[i] < largest_unsorted:\n",
    "            output.append(i)\n",
    "            return output"
   ]
  },
  {
   "cell_type": "markdown",
   "metadata": {},
   "source": [
    "### Testing"
   ]
  },
  {
   "cell_type": "code",
   "execution_count": 21,
   "metadata": {},
   "outputs": [
    {
     "data": {
      "text/plain": [
       "[2, 5]"
      ]
     },
     "execution_count": 21,
     "metadata": {},
     "output_type": "execute_result"
    }
   ],
   "source": [
    "array = [1, 2, 3, 4, 5, 2]\n",
    "subarray_sort(array)"
   ]
  },
  {
   "cell_type": "code",
   "execution_count": null,
   "metadata": {},
   "outputs": [],
   "source": []
  }
 ],
 "metadata": {
  "kernelspec": {
   "display_name": "Python 3",
   "language": "python",
   "name": "python3"
  },
  "language_info": {
   "codemirror_mode": {
    "name": "ipython",
    "version": 3
   },
   "file_extension": ".py",
   "mimetype": "text/x-python",
   "name": "python",
   "nbconvert_exporter": "python",
   "pygments_lexer": "ipython3",
   "version": "3.7.6"
  }
 },
 "nbformat": 4,
 "nbformat_minor": 4
}
