{
 "cells": [
  {
   "cell_type": "markdown",
   "metadata": {},
   "source": [
    "# Sudoku solver\n",
    "\n",
    "## Solution"
   ]
  },
  {
   "cell_type": "code",
   "execution_count": 63,
   "metadata": {},
   "outputs": [],
   "source": [
    "def sudoku_solver(board):\n",
    "    '''Solve the sudoku.'''\n",
    "    \n",
    "    solve_partial_sudoku(board, 0, 0)\n",
    "    return board\n",
    "\n",
    "def solve_partial_sudoku(board, row, col):\n",
    "    '''Solve partial sudoku board.'''\n",
    "    \n",
    "    current_row = row\n",
    "    current_col = col\n",
    "    \n",
    "    if current_col == 9:\n",
    "        current_row += 1\n",
    "        current_col = 0\n",
    "        if current_row == 9:\n",
    "            return True\n",
    "            \n",
    "    if board[current_row][current_col] == 0:\n",
    "        try_digits_at_position(board, current_row, current_col)\n",
    "    \n",
    "    return solve_partial_sudoku(board, current_col + 1, current_row)\n",
    "\n",
    "def try_digits_at_position(board, row, col):\n",
    "    \n",
    "    for digit in range(1, 10):\n",
    "        if check_value(board, row, col, digit):\n",
    "            board[row][col] = digit\n",
    "            if solve_partial_sudoku(board, row, col):\n",
    "                return True\n",
    "    \n",
    "    board[row][col] = 0\n",
    "    return False\n",
    "    \n",
    "def check_value(board, row, col, value):\n",
    "    '''Check if the board could be a valid sudoku arrangement.'''\n",
    "    \n",
    "    is_valid_row = value not in board[row]\n",
    "    is_valid_col = value not in map(lambda r: r[col], board)\n",
    "    if not is_valid_row or not is_valid_col:\n",
    "        return False\n",
    "    \n",
    "    row = (row // 3) * 3\n",
    "    col = (col // 3) * 3\n",
    "    for i in range(3):\n",
    "        for j in range(3):\n",
    "            if value == board[row + i][col + j]:\n",
    "                print(board[row + i][col + j])\n",
    "                return False\n",
    "    \n",
    "    return True"
   ]
  },
  {
   "cell_type": "markdown",
   "metadata": {},
   "source": [
    "### Testing"
   ]
  },
  {
   "cell_type": "code",
   "execution_count": 64,
   "metadata": {},
   "outputs": [
    {
     "data": {
      "text/plain": [
       "True"
      ]
     },
     "execution_count": 64,
     "metadata": {},
     "output_type": "execute_result"
    }
   ],
   "source": [
    "board = [\n",
    "    [7, 8, 0, 4, 0, 0, 1, 2, 0],\n",
    "    [6, 0, 0, 0, 7, 5, 0, 0, 9],\n",
    "    [0, 0, 0, 6, 0, 1, 0, 7, 8],\n",
    "    [0, 0, 7, 0, 4, 0, 2, 6, 0],\n",
    "    [0, 0, 1, 0, 5, 0, 9, 3, 0],\n",
    "    [9, 0, 4, 0, 6, 0, 0, 0, 5],\n",
    "    [0, 7, 0, 3, 0, 0, 0, 1, 2],\n",
    "    [1, 2, 0, 0, 0, 7, 4, 0, 0],\n",
    "    [0, 4, 9, 2, 0, 6, 0, 0, 7],\n",
    "]\n",
    "check_value(board, 4, 4, 2)"
   ]
  },
  {
   "cell_type": "code",
   "execution_count": null,
   "metadata": {},
   "outputs": [],
   "source": []
  }
 ],
 "metadata": {
  "kernelspec": {
   "display_name": "Python 3",
   "language": "python",
   "name": "python3"
  },
  "language_info": {
   "codemirror_mode": {
    "name": "ipython",
    "version": 3
   },
   "file_extension": ".py",
   "mimetype": "text/x-python",
   "name": "python",
   "nbconvert_exporter": "python",
   "pygments_lexer": "ipython3",
   "version": "3.7.6"
  }
 },
 "nbformat": 4,
 "nbformat_minor": 4
}
