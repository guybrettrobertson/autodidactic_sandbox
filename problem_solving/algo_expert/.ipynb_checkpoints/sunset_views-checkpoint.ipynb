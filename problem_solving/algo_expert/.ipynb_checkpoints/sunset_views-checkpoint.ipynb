{
 "cells": [
  {
   "cell_type": "markdown",
   "metadata": {},
   "source": [
    "# Sunset views\n",
    "\n",
    "Given an array of buildings and a direction tha all of the buildings face, return an array of the indices of the buildings that can see the sunset.\n",
    "\n",
    "A building can see the sunset if it's strictly taller than all of the buildings that come after it in the direction that it faces.\n",
    "\n",
    "The input array named buildings contains positive, non-zero integers representing the heights of the buildings. A building at index i thus has a height denoted by buildings[i]. All of the buildings face the same direction, and this direction is either east or west, denoted by the input string named direction, which will always be equal to either 'EAST' or 'WEST'. In relation to the input array, you can interpret these directions as right for east and left for west.\n",
    "\n",
    "Important note: the indices in the output array should be sorted in ascending order.\n",
    "\n",
    "## Solution"
   ]
  },
  {
   "cell_type": "code",
   "execution_count": 2,
   "metadata": {},
   "outputs": [],
   "source": [
    "def sunset_views(buildings, direction):\n",
    "    '''Finds the indices of the buildings that can see the sunset.'''\n",
    "    \n",
    "    if direction == 'EAST':\n",
    "        i = len(buildings) - 1 # Starting index at the right hand side\n",
    "        increment = -1 # Moves the index left one\n",
    "    else:\n",
    "        i = 0 # Starting index at the left hand side\n",
    "        increment = 1 # Moves the index right one\n",
    "    \n",
    "    tallest = float('-inf') # Tallest building encountered\n",
    "    output = []\n",
    "    \n",
    "    while 0 <= i < len(buildings):\n",
    "        # Check if the building is strictly taller than all buildings encountered \n",
    "        if buildings[i] > tallest:\n",
    "            output.append(i)\n",
    "            tallest = buildings[i]\n",
    "        i += increment\n",
    "    \n",
    "    output.sort()\n",
    "    return output"
   ]
  },
  {
   "cell_type": "code",
   "execution_count": 1,
   "metadata": {},
   "outputs": [
    {
     "data": {
      "text/plain": [
       "-inf"
      ]
     },
     "execution_count": 1,
     "metadata": {},
     "output_type": "execute_result"
    }
   ],
   "source": [
    "float('-inf')"
   ]
  },
  {
   "cell_type": "code",
   "execution_count": null,
   "metadata": {},
   "outputs": [],
   "source": [
    "apple = "
   ]
  },
  {
   "cell_type": "code",
   "execution_count": 6,
   "metadata": {},
   "outputs": [
    {
     "name": "stdout",
     "output_type": "stream",
     "text": [
      "[0, 1, 3, 4]\n"
     ]
    }
   ],
   "source": [
    "buildings = [2, 4, 1, 6, 7, 5, 4, 2]\n",
    "direction = 'WEST'\n",
    "print(sunset_views(buildings, direction))"
   ]
  },
  {
   "cell_type": "code",
   "execution_count": null,
   "metadata": {},
   "outputs": [],
   "source": []
  }
 ],
 "metadata": {
  "kernelspec": {
   "display_name": "Python 3",
   "language": "python",
   "name": "python3"
  },
  "language_info": {
   "codemirror_mode": {
    "name": "ipython",
    "version": 3
   },
   "file_extension": ".py",
   "mimetype": "text/x-python",
   "name": "python",
   "nbconvert_exporter": "python",
   "pygments_lexer": "ipython3",
   "version": "3.7.6"
  }
 },
 "nbformat": 4,
 "nbformat_minor": 4
}
