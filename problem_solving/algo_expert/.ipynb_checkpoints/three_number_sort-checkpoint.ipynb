{
 "cells": [
  {
   "cell_type": "markdown",
   "metadata": {},
   "source": [
    "# Three number sort\n",
    "\n",
    "You're given an array of integers and another array of three distinct integers. The first array is guaranteed to contain only the integers in the second array. The second array represents a desired order for the integers in the first array.\n",
    "\n",
    "Write a function that returns a sorted version of the first array according to the desired order in the second array.\n",
    "\n",
    "The function should perform this in place.\n",
    "\n",
    "## Solution"
   ]
  },
  {
   "cell_type": "code",
   "execution_count": 1,
   "metadata": {},
   "outputs": [],
   "source": [
    "def three_number_sort(array, order):\n",
    "    '''Sort array according to desired order.'''\n",
    "    \n",
    "    n_0 = array.count(order[0])\n",
    "    n_1 = array.count(order[1])\n",
    "    n_2 = len(array) - n_0 - n_1\n",
    "    \n",
    "    array[:n_0] = [order[0]] * n_0\n",
    "    array[n_0:n_1+n_0] = [order[1]] * n_1\n",
    "    array[n_1+n_0:] = [order[2]] * n_2\n",
    "    \n",
    "    return array"
   ]
  },
  {
   "cell_type": "markdown",
   "metadata": {},
   "source": [
    "### Testing"
   ]
  },
  {
   "cell_type": "code",
   "execution_count": 2,
   "metadata": {},
   "outputs": [],
   "source": [
    "assert(three_number_sort([2, 1, 0], [0, 1, 2]) == [0, 1, 2])\n",
    "assert(three_number_sort([0], [0, 1, 2]) == [0])\n",
    "assert(three_number_sort([0, 1, 2, 0, 1, 2, 0, 1, 2], [0, 1, 2]) == [0, 0, 0, 1, 1, 1, 2, 2, 2])\n",
    "assert(three_number_sort([2, 2, 2, 2, 2, 2, 2, 1, 0], [0, 1, 2]) == [0, 1, 2, 2, 2, 2, 2, 2, 2])"
   ]
  },
  {
   "cell_type": "markdown",
   "metadata": {},
   "source": [
    "## Solution"
   ]
  },
  {
   "cell_type": "code",
   "execution_count": 3,
   "metadata": {},
   "outputs": [],
   "source": [
    "def three_number_sort(array, order):\n",
    "    '''Sort array in place according to desired order.'''\n",
    "    \n",
    "    counts = [0, 0, 0]\n",
    "    counts[0] = array.count(order[0])\n",
    "    counts[1] = array.count(order[1])\n",
    "    counts[2] = len(array) - counts[0] - counts[1]\n",
    "    \n",
    "    idx = 0\n",
    "    \n",
    "    for i in range(3):\n",
    "        num = order[i]\n",
    "        while counts[i] > 0:\n",
    "            array[idx] = num\n",
    "            counts[i] -= 1\n",
    "            idx += 1\n",
    "    \n",
    "    return array"
   ]
  },
  {
   "cell_type": "markdown",
   "metadata": {},
   "source": [
    "### Testing"
   ]
  },
  {
   "cell_type": "code",
   "execution_count": 4,
   "metadata": {},
   "outputs": [],
   "source": [
    "assert(three_number_sort([2, 1, 0], [0, 1, 2]) == [0, 1, 2])\n",
    "assert(three_number_sort([0], [0, 1, 2]) == [0])\n",
    "assert(three_number_sort([0, 1, 2, 0, 1, 2, 0, 1, 2], [0, 1, 2]) == [0, 0, 0, 1, 1, 1, 2, 2, 2])\n",
    "assert(three_number_sort([2, 2, 2, 2, 2, 2, 2, 1, 0], [0, 1, 2]) == [0, 1, 2, 2, 2, 2, 2, 2, 2])"
   ]
  }
 ],
 "metadata": {
  "kernelspec": {
   "display_name": "Python 3",
   "language": "python",
   "name": "python3"
  },
  "language_info": {
   "codemirror_mode": {
    "name": "ipython",
    "version": 3
   },
   "file_extension": ".py",
   "mimetype": "text/x-python",
   "name": "python",
   "nbconvert_exporter": "python",
   "pygments_lexer": "ipython3",
   "version": "3.7.6"
  }
 },
 "nbformat": 4,
 "nbformat_minor": 4
}
