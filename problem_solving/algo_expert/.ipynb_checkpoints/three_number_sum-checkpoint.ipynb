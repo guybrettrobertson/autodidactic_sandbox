{
 "cells": [
  {
   "cell_type": "markdown",
   "metadata": {},
   "source": [
    "# Three number sum\n",
    "\n",
    "## Solution"
   ]
  },
  {
   "cell_type": "code",
   "execution_count": 14,
   "metadata": {},
   "outputs": [],
   "source": [
    "def three_number_sum(array, target):\n",
    "    '''Find the three number combinations in array which sum to target.'''\n",
    "    \n",
    "    n = len(array)\n",
    "    result = []\n",
    "    \n",
    "    array.sort()\n",
    "    \n",
    "    for i in range(n - 2):\n",
    "        for j in range(i + 1, n - 1):\n",
    "            for k in range(j + 1, n):\n",
    "                if array[i] + array[j] + array[k] == target:\n",
    "                    combo = [array[i], array[j], array[k]]\n",
    "                    combo.sort()\n",
    "                    if combo not in result:\n",
    "                        result.append(combo)\n",
    "    \n",
    "    return result"
   ]
  },
  {
   "cell_type": "markdown",
   "metadata": {},
   "source": [
    "### Testing"
   ]
  },
  {
   "cell_type": "code",
   "execution_count": 17,
   "metadata": {},
   "outputs": [],
   "source": [
    "array = [12, 3, 1, 2, -6, 5, -8, 6]\n",
    "target = 0\n",
    "actual = three_number_sum(array, target)\n",
    "expected = [[-8, 2, 6], [-8, 3, 5], [-6, 1, 5]]\n",
    "assert(actual == expected)"
   ]
  },
  {
   "cell_type": "markdown",
   "metadata": {},
   "source": [
    "## Solution"
   ]
  },
  {
   "cell_type": "code",
   "execution_count": 29,
   "metadata": {},
   "outputs": [],
   "source": [
    "def three_number_sum(array, target):\n",
    "    '''Find the three number combinations in array which sum to target.'''\n",
    "    \n",
    "    n = len(array)\n",
    "    result = []\n",
    "    \n",
    "    array.sort()\n",
    "    \n",
    "    for i in range(n - 2):\n",
    "        left = i + 1\n",
    "        right = n - 1\n",
    "        while left < right:\n",
    "            current_sum = array[i] + array[left] + array[right]\n",
    "            if current_sum > target:\n",
    "                right -= 1\n",
    "            elif current_sum < target:\n",
    "                left += 1\n",
    "            else:\n",
    "                combo = [array[i], array[left], array[right]]\n",
    "                combo.sort()\n",
    "                if combo not in result:\n",
    "                    result.append(combo)\n",
    "                left += 1\n",
    "                right -= 1\n",
    "                \n",
    "    return result"
   ]
  },
  {
   "cell_type": "markdown",
   "metadata": {},
   "source": [
    "### Testing"
   ]
  },
  {
   "cell_type": "code",
   "execution_count": 30,
   "metadata": {},
   "outputs": [],
   "source": [
    "array = [12, 3, 1, 2, -6, 5, -8, 6]\n",
    "target = 0\n",
    "actual = three_number_sum(array, target)\n",
    "expected = [[-8, 2, 6], [-8, 3, 5], [-6, 1, 5]]\n",
    "assert(actual == expected)"
   ]
  },
  {
   "cell_type": "code",
   "execution_count": null,
   "metadata": {},
   "outputs": [],
   "source": []
  }
 ],
 "metadata": {
  "kernelspec": {
   "display_name": "Python 3",
   "language": "python",
   "name": "python3"
  },
  "language_info": {
   "codemirror_mode": {
    "name": "ipython",
    "version": 3
   },
   "file_extension": ".py",
   "mimetype": "text/x-python",
   "name": "python",
   "nbconvert_exporter": "python",
   "pygments_lexer": "ipython3",
   "version": "3.7.6"
  }
 },
 "nbformat": 4,
 "nbformat_minor": 4
}
