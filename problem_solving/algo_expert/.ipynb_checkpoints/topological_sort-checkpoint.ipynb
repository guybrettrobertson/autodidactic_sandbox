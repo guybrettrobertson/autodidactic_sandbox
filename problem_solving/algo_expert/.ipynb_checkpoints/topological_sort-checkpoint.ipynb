{
 "cells": [
  {
   "cell_type": "markdown",
   "metadata": {},
   "source": [
    "# Topological sort\n",
    "\n",
    "You're given a list of arbitary jobs that need to be compelted; these jobs are represented by distinct integers. You're also given a list of dependencies. A dependency is represented as a pair of jobs where the first job is a prerequisite of the second one. In other words, the second job depends on the first one; it can only be completed once the first job is completed.\n",
    "\n",
    "Write a function that takes in a list of jobs and a list of dependecies and returns a list containing a valid order in which the given jobs can be completed. If no such order exists, the function should return an empty array.\n",
    "\n",
    "## Solution"
   ]
  },
  {
   "cell_type": "code",
   "execution_count": null,
   "metadata": {},
   "outputs": [],
   "source": [
    "def topological_sort(jobs, deps):\n",
    "    '''Find a valid order in which the jobs can be completed according to the dependencies.'''\n",
    "    \n",
    "    "
   ]
  },
  {
   "cell_type": "markdown",
   "metadata": {},
   "source": [
    "### Testing"
   ]
  },
  {
   "cell_type": "code",
   "execution_count": null,
   "metadata": {},
   "outputs": [],
   "source": [
    "jobs = [1, 2, 3, 4]\n",
    "deps = [[1, 2], [1, 3], [3, 2], [4, 2], [4, 3]]\n",
    "topological_sort(jobs, deps)"
   ]
  }
 ],
 "metadata": {
  "kernelspec": {
   "display_name": "Python 3",
   "language": "python",
   "name": "python3"
  },
  "language_info": {
   "codemirror_mode": {
    "name": "ipython",
    "version": 3
   },
   "file_extension": ".py",
   "mimetype": "text/x-python",
   "name": "python",
   "nbconvert_exporter": "python",
   "pygments_lexer": "ipython3",
   "version": "3.7.6"
  }
 },
 "nbformat": 4,
 "nbformat_minor": 4
}
