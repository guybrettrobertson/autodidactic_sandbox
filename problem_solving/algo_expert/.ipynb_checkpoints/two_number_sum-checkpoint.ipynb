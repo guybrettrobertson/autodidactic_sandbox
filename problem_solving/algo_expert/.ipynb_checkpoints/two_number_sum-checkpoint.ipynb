{
 "cells": [
  {
   "cell_type": "markdown",
   "metadata": {},
   "source": [
    "# Two number sum\n",
    "\n",
    "Guy Brett-Robertson<br>\n",
    "2021-02-11\n",
    "\n",
    "Given an array of integers nums and an integer target, return indices of the two numbers such that they add up to target.\n",
    "\n",
    "You may assume that each input would have exactly one solution, and you may not use the same element twice.\n",
    "\n",
    "You can return the answer in any order."
   ]
  },
  {
   "cell_type": "markdown",
   "metadata": {},
   "source": [
    "## Solution 1 - Brute force\n",
    "\n",
    "A nested loop allows you to look at each possible pair of numbers in the array directly, find their sum and compare this to the target. This solution is concise and easy to conceptualise. It also has good space complexity as it requires no additional memory, but poor time complexity.\n",
    "\n",
    "Time: $O(N^2)$<br>\n",
    "Space: $O(1)$"
   ]
  },
  {
   "cell_type": "code",
   "execution_count": 1,
   "metadata": {},
   "outputs": [],
   "source": [
    "def two_number_sum_1(array, target):\n",
    "    '''\n",
    "    Find the two numbers in the array which sum to the target.\n",
    "    '''\n",
    "    \n",
    "    n = len(array)\n",
    "    \n",
    "    for i in range(n-1):\n",
    "        firstNum = array[i]\n",
    "        for j in range(i+1, n):\n",
    "            secondNum = array[j]\n",
    "            if firstNum + secondNum == target:\n",
    "                return [secondNum, firstNum]\n",
    "    \n",
    "    return []"
   ]
  },
  {
   "cell_type": "markdown",
   "metadata": {},
   "source": [
    "### Testing"
   ]
  },
  {
   "cell_type": "code",
   "execution_count": 2,
   "metadata": {},
   "outputs": [],
   "source": [
    "array = [3, 5, -4, 8, 11, 1, -1, 6]\n",
    "target = 10\n",
    "output = two_number_sum_1(array, target)\n",
    "assert(11 in output)\n",
    "assert(-1 in output)"
   ]
  },
  {
   "cell_type": "code",
   "execution_count": 3,
   "metadata": {},
   "outputs": [],
   "source": [
    "array = [3, 5, -4, 8, 11, 1, -1, 6]\n",
    "target = 100000\n",
    "output = two_number_sum_1(array, target)\n",
    "assert(len(output) == 0)"
   ]
  },
  {
   "cell_type": "markdown",
   "metadata": {},
   "source": [
    "## Solution 2 - Hash table\n",
    "\n",
    "In this solution, I will iterate through the array once and make a hash table `nums_checked` of the numbers that I've encountered so far. In Python, you can use a dictionary as a hash table and this has the advantage of allowing you to look up the value for a given key in constant time $O(1)$.\n",
    "\n",
    "As I iterate through the array `num`, I also find the difference between `target` and `num` to give a `potential_match`. I then see whether this has been encountered by checking if it is present in `nums_checked`. This approach allows me to iterate through the array only once, so it has better time complexity than the nested-loop solution. However, as this requires me to create the hash table (which could be as large as $N$) it has worse space complexity. It is also more difficult to understand.\n",
    "\n",
    "Time: $O(N)$<br>\n",
    "Space: $O(N)$"
   ]
  },
  {
   "cell_type": "code",
   "execution_count": 4,
   "metadata": {},
   "outputs": [],
   "source": [
    "def two_number_sum_2(array, target):\n",
    "    '''\n",
    "    Find the two numbers in the array which sum to the target.\n",
    "    '''\n",
    "    nums_checked = {}\n",
    "    \n",
    "    for num in array:\n",
    "        potential_match = target - num\n",
    "        if potential_match in nums_checked:\n",
    "            return [potential_match, num]\n",
    "        else:\n",
    "            nums_checked[num] = True\n",
    "    return []"
   ]
  },
  {
   "cell_type": "markdown",
   "metadata": {},
   "source": [
    "### Testing"
   ]
  },
  {
   "cell_type": "code",
   "execution_count": 5,
   "metadata": {},
   "outputs": [],
   "source": [
    "array = [3, 5, -4, 8, 11, 1, -1, 6]\n",
    "target = 10\n",
    "output = two_number_sum_2(array, target)\n",
    "assert(11 in output)\n",
    "assert(-1 in output)"
   ]
  },
  {
   "cell_type": "code",
   "execution_count": 6,
   "metadata": {},
   "outputs": [],
   "source": [
    "array = [3, 5, -4, 8, 11, 1, -1, 6]\n",
    "target = 100000\n",
    "output = two_number_sum_2(array, target)\n",
    "assert(len(output) == 0)"
   ]
  },
  {
   "cell_type": "markdown",
   "metadata": {},
   "source": [
    "## Solution 3 - Sort first\n",
    "\n",
    "This approach requires me to sort the array first. In Python, you can sort a list in place using the `.sort()` method. This takes only one line, but it is actually the most time-consuming part of the algorithm, hence the $O(NlogN)$ time complexity.\n",
    "\n",
    "Once the array is sorted, I place a pointer at the start `i` and a pointer at the end `j`. I then check the sum of the two elements at the position of each of the pointers. If the sum is larger than the `target`, I know I must decrease the sum in order to reach the target. I must therefore move the right pointer leftward, as this is the only way to decrease the sum. If the sum is smaller than the `target`, the opposite is true, so I must move the left pointer rightward. The algorithm stops when it finds the pair which sum to the `target` or when the left pointer crosses the right pointer (in which case, the target cannot be found).\n",
    "\n",
    "This approach doesn't have the most optimal time complexity, but it has constant space complexity.\n",
    "\n",
    "Time: $O(NlogN)$<br>\n",
    "Space: $O(1)$"
   ]
  },
  {
   "cell_type": "code",
   "execution_count": 7,
   "metadata": {},
   "outputs": [],
   "source": [
    "def two_number_sum_3(array, target):\n",
    "    '''\n",
    "    Find the two numbers in the array which sum to the target.\n",
    "    '''\n",
    "    \n",
    "    array.sort()\n",
    "    \n",
    "    i = 0\n",
    "    j = len(array) - 1\n",
    "    \n",
    "    while i < j:\n",
    "        numSum = array[i] + array[j]\n",
    "        if numSum == target:\n",
    "            return [array[i], array[j]]\n",
    "        elif numSum > target:\n",
    "            j -= 1\n",
    "        else:\n",
    "            i += 1\n",
    "    \n",
    "    return []"
   ]
  },
  {
   "cell_type": "markdown",
   "metadata": {},
   "source": [
    "### Testing"
   ]
  },
  {
   "cell_type": "code",
   "execution_count": 8,
   "metadata": {},
   "outputs": [],
   "source": [
    "array = [3, 5, -4, 8, 11, 1, -1, 6]\n",
    "target = 10\n",
    "output = two_number_sum_3(array, target)\n",
    "assert(11 in output)\n",
    "assert(-1 in output)"
   ]
  },
  {
   "cell_type": "code",
   "execution_count": 9,
   "metadata": {},
   "outputs": [],
   "source": [
    "array = [3, 5, -4, 8, 11, 1, -1, 6]\n",
    "target = 100000\n",
    "output = two_number_sum_3(array, target)\n",
    "assert(len(output) == 0)"
   ]
  }
 ],
 "metadata": {
  "kernelspec": {
   "display_name": "Python 3",
   "language": "python",
   "name": "python3"
  },
  "language_info": {
   "codemirror_mode": {
    "name": "ipython",
    "version": 3
   },
   "file_extension": ".py",
   "mimetype": "text/x-python",
   "name": "python",
   "nbconvert_exporter": "python",
   "pygments_lexer": "ipython3",
   "version": "3.7.6"
  }
 },
 "nbformat": 4,
 "nbformat_minor": 4
}
