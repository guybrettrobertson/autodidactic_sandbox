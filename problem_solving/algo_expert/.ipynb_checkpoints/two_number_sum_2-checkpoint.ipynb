{
 "cells": [
  {
   "cell_type": "markdown",
   "metadata": {},
   "source": [
    "# Two number sum"
   ]
  },
  {
   "cell_type": "code",
   "execution_count": 1,
   "metadata": {},
   "outputs": [],
   "source": [
    "def two_number_sum(array, target):\n",
    "    '''Find the two numbers in the array that sum to the target.'''\n",
    "    \n",
    "    n = len(array)\n",
    "    for i in range(n - 1):\n",
    "        first_num = array[i]\n",
    "        for j in range(i + 1, n):\n",
    "            second_num = array[j]\n",
    "            if first_num + second_num == target:\n",
    "                return sorted([first_num, second_num])\n",
    "    \n",
    "    return []"
   ]
  },
  {
   "cell_type": "markdown",
   "metadata": {},
   "source": [
    "### Testing"
   ]
  },
  {
   "cell_type": "code",
   "execution_count": 2,
   "metadata": {},
   "outputs": [],
   "source": [
    "assert two_number_sum([1, 1], 2) == [1, 1]\n",
    "assert two_number_sum([1, 1], 3) == []\n",
    "assert two_number_sum([3, 5, -4, 8, 11, 1, -1, 6], 10) == [-1, 11]\n",
    "assert two_number_sum([3, 5, -4, 8, 11, 1, -1, 6], 10) == [-1, 11]\n",
    "assert two_number_sum([-21, 301, 12, 4, 65, 56, 210, 356, 9, -47], 163) == [-47, 210]"
   ]
  },
  {
   "cell_type": "code",
   "execution_count": null,
   "metadata": {},
   "outputs": [],
   "source": []
  }
 ],
 "metadata": {
  "kernelspec": {
   "display_name": "Python 3",
   "language": "python",
   "name": "python3"
  },
  "language_info": {
   "codemirror_mode": {
    "name": "ipython",
    "version": 3
   },
   "file_extension": ".py",
   "mimetype": "text/x-python",
   "name": "python",
   "nbconvert_exporter": "python",
   "pygments_lexer": "ipython3",
   "version": "3.7.6"
  }
 },
 "nbformat": 4,
 "nbformat_minor": 4
}
