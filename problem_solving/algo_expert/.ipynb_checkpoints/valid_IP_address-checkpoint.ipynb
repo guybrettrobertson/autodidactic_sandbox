{
 "cells": [
  {
   "cell_type": "markdown",
   "metadata": {},
   "source": [
    "# Valid IP address\n",
    "\n",
    "## Solution"
   ]
  },
  {
   "cell_type": "code",
   "execution_count": 1,
   "metadata": {},
   "outputs": [],
   "source": [
    "def valid_IP_address(string):\n",
    "    '''\n",
    "    Determine all the possible valid IP addresses that can be obtained \n",
    "    from the string without changing its order.\n",
    "    '''\n",
    "    \n",
    "    nums = list(string)\n",
    "    \n",
    "    n = len(nums)\n",
    "    output = []\n",
    "    for i in range(1, n - 2):\n",
    "        first = nums[:i]\n",
    "        is_first_valid = is_valid_num(first)\n",
    "        if not is_first_valid: next\n",
    "        for j in range(i + 1, n - 1):\n",
    "            second = nums[i:j]\n",
    "            is_second_valid = is_first_valid and is_valid_num(second)\n",
    "            if not is_second_valid: next\n",
    "            for k in range(j + 1, n):\n",
    "                third = nums[j:k]\n",
    "                fourth = nums[k:]\n",
    "                is_address_valid = is_second_valid and is_valid_num(third) and is_valid_num(fourth)\n",
    "                if is_address_valid:\n",
    "                    output.append(''.join(first) + '.' + \\\n",
    "                                  ''.join(second) + '.' + \\\n",
    "                                  ''.join(third) + '.' + \\\n",
    "                                  ''.join(fourth))\n",
    "    \n",
    "    return output\n",
    "\n",
    "def is_valid_num(num):\n",
    "    '''Check whether a single number is valid.'''\n",
    "    \n",
    "    if len(num) > 3 or len(num) > 1 and num[0] == '0':\n",
    "        return False\n",
    "    \n",
    "    num_int = int(''.join(num))\n",
    "    \n",
    "    if num_int < 0 or num_int > 255:\n",
    "        return False\n",
    "    \n",
    "    return True"
   ]
  },
  {
   "cell_type": "markdown",
   "metadata": {},
   "source": [
    "### Testing"
   ]
  },
  {
   "cell_type": "code",
   "execution_count": 2,
   "metadata": {},
   "outputs": [],
   "source": [
    "assert(valid_IP_address('') == [])\n",
    "assert(valid_IP_address('123') == [])\n",
    "assert(valid_IP_address('19216') == ['1.9.2.16', '1.9.21.6', '1.92.1.6', '19.2.1.6'])\n",
    "assert(valid_IP_address('3700100') == ['3.70.0.100', '37.0.0.100'])"
   ]
  }
 ],
 "metadata": {
  "kernelspec": {
   "display_name": "Python 3",
   "language": "python",
   "name": "python3"
  },
  "language_info": {
   "codemirror_mode": {
    "name": "ipython",
    "version": 3
   },
   "file_extension": ".py",
   "mimetype": "text/x-python",
   "name": "python",
   "nbconvert_exporter": "python",
   "pygments_lexer": "ipython3",
   "version": "3.7.6"
  }
 },
 "nbformat": 4,
 "nbformat_minor": 4
}
