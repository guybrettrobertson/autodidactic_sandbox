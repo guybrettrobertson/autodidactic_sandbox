{
 "cells": [
  {
   "cell_type": "markdown",
   "metadata": {},
   "source": [
    "# Valid starting city\n",
    "\n",
    "Imagine you have a set of cities that are laid out in a circle, connected by a circular road that runs clockwise. Each city has a gas station that provides gallons of fuel, and each city is some distance away from the next city.\n",
    "\n",
    "You have a car that can drive some number of miles per gallon of fuel, and your goal is to pick a starting city that you can fill up your car with that city's fuel, drive to the next city, refill up your car with that city's fuel, drive to the next city, and so on and so forth until you return back to the starting city with 0 or more gallons of fuel left.\n",
    "\n",
    "This city is called a valid starting city, and it's guaranteed that there will always be exactly one valid starting city.\n",
    "\n",
    "For the actual problem, you'll be given an array of distanced such that the city i is distances[i] away from city i+1. Since the cities are connected via a circular road, the last city is connected to the first city. In other words, the last distance in the distances array is equal to the distance from the last city to the first city. You'll also be given an array of fuel available at each city, where fuel[i] is equal to the fuel available at city i. The total amound of fuel available (from all cities combined) is exactly enough to travel to all cities. Your fuel tank always starts out empty, and you're given a positive integer value for the number of miles that your car can travel per gallon of fuel (mpg). You can assume that you will always be given at least two cities.\n",
    "\n",
    "Write a function that returns the index of the valid starting city.\n",
    "\n",
    "## Solution"
   ]
  },
  {
   "cell_type": "code",
   "execution_count": 1,
   "metadata": {},
   "outputs": [],
   "source": [
    "def valid_starting_city(distances, fuel, mpg):\n",
    "    '''Find the index of the valid starting city.'''\n",
    "    \n",
    "    n = len(distances)\n",
    "    for i in range(n):\n",
    "        current_fuel = 0\n",
    "        is_valid = True\n",
    "        for j in range(i, i + n):\n",
    "            k = j % n\n",
    "            current_fuel += fuel[k] * mpg - distances[k]\n",
    "            if current_fuel < 0:\n",
    "                is_valid = False\n",
    "        if is_valid:\n",
    "            return i"
   ]
  },
  {
   "cell_type": "markdown",
   "metadata": {},
   "source": [
    "### Testing"
   ]
  },
  {
   "cell_type": "code",
   "execution_count": 2,
   "metadata": {},
   "outputs": [],
   "source": [
    "distances = [5, 25, 15, 10, 15]\n",
    "fuel = [1, 2, 1, 0, 3]\n",
    "mpg = 10\n",
    "assert(valid_starting_city(distances, fuel, mpg) == 4)"
   ]
  },
  {
   "cell_type": "code",
   "execution_count": 3,
   "metadata": {},
   "outputs": [],
   "source": [
    "distances = [30, 40, 10, 10, 17, 13, 50, 30, 10, 40]\n",
    "fuel = [1, 2, 0, 1, 1, 0, 3, 1, 0, 1]\n",
    "mpg = 25\n",
    "assert(valid_starting_city(distances, fuel, mpg) == 1)"
   ]
  },
  {
   "cell_type": "code",
   "execution_count": 4,
   "metadata": {},
   "outputs": [],
   "source": [
    "distances = [10, 20, 10, 15, 5, 15, 25]\n",
    "fuel = [0, 2, 1, 0, 0, 1, 1]\n",
    "mpg = 20\n",
    "assert(valid_starting_city(distances, fuel, mpg) == 1)"
   ]
  },
  {
   "cell_type": "code",
   "execution_count": 5,
   "metadata": {},
   "outputs": [],
   "source": [
    "distances = [1, 3, 10, 6, 7, 7, 2, 4]\n",
    "fuel = [1, 1, 1, 1, 1, 1, 1, 1]\n",
    "mpg = 5\n",
    "assert(valid_starting_city(distances, fuel, mpg) == 6)"
   ]
  }
 ],
 "metadata": {
  "kernelspec": {
   "display_name": "Python 3",
   "language": "python",
   "name": "python3"
  },
  "language_info": {
   "codemirror_mode": {
    "name": "ipython",
    "version": 3
   },
   "file_extension": ".py",
   "mimetype": "text/x-python",
   "name": "python",
   "nbconvert_exporter": "python",
   "pygments_lexer": "ipython3",
   "version": "3.7.6"
  }
 },
 "nbformat": 4,
 "nbformat_minor": 4
}
