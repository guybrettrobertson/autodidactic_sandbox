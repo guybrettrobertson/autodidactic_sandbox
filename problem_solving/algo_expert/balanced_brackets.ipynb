{
 "cells": [
  {
   "cell_type": "markdown",
   "metadata": {},
   "source": [
    "# Balanced brackets\n",
    "\n",
    "## Solution"
   ]
  },
  {
   "cell_type": "code",
   "execution_count": 18,
   "metadata": {},
   "outputs": [],
   "source": [
    "def balanced_brackets(string):\n",
    "    '''Determine whether the input is a valid string of balanced brackets.'''\n",
    "    \n",
    "    open_brackets = ['(', '{', '[']\n",
    "    closed_brackets = [')', '}', ']']\n",
    "    matching_brackets = {'(':')', '{':'}', '[':']'}\n",
    "    \n",
    "    stack = []\n",
    "    \n",
    "    if string[0] not in open_brackets:\n",
    "        return False\n",
    "    \n",
    "    for i in range(len(string)):\n",
    "        bracket = string[i]\n",
    "        \n",
    "        if bracket in open_brackets:\n",
    "            stack.append(bracket)\n",
    "        elif bracket in closed_brackets:\n",
    "            if bracket == matching_brackets[stack[-1]]:\n",
    "                stack.pop()\n",
    "            else:\n",
    "                return False\n",
    "    \n",
    "    if len(stack) == 0:\n",
    "        return True\n",
    "    else:\n",
    "        return False"
   ]
  },
  {
   "cell_type": "code",
   "execution_count": 21,
   "metadata": {},
   "outputs": [
    {
     "name": "stdout",
     "output_type": "stream",
     "text": [
      "True\n"
     ]
    }
   ],
   "source": [
    "print(balanced_brackets('[](){}{{}}'))"
   ]
  },
  {
   "cell_type": "code",
   "execution_count": null,
   "metadata": {},
   "outputs": [],
   "source": []
  }
 ],
 "metadata": {
  "kernelspec": {
   "display_name": "Python 3",
   "language": "python",
   "name": "python3"
  },
  "language_info": {
   "codemirror_mode": {
    "name": "ipython",
    "version": 3
   },
   "file_extension": ".py",
   "mimetype": "text/x-python",
   "name": "python",
   "nbconvert_exporter": "python",
   "pygments_lexer": "ipython3",
   "version": "3.7.6"
  }
 },
 "nbformat": 4,
 "nbformat_minor": 4
}
