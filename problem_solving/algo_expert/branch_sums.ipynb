{
 "cells": [
  {
   "cell_type": "markdown",
   "metadata": {},
   "source": [
    "# Branch sums\n",
    "\n",
    "## Solution"
   ]
  },
  {
   "cell_type": "code",
   "execution_count": 1,
   "metadata": {},
   "outputs": [],
   "source": [
    "class BinaryTree:\n",
    "    '''Binary tree data structure.'''\n",
    "    def __init__(self, value):\n",
    "        self.value = value\n",
    "        self.left = None\n",
    "        self.right = None\n",
    "    \n",
    "    def insert(self, values, i=0):\n",
    "        '''Insert values.'''\n",
    "        if i >= len(values):\n",
    "            return\n",
    "        queue = [self]\n",
    "        while len(queue) > 0:\n",
    "            current = queue.pop(0)\n",
    "            if current.left is None:\n",
    "                current.left = BinaryTree(values[i])\n",
    "                break\n",
    "            queue.append(current.left)\n",
    "            if current.right is None:\n",
    "                current.right = BinaryTree(values[i])\n",
    "                break\n",
    "            queue.append(current.right)\n",
    "        self.insert(values, i + 1)\n",
    "        return self\n",
    "\n",
    "\n",
    "def branchSums(root):\n",
    "    '''Calculate the sums of the branches of the tree.'''\n",
    "    sums = []\n",
    "    branchSumsHelper(root, sums, 0)\n",
    "    return sums\n",
    "\n",
    "def branchSumsHelper(node, sums, runningSum):\n",
    "    '''Helper function.'''\n",
    "    if node == None:\n",
    "        return\n",
    "    \n",
    "    newRunningSum = runningSum + node.value\n",
    "    \n",
    "    if node.left == None and node.right == None:\n",
    "        sums.append(newRunningSum)\n",
    "        return\n",
    "    \n",
    "    branchSumsHelper(node.left, sums, newRunningSum)\n",
    "    branchSumsHelper(node.right, sums, newRunningSum)"
   ]
  },
  {
   "cell_type": "markdown",
   "metadata": {},
   "source": [
    "### Testing"
   ]
  },
  {
   "cell_type": "code",
   "execution_count": 2,
   "metadata": {},
   "outputs": [],
   "source": [
    "tree = BinaryTree(1).insert([2, 3, 4, 5, 6, 7, 8, 9, 10])\n",
    "assert(branchSums(tree) == [15, 16, 18, 10, 11])"
   ]
  }
 ],
 "metadata": {
  "kernelspec": {
   "display_name": "Python 3",
   "language": "python",
   "name": "python3"
  },
  "language_info": {
   "codemirror_mode": {
    "name": "ipython",
    "version": 3
   },
   "file_extension": ".py",
   "mimetype": "text/x-python",
   "name": "python",
   "nbconvert_exporter": "python",
   "pygments_lexer": "ipython3",
   "version": "3.7.6"
  }
 },
 "nbformat": 4,
 "nbformat_minor": 4
}
