{
 "cells": [
  {
   "cell_type": "markdown",
   "metadata": {},
   "source": [
    "# Branch sums\n",
    "\n",
    "Write a function that takes in a Binary Tree and returns a list of its branch sums ordered from leftmost branch sum to rightmost branchsum.\n",
    "\n",
    "A branch sum is the sum of all values in a Binary Tree branch. A Binary Tree branch is a path of nodes in a tree that starts at the root node and ends at any lead node.\n",
    "\n",
    "Each BinaryTree node has an integer value, a left child node, and a right child node. Children nodes can either be BinaryTree nodes themselves or None/null.\n",
    "\n",
    "## Solution"
   ]
  },
  {
   "cell_type": "code",
   "execution_count": 1,
   "metadata": {},
   "outputs": [],
   "source": [
    "class BinaryTree:\n",
    "    def __init__(self, value):\n",
    "        self.value = value\n",
    "        self.left = None\n",
    "        self.right = None\n",
    "\n",
    "def branch_sums(root):\n",
    "    sums = []\n",
    "    branch_sums_helper(root, sums, 0)\n",
    "    return sums\n",
    "\n",
    "def branch_sums_helper(node, sums, cum_sum):\n",
    "    if node is None:\n",
    "        return\n",
    "    \n",
    "    new_cum_sum = cum_sum + node.value\n",
    "    \n",
    "    if node.left is None and node.right is None:\n",
    "        sums.append(new_cum_sum)\n",
    "        return\n",
    "    \n",
    "    branch_sums_helper(node.left, sums, new_cum_sum)\n",
    "    branch_sums_helper(node.right, sums, new_cum_sum)      "
   ]
  },
  {
   "cell_type": "markdown",
   "metadata": {},
   "source": [
    "### Testing"
   ]
  },
  {
   "cell_type": "code",
   "execution_count": 2,
   "metadata": {},
   "outputs": [],
   "source": [
    "root = BinaryTree(10)\n",
    "root.left = BinaryTree(5)\n",
    "root.left.left = BinaryTree(2)\n",
    "root.left.left.left = BinaryTree(1)\n",
    "root.left.right = BinaryTree(5)\n",
    "root.right = BinaryTree(15)\n",
    "root.right.left = BinaryTree(13)\n",
    "root.right.left.right = BinaryTree(14)\n",
    "root.right.right = BinaryTree(22)\n",
    "assert branch_sums(root) == [18, 20, 52, 47]"
   ]
  },
  {
   "cell_type": "code",
   "execution_count": 3,
   "metadata": {},
   "outputs": [],
   "source": [
    "root = BinaryTree(1)\n",
    "root.left = BinaryTree(2)\n",
    "root.right = BinaryTree(3)\n",
    "assert branch_sums(root) == [3, 4]"
   ]
  },
  {
   "cell_type": "code",
   "execution_count": 4,
   "metadata": {},
   "outputs": [],
   "source": [
    "root = BinaryTree(1)\n",
    "root.left = BinaryTree(2)\n",
    "root.left.left = BinaryTree(3)\n",
    "root.right = BinaryTree(4)\n",
    "assert branch_sums(root) == [6, 5]"
   ]
  }
 ],
 "metadata": {
  "kernelspec": {
   "display_name": "Python 3",
   "language": "python",
   "name": "python3"
  },
  "language_info": {
   "codemirror_mode": {
    "name": "ipython",
    "version": 3
   },
   "file_extension": ".py",
   "mimetype": "text/x-python",
   "name": "python",
   "nbconvert_exporter": "python",
   "pygments_lexer": "ipython3",
   "version": "3.7.6"
  }
 },
 "nbformat": 4,
 "nbformat_minor": 2
}
