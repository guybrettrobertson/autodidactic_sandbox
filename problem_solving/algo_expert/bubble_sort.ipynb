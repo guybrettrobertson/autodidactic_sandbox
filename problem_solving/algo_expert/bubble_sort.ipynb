{
 "cells": [
  {
   "cell_type": "markdown",
   "metadata": {},
   "source": [
    "# Bubble sort\n",
    "\n",
    "## Solution"
   ]
  },
  {
   "cell_type": "code",
   "execution_count": 1,
   "metadata": {},
   "outputs": [],
   "source": [
    "def bubbleSort(array):\n",
    "    '''Return the array sorted using the bubble sort algorithm.'''\n",
    "    \n",
    "    isSorted = False\n",
    "    n = len(array)\n",
    "    while isSorted == False:\n",
    "        isSorted = True\n",
    "        for i in range(n - 1):\n",
    "            if array[i] > array[i + 1]:\n",
    "                temp = array[i]\n",
    "                array[i] = array[i + 1]\n",
    "                array[i + 1] = temp\n",
    "                isSorted = False\n",
    "    \n",
    "    return array"
   ]
  },
  {
   "cell_type": "markdown",
   "metadata": {},
   "source": [
    "### Testing"
   ]
  },
  {
   "cell_type": "code",
   "execution_count": 2,
   "metadata": {},
   "outputs": [],
   "source": [
    "assert(bubbleSort([]) == [])\n",
    "assert(bubbleSort([3, 2, 1]) == [1, 2, 3])\n",
    "assert(bubbleSort([8, 5, 2, 9, 5, 6, 3]) == [2, 3, 5, 5, 6, 8, 9])"
   ]
  }
 ],
 "metadata": {
  "kernelspec": {
   "display_name": "Python 3",
   "language": "python",
   "name": "python3"
  },
  "language_info": {
   "codemirror_mode": {
    "name": "ipython",
    "version": 3
   },
   "file_extension": ".py",
   "mimetype": "text/x-python",
   "name": "python",
   "nbconvert_exporter": "python",
   "pygments_lexer": "ipython3",
   "version": "3.7.6"
  }
 },
 "nbformat": 4,
 "nbformat_minor": 4
}
