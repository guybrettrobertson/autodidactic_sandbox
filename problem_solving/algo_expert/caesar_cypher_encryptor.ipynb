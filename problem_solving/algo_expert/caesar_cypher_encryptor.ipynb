{
 "cells": [
  {
   "cell_type": "markdown",
   "metadata": {},
   "source": [
    "# Caesar cypher encrypter\n",
    "\n",
    "## Solution"
   ]
  },
  {
   "cell_type": "code",
   "execution_count": 1,
   "metadata": {},
   "outputs": [],
   "source": [
    "def caesar_cypher_encriptor(string, key):\n",
    "    '''Return the encrypted version of the string where each letter is shifted by the key.'''\n",
    "    alphabet = 'abcdefghijklmnopqrstuvwxyz'\n",
    "    alpha_dict = dict(zip(list(range(26)), alphabet))\n",
    "    alpha_dict_rev = dict(zip(alphabet, list(range(26))))\n",
    "    result = ''\n",
    "    for letter in string:\n",
    "        old_key = alpha_dict_rev[letter]\n",
    "        new_key = (old_key + key) % 26\n",
    "        new_letter = alpha_dict[new_key]\n",
    "        result += new_letter\n",
    "    return result"
   ]
  },
  {
   "cell_type": "markdown",
   "metadata": {},
   "source": [
    "### Testing"
   ]
  },
  {
   "cell_type": "code",
   "execution_count": 2,
   "metadata": {},
   "outputs": [],
   "source": [
    "assert(caesar_cypher_encriptor('abc', 0) == 'abc')\n",
    "assert(caesar_cypher_encriptor('abc', 1) == 'bcd')"
   ]
  },
  {
   "cell_type": "markdown",
   "metadata": {},
   "source": [
    "## Solution"
   ]
  },
  {
   "cell_type": "code",
   "execution_count": 3,
   "metadata": {},
   "outputs": [],
   "source": [
    "def caesar_cypher_encriptor(string, key):\n",
    "    '''Return the encrypted version of the string where each letter is shifted by the key.'''\n",
    "    \n",
    "    alphabet = 'abcdefghijklmnopqrstuvwxyz'\n",
    "    alpha_dict = dict(zip(list(range(26)), alphabet))\n",
    "    alpha_dict_rev = dict(zip(alphabet, list(range(26))))\n",
    "    \n",
    "    string_as_list = list(string)\n",
    "    \n",
    "    return ''.join([alpha_dict[(alpha_dict_rev[letter] + key) % 26] for letter in list(string)])"
   ]
  },
  {
   "cell_type": "markdown",
   "metadata": {},
   "source": [
    "### Testing"
   ]
  },
  {
   "cell_type": "code",
   "execution_count": 16,
   "metadata": {},
   "outputs": [],
   "source": [
    "assert(caesar_cypher_encriptor('abc', 0) == 'abc')\n",
    "assert(caesar_cypher_encriptor('abc', 1) == 'bcd')"
   ]
  },
  {
   "cell_type": "markdown",
   "metadata": {},
   "source": [
    "## Solution"
   ]
  },
  {
   "cell_type": "code",
   "execution_count": 15,
   "metadata": {},
   "outputs": [],
   "source": [
    "def caesar_cypher_encriptor(string, key):\n",
    "    '''Return the encrypted version of the string where each letter is shifted by the key.'''\n",
    "\n",
    "    result = []\n",
    "    \n",
    "    for letter in string:\n",
    "        old_key = ord(letter)\n",
    "        new_key = old_key + key\n",
    "        if new_key > 122:\n",
    "            new_key = (new_key - 97) % 26\n",
    "        new_letter = chr(new_key)\n",
    "        result.append(new_letter)\n",
    "        \n",
    "    return ''.join(result)"
   ]
  },
  {
   "cell_type": "markdown",
   "metadata": {},
   "source": [
    "### Testing"
   ]
  },
  {
   "cell_type": "code",
   "execution_count": null,
   "metadata": {},
   "outputs": [],
   "source": [
    "assert(caesar_cypher_encriptor('abc', 0) == 'abc')\n",
    "assert(caesar_cypher_encriptor('abc', 1) == 'bcd')"
   ]
  }
 ],
 "metadata": {
  "kernelspec": {
   "display_name": "Python 3",
   "language": "python",
   "name": "python3"
  },
  "language_info": {
   "codemirror_mode": {
    "name": "ipython",
    "version": 3
   },
   "file_extension": ".py",
   "mimetype": "text/x-python",
   "name": "python",
   "nbconvert_exporter": "python",
   "pygments_lexer": "ipython3",
   "version": "3.7.6"
  }
 },
 "nbformat": 4,
 "nbformat_minor": 4
}
