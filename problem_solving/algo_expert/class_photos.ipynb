{
 "cells": [
  {
   "cell_type": "markdown",
   "metadata": {},
   "source": [
    "# Class photos\n",
    "\n",
    "It's photo day at the local school, and you're the photographer assigned to take class photos. The class that you'll be photographing has an even number of students, and all these students are wearing red or blue shirts. In fact, exactly half the class is wearing red shirts, and the other half is wearing blue shirts. You're responsible for arranging the students in two rows before taking the photo. Each row should contain the same number of the students and should adhere to the following guidelines:\n",
    "\n",
    "- All students wearing red shirts must be in the same row.\n",
    "- All students wearing blue shirts must be in the same row.\n",
    "- Each student in the back row must be strictly taller than the student directly in front of them in the front row.\n",
    "\n",
    "You're given two input arrays: one containing the heights of all the students with red shirts and another containing the heights of all the students with blue shirts. These arrays will always have the same length, and each height will be a positive integer. Write a function that returns whether or not a class photo that follows the stated guidelines can be taken.\n",
    "\n",
    "Note: you can assume that each class has at least 2 students.\n",
    "\n",
    "## Solution"
   ]
  },
  {
   "cell_type": "code",
   "execution_count": 1,
   "metadata": {},
   "outputs": [],
   "source": [
    "def class_photos(red_shirt_heights, blue_shirt_heights):\n",
    "    '''Find whether the photo can be taken according to the rules above.'''\n",
    "    \n",
    "    red_shirt_heights.sort()\n",
    "    blue_shirt_heights.sort()\n",
    "    \n",
    "    if red_shirt_heights[0] < blue_shirt_heights[0]:\n",
    "        front, back = red_shirt_heights, blue_shirt_heights\n",
    "    elif blue_shirt_heights[0] < red_shirt_heights[0]:\n",
    "        front, back = blue_shirt_heights, red_shirt_heights\n",
    "    else:\n",
    "        return False\n",
    "    \n",
    "    for i in range(len(red_shirt_heights)):\n",
    "        if front[i] >= back[i]:\n",
    "            return False\n",
    "    \n",
    "    return True"
   ]
  },
  {
   "cell_type": "markdown",
   "metadata": {},
   "source": [
    "### Testing"
   ]
  },
  {
   "cell_type": "code",
   "execution_count": 4,
   "metadata": {},
   "outputs": [],
   "source": [
    "assert(class_photos([1], [1]) == False)\n",
    "assert(class_photos([1], [2]) == True)\n",
    "assert(class_photos([2], [1]) == True)\n",
    "assert(class_photos([], [6, 9, 2, 4, 5]) == True)\n",
    "assert(class_photos([5, 8, 1, 3, 4], [6, 9, 2, 4, 5]) == True)\n",
    "assert(class_photos([5, 8, 1, 3, 4], [6, 9, 2, 4, 5]) == True)\n",
    "assert(class_photos([5, 8, 1, 3, 4, 9], [6, 9, 2, 4, 5, 1]) == False)"
   ]
  },
  {
   "cell_type": "code",
   "execution_count": null,
   "metadata": {},
   "outputs": [],
   "source": []
  }
 ],
 "metadata": {
  "kernelspec": {
   "display_name": "Python 3",
   "language": "python",
   "name": "python3"
  },
  "language_info": {
   "codemirror_mode": {
    "name": "ipython",
    "version": 3
   },
   "file_extension": ".py",
   "mimetype": "text/x-python",
   "name": "python",
   "nbconvert_exporter": "python",
   "pygments_lexer": "ipython3",
   "version": "3.7.6"
  }
 },
 "nbformat": 4,
 "nbformat_minor": 4
}
