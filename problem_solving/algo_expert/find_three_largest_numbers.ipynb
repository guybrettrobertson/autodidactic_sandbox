{
 "cells": [
  {
   "cell_type": "markdown",
   "metadata": {},
   "source": [
    "# Find three largest numbers\n",
    "\n",
    "## Solution"
   ]
  },
  {
   "cell_type": "code",
   "execution_count": 1,
   "metadata": {},
   "outputs": [],
   "source": [
    "def findThreeLargestNumbers(array):\n",
    "    '''Find the three largest numbers in the array with sorting.'''\n",
    "    firstLargest = float('-inf')\n",
    "    secondLargest = float('-inf')\n",
    "    thirdLargest = float('-inf')\n",
    "    \n",
    "    for num in array:\n",
    "        if thirdLargest < num <= secondLargest:\n",
    "            thirdLargest = num\n",
    "        elif secondLargest < num <= firstLargest:\n",
    "            thirdLargest = secondLargest\n",
    "            secondLargest = num\n",
    "        elif firstLargest < num:\n",
    "            thirdLargest = secondLargest\n",
    "            secondLargest = firstLargest\n",
    "            firstLargest = num\n",
    "    \n",
    "    return [thirdLargest, secondLargest, firstLargest]"
   ]
  },
  {
   "cell_type": "markdown",
   "metadata": {},
   "source": [
    "### Testing"
   ]
  },
  {
   "cell_type": "code",
   "execution_count": 2,
   "metadata": {},
   "outputs": [],
   "source": [
    "array = [1, 1, 1]\n",
    "assert(findThreeLargestNumbers(array) == [1, 1, 1])"
   ]
  },
  {
   "cell_type": "code",
   "execution_count": 3,
   "metadata": {},
   "outputs": [],
   "source": [
    "array = [141, 1, 17, -7, -17, -27, 18, 541, 8, 7, 7]\n",
    "assert(findThreeLargestNumbers(array) == [18, 141, 541])"
   ]
  }
 ],
 "metadata": {
  "kernelspec": {
   "display_name": "Python 3",
   "language": "python",
   "name": "python3"
  },
  "language_info": {
   "codemirror_mode": {
    "name": "ipython",
    "version": 3
   },
   "file_extension": ".py",
   "mimetype": "text/x-python",
   "name": "python",
   "nbconvert_exporter": "python",
   "pygments_lexer": "ipython3",
   "version": "3.7.6"
  }
 },
 "nbformat": 4,
 "nbformat_minor": 4
}
