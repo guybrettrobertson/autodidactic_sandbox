{
 "cells": [
  {
   "cell_type": "markdown",
   "metadata": {},
   "source": [
    "# Find three largest numbers\n",
    "\n",
    "## Solution"
   ]
  },
  {
   "cell_type": "code",
   "execution_count": 10,
   "metadata": {},
   "outputs": [],
   "source": [
    "def findThreeLargestNumbers(array):\n",
    "    firstLargest = float('-inf')\n",
    "    secondLargest = float('-inf')\n",
    "    thirdLargest = float('-inf')\n",
    "    \n",
    "    for num in array:\n",
    "        if thirdLargest < num < secondLargest:\n",
    "            thirdLargest = num\n",
    "        elif secondLargest < num < firstLargest:\n",
    "            thirdLargest = secondLargest\n",
    "            secondLargest = num\n",
    "        elif firstLargest < num:\n",
    "            thirdLargest = secondLargest\n",
    "            secondLargest = firstLargest\n",
    "            firstLargest = num\n",
    "    \n",
    "    return [thirdLargest, secondLargest, firstLargest]"
   ]
  },
  {
   "cell_type": "code",
   "execution_count": 11,
   "metadata": {},
   "outputs": [
    {
     "name": "stdout",
     "output_type": "stream",
     "text": [
      "[18, 141, 541]\n"
     ]
    }
   ],
   "source": [
    "array = [141, 1, 17, -7, -17, -27, 18, 541, 8, 7, 7] #), [18, 141, 541])\n",
    "print(findThreeLargestNumbers(array))"
   ]
  },
  {
   "cell_type": "code",
   "execution_count": null,
   "metadata": {},
   "outputs": [],
   "source": []
  }
 ],
 "metadata": {
  "kernelspec": {
   "display_name": "Python 3",
   "language": "python",
   "name": "python3"
  },
  "language_info": {
   "codemirror_mode": {
    "name": "ipython",
    "version": 3
   },
   "file_extension": ".py",
   "mimetype": "text/x-python",
   "name": "python",
   "nbconvert_exporter": "python",
   "pygments_lexer": "ipython3",
   "version": "3.7.6"
  }
 },
 "nbformat": 4,
 "nbformat_minor": 4
}
