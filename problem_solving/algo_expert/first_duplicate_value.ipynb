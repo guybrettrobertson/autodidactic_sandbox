{
 "cells": [
  {
   "cell_type": "markdown",
   "metadata": {},
   "source": [
    "# First duplicate value\n",
    "\n",
    "## Solution"
   ]
  },
  {
   "cell_type": "code",
   "execution_count": 1,
   "metadata": {},
   "outputs": [],
   "source": [
    "def first_duplicate_value(array):\n",
    "    '''Finds the first element of the array that occurs more than once.'''\n",
    "    \n",
    "    values = {}\n",
    "    \n",
    "    for num in array:\n",
    "        if num not in values:\n",
    "            values[num] = 1\n",
    "        else:\n",
    "            return num\n",
    "    \n",
    "    return -1"
   ]
  },
  {
   "cell_type": "markdown",
   "metadata": {},
   "source": [
    "### Testing"
   ]
  },
  {
   "cell_type": "code",
   "execution_count": 2,
   "metadata": {},
   "outputs": [],
   "source": [
    "assert(first_duplicate_value([]) == -1)\n",
    "assert(first_duplicate_value([0]) == -1)\n",
    "assert(first_duplicate_value([0, 1, 2]) == -1)\n",
    "assert(first_duplicate_value([0, 1, 2, 1]) == 1)\n",
    "assert(first_duplicate_value([0, 1, 2, 2, 1]) == 2)"
   ]
  }
 ],
 "metadata": {
  "kernelspec": {
   "display_name": "Python 3",
   "language": "python",
   "name": "python3"
  },
  "language_info": {
   "codemirror_mode": {
    "name": "ipython",
    "version": 3
   },
   "file_extension": ".py",
   "mimetype": "text/x-python",
   "name": "python",
   "nbconvert_exporter": "python",
   "pygments_lexer": "ipython3",
   "version": "3.7.6"
  }
 },
 "nbformat": 4,
 "nbformat_minor": 4
}
