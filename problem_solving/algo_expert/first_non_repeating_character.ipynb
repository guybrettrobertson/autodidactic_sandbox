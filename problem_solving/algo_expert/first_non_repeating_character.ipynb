{
 "cells": [
  {
   "cell_type": "markdown",
   "metadata": {},
   "source": [
    "# First non-repeating character\n",
    "\n",
    "Write a function that takes in a string of lowercase English alphabet letters and returns the index of the string's first non-repeating character.\n",
    "\n",
    "The first non-repeating character is the character in a string that occurs only once.\n",
    "\n",
    "If the input string doesn't have any non-repeating characters, your function should return -1.\n",
    "\n",
    "## Solution"
   ]
  },
  {
   "cell_type": "code",
   "execution_count": 1,
   "metadata": {},
   "outputs": [],
   "source": [
    "def first_non_repeating_character(string):\n",
    "    \n",
    "    counts = {}\n",
    "    order = 0\n",
    "    for letter in string:\n",
    "        if letter in counts:\n",
    "            counts[letter] = -1\n",
    "        else:\n",
    "            counts[letter] = order\n",
    "            order += 1\n",
    "    \n",
    "    for i, letter in enumerate(string):\n",
    "        if counts[letter] != -1:\n",
    "            return i\n",
    "\n",
    "    return -1"
   ]
  },
  {
   "cell_type": "markdown",
   "metadata": {},
   "source": [
    "### Testing"
   ]
  },
  {
   "cell_type": "code",
   "execution_count": 2,
   "metadata": {},
   "outputs": [],
   "source": [
    "assert first_non_repeating_character('abcdcaf') == 1\n",
    "assert first_non_repeating_character('faadabcbbebdf') == 6\n",
    "assert first_non_repeating_character('a') == 0\n",
    "assert first_non_repeating_character('ab') == 0\n",
    "assert first_non_repeating_character('abac') == 1\n",
    "assert first_non_repeating_character('ababac') == 5"
   ]
  }
 ],
 "metadata": {
  "kernelspec": {
   "display_name": "Python 3",
   "language": "python",
   "name": "python3"
  },
  "language_info": {
   "codemirror_mode": {
    "name": "ipython",
    "version": 3
   },
   "file_extension": ".py",
   "mimetype": "text/x-python",
   "name": "python",
   "nbconvert_exporter": "python",
   "pygments_lexer": "ipython3",
   "version": "3.6.5"
  }
 },
 "nbformat": 4,
 "nbformat_minor": 2
}
