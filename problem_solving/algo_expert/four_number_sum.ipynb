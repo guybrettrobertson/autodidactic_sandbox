{
 "cells": [
  {
   "cell_type": "markdown",
   "metadata": {},
   "source": [
    "# Four number sum\n",
    "\n",
    "Write a function that takes in a non-empty array of distinct integers and an integer representing a target sum. The function should find all quadruplets in the array that sum to the target sum and return a two-dimensional array of all these quadruplets in no particular order.\n",
    "\n",
    "If no four numbers sum up to the target sum, the function should return an empty array.\n",
    "\n",
    "## Solution"
   ]
  },
  {
   "cell_type": "code",
   "execution_count": 1,
   "metadata": {},
   "outputs": [],
   "source": [
    "def four_number_sum(array, target):\n",
    "    '''Find the quadruplets in array that sum to target.'''\n",
    "    \n",
    "    n = len(array)\n",
    "    output = []\n",
    "    \n",
    "    for a in range(n - 3):\n",
    "        for b in range(a + 1, n - 2):\n",
    "            for c in range(b + 1, n - 1):\n",
    "                for d in range(c + 1, n):\n",
    "                    current_sum = array[a] + array[b] + array[c] + array[d]\n",
    "                    if current_sum == target:\n",
    "                        quadruplet = [array[a], array[b], array[c], array[d]]\n",
    "                        quadruplet.sort()\n",
    "                        if quadruplet not in output:\n",
    "                            output.append(quadruplet)\n",
    "    \n",
    "    return output"
   ]
  },
  {
   "cell_type": "markdown",
   "metadata": {},
   "source": [
    "### Testing"
   ]
  },
  {
   "cell_type": "code",
   "execution_count": 2,
   "metadata": {},
   "outputs": [],
   "source": [
    "assert four_number_sum([1, 1, 1, 1], 4) == [[1, 1, 1, 1]]\n",
    "assert four_number_sum([1, 2, 3, 4, 5, 6, 7, 8], 10) == [[1, 2, 3, 4]]\n",
    "assert four_number_sum([1, 2, 3, 4, 5, 6, 7, 8], 26) == [[5, 6, 7, 8]]\n",
    "assert four_number_sum([7, 6, 4, -1, 1, 2], 16) == [[-1, 4, 6, 7], [1, 2, 6, 7]]"
   ]
  },
  {
   "cell_type": "markdown",
   "metadata": {},
   "source": [
    "## Solution"
   ]
  },
  {
   "cell_type": "code",
   "execution_count": 3,
   "metadata": {},
   "outputs": [],
   "source": [
    "def four_number_sum(array, target):\n",
    "    '''Find the quadruplets in array that sum to target.'''\n",
    "    \n",
    "    n = len(array)\n",
    "    output = []\n",
    "    \n",
    "    hash_table = {}\n",
    "    \n",
    "    for i in range(1, n - 1):\n",
    "        for j in range(i + 1, n):\n",
    "            pair_sum = array[i] + array[j]\n",
    "            diff = target - pair_sum\n",
    "            if diff in hash_table:\n",
    "                for pair in hash_table[diff]:\n",
    "                    output.append(sorted(pair + [array[i], array[j]]))\n",
    "        for j in range(i):\n",
    "            pair_sum = array[i] + array[j]\n",
    "            if pair_sum not in hash_table:\n",
    "                hash_table[pair_sum] = [[array[i], array[j]]]\n",
    "            else:\n",
    "                hash_table[pair_sum].append([array[i], array[j]])\n",
    "    \n",
    "    return output"
   ]
  },
  {
   "cell_type": "markdown",
   "metadata": {},
   "source": [
    "### Testing"
   ]
  },
  {
   "cell_type": "code",
   "execution_count": 4,
   "metadata": {},
   "outputs": [],
   "source": [
    "assert four_number_sum([1, 1, 1, 1], 4) == [[1, 1, 1, 1]]\n",
    "assert four_number_sum([1, 2, 3, 4, 5, 6, 7, 8], 10) == [[1, 2, 3, 4]]\n",
    "assert four_number_sum([1, 2, 3, 4, 5, 6, 7, 8], 26) == [[5, 6, 7, 8]]\n",
    "assert four_number_sum([7, 6, 4, -1, 1, 2], 16) == [[-1, 4, 6, 7], [1, 2, 6, 7]]"
   ]
  }
 ],
 "metadata": {
  "kernelspec": {
   "display_name": "Python 3",
   "language": "python",
   "name": "python3"
  },
  "language_info": {
   "codemirror_mode": {
    "name": "ipython",
    "version": 3
   },
   "file_extension": ".py",
   "mimetype": "text/x-python",
   "name": "python",
   "nbconvert_exporter": "python",
   "pygments_lexer": "ipython3",
   "version": "3.7.6"
  }
 },
 "nbformat": 4,
 "nbformat_minor": 4
}
