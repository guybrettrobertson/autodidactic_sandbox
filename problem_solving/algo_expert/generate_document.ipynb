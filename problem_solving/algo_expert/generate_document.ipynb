{
 "cells": [
  {
   "cell_type": "markdown",
   "metadata": {},
   "source": [
    "# Generate document\n",
    "\n",
    "You're given a string of available characters and a string representing a document that you need to generate. Write a function that determines if you can generate a document usin ghte available characters. If you can generate the document, your funciton should return True; otherwise, it should return False.\n",
    "\n",
    "You're only able to generate the document if the frequency of unique characters in the characters string is greater than or equal to the frequency of unique characters in the document string. For example, if you're given characters = 'abcabc' and document 'aabbccc', you cannot generate the document because you're missing one c.\n",
    "\n",
    "The document that you need to create may contain any characters, including special characters, capital letters, numbers and spaces.\n",
    "\n",
    "Note: you can always generate the empty string ('').\n",
    "\n",
    "## Solution"
   ]
  },
  {
   "cell_type": "code",
   "execution_count": 3,
   "metadata": {},
   "outputs": [],
   "source": [
    "def generate_document(characters, document):\n",
    "    '''Find out if you can generate the document from the characters.'''\n",
    "    \n",
    "    characters_dict = {}\n",
    "    \n",
    "    for char in characters:\n",
    "        if char in characters_dict:\n",
    "            characters_dict[char] += 1\n",
    "        else:\n",
    "            characters_dict[char] = 1\n",
    "    \n",
    "    for char in document:\n",
    "        if char in characters_dict:\n",
    "            characters_dict[char] -= 1\n",
    "            if characters_dict[char] < 0:\n",
    "                return False\n",
    "        else:\n",
    "            return False\n",
    "    \n",
    "    return True"
   ]
  },
  {
   "cell_type": "markdown",
   "metadata": {},
   "source": [
    "### Testing"
   ]
  },
  {
   "cell_type": "code",
   "execution_count": 9,
   "metadata": {},
   "outputs": [
    {
     "data": {
      "text/plain": [
       "True"
      ]
     },
     "execution_count": 9,
     "metadata": {},
     "output_type": "execute_result"
    }
   ],
   "source": [
    "characters = '!tseB eht si trepxEoglA'\n",
    "document = 'AlgoExpert is the Best!'\n",
    "generate_document(characters, document)"
   ]
  },
  {
   "cell_type": "code",
   "execution_count": 8,
   "metadata": {},
   "outputs": [
    {
     "data": {
      "text/plain": [
       "True"
      ]
     },
     "execution_count": 8,
     "metadata": {},
     "output_type": "execute_result"
    }
   ],
   "source": [
    "characters = 'aaa'\n",
    "document = 'aa'\n",
    "generate_document(characters, document)"
   ]
  },
  {
   "cell_type": "code",
   "execution_count": null,
   "metadata": {},
   "outputs": [],
   "source": []
  }
 ],
 "metadata": {
  "kernelspec": {
   "display_name": "Python 3",
   "language": "python",
   "name": "python3"
  },
  "language_info": {
   "codemirror_mode": {
    "name": "ipython",
    "version": 3
   },
   "file_extension": ".py",
   "mimetype": "text/x-python",
   "name": "python",
   "nbconvert_exporter": "python",
   "pygments_lexer": "ipython3",
   "version": "3.7.6"
  }
 },
 "nbformat": 4,
 "nbformat_minor": 4
}
