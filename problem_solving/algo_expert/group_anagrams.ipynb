{
 "cells": [
  {
   "cell_type": "markdown",
   "metadata": {},
   "source": [
    "# Group anagrams\n",
    "\n",
    "## Solution"
   ]
  },
  {
   "cell_type": "code",
   "execution_count": 1,
   "metadata": {},
   "outputs": [],
   "source": [
    "def group_anagrams(words):\n",
    "    '''Group the words into anagrams.'''\n",
    "    \n",
    "    groups = {}\n",
    "    \n",
    "    for word in words:\n",
    "        word_list = list(word)\n",
    "        word_list.sort()\n",
    "        word_sorted = ''.join(word_list)\n",
    "        if word_sorted in groups:\n",
    "            groups[word_sorted].append(word)\n",
    "        else:\n",
    "            groups[word_sorted] = [word]\n",
    "\n",
    "    return list(groups.values())"
   ]
  },
  {
   "cell_type": "markdown",
   "metadata": {},
   "source": [
    "### Testing"
   ]
  },
  {
   "cell_type": "code",
   "execution_count": 2,
   "metadata": {},
   "outputs": [],
   "source": [
    "assert(group_anagrams([]) == [])\n",
    "assert(group_anagrams(['a']) == [['a']])\n",
    "assert(group_anagrams(['fed', 'cba', 'edf', 'bca', 'ghi']) == [['fed', 'edf'], ['cba', 'bca'], ['ghi']])"
   ]
  }
 ],
 "metadata": {
  "kernelspec": {
   "display_name": "Python 3",
   "language": "python",
   "name": "python3"
  },
  "language_info": {
   "codemirror_mode": {
    "name": "ipython",
    "version": 3
   },
   "file_extension": ".py",
   "mimetype": "text/x-python",
   "name": "python",
   "nbconvert_exporter": "python",
   "pygments_lexer": "ipython3",
   "version": "3.7.6"
  }
 },
 "nbformat": 4,
 "nbformat_minor": 4
}
