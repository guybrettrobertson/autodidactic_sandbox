{
 "cells": [
  {
   "cell_type": "markdown",
   "metadata": {},
   "source": [
    "# Insert sort\n",
    "\n",
    "## Solution"
   ]
  },
  {
   "cell_type": "code",
   "execution_count": 23,
   "metadata": {},
   "outputs": [],
   "source": [
    "def insertionSort(array):\n",
    "    '''Sort array using the insertion sort method.'''\n",
    "    \n",
    "    if len(array) <= 1:\n",
    "        return array\n",
    "    \n",
    "    for i in range(1, len(array)):\n",
    "        j = i\n",
    "        while j >= 1 and array[j] < array[j - 1]:\n",
    "            temp = array[j]\n",
    "            array[j] = array[j - 1]\n",
    "            array[j - 1] = temp\n",
    "            j -= 1\n",
    "    \n",
    "    return array"
   ]
  },
  {
   "cell_type": "markdown",
   "metadata": {},
   "source": [
    "### Testing"
   ]
  },
  {
   "cell_type": "code",
   "execution_count": 27,
   "metadata": {},
   "outputs": [],
   "source": [
    "assert(insertionSort([]) == [])\n",
    "assert(insertionSort([1]) == [1])\n",
    "assert(insertionSort([5, 4, 3, 2, 1]) == [1, 2, 3, 4, 5])\n",
    "assert(insertionSort([5, 2, 3, 1, 4]) == [1, 2, 3, 4, 5])"
   ]
  }
 ],
 "metadata": {
  "kernelspec": {
   "display_name": "Python 3",
   "language": "python",
   "name": "python3"
  },
  "language_info": {
   "codemirror_mode": {
    "name": "ipython",
    "version": 3
   },
   "file_extension": ".py",
   "mimetype": "text/x-python",
   "name": "python",
   "nbconvert_exporter": "python",
   "pygments_lexer": "ipython3",
   "version": "3.7.6"
  }
 },
 "nbformat": 4,
 "nbformat_minor": 4
}
