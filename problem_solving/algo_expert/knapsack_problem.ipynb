{
 "cells": [
  {
   "cell_type": "markdown",
   "metadata": {},
   "source": [
    "# Knapsack problem\n",
    "\n",
    "You're given an array of arrays where each subarray holds two integer values and represents an item; the first integer is the item's value and the second integer is the item's weight. You're also given an integer representing the maximum capacity of a knapsack that you have.\n",
    "\n",
    "Your goal is to fit items in your knapsack without having the sum of their weights exceed the knapsack's capacity, all the while maximizing their combined value. Note that you only have one of each item at your disposal.\n",
    "\n",
    "Write a function that returns the maximised combined value of the items that you should pick as well as an array of the indices of each item picked.\n",
    "\n",
    "If there are multiple combinations of items that maximise the total value in the knapsack, your function can return any of them.\n",
    "\n",
    "## Solution"
   ]
  },
  {
   "cell_type": "code",
   "execution_count": 1,
   "metadata": {},
   "outputs": [],
   "source": [
    "def knapsack_problem(items, capacity):\n",
    "    '''Find the maximised combined value of the items that fit with the bag.'''\n",
    "    \n",
    "    max_values = [[0 for _ in range(capacity + 1)] for _ in range(len(items) + 1)]\n",
    "    \n",
    "    for i in range(1, len(items) + 1):\n",
    "        value = items[i - 1][0]\n",
    "        weight = items[i - 1][1]\n",
    "        for j in range(capacity + 1):\n",
    "            if weight > j:\n",
    "                max_values[i][j] = max_values[i - 1][j]\n",
    "            else:\n",
    "                # The max value is the max of two alternatives:\n",
    "                # either you don't add the additional item\n",
    "                # or you do add the item but you have to subtract the available capacity from the prior set of items\n",
    "                max_values[i][j] = max(max_values[i - 1][j], max_values[i - 1][j - weight] + value)\n",
    "    \n",
    "    output_items = []\n",
    "    \n",
    "    row = len(items)\n",
    "    col = capacity\n",
    "    while row > 0 and col > 0:\n",
    "        if max_values[row][col] != max_values[row - 1][col]:\n",
    "            output_items.append(row - 1)\n",
    "            row -= 1\n",
    "            col -= items[row][1]\n",
    "        else:\n",
    "            row -= 1\n",
    "    \n",
    "    return [max_values[-1][-1], output_items]"
   ]
  },
  {
   "cell_type": "markdown",
   "metadata": {},
   "source": [
    "### Testing"
   ]
  },
  {
   "cell_type": "code",
   "execution_count": 2,
   "metadata": {},
   "outputs": [],
   "source": [
    "items = [[1, 2], [4, 3], [5, 6], [6, 7]]\n",
    "capacity = 10\n",
    "actual = knapsack_problem(items, capacity)\n",
    "assert(actual[0] == 10)\n",
    "assert(1 in actual[1])\n",
    "assert(3 in actual[1])\n",
    "assert(len(actual[1]) == 2)"
   ]
  }
 ],
 "metadata": {
  "kernelspec": {
   "display_name": "Python 3",
   "language": "python",
   "name": "python3"
  },
  "language_info": {
   "codemirror_mode": {
    "name": "ipython",
    "version": 3
   },
   "file_extension": ".py",
   "mimetype": "text/x-python",
   "name": "python",
   "nbconvert_exporter": "python",
   "pygments_lexer": "ipython3",
   "version": "3.7.6"
  }
 },
 "nbformat": 4,
 "nbformat_minor": 4
}
