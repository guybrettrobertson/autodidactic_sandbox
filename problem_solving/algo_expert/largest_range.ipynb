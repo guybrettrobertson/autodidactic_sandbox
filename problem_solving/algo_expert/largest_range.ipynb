{
 "cells": [
  {
   "cell_type": "markdown",
   "metadata": {},
   "source": [
    "# Largest range\n",
    "\n",
    "Write a function that takes in an array of integers and returns an array of length 2 representing the largest range of integers contained in that array.\n",
    "\n",
    "The first number in the ouput array should be the first number in the range, while the second number should be the last number in the range.\n",
    "\n",
    "A range of numbers is defined as a set of numbers that come right after each other in the set of real integers. For instance, the output array [2, 6] represents the range {2, 3, 4, 5, 6}, which is a range of length 5. Noe that numbers don't need to be sorted or adjacent in the input array in order to firm a range.\n",
    "\n",
    "You can assume that there will only be one largest range.\n",
    "\n",
    "## Solution\n",
    "\n",
    "Sort the array and then iterate through it, keeping track of the longest range encountered."
   ]
  },
  {
   "cell_type": "code",
   "execution_count": 1,
   "metadata": {},
   "outputs": [],
   "source": [
    "def largest_range(array):\n",
    "    '''Find the largest range of the array.'''\n",
    "    \n",
    "    array.sort()\n",
    "    len_largest_range = 0\n",
    "    len_range = 1\n",
    "    first_number_temp = array[0]\n",
    "    first_number = first_number_temp\n",
    "    last_number = first_number_temp\n",
    "    \n",
    "    for i in range(1, len(array)):\n",
    "        if array[i] - array[i - 1] <= 1:\n",
    "            len_range = array[i] - first_number_temp\n",
    "            if len_range > len_largest_range:\n",
    "                len_largest_range = len_range\n",
    "                first_number = first_number_temp\n",
    "                last_number = array[i]\n",
    "        else:\n",
    "            len_range = 1\n",
    "            first_number_temp = array[i]\n",
    "    \n",
    "    return [first_number, last_number]"
   ]
  },
  {
   "cell_type": "code",
   "execution_count": null,
   "metadata": {},
   "outputs": [],
   "source": []
  }
 ],
 "metadata": {
  "kernelspec": {
   "display_name": "Python 3",
   "language": "python",
   "name": "python3"
  },
  "language_info": {
   "codemirror_mode": {
    "name": "ipython",
    "version": 3
   },
   "file_extension": ".py",
   "mimetype": "text/x-python",
   "name": "python",
   "nbconvert_exporter": "python",
   "pygments_lexer": "ipython3",
   "version": "3.7.6"
  }
 },
 "nbformat": 4,
 "nbformat_minor": 4
}
