{
 "cells": [
  {
   "cell_type": "markdown",
   "metadata": {},
   "source": [
    "# Largest range\n",
    "\n",
    "Write a function that takes in an array of integers and returns an array of length 2 representing the largest range of integers contained in that array.\n",
    "\n",
    "The first number in the ouput array should be the first number in the range, while the second number should be the last number in the range.\n",
    "\n",
    "A range of numbers is defined as a set of numbers that come right after each other in the set of real integers. For instance, the output array [2, 6] represents the range {2, 3, 4, 5, 6}, which is a range of length 5. Noe that numbers don't need to be sorted or adjacent in the input array in order to firm a range.\n",
    "\n",
    "You can assume that there will only be one largest range.\n",
    "\n",
    "## Solution\n",
    "\n",
    "Sort the array and then iterate through it, keeping track of the longest range encountered."
   ]
  },
  {
   "cell_type": "code",
   "execution_count": 1,
   "metadata": {},
   "outputs": [],
   "source": [
    "def largest_range(array):\n",
    "    '''Find the largest range of the array.'''\n",
    "    \n",
    "    array.sort()\n",
    "    len_largest_range = 0\n",
    "    len_range = 1\n",
    "    first_number_temp = array[0]\n",
    "    first_number = first_number_temp\n",
    "    last_number = first_number_temp\n",
    "    \n",
    "    for i in range(1, len(array)):\n",
    "        if array[i] - array[i - 1] <= 1:\n",
    "            len_range = array[i] - first_number_temp\n",
    "            if len_range > len_largest_range:\n",
    "                len_largest_range = len_range\n",
    "                first_number = first_number_temp\n",
    "                last_number = array[i]\n",
    "        else:\n",
    "            len_range = 1\n",
    "            first_number_temp = array[i]\n",
    "    \n",
    "    return [first_number, last_number]"
   ]
  },
  {
   "cell_type": "markdown",
   "metadata": {},
   "source": [
    "### Testing"
   ]
  },
  {
   "cell_type": "code",
   "execution_count": 2,
   "metadata": {},
   "outputs": [],
   "source": [
    "assert(largest_range([1]) == [1, 1])\n",
    "assert(largest_range([1, 1, 1, 3, 4]) == [3, 4])\n",
    "assert(largest_range([19, -1, 18, 17, 2, 10, 3, 12, 5, 16, 4, 11, 8, 7, 6, 15, 12, 12, 2, 1, 6, 13, 14]) == [10, 19])\n",
    "assert(largest_range([1, 11, 3, 0, 15, 5, 2, 4, 10, 7, 12, 6]) == [0, 7])"
   ]
  },
  {
   "cell_type": "markdown",
   "metadata": {},
   "source": [
    "## Solution\n",
    "\n",
    "Make a hash table out of the elements of the array. Iterate through the array and expand outwards from each value, checking whether the expanded values are found in the has table. When you reach the edge of the array, compare the length of the range to the largest range encountered so far.\n",
    "\n",
    "As an optimisation, change the hash table value for each number to True if it has been encountered already. This prevents you have to go through any ranges that have already been found."
   ]
  },
  {
   "cell_type": "code",
   "execution_count": 3,
   "metadata": {},
   "outputs": [],
   "source": [
    "def largest_range(array):\n",
    "    '''Find the largest range of the array.'''\n",
    "    \n",
    "    array_hash = {}\n",
    "    for num in array:\n",
    "        array_hash[num] = False\n",
    "            \n",
    "    len_largest_range = 0\n",
    "    output = [array[0], array[0]]\n",
    "    for num in array:\n",
    "        if array_hash[num] == False:\n",
    "            lower_bound = num\n",
    "            upper_bound = num\n",
    "            array_hash[num] = True\n",
    "            while (lower_bound - 1) in array_hash:\n",
    "                array_hash[lower_bound] = True\n",
    "                lower_bound -= 1\n",
    "            while (upper_bound + 1) in array_hash:\n",
    "                array_hash[upper_bound] = True\n",
    "                upper_bound += 1\n",
    "            if (upper_bound - lower_bound) > len_largest_range:\n",
    "                len_largest_range = (upper_bound - lower_bound)\n",
    "                output = [lower_bound, upper_bound]\n",
    "    \n",
    "    return output"
   ]
  },
  {
   "cell_type": "markdown",
   "metadata": {},
   "source": [
    "### Testing"
   ]
  },
  {
   "cell_type": "code",
   "execution_count": 4,
   "metadata": {},
   "outputs": [],
   "source": [
    "assert(largest_range([1]) == [1, 1])\n",
    "assert(largest_range([1, 1, 1, 3, 4]) == [3, 4])\n",
    "assert(largest_range([19, -1, 18, 17, 2, 10, 3, 12, 5, 16, 4, 11, 8, 7, 6, 15, 12, 12, 2, 1, 6, 13, 14]) == [10, 19])\n",
    "assert(largest_range([1, 11, 3, 0, 15, 5, 2, 4, 10, 7, 12, 6]) == [0, 7])"
   ]
  }
 ],
 "metadata": {
  "kernelspec": {
   "display_name": "Python 3",
   "language": "python",
   "name": "python3"
  },
  "language_info": {
   "codemirror_mode": {
    "name": "ipython",
    "version": 3
   },
   "file_extension": ".py",
   "mimetype": "text/x-python",
   "name": "python",
   "nbconvert_exporter": "python",
   "pygments_lexer": "ipython3",
   "version": "3.8.8"
  }
 },
 "nbformat": 4,
 "nbformat_minor": 4
}
