{
 "cells": [
  {
   "cell_type": "markdown",
   "metadata": {},
   "source": [
    "# Levenshtein distance\n",
    "\n",
    "Calculate the Levenshtein distance between two strings. This is the minimum number of edit operations needed to be performed on the first string to obtain the second string. The edit operations include insertion, deletion, and substitution of a character for another.\n",
    "\n",
    "## Solution"
   ]
  },
  {
   "cell_type": "code",
   "execution_count": 1,
   "metadata": {},
   "outputs": [],
   "source": [
    "def levenshtein_distance(string_1, string_2):\n",
    "    '''Calculate the Levenshtein distance between the two strings.'''\n",
    "    \n",
    "    string_1 = [''] + list(string_1)\n",
    "    string_2 = [''] + list(string_2)\n",
    "    n1 = len(string_1)\n",
    "    n2 = len(string_2)\n",
    "    \n",
    "    results = [[0 for i in range(n2)] for j in range(n1)]\n",
    "    results[0][:] = list(range(n2))\n",
    "        \n",
    "    for i in range(1, n1):\n",
    "        results[i][0] = i\n",
    "        for j in range(1, n2):\n",
    "            if string_1[i] == string_2[j]:\n",
    "                results[i][j] = results[i - 1][j - 1]\n",
    "            else:\n",
    "                results[i][j] = min(results[i - 1][j - 1],\n",
    "                                    results[i - 1][j],\n",
    "                                    results[i][j - 1]) + 1\n",
    "    \n",
    "    return results[-1][-1]"
   ]
  },
  {
   "cell_type": "markdown",
   "metadata": {},
   "source": [
    "### Testing"
   ]
  },
  {
   "cell_type": "code",
   "execution_count": 2,
   "metadata": {},
   "outputs": [],
   "source": [
    "assert(levenshtein_distance('a', 'a') == 0)\n",
    "assert(levenshtein_distance('ab', 'a') == 1)\n",
    "assert(levenshtein_distance('ab', 'xy') == 2)\n",
    "assert(levenshtein_distance('abc', 'yabd') == 2)"
   ]
  }
 ],
 "metadata": {
  "kernelspec": {
   "display_name": "Python 3",
   "language": "python",
   "name": "python3"
  },
  "language_info": {
   "codemirror_mode": {
    "name": "ipython",
    "version": 3
   },
   "file_extension": ".py",
   "mimetype": "text/x-python",
   "name": "python",
   "nbconvert_exporter": "python",
   "pygments_lexer": "ipython3",
   "version": "3.7.6"
  }
 },
 "nbformat": 4,
 "nbformat_minor": 4
}
