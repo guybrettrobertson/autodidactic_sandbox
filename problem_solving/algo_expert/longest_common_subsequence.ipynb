{
 "cells": [
  {
   "cell_type": "markdown",
   "metadata": {},
   "source": [
    "# Longest common subsequence\n",
    "\n",
    "## Solution"
   ]
  },
  {
   "cell_type": "code",
   "execution_count": 3,
   "metadata": {},
   "outputs": [],
   "source": [
    "def longest_common_subsequence(str1, str2):\n",
    "    '''Find the longest common subsequence of the two strings.'''\n",
    "               \n",
    "    lcs = [[[] for i in range(len(str1) + 1)] for j in range(len(str2) + 1)]\n",
    "               \n",
    "    for i in range(1, len(str2) + 1):\n",
    "        for j in range(1, len(str1) + 1):\n",
    "            if str2[i - 1] == str1[j - 1]:\n",
    "                lcs[i][j] = lcs[i - 1][j - 1] + [str2[i - 1]]\n",
    "            else:\n",
    "                lcs[i][j] = max(lcs[i][j - 1], lcs[i - 1][j], key=len)\n",
    "               \n",
    "    return list(lcs[-1][-1])"
   ]
  },
  {
   "cell_type": "markdown",
   "metadata": {},
   "source": [
    "### Testing"
   ]
  },
  {
   "cell_type": "code",
   "execution_count": 8,
   "metadata": {},
   "outputs": [],
   "source": [
    "assert(longest_common_subsequence('a', 'a') == ['a'])\n",
    "assert(longest_common_subsequence('ab', 'a') == ['a'])\n",
    "assert(longest_common_subsequence('ad', 'ab') == ['a'])\n",
    "assert(longest_common_subsequence('abd', 'acd') == ['a','d'])\n",
    "assert(longest_common_subsequence('lqkwjehrgtfy', 'mqnwbevrctxy') == ['q', 'w', 'e', 'r', 't', 'y'])"
   ]
  }
 ],
 "metadata": {
  "kernelspec": {
   "display_name": "Python 3",
   "language": "python",
   "name": "python3"
  },
  "language_info": {
   "codemirror_mode": {
    "name": "ipython",
    "version": 3
   },
   "file_extension": ".py",
   "mimetype": "text/x-python",
   "name": "python",
   "nbconvert_exporter": "python",
   "pygments_lexer": "ipython3",
   "version": "3.7.6"
  }
 },
 "nbformat": 4,
 "nbformat_minor": 4
}
