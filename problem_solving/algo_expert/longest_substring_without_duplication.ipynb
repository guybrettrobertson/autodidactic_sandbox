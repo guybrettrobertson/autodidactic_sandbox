{
 "cells": [
  {
   "cell_type": "markdown",
   "metadata": {},
   "source": [
    "# Longest substring without duplication\n",
    "\n",
    "Write a function that takes in a string and returns its longest substring without duplicate characters.\n",
    "\n",
    "You can assume that there will only be one solution.\n",
    "\n",
    "## Solution"
   ]
  },
  {
   "cell_type": "code",
   "execution_count": 38,
   "metadata": {},
   "outputs": [],
   "source": [
    "def longest_substring(string):\n",
    "    '''Find the longest substring without duplicate characters.'''\n",
    "    \n",
    "    last_seen = {}\n",
    "    start_idx = 0\n",
    "    longest_substring_idx = [0, 1]\n",
    "    \n",
    "    for i, char in enumerate(string):\n",
    "        if char in last_seen:\n",
    "            start_idx = max(start_idx, last_seen[char] + 1)\n",
    "        last_seen[char] = i\n",
    "        if i - start_idx + 1 > longest_substring_idx[1] - longest_substring_idx[0]:\n",
    "            longest_substring_idx = [start_idx, i + 1]\n",
    "    \n",
    "    return string[longest_substring_idx[0]:longest_substring_idx[1]]"
   ]
  },
  {
   "cell_type": "code",
   "execution_count": 39,
   "metadata": {},
   "outputs": [
    {
     "data": {
      "text/plain": [
       "'mentisac'"
      ]
     },
     "execution_count": 39,
     "metadata": {},
     "output_type": "execute_result"
    }
   ],
   "source": [
    "longest_substring('clementisacap')"
   ]
  },
  {
   "cell_type": "code",
   "execution_count": null,
   "metadata": {},
   "outputs": [],
   "source": []
  }
 ],
 "metadata": {
  "kernelspec": {
   "display_name": "Python 3",
   "language": "python",
   "name": "python3"
  },
  "language_info": {
   "codemirror_mode": {
    "name": "ipython",
    "version": 3
   },
   "file_extension": ".py",
   "mimetype": "text/x-python",
   "name": "python",
   "nbconvert_exporter": "python",
   "pygments_lexer": "ipython3",
   "version": "3.7.6"
  }
 },
 "nbformat": 4,
 "nbformat_minor": 4
}
