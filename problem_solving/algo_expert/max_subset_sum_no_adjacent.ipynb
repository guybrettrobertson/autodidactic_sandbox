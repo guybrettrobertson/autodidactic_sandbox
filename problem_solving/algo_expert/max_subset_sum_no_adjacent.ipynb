{
 "cells": [
  {
   "cell_type": "markdown",
   "metadata": {},
   "source": [
    "# Maximum subset sum no adjacent\n",
    "\n",
    "Take an array and return the maximum sum of non-adjacent elements in the array.\n",
    "\n",
    "If the input array is empty, return 0.\n",
    "\n",
    "## Solution"
   ]
  },
  {
   "cell_type": "code",
   "execution_count": 1,
   "metadata": {},
   "outputs": [],
   "source": [
    "def max_subset_sum_no_adjacent(array):\n",
    "    '''Find the maximum sum of non-adjacent elements.'''\n",
    "    \n",
    "    n = len(array)\n",
    "    \n",
    "    if n == 0:\n",
    "        return 0\n",
    "    elif 0 < n < 3:\n",
    "        return max(array)\n",
    "    else:\n",
    "        return max(max_subset_sum_no_adjacent(array[:-1]), max_subset_sum_no_adjacent(array[:-2]) + array[-1])"
   ]
  },
  {
   "cell_type": "markdown",
   "metadata": {},
   "source": [
    "### Testing"
   ]
  },
  {
   "cell_type": "code",
   "execution_count": 2,
   "metadata": {},
   "outputs": [],
   "source": [
    "assert(max_subset_sum_no_adjacent([]) == 0)\n",
    "assert(max_subset_sum_no_adjacent([1]) == 1)\n",
    "assert(max_subset_sum_no_adjacent([1, 2]) == 2)\n",
    "assert(max_subset_sum_no_adjacent([2, 3, 2]) == 4)\n",
    "assert(max_subset_sum_no_adjacent([75, 105, 120, 75, 90, 135]) == 330)"
   ]
  }
 ],
 "metadata": {
  "kernelspec": {
   "display_name": "Python 3",
   "language": "python",
   "name": "python3"
  },
  "language_info": {
   "codemirror_mode": {
    "name": "ipython",
    "version": 3
   },
   "file_extension": ".py",
   "mimetype": "text/x-python",
   "name": "python",
   "nbconvert_exporter": "python",
   "pygments_lexer": "ipython3",
   "version": "3.7.6"
  }
 },
 "nbformat": 4,
 "nbformat_minor": 4
}
