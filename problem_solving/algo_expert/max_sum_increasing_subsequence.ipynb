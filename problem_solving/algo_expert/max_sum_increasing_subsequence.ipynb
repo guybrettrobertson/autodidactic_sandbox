{
 "cells": [
  {
   "cell_type": "markdown",
   "metadata": {},
   "source": [
    "# Max sum increasing subsequence\n",
    "\n",
    "Write a function that takes in a non-empty array of integers and returns the greatest sum that can be generated from a strictly increasing subsequence in the array, as well as an array of the numbers in that sequence.\n",
    "\n",
    "## Solution"
   ]
  },
  {
   "cell_type": "code",
   "execution_count": 19,
   "metadata": {},
   "outputs": [],
   "source": [
    "def max_sum_increasing_subsequence(array):\n",
    "    '''Find the maximum sum of an increasing subsequence of the array.'''\n",
    "    \n",
    "    sums = array.copy()\n",
    "    arrays = [[num] for num in array]\n",
    "    max_sum = array[0]\n",
    "    max_sum_array = []\n",
    "    for i in range(1, len(array)):\n",
    "        for j in range(i):\n",
    "            if array[i] > array[j]:\n",
    "                sums[i] = sums[j] + array[i]\n",
    "                arrays[i] = arrays[j] + [array[i]]\n",
    "        \n",
    "        if sums[i] > max_sum:\n",
    "            max_sum = sums[i]\n",
    "            max_sum_array = arrays[i]\n",
    "                \n",
    "    \n",
    "    print(sums)\n",
    "    print(arrays)"
   ]
  },
  {
   "cell_type": "code",
   "execution_count": 21,
   "metadata": {},
   "outputs": [
    {
     "name": "stdout",
     "output_type": "stream",
     "text": [
      "[-1, 0]\n",
      "[[-1], [-1, 1]]\n"
     ]
    }
   ],
   "source": [
    "array = [-1, 1]\n",
    "max_sum_increasing_subsequence(array)"
   ]
  },
  {
   "cell_type": "code",
   "execution_count": 20,
   "metadata": {},
   "outputs": [
    {
     "name": "stdout",
     "output_type": "stream",
     "text": [
      "[10, 80, 30, 60, 110, 21, 51]\n",
      "[[10], [10, 70], [10, 20], [10, 20, 30], [10, 20, 30, 50], [10, 11], [10, 11, 30]]\n"
     ]
    }
   ],
   "source": [
    "array = [10, 70, 20, 30, 50, 11, 30]\n",
    "max_sum_increasing_subsequence(array)"
   ]
  },
  {
   "cell_type": "code",
   "execution_count": 8,
   "metadata": {},
   "outputs": [
    {
     "data": {
      "text/plain": [
       "[None, 1]"
      ]
     },
     "execution_count": 8,
     "metadata": {},
     "output_type": "execute_result"
    }
   ],
   "source": [
    "[None] + [1]"
   ]
  },
  {
   "cell_type": "code",
   "execution_count": null,
   "metadata": {},
   "outputs": [],
   "source": []
  }
 ],
 "metadata": {
  "kernelspec": {
   "display_name": "Python 3",
   "language": "python",
   "name": "python3"
  },
  "language_info": {
   "codemirror_mode": {
    "name": "ipython",
    "version": 3
   },
   "file_extension": ".py",
   "mimetype": "text/x-python",
   "name": "python",
   "nbconvert_exporter": "python",
   "pygments_lexer": "ipython3",
   "version": "3.7.6"
  }
 },
 "nbformat": 4,
 "nbformat_minor": 4
}
