{
 "cells": [
  {
   "cell_type": "markdown",
   "metadata": {},
   "source": [
    "# Minimum number of coins\n",
    "\n",
    "## Solution"
   ]
  },
  {
   "cell_type": "code",
   "execution_count": 1,
   "metadata": {},
   "outputs": [],
   "source": [
    "def min_num_coins(n, denoms):\n",
    "    '''Find the minimum number of coins of denoms that add to n.'''\n",
    "    \n",
    "    # We are going to build up an array of results \n",
    "    num_of_coins = [float('inf') for amount in range(n + 1)]\n",
    "    num_of_coins[0] = 0\n",
    "    \n",
    "    # Iterate through each denomination\n",
    "    for denom in denoms:\n",
    "        # Iterate through each amount up to n\n",
    "        for amount in range(len(num_of_coins)):\n",
    "            # Check if the denom can be subtracted from the amount\n",
    "            if denom <= amount:\n",
    "                num_of_coins[amount] = min(num_of_coins[amount], num_of_coins[amount - denom] + 1)\n",
    "    \n",
    "    if num_of_coins[n] == float('inf'):\n",
    "        # This is the instance where no combination of coins can add to n.\n",
    "        return -1\n",
    "    else:\n",
    "        return num_of_coins[-1]"
   ]
  },
  {
   "cell_type": "markdown",
   "metadata": {},
   "source": [
    "### Testing"
   ]
  },
  {
   "cell_type": "code",
   "execution_count": 2,
   "metadata": {},
   "outputs": [],
   "source": [
    "assert(min_num_coins(0, [0]) == 0)\n",
    "assert(min_num_coins(1, [1]) == 1)\n",
    "assert(min_num_coins(7, [1, 5, 10]) == 3)\n",
    "assert(min_num_coins(7, [100]) == -1)"
   ]
  }
 ],
 "metadata": {
  "kernelspec": {
   "display_name": "Python 3",
   "language": "python",
   "name": "python3"
  },
  "language_info": {
   "codemirror_mode": {
    "name": "ipython",
    "version": 3
   },
   "file_extension": ".py",
   "mimetype": "text/x-python",
   "name": "python",
   "nbconvert_exporter": "python",
   "pygments_lexer": "ipython3",
   "version": "3.7.6"
  }
 },
 "nbformat": 4,
 "nbformat_minor": 4
}
