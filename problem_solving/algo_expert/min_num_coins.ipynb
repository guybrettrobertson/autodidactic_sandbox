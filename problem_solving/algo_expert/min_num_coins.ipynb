{
 "cells": [
  {
   "cell_type": "markdown",
   "metadata": {},
   "source": [
    "# Minimum number of coins\n",
    "\n",
    "## Solution"
   ]
  },
  {
   "cell_type": "code",
   "execution_count": 32,
   "metadata": {},
   "outputs": [],
   "source": [
    "def min_num_coins(n, denoms):\n",
    "    '''Find the minimum number of coins of denoms that add to n.'''\n",
    "    \n",
    "    # We are going to build up an array of results \n",
    "    num_of_coins = [float('inf') for amount in range(n + 1)]\n",
    "    num_of_coins[0] = 0\n",
    "    \n",
    "    # Iterate through each denomination\n",
    "    for denom in denoms:\n",
    "        # Iterate through each amount up to n\n",
    "        for amount in range(len(num_of_coins)):\n",
    "            # Check if the denom can be subtracted from the amount\n",
    "            if denom <= amount:\n",
    "                num_of_coins[amount] = min(num_of_coins[amount], num_of_coins[amount - denom] + 1)\n",
    "    \n",
    "    if num_of_coins[n] == float('inf'):\n",
    "        # This is the instance where no combination of coins can add to n.\n",
    "        return -1\n",
    "    else:\n",
    "        return num_of_coins[-1]"
   ]
  },
  {
   "cell_type": "code",
   "execution_count": 33,
   "metadata": {},
   "outputs": [
    {
     "name": "stdout",
     "output_type": "stream",
     "text": [
      "3\n"
     ]
    }
   ],
   "source": [
    "print(min_num_coins(7, [1, 5, 10]))"
   ]
  },
  {
   "cell_type": "code",
   "execution_count": 5,
   "metadata": {},
   "outputs": [
    {
     "name": "stdout",
     "output_type": "stream",
     "text": [
      "1\n",
      "2\n",
      "3\n"
     ]
    }
   ],
   "source": [
    "[1, 5, 10], \"n\": 7}"
   ]
  },
  {
   "cell_type": "code",
   "execution_count": 15,
   "metadata": {},
   "outputs": [
    {
     "data": {
      "text/plain": [
       "3"
      ]
     },
     "execution_count": 15,
     "metadata": {},
     "output_type": "execute_result"
    }
   ],
   "source": [
    "10 // 3"
   ]
  },
  {
   "cell_type": "code",
   "execution_count": 12,
   "metadata": {},
   "outputs": [
    {
     "data": {
      "text/plain": [
       "1"
      ]
     },
     "execution_count": 12,
     "metadata": {},
     "output_type": "execute_result"
    }
   ],
   "source": [
    "10 % 3"
   ]
  },
  {
   "cell_type": "code",
   "execution_count": null,
   "metadata": {},
   "outputs": [],
   "source": [
    "10"
   ]
  }
 ],
 "metadata": {
  "kernelspec": {
   "display_name": "Python 3",
   "language": "python",
   "name": "python3"
  },
  "language_info": {
   "codemirror_mode": {
    "name": "ipython",
    "version": 3
   },
   "file_extension": ".py",
   "mimetype": "text/x-python",
   "name": "python",
   "nbconvert_exporter": "python",
   "pygments_lexer": "ipython3",
   "version": "3.7.6"
  }
 },
 "nbformat": 4,
 "nbformat_minor": 4
}
