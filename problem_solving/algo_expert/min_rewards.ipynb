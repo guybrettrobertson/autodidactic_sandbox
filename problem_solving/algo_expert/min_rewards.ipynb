{
 "cells": [
  {
   "cell_type": "markdown",
   "metadata": {},
   "source": [
    "# Min rewards\n",
    "\n",
    "Imagine that you're a teacher who's just graded the final exam in a class. You have a list of student scores on the final exam in a particular order (not necessarily sorted), and you want to reward your students. You decide to do so fairly by giving them arbitrary rewards following two rules.\n",
    "\n",
    "1. All students must recieve at least one reward.\n",
    "2. Any given student must receive strictly more rewards than an adjacent student (a student immediately to the left or to the right) with a lower score and must receive strictly fewer rewards than an adjacent student with a higher score.\n",
    "\n",
    "Write a function that takes in a list of scores and returns the minimum number of rewards that you must give out to students to satisfy the two rules.\n",
    "\n",
    "You can assume that all students have different scores; in other words, the scores are all unique.\n",
    "\n",
    "## Solution"
   ]
  },
  {
   "cell_type": "code",
   "execution_count": 2,
   "metadata": {},
   "outputs": [],
   "source": [
    "def min_rewards(scores):\n",
    "    '''\n",
    "    Find the minimum number of rewards that you must \n",
    "    give out to students to satisfy the two rules.\n",
    "    '''\n",
    "    print(scores)\n",
    "    n = len(scores)\n",
    "    if n == 1: return 1\n",
    "    rewards = [0] * n\n",
    "    \n",
    "    for i in range(1, n):\n",
    "        if scores[i] < scores[i - 1]:\n",
    "            rewards[i] = rewards[i - 1] - 1\n",
    "        else:\n",
    "            rewards[i] = rewards[i - 1] + 1\n",
    "    \n",
    "    min_reward = min(rewards)\n",
    "    print(rewards)\n",
    "    rewards = [reward - min_reward + 1 for reward in rewards]\n",
    "    \n",
    "    if scores[0] < scores[1]:\n",
    "        rewards[0] = 1\n",
    "    \n",
    "    if scores[-1] < scores[-2]:\n",
    "        rewards[-1] = 1\n",
    "        \n",
    "    for i in range(1, n - 1):\n",
    "        if rewards[i] < rewards[i - 1] and rewards[i] < rewards[i + 1]:\n",
    "            rewards[i] = 1\n",
    "    \n",
    "    previous_one = -1\n",
    "    \n",
    "    print(rewards)\n",
    "    for i in range(n):\n",
    "        if rewards[i] == 1:\n",
    "            if i == previous_one + 1:\n",
    "                break\n",
    "            elif i == previous_one + 2:\n",
    "                #rewards[i - 1] = 2\n",
    "                pass\n",
    "            min_reward = min(rewards[previous_one + 1:i])\n",
    "            rewards[previous_one + 1:i] = \\\n",
    "                [num  - min_reward + 2 for num in rewards[previous_one + 1:i]]\n",
    "            previous_one = i\n",
    "    print(rewards)\n",
    "    \n",
    "    for i in range(2, n):\n",
    "        if rewards[i - 2] == 1 < rewards[i - 1] < rewards[i]:\n",
    "            rewards[i - 1] = 2\n",
    "        if rewards[i - 2] > rewards[i - 1] > rewards[i] == 1:\n",
    "            rewards[i - 1] = 2\n",
    "    print(rewards)\n",
    "        \n",
    "    return rewards"
   ]
  },
  {
   "cell_type": "code",
   "execution_count": null,
   "metadata": {},
   "outputs": [],
   "source": []
  }
 ],
 "metadata": {
  "kernelspec": {
   "display_name": "Python 3",
   "language": "python",
   "name": "python3"
  },
  "language_info": {
   "codemirror_mode": {
    "name": "ipython",
    "version": 3
   },
   "file_extension": ".py",
   "mimetype": "text/x-python",
   "name": "python",
   "nbconvert_exporter": "python",
   "pygments_lexer": "ipython3",
   "version": "3.7.6"
  }
 },
 "nbformat": 4,
 "nbformat_minor": 4
}
