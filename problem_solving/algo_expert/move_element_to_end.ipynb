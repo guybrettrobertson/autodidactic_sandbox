{
 "cells": [
  {
   "cell_type": "markdown",
   "metadata": {},
   "source": [
    "# Move element to end\n",
    "\n",
    "## Solution"
   ]
  },
  {
   "cell_type": "code",
   "execution_count": 1,
   "metadata": {},
   "outputs": [],
   "source": [
    "def move_element_to_end(array, to_move):\n",
    "    '''Move all instances of to_move to the end of array in place.'''\n",
    "    \n",
    "    n = len(array)\n",
    "    if n == 0:\n",
    "        return array\n",
    "    left = 0\n",
    "    right = n - 1\n",
    "    \n",
    "    while True:\n",
    "        while array[left] != to_move:\n",
    "            left += 1\n",
    "            if left >= n:\n",
    "                return array\n",
    "            \n",
    "        while array[right] == to_move:\n",
    "            right -= 1\n",
    "            if right == -1:\n",
    "                return array\n",
    "            \n",
    "        if left >= right:\n",
    "            return array\n",
    "        \n",
    "        temp = array[left]\n",
    "        array[left] = array[right]\n",
    "        array[right] = temp"
   ]
  },
  {
   "cell_type": "markdown",
   "metadata": {},
   "source": [
    "### Testing"
   ]
  },
  {
   "cell_type": "code",
   "execution_count": 2,
   "metadata": {},
   "outputs": [],
   "source": [
    "array = []\n",
    "to_move = 0\n",
    "actual = move_element_to_end(array, to_move)\n",
    "expected = []\n",
    "assert(actual == expected)"
   ]
  },
  {
   "cell_type": "code",
   "execution_count": 3,
   "metadata": {},
   "outputs": [],
   "source": [
    "array = [2, 1, 2, 2, 2, 3, 4, 2]\n",
    "to_move = 2\n",
    "actual = move_element_to_end(array, to_move)\n",
    "expected = [4, 1, 3, 2, 2, 2, 2, 2]\n",
    "assert(actual == expected)"
   ]
  }
 ],
 "metadata": {
  "kernelspec": {
   "display_name": "Python 3",
   "language": "python",
   "name": "python3"
  },
  "language_info": {
   "codemirror_mode": {
    "name": "ipython",
    "version": 3
   },
   "file_extension": ".py",
   "mimetype": "text/x-python",
   "name": "python",
   "nbconvert_exporter": "python",
   "pygments_lexer": "ipython3",
   "version": "3.7.6"
  }
 },
 "nbformat": 4,
 "nbformat_minor": 4
}
