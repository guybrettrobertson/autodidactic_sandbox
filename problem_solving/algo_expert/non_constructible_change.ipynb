{
 "cells": [
  {
   "cell_type": "markdown",
   "metadata": {},
   "source": [
    "# Non-constructible change\n",
    "\n",
    "Given an array of positive integers representing the values of coins in your possession, write a function that returns the minimum amount of change (the minimum sum of money) that you cannot create. The given coins can have any positive integer value and aren't necessarily unique.\n",
    "\n",
    "For example, if you're given the coins [1, 2, 5], the minimum amount of change that you cannot create is 4. If you're given no coins, the minimum amount of coins you can't create is 1.\n",
    "\n",
    "## Solution\n",
    "\n",
    "Generate all of the combinations you can make. Then find the smallest value you cannot make."
   ]
  },
  {
   "cell_type": "code",
   "execution_count": 16,
   "metadata": {},
   "outputs": [],
   "source": [
    "def non_constructible_change(coins):\n",
    "    '''Find the smallest value you cannot make with the coins.'''\n",
    "    \n",
    "    coins.sort()\n",
    "    change = 0\n",
    "    \n",
    "    for coin in coins:\n",
    "        if coin > change + 1:\n",
    "            return change + 1\n",
    "        else:\n",
    "            change += coin\n",
    "    \n",
    "    return change + 1"
   ]
  },
  {
   "cell_type": "markdown",
   "metadata": {},
   "source": [
    "### Testing"
   ]
  },
  {
   "cell_type": "code",
   "execution_count": 20,
   "metadata": {},
   "outputs": [],
   "source": [
    "assert(non_constructible_change([5, 2, 1]) == 4)\n",
    "assert(non_constructible_change([1, 1, 1, 1, 1]) == 6)\n",
    "assert(non_constructible_change([5, 7, 1, 1, 2, 3, 22]) == 20)"
   ]
  }
 ],
 "metadata": {
  "kernelspec": {
   "display_name": "Python 3",
   "language": "python",
   "name": "python3"
  },
  "language_info": {
   "codemirror_mode": {
    "name": "ipython",
    "version": 3
   },
   "file_extension": ".py",
   "mimetype": "text/x-python",
   "name": "python",
   "nbconvert_exporter": "python",
   "pygments_lexer": "ipython3",
   "version": "3.7.6"
  }
 },
 "nbformat": 4,
 "nbformat_minor": 4
}
