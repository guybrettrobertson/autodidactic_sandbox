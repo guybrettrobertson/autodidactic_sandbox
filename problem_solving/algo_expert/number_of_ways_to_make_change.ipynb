{
 "cells": [
  {
   "cell_type": "markdown",
   "metadata": {},
   "source": [
    "# Number of ways to make change\n",
    "\n",
    "## Solution"
   ]
  },
  {
   "cell_type": "code",
   "execution_count": 1,
   "metadata": {},
   "outputs": [],
   "source": [
    "def number_of_ways_to_make_change(n, denoms):\n",
    "    ways = [0 for amount in range(n + 1)]\n",
    "    ways[0] = 1\n",
    "    \n",
    "    for denom in denoms:\n",
    "        for amount in range(1, n + 1):\n",
    "            if denom <= amount:\n",
    "                ways[amount] += ways[amount - denom]\n",
    "    \n",
    "    return ways[-1]"
   ]
  },
  {
   "cell_type": "markdown",
   "metadata": {},
   "source": [
    "### Testing"
   ]
  },
  {
   "cell_type": "code",
   "execution_count": 2,
   "metadata": {},
   "outputs": [],
   "source": [
    "assert(number_of_ways_to_make_change(0, [1, 5, 10]) == 1)\n",
    "assert(number_of_ways_to_make_change(1, [1, 5, 10]) == 1)\n",
    "assert(number_of_ways_to_make_change(2, [1, 5, 10]) == 1)\n",
    "assert(number_of_ways_to_make_change(5, [1, 5, 10]) == 2)\n",
    "assert(number_of_ways_to_make_change(10, [1, 5, 10]) == 4)"
   ]
  }
 ],
 "metadata": {
  "kernelspec": {
   "display_name": "Python 3",
   "language": "python",
   "name": "python3"
  },
  "language_info": {
   "codemirror_mode": {
    "name": "ipython",
    "version": 3
   },
   "file_extension": ".py",
   "mimetype": "text/x-python",
   "name": "python",
   "nbconvert_exporter": "python",
   "pygments_lexer": "ipython3",
   "version": "3.7.6"
  }
 },
 "nbformat": 4,
 "nbformat_minor": 4
}
