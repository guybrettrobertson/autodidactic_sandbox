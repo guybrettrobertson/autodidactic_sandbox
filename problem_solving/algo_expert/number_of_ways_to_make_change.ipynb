{
 "cells": [
  {
   "cell_type": "markdown",
   "metadata": {},
   "source": [
    "# Number of ways to make change\n",
    "\n",
    "## Solution"
   ]
  },
  {
   "cell_type": "code",
   "execution_count": 17,
   "metadata": {},
   "outputs": [],
   "source": [
    "def numberOfWaysToMakeChange(n, denoms):\n",
    "    ways = [0 for amount in range(n + 1)]\n",
    "    ways[0] = 1\n",
    "    \n",
    "    for denom in denoms:\n",
    "        for amount in range(1, n + 1):\n",
    "            if denom <= amount:\n",
    "                ways[amount] += ways[amount - denom]\n",
    "    \n",
    "    return ways[n]"
   ]
  },
  {
   "cell_type": "code",
   "execution_count": 18,
   "metadata": {},
   "outputs": [
    {
     "name": "stdout",
     "output_type": "stream",
     "text": [
      "1 denom 1\n",
      "a\n",
      "1 denom 5\n",
      "2 denom 1\n",
      "a\n",
      "2 denom 5\n",
      "3 denom 1\n",
      "a\n",
      "3 denom 5\n",
      "4 denom 1\n",
      "a\n",
      "4 denom 5\n",
      "5 denom 1\n",
      "a\n",
      "5 denom 5\n",
      "a\n",
      "6 denom 1\n",
      "a\n",
      "6 denom 5\n",
      "a\n",
      "7 denom 1\n",
      "a\n",
      "7 denom 5\n",
      "a\n",
      "8 denom 1\n",
      "a\n",
      "8 denom 5\n",
      "a\n",
      "[1, 1, 1, 1, 1, 2, 2, 3, 3]\n"
     ]
    }
   ],
   "source": [
    "print(number_of_ways_to_make_change(8, [1, 5]))"
   ]
  },
  {
   "cell_type": "code",
   "execution_count": 5,
   "metadata": {
    "collapsed": true
   },
   "outputs": [
    {
     "name": "stdout",
     "output_type": "stream",
     "text": [
      "1\n",
      "1\n",
      "a\n",
      "a\n",
      "1\n",
      "a\n",
      "a\n",
      "a\n",
      "a\n",
      "1\n",
      "a\n",
      "a\n",
      "a\n",
      "a\n",
      "a\n",
      "a\n",
      "1\n",
      "a\n",
      "a\n",
      "a\n",
      "a\n",
      "a\n",
      "a\n",
      "a\n",
      "a\n",
      "1\n"
     ]
    }
   ],
   "source": [
    "print(number_of_ways_to_make_change(0, [1, 5]))\n",
    "print(number_of_ways_to_make_change(1, [1, 5]))\n",
    "print(number_of_ways_to_make_change(2, [1, 5]))\n",
    "print(number_of_ways_to_make_change(3, [1, 5]))\n",
    "print(number_of_ways_to_make_change(4, [1, 5]))\n",
    "print(number_of_ways_to_make_change(5, [1, 5]))"
   ]
  },
  {
   "cell_type": "code",
   "execution_count": null,
   "metadata": {},
   "outputs": [],
   "source": [
    "print(number_of_ways_to_make_change(0, [1, 5]))"
   ]
  },
  {
   "cell_type": "code",
   "execution_count": null,
   "metadata": {},
   "outputs": [],
   "source": [
    "10\n",
    "ways[9]"
   ]
  },
  {
   "cell_type": "code",
   "execution_count": null,
   "metadata": {},
   "outputs": [],
   "source": []
  },
  {
   "cell_type": "code",
   "execution_count": null,
   "metadata": {},
   "outputs": [],
   "source": []
  }
 ],
 "metadata": {
  "kernelspec": {
   "display_name": "Python 3",
   "language": "python",
   "name": "python3"
  },
  "language_info": {
   "codemirror_mode": {
    "name": "ipython",
    "version": 3
   },
   "file_extension": ".py",
   "mimetype": "text/x-python",
   "name": "python",
   "nbconvert_exporter": "python",
   "pygments_lexer": "ipython3",
   "version": "3.7.6"
  }
 },
 "nbformat": 4,
 "nbformat_minor": 4
}
