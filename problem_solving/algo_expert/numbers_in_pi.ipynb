{
 "cells": [
  {
   "cell_type": "markdown",
   "metadata": {},
   "source": [
    "# Numbers in pi\n",
    "\n",
    "## Solution"
   ]
  },
  {
   "cell_type": "code",
   "execution_count": 9,
   "metadata": {},
   "outputs": [],
   "source": [
    "def numbers_in_pi(pi, numbers):\n",
    "    '''\n",
    "    Find the minimum number of spaces needed to add to pi such that all the resulting \n",
    "    numbers are found in the list of numbers.\n",
    "    '''\n",
    "    \n",
    "    numbers_table = {num: True for num in numbers}\n",
    "    numbers_in_pi_helper(pi, numbers, numbers_table)\n",
    "    return numbers_table[pi]\n",
    "    \n",
    "def numbers_in_pi_helper(num, numbers, numbers_table):\n",
    "    '''Helper function.'''\n",
    "    \n",
    "    if num in numbers_table:\n",
    "        return numbers_table[num]\n",
    "    \n",
    "    for i in range(1, len(num)):\n",
    "        "
   ]
  },
  {
   "cell_type": "code",
   "execution_count": 8,
   "metadata": {},
   "outputs": [
    {
     "name": "stdout",
     "output_type": "stream",
     "text": [
      "{'3141': True, '5': True, '31': True, '2': True, '4159': True, '9': True, '42': True}\n"
     ]
    }
   ],
   "source": [
    "numbers_in_pi('3141592', ['3141', '5', '31', '2', '4159', '9', '42'])"
   ]
  },
  {
   "cell_type": "code",
   "execution_count": null,
   "metadata": {},
   "outputs": [],
   "source": [
    "0123"
   ]
  }
 ],
 "metadata": {
  "kernelspec": {
   "display_name": "Python 3",
   "language": "python",
   "name": "python3"
  },
  "language_info": {
   "codemirror_mode": {
    "name": "ipython",
    "version": 3
   },
   "file_extension": ".py",
   "mimetype": "text/x-python",
   "name": "python",
   "nbconvert_exporter": "python",
   "pygments_lexer": "ipython3",
   "version": "3.7.6"
  }
 },
 "nbformat": 4,
 "nbformat_minor": 4
}
