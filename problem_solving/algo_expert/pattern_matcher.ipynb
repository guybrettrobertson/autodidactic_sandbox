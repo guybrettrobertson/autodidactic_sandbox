{
 "cells": [
  {
   "cell_type": "markdown",
   "metadata": {},
   "source": [
    "# Pattern matcher\n",
    "\n",
    "## Solution"
   ]
  },
  {
   "cell_type": "code",
   "execution_count": 51,
   "metadata": {},
   "outputs": [],
   "source": [
    "def pattern_matcher(pattern, string):\n",
    "    '''Check whether the string matches the pattern.'''\n",
    "    \n",
    "    is_flipped, pattern = get_new_pattern(pattern)\n",
    "    \n",
    "    counts, first_y_position = get_counts_and_first_y_position(pattern)\n",
    "    \n",
    "    if counts['y'] == 0:\n",
    "        output = match_all_xs(counts['x'], string)\n",
    "    else:\n",
    "        output = match_xs_and_ys(counts, pattern, string, first_y_position)\n",
    "    \n",
    "    if is_flipped and len(output) != 0:\n",
    "        return [output[1], output[0]]\n",
    "    else:\n",
    "        return output\n",
    "    \n",
    "def get_new_pattern(pattern):\n",
    "    '''Make pattern start with x.'''\n",
    "    \n",
    "    if pattern[0] == 'x':\n",
    "        return True, list(pattern)\n",
    "    else:\n",
    "        return False, ['x' if char == 'y' else 'y' for char in pattern]\n",
    "\n",
    "def get_counts_and_first_y_position(pattern):\n",
    "    '''Find x and y counts and position of first y.'''\n",
    "    \n",
    "    counts = {'x': 0, 'y': 0}\n",
    "    first_y_position = -1\n",
    "    \n",
    "    for i, char in enumerate(pattern):\n",
    "        if char == 'x':\n",
    "            counts['x'] += 1\n",
    "        else:\n",
    "            if first_y_position == -1:\n",
    "                first_y_position = i\n",
    "            counts['y'] += 1\n",
    "    \n",
    "    return counts, first_y_position\n",
    "\n",
    "def match_all_xs(counts_x, string):\n",
    "    '''Match pattern for all xs.'''\n",
    "    \n",
    "    if len(string) % counts_x != 0:\n",
    "        return []\n",
    "    \n",
    "    pattern = string[0:len(string) // counts_x]\n",
    "    len_pattern = len(string) // counts_x\n",
    "    \n",
    "    for i in range(counts_x):\n",
    "        sub_string = string[i * len_pattern : (i + 1) * len_pattern]\n",
    "        if sub_string != pattern:\n",
    "            return []\n",
    "    \n",
    "    return [pattern, '']\n",
    "\n",
    "def match_xs_and_ys(counts, pattern, string, first_y_position):\n",
    "    '''Match pattern for both xs and ys.'''\n",
    "    \n",
    "    for i in range(1, len(string)):\n",
    "        len_x = i\n",
    "        len_y = (len(string) - counts['x'] * len_x) / counts['y']\n",
    "        if len_y % 1 != 0 or len_y < 1:\n",
    "            continue\n",
    "        len_y = int(len_y)\n",
    "        \n",
    "        patterns = {'x' : string[0 : len_x],\n",
    "                    'y' : string[first_y_position * len_x: first_y_position * len_x + len_y]}\n",
    "\n",
    "        potential_match = []\n",
    "        for i, char in enumerate(pattern):\n",
    "            if char == 'x':\n",
    "                potential_match.append(patterns['x'])\n",
    "            else:\n",
    "                potential_match.append(patterns['y'])\n",
    "        potential_match = ''.join(potential_match)\n",
    "        if potential_match == string:\n",
    "            return [patterns['x'], patterns['y']]\n",
    "    return []"
   ]
  },
  {
   "cell_type": "markdown",
   "metadata": {},
   "source": [
    "### Testing"
   ]
  },
  {
   "cell_type": "code",
   "execution_count": 52,
   "metadata": {},
   "outputs": [
    {
     "data": {
      "text/plain": [
       "['go', 'powerranger']"
      ]
     },
     "execution_count": 52,
     "metadata": {},
     "output_type": "execute_result"
    }
   ],
   "source": [
    "pattern = 'xxyxxy'\n",
    "string = 'gogopowerrangergogopowerranger'\n",
    "is_flipped, pattern = get_new_pattern(pattern)\n",
    "counts, first_y_position = get_counts_and_first_y_position(pattern)\n",
    "match_xs_and_ys(counts, pattern, string, first_y_position)"
   ]
  },
  {
   "cell_type": "code",
   "execution_count": 50,
   "metadata": {},
   "outputs": [
    {
     "name": "stdout",
     "output_type": "stream",
     "text": [
      "4 1 2 13\n",
      "g gopowerranger\n",
      "\n",
      "4 2 2 11\n",
      "go powerranger\n",
      "\n"
     ]
    },
    {
     "data": {
      "text/plain": [
       "['powerranger', 'go']"
      ]
     },
     "execution_count": 50,
     "metadata": {},
     "output_type": "execute_result"
    }
   ],
   "source": [
    "pattern = 'xxyxxy'\n",
    "string = 'gogopowerrangergogopowerranger'\n",
    "pattern_matcher(pattern, string)"
   ]
  },
  {
   "cell_type": "code",
   "execution_count": 51,
   "metadata": {},
   "outputs": [],
   "source": [
    "assert match_all_xs(1, 'go') == ['go', '']\n",
    "assert match_all_xs(2, 'gogo') == ['go', '']\n",
    "assert match_all_xs(3, 'gogogo') == ['go', '']\n",
    "assert match_all_xs(3, 'goxgoxgox') == ['gox', '']\n",
    "assert match_all_xs(2, 'goxgoxgox') == []\n",
    "assert match_all_xs(3, 'goxgoxgoxg') == []\n",
    "assert match_all_xs(3, 'goxgoxgo') == []\n",
    "assert match_all_xs(3, 'goxgoxgot') == []"
   ]
  },
  {
   "cell_type": "code",
   "execution_count": 31,
   "metadata": {},
   "outputs": [],
   "source": [
    "assert get_counts_and_first_y_position(['x']) == ({'x':1, 'y':0}, -1)\n",
    "assert get_counts_and_first_y_position(['x', 'x']) == ({'x':2, 'y':0}, -1)\n",
    "assert get_counts_and_first_y_position(['x', 'y']) == ({'x':1, 'y':1}, 1)\n",
    "assert get_counts_and_first_y_position(['y']) == ({'x':0, 'y':1}, 0)\n",
    "assert get_counts_and_first_y_position(['y', 'x', 'y']) == ({'x':1, 'y':2}, 0)\n",
    "assert get_counts_and_first_y_position(['x', 'x', 'y', 'x', 'x', 'y']) == ({'x':4, 'y':2}, 2)"
   ]
  },
  {
   "cell_type": "code",
   "execution_count": 10,
   "metadata": {},
   "outputs": [],
   "source": [
    "assert get_new_pattern('x') == (True, ['x'])\n",
    "assert get_new_pattern('xyyy') == (True, ['x', 'y', 'y', 'y'])\n",
    "assert get_new_pattern('y') == (False, ['x'])\n",
    "assert get_new_pattern('yxxx') == (False, ['x', 'y', 'y', 'y'])"
   ]
  },
  {
   "cell_type": "code",
   "execution_count": 12,
   "metadata": {},
   "outputs": [
    {
     "name": "stdout",
     "output_type": "stream",
     "text": [
      "True\n"
     ]
    }
   ],
   "source": [
    "pattern = 'xxyxxy'\n",
    "string = 'gogopowerrangergogopowerranger'\n",
    "patter_matcher(pattern, string)"
   ]
  },
  {
   "cell_type": "code",
   "execution_count": 1,
   "metadata": {},
   "outputs": [
    {
     "data": {
      "text/plain": [
       "['a', 'b', 'c']"
      ]
     },
     "execution_count": 1,
     "metadata": {},
     "output_type": "execute_result"
    }
   ],
   "source": [
    "list('abc')"
   ]
  },
  {
   "cell_type": "code",
   "execution_count": 7,
   "metadata": {},
   "outputs": [
    {
     "data": {
      "text/plain": [
       "(True, ['x'])"
      ]
     },
     "execution_count": 7,
     "metadata": {},
     "output_type": "execute_result"
    }
   ],
   "source": [
    "get_new_pattern('x')"
   ]
  },
  {
   "cell_type": "code",
   "execution_count": null,
   "metadata": {},
   "outputs": [],
   "source": []
  }
 ],
 "metadata": {
  "kernelspec": {
   "display_name": "Python 3",
   "language": "python",
   "name": "python3"
  },
  "language_info": {
   "codemirror_mode": {
    "name": "ipython",
    "version": 3
   },
   "file_extension": ".py",
   "mimetype": "text/x-python",
   "name": "python",
   "nbconvert_exporter": "python",
   "pygments_lexer": "ipython3",
   "version": "3.7.6"
  }
 },
 "nbformat": 4,
 "nbformat_minor": 4
}
