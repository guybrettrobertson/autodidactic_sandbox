{
 "cells": [
  {
   "cell_type": "markdown",
   "metadata": {},
   "source": [
    "# Phone number mnenomics\n",
    "\n",
    "## Solution"
   ]
  },
  {
   "cell_type": "code",
   "execution_count": 10,
   "metadata": {},
   "outputs": [],
   "source": [
    "def phone_number_mnemonics(phone_number):\n",
    "    '''Return all possible mnemonics for the given phone number.'''\n",
    "    \n",
    "    phone_number = list(phone_number)\n",
    "    \n",
    "    mnemonics = {\n",
    "        '1': ['1'],\n",
    "        '2': ['a', 'b', 'c'],\n",
    "        '3': ['d', 'e', 'f'],\n",
    "        '4': ['g', 'h', 'i'],\n",
    "        '5': ['j', 'k', 'l'],\n",
    "        '6': ['m', 'n', 'o'],\n",
    "        '7': ['p', 'q', 'r', 's'],\n",
    "        '8': ['t', 'u', 'v'],\n",
    "        '9': ['w', 'x', 'y', 'z'],\n",
    "        '0': ['0']\n",
    "    }\n",
    "    \n",
    "    output = []\n",
    "    helper(mnemonics, phone_number, output, 0, '')\n",
    "    return output\n",
    "    \n",
    "def helper(mnemonics, phone_number, output, idx, current):\n",
    "    \n",
    "    chars = mnemonics[phone_number[idx]]\n",
    "    \n",
    "    if idx == 0:\n",
    "        current = ''\n",
    "    \n",
    "    if idx == len(phone_number) - 1:\n",
    "        for char in chars:\n",
    "            output.append(current + char)\n",
    "    else:\n",
    "        for char in chars:\n",
    "            helper(mnemonics, phone_number, output, idx + 1, current + char)"
   ]
  },
  {
   "cell_type": "code",
   "execution_count": 12,
   "metadata": {},
   "outputs": [
    {
     "data": {
      "text/plain": [
       "['01adg',\n",
       " '01adh',\n",
       " '01adi',\n",
       " '01aeg',\n",
       " '01aeh',\n",
       " '01aei',\n",
       " '01afg',\n",
       " '01afh',\n",
       " '01afi',\n",
       " '01bdg',\n",
       " '01bdh',\n",
       " '01bdi',\n",
       " '01beg',\n",
       " '01beh',\n",
       " '01bei',\n",
       " '01bfg',\n",
       " '01bfh',\n",
       " '01bfi',\n",
       " '01cdg',\n",
       " '01cdh',\n",
       " '01cdi',\n",
       " '01ceg',\n",
       " '01ceh',\n",
       " '01cei',\n",
       " '01cfg',\n",
       " '01cfh',\n",
       " '01cfi']"
      ]
     },
     "execution_count": 12,
     "metadata": {},
     "output_type": "execute_result"
    }
   ],
   "source": [
    "phone_number_mnemonics('01234')"
   ]
  },
  {
   "cell_type": "code",
   "execution_count": null,
   "metadata": {},
   "outputs": [],
   "source": []
  }
 ],
 "metadata": {
  "kernelspec": {
   "display_name": "Python 3",
   "language": "python",
   "name": "python3"
  },
  "language_info": {
   "codemirror_mode": {
    "name": "ipython",
    "version": 3
   },
   "file_extension": ".py",
   "mimetype": "text/x-python",
   "name": "python",
   "nbconvert_exporter": "python",
   "pygments_lexer": "ipython3",
   "version": "3.7.6"
  }
 },
 "nbformat": 4,
 "nbformat_minor": 4
}
