{
 "cells": [
  {
   "cell_type": "markdown",
   "metadata": {},
   "source": [
    "# Phone number mnenomics\n",
    "\n",
    "## Solution"
   ]
  },
  {
   "cell_type": "code",
   "execution_count": 1,
   "metadata": {},
   "outputs": [],
   "source": [
    "def phone_number_mnemonics(phone_number):\n",
    "    '''Return all possible mnemonics for the given phone number.'''\n",
    "    \n",
    "    phone_number = list(phone_number)\n",
    "    \n",
    "    mnemonics = {\n",
    "        '1': ['1'],\n",
    "        '2': ['a', 'b', 'c'],\n",
    "        '3': ['d', 'e', 'f'],\n",
    "        '4': ['g', 'h', 'i'],\n",
    "        '5': ['j', 'k', 'l'],\n",
    "        '6': ['m', 'n', 'o'],\n",
    "        '7': ['p', 'q', 'r', 's'],\n",
    "        '8': ['t', 'u', 'v'],\n",
    "        '9': ['w', 'x', 'y', 'z'],\n",
    "        '0': ['0']\n",
    "    }\n",
    "    \n",
    "    output = []\n",
    "    helper(mnemonics, phone_number, output, 0, '')\n",
    "    return output\n",
    "    \n",
    "def helper(mnemonics, phone_number, output, idx, current):\n",
    "    \n",
    "    chars = mnemonics[phone_number[idx]]\n",
    "    \n",
    "    if idx == 0:\n",
    "        current = ''\n",
    "    \n",
    "    if idx == len(phone_number) - 1:\n",
    "        for char in chars:\n",
    "            output.append(current + char)\n",
    "    else:\n",
    "        for char in chars:\n",
    "            helper(mnemonics, phone_number, output, idx + 1, current + char)"
   ]
  },
  {
   "cell_type": "markdown",
   "metadata": {},
   "source": [
    "### Testing"
   ]
  },
  {
   "cell_type": "code",
   "execution_count": 2,
   "metadata": {},
   "outputs": [],
   "source": [
    "mnemonics = phone_number_mnemonics('012')\n",
    "assert('01a' in mnemonics)\n",
    "assert('01b' in mnemonics)\n",
    "assert('01c' in mnemonics)\n",
    "assert(len(mnemonics) == 3)"
   ]
  },
  {
   "cell_type": "code",
   "execution_count": 3,
   "metadata": {},
   "outputs": [],
   "source": [
    "mnemonics = phone_number_mnemonics('23')\n",
    "assert('ad' in mnemonics)\n",
    "assert('ae' in mnemonics)\n",
    "assert('af' in mnemonics)\n",
    "assert('bd' in mnemonics)\n",
    "assert('be' in mnemonics)\n",
    "assert('bf' in mnemonics)\n",
    "assert('cd' in mnemonics)\n",
    "assert('ce' in mnemonics)\n",
    "assert('cf' in mnemonics)\n",
    "assert(len(mnemonics) == 9)"
   ]
  }
 ],
 "metadata": {
  "kernelspec": {
   "display_name": "Python 3",
   "language": "python",
   "name": "python3"
  },
  "language_info": {
   "codemirror_mode": {
    "name": "ipython",
    "version": 3
   },
   "file_extension": ".py",
   "mimetype": "text/x-python",
   "name": "python",
   "nbconvert_exporter": "python",
   "pygments_lexer": "ipython3",
   "version": "3.7.6"
  }
 },
 "nbformat": 4,
 "nbformat_minor": 4
}
