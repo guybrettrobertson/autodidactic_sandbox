{
 "cells": [
  {
   "cell_type": "markdown",
   "metadata": {},
   "source": [
    "# Quick sort\n",
    "\n",
    "## Solution"
   ]
  },
  {
   "cell_type": "code",
   "execution_count": 25,
   "metadata": {},
   "outputs": [],
   "source": [
    "def quick_sort(array):\n",
    "    '''Sort the array using the quick sort algorithm.'''\n",
    "    \n",
    "    quick_sort_helper(array, 0, len(array) - 1)\n",
    "    return array\n",
    "\n",
    "def quick_sort_helper(array, start, end):\n",
    "    '''Helper function for quick_sort().'''\n",
    "    \n",
    "    if start >= end:\n",
    "        return\n",
    "    \n",
    "    pivot = start\n",
    "    left = start + 1\n",
    "    right = end\n",
    "    \n",
    "    while right >= left:\n",
    "        if array[right] < array[pivot] < array[left]:\n",
    "            swap(array, left, right)\n",
    "        if array[left] <= array[pivot]:\n",
    "            left += 1\n",
    "        if array[right] >= array[pivot]:\n",
    "            right -= 1\n",
    "    \n",
    "    swap(array, pivot, right)\n",
    "    \n",
    "    is_left_array_smaller = right - start < end - right\n",
    "    \n",
    "    if is_left_array_smaller:\n",
    "        quick_sort_helper(array, start, right - 1)\n",
    "        quick_sort_helper(array, right + 1, end)\n",
    "    else:\n",
    "        quick_sort_helper(array, right + 1, end)\n",
    "        quick_sort_helper(array, start, right - 1)\n",
    "            \n",
    "    \n",
    "def swap(array, i, j):\n",
    "    '''Swap elements i and j.'''\n",
    "    \n",
    "    temp = array[i]\n",
    "    array[i] = array[j]\n",
    "    array[j] = temp"
   ]
  },
  {
   "cell_type": "code",
   "execution_count": 26,
   "metadata": {},
   "outputs": [
    {
     "data": {
      "text/plain": [
       "[0, 2, 2, 3, 5, 5, 6, 8, 8]"
      ]
     },
     "execution_count": 26,
     "metadata": {},
     "output_type": "execute_result"
    }
   ],
   "source": [
    "quick_sort([5, 3, 2, 6, 8, 5, 2, 8, 0])"
   ]
  },
  {
   "cell_type": "markdown",
   "metadata": {},
   "source": [
    "### Testing"
   ]
  },
  {
   "cell_type": "code",
   "execution_count": 18,
   "metadata": {},
   "outputs": [],
   "source": [
    "array = [0, 1]\n",
    "swap(array, 0, 1)\n",
    "assert array == [1, 0]"
   ]
  },
  {
   "cell_type": "code",
   "execution_count": 19,
   "metadata": {},
   "outputs": [],
   "source": [
    "array = [0, 1, 2]\n",
    "swap(array, 0, 2)\n",
    "assert array == [2, 1, 0]"
   ]
  },
  {
   "cell_type": "code",
   "execution_count": 20,
   "metadata": {},
   "outputs": [],
   "source": [
    "array = [0, 1, 2, 3]\n",
    "swap(array, 1, 3)\n",
    "assert array == [0, 3, 2, 1]"
   ]
  }
 ],
 "metadata": {
  "kernelspec": {
   "display_name": "Python 3",
   "language": "python",
   "name": "python3"
  },
  "language_info": {
   "codemirror_mode": {
    "name": "ipython",
    "version": 3
   },
   "file_extension": ".py",
   "mimetype": "text/x-python",
   "name": "python",
   "nbconvert_exporter": "python",
   "pygments_lexer": "ipython3",
   "version": "3.7.6"
  }
 },
 "nbformat": 4,
 "nbformat_minor": 4
}
