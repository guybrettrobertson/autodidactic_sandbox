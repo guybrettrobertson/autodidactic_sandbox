{
 "cells": [
  {
   "cell_type": "markdown",
   "metadata": {},
   "source": [
    "# Quicksort\n",
    "\n",
    "## Solution"
   ]
  },
  {
   "cell_type": "code",
   "execution_count": 1,
   "metadata": {},
   "outputs": [],
   "source": [
    "def quicksort(array):\n",
    "    '''Sort the array using the quicksort algorithm.'''\n",
    "    \n",
    "    quicksort_helper(array, 0, len(array) - 1)\n",
    "    return array\n",
    "\n",
    "def quicksort_helper(array, start, end):\n",
    "    '''Helper function for quick_sort().'''\n",
    "    \n",
    "    if start >= end:\n",
    "        return\n",
    "    \n",
    "    pivot = start\n",
    "    left = start + 1\n",
    "    right = end\n",
    "    \n",
    "    while right >= left:\n",
    "        if array[right] < array[pivot] < array[left]:\n",
    "            swap(array, left, right)\n",
    "        if array[left] <= array[pivot]:\n",
    "            left += 1\n",
    "        if array[right] >= array[pivot]:\n",
    "            right -= 1\n",
    "    \n",
    "    swap(array, pivot, right)\n",
    "    \n",
    "    is_left_array_smaller = right - start < end - right\n",
    "    \n",
    "    if is_left_array_smaller:\n",
    "        quicksort_helper(array, start, right - 1)\n",
    "        quicksort_helper(array, right + 1, end)\n",
    "    else:\n",
    "        quicksort_helper(array, right + 1, end)\n",
    "        quicksort_helper(array, start, right - 1)\n",
    "            \n",
    "    \n",
    "def swap(array, i, j):\n",
    "    '''Swap elements i and j.'''\n",
    "    \n",
    "    temp = array[i]\n",
    "    array[i] = array[j]\n",
    "    array[j] = temp"
   ]
  },
  {
   "cell_type": "markdown",
   "metadata": {},
   "source": [
    "### Testing"
   ]
  },
  {
   "cell_type": "code",
   "execution_count": 2,
   "metadata": {},
   "outputs": [],
   "source": [
    "array = [0, 1]\n",
    "swap(array, 0, 1)\n",
    "assert array == [1, 0]"
   ]
  },
  {
   "cell_type": "code",
   "execution_count": 3,
   "metadata": {},
   "outputs": [],
   "source": [
    "array = [0, 1, 2]\n",
    "swap(array, 0, 2)\n",
    "assert array == [2, 1, 0]"
   ]
  },
  {
   "cell_type": "code",
   "execution_count": 4,
   "metadata": {},
   "outputs": [],
   "source": [
    "array = [0, 1, 2, 3]\n",
    "swap(array, 1, 3)\n",
    "assert array == [0, 3, 2, 1]"
   ]
  },
  {
   "cell_type": "code",
   "execution_count": 5,
   "metadata": {},
   "outputs": [],
   "source": [
    "array = [0, 1]\n",
    "quicksort(array)\n",
    "assert array == [0, 1]"
   ]
  },
  {
   "cell_type": "code",
   "execution_count": 6,
   "metadata": {},
   "outputs": [],
   "source": [
    "array = [1, 0]\n",
    "quicksort(array)\n",
    "assert array == [0, 1]"
   ]
  },
  {
   "cell_type": "code",
   "execution_count": 7,
   "metadata": {},
   "outputs": [],
   "source": [
    "array = [0, 2, 1]\n",
    "quicksort(array)\n",
    "assert array == [0, 1, 2]"
   ]
  },
  {
   "cell_type": "code",
   "execution_count": 8,
   "metadata": {},
   "outputs": [],
   "source": [
    "array = [3, 1, 6, 4, 8, 6]\n",
    "quicksort(array)\n",
    "assert array == [1, 3, 4, 6, 6, 8]"
   ]
  }
 ],
 "metadata": {
  "kernelspec": {
   "display_name": "Python 3",
   "language": "python",
   "name": "python3"
  },
  "language_info": {
   "codemirror_mode": {
    "name": "ipython",
    "version": 3
   },
   "file_extension": ".py",
   "mimetype": "text/x-python",
   "name": "python",
   "nbconvert_exporter": "python",
   "pygments_lexer": "ipython3",
   "version": "3.7.6"
  }
 },
 "nbformat": 4,
 "nbformat_minor": 4
}
