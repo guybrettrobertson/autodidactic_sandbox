{
 "cells": [
  {
   "cell_type": "markdown",
   "metadata": {},
   "source": [
    "# Remove duplicates from linked list\n",
    "\n",
    "You're given the head of a singly linked list whose nodes are in sorted order with respect to their values. Write a function that returns a modified version of the linked list that doesn't contain any nodes with duplicate values. The linked list should be modified in place, and the modified linked list should still be sorted with respect to its values.\n",
    "\n",
    "Each linked list node has an integer value as well as a next node pointing to the next node in the list or a null node if it is the tail of the linked list.\n",
    "\n",
    "## Solution"
   ]
  },
  {
   "cell_type": "code",
   "execution_count": 3,
   "metadata": {},
   "outputs": [],
   "source": [
    "# This is an input class. Do not edit.\n",
    "class LinkedList:\n",
    "    def __init__(self, value):\n",
    "        self.value = value\n",
    "        self.next = None\n",
    "\n",
    "\n",
    "def remove_duplicates_from_linked_list(linked_list):\n",
    "    '''Remove duplicates'''\n",
    "    \n",
    "    # Start at the head of the linked list\n",
    "    current_node = linked_list\n",
    "    \n",
    "    # First pointer: iterate until the tail\n",
    "    while current_node is not None:\n",
    "        # Second pointer: next distinct node after the current node\n",
    "        next_distinct_node = current_node.next\n",
    "        # Iterate until the next distinct node is found\n",
    "        while next_distinct_node is not None and next_distinct_node.value == current_node.value:\n",
    "            # Update the next distinct node\n",
    "            next_distinct_node = next_distinct_node.next\n",
    "        \n",
    "        # Update the next node after the current node to be the next distinct node\n",
    "        # I.e. cut out all the duplicates\n",
    "        current_node.next = next_distinct_node\n",
    "        current_node = next_distinct_node\n",
    "    \n",
    "    return linked_list\n",
    "\n",
    "def convert_linked_list_to_array(linked_list):\n",
    "    '''Print out the values of a linked list.'''\n",
    "    \n",
    "    current_node = linked_list\n",
    "    output = []\n",
    "    while current_node is not None:\n",
    "        output.append(current_node.value)\n",
    "        current_node = current_node.next\n",
    "    \n",
    "    return output"
   ]
  },
  {
   "cell_type": "code",
   "execution_count": 4,
   "metadata": {},
   "outputs": [],
   "source": [
    "linked_list = LinkedList(1)\n",
    "linked_list.next = LinkedList(1)\n",
    "linked_list.next.next = LinkedList(3)\n",
    "linked_list.next.next.next = LinkedList(4)\n",
    "linked_list.next.next.next.next = LinkedList(4)\n",
    "linked_list.next.next.next.next.next = LinkedList(4)\n",
    "linked_list.next.next.next.next.next.next = LinkedList(5)\n",
    "linked_list.next.next.next.next.next.next.next = LinkedList(6)\n",
    "linked_list.next.next.next.next.next.next.next.next = LinkedList(6)"
   ]
  },
  {
   "cell_type": "code",
   "execution_count": 11,
   "metadata": {},
   "outputs": [],
   "source": [
    "def convert_linked_list_to_array(linked_list):\n",
    "    '''Print out the values of a linked list.'''\n",
    "    \n",
    "    current_node = linked_list\n",
    "    output = []\n",
    "    while current_node is not None:\n",
    "        output.append(current_node.value)\n",
    "        current_node = current_node.next\n",
    "    \n",
    "    return output"
   ]
  },
  {
   "cell_type": "code",
   "execution_count": 13,
   "metadata": {},
   "outputs": [
    {
     "data": {
      "text/plain": [
       "[1, 1, 3, 4, 4, 4, 5, 6, 6]"
      ]
     },
     "execution_count": 13,
     "metadata": {},
     "output_type": "execute_result"
    }
   ],
   "source": [
    "convert_linked_list_to_array(linked_list)"
   ]
  },
  {
   "cell_type": "code",
   "execution_count": null,
   "metadata": {},
   "outputs": [],
   "source": []
  }
 ],
 "metadata": {
  "kernelspec": {
   "display_name": "Python 3",
   "language": "python",
   "name": "python3"
  },
  "language_info": {
   "codemirror_mode": {
    "name": "ipython",
    "version": 3
   },
   "file_extension": ".py",
   "mimetype": "text/x-python",
   "name": "python",
   "nbconvert_exporter": "python",
   "pygments_lexer": "ipython3",
   "version": "3.7.6"
  }
 },
 "nbformat": 4,
 "nbformat_minor": 4
}
