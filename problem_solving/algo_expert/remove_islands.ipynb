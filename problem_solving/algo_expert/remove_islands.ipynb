{
 "cells": [
  {
   "cell_type": "markdown",
   "metadata": {},
   "source": [
    "# Remove islands\n",
    "\n",
    "You are given a two-dimensional array (a matrix) of potentially unequal height and width containing only 0s and 1s. The matrix represents a two-toned image, where each 1 represents black and each 0 represents white. An island is defined as any number of 1s that are horizontally or vertically adjacent (but not diagonally adjacent) and that don't touch the border of the image. In other words, a group of horizontally or vertically adjacent 1s isn't an island if any of those 1s are in the first row, last row, first column, or last column of the input matrix.\n",
    "\n",
    "Note that an island can twist. In other words, it doesn't have to be a straight vertical line or a horizontal line; it can be L-shapred, for example.\n",
    "\n",
    "You can think of islands as patches of black that don't touch the border of the two-toned image.\n",
    "\n",
    "Write a function that returns a modified version of the input matrix, where all of the islands are removed. You remove an island by replacing it with 0s.\n",
    "\n",
    "Naturally, you're allowed to mutate the input matrix.\n",
    "\n",
    "## Solution"
   ]
  },
  {
   "cell_type": "code",
   "execution_count": 13,
   "metadata": {},
   "outputs": [],
   "source": [
    "def remove_islands(matrix):\n",
    "    '''Remove all islands from the centre of the matrix.'''\n",
    "    \n",
    "    n = len(matrix)\n",
    "    m = len(matrix[0])\n",
    "    row = 0\n",
    "    col = 0\n",
    "    \n",
    "    for i in range(m - 1):\n",
    "        traverse_land(matrix, row, col)\n",
    "        col += 1\n",
    "        \n",
    "    for i in range(n - 1):\n",
    "        traverse_land(matrix, row, col)\n",
    "        row += 1\n",
    "    \n",
    "    for i in range(m - 1):\n",
    "        traverse_land(matrix, row, col)\n",
    "        col -= 1\n",
    "        \n",
    "    for i in range(n - 1):\n",
    "        traverse_land(matrix, row, col)\n",
    "        row -= 1\n",
    "    \n",
    "    for i in range(n):\n",
    "        for j in range(m):\n",
    "            if matrix[row][col] == 1:\n",
    "                matrix[row][col] = 0\n",
    "                \n",
    "    print(matrix)\n",
    "\n",
    "def traverse_land(matrix, row, col):\n",
    "    '''Traverse land from the edges of the matrix inwards.'''\n",
    "    \n",
    "    if matrix[row][col] == 1:\n",
    "        matrix[row][col] = 2"
   ]
  },
  {
   "cell_type": "code",
   "execution_count": 14,
   "metadata": {},
   "outputs": [],
   "source": [
    "matrix = [\n",
    "    [0, 1, 0, 1],\n",
    "    [1, 1, 0, 1],\n",
    "    [0, 0, 1, 0],\n",
    "    [1, 0, 0, 0]\n",
    "]"
   ]
  },
  {
   "cell_type": "code",
   "execution_count": 15,
   "metadata": {},
   "outputs": [
    {
     "name": "stdout",
     "output_type": "stream",
     "text": [
      "[[0, 2, 0, 2], [2, 1, 0, 2], [0, 0, 1, 0], [2, 0, 0, 0]]\n"
     ]
    }
   ],
   "source": [
    "remove_islands(matrix)"
   ]
  },
  {
   "cell_type": "code",
   "execution_count": null,
   "metadata": {},
   "outputs": [],
   "source": []
  }
 ],
 "metadata": {
  "kernelspec": {
   "display_name": "Python 3",
   "language": "python",
   "name": "python3"
  },
  "language_info": {
   "codemirror_mode": {
    "name": "ipython",
    "version": 3
   },
   "file_extension": ".py",
   "mimetype": "text/x-python",
   "name": "python",
   "nbconvert_exporter": "python",
   "pygments_lexer": "ipython3",
   "version": "3.7.6"
  }
 },
 "nbformat": 4,
 "nbformat_minor": 4
}
