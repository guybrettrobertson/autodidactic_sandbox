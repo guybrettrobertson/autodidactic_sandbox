{
 "cells": [
  {
   "cell_type": "markdown",
   "metadata": {},
   "source": [
    "# River sizes\n",
    "\n",
    "You are given a matrix of zeros and ones. The zeros represent land and the ones represent part of a river. Rivers consist of any number of ones that are horizontally or vertically adjacent. The number of adjacent ones determines a rivers size.\n",
    "\n",
    "Note that a river can twist, so that it can be L-shaped.\n",
    "\n",
    "Write a function that returns an array of the sizes of all the rivers in the given array.\n",
    "\n",
    "## Solution"
   ]
  },
  {
   "cell_type": "code",
   "execution_count": 28,
   "metadata": {},
   "outputs": [],
   "source": [
    "def river_sizes(matrix):\n",
    "    '''Find the length of all the rivers in the given matrix.'''\n",
    "    \n",
    "    n = len(matrix)\n",
    "    m = len(matrix[0])\n",
    "    \n",
    "    visited = [[False for col in range(m)] for row in range(n)]\n",
    "    output = []\n",
    "    \n",
    "    for row in range(n):\n",
    "        for col in range(m):\n",
    "            traverse_node(matrix, visited, row, col, output)\n",
    "    \n",
    "    return output\n",
    "\n",
    "def traverse_node(matrix, visited, row, col, output):\n",
    "    print(row, col)\n",
    "    if visited[row][col] == True:\n",
    "        return 0\n",
    "    else:\n",
    "        visited[row][col] = True\n",
    "    \n",
    "    if matrix[row][col] == 0:\n",
    "        return 0\n",
    "    else:\n",
    "        river = 1\n",
    "        if row - 1 >= 0 and visited[row - 1][col] == False:\n",
    "            river += traverse_node(matrix, visited, row - 1, col, output)\n",
    "            \n",
    "        if row + 1 < len(matrix) and visited[row + 1][col] == False:\n",
    "            river += traverse_node(matrix, visited, row + 1, col, output)\n",
    "        \n",
    "        if col - 1 >= 0 and visited[row][col - 1] == False:\n",
    "            river += traverse_node(matrix, visited, row, col - 1, output)\n",
    "            \n",
    "        if col + 1 < len(matrix[0]) and visited[row][col + 1] == False:\n",
    "            river += traverse_node(matrix, visited, row, col + 1, output)\n",
    "        \n",
    "        if river > 0:\n",
    "            output.append(river)\n",
    "        \n",
    "        return 0"
   ]
  },
  {
   "cell_type": "code",
   "execution_count": 29,
   "metadata": {},
   "outputs": [],
   "source": [
    "matrix = [\n",
    "    [1, 0, 0],\n",
    "    [1, 0, 1],\n",
    "    [0, 0, 1],\n",
    "    [0, 0, 0]\n",
    "]"
   ]
  },
  {
   "cell_type": "code",
   "execution_count": 30,
   "metadata": {},
   "outputs": [
    {
     "name": "stdout",
     "output_type": "stream",
     "text": [
      "0 0\n",
      "1 0\n",
      "2 0\n",
      "1 1\n",
      "0 1\n",
      "0 1\n",
      "0 2\n",
      "1 0\n",
      "1 1\n",
      "1 2\n",
      "2 2\n",
      "3 2\n",
      "2 1\n",
      "2 0\n",
      "2 1\n",
      "2 2\n",
      "3 0\n",
      "3 1\n",
      "3 2\n",
      "[1, 1, 1, 1]\n"
     ]
    }
   ],
   "source": [
    "print(river_sizes(matrix))"
   ]
  },
  {
   "cell_type": "code",
   "execution_count": null,
   "metadata": {},
   "outputs": [],
   "source": []
  }
 ],
 "metadata": {
  "kernelspec": {
   "display_name": "Python 3",
   "language": "python",
   "name": "python3"
  },
  "language_info": {
   "codemirror_mode": {
    "name": "ipython",
    "version": 3
   },
   "file_extension": ".py",
   "mimetype": "text/x-python",
   "name": "python",
   "nbconvert_exporter": "python",
   "pygments_lexer": "ipython3",
   "version": "3.7.6"
  }
 },
 "nbformat": 4,
 "nbformat_minor": 4
}
