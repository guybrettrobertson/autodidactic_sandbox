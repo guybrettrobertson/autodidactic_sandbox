{
 "cells": [
  {
   "cell_type": "markdown",
   "metadata": {},
   "source": [
    "# Selection sort\n",
    "\n",
    "## Solution"
   ]
  },
  {
   "cell_type": "code",
   "execution_count": 1,
   "metadata": {},
   "outputs": [],
   "source": [
    "def selectionSort(array):\n",
    "    '''Sort array using selection sort method.'''\n",
    "    \n",
    "    n = len(array)\n",
    "    \n",
    "    for i in range(n):\n",
    "        smallest_idx = i\n",
    "        for j in range(i + 1, n):\n",
    "            if array[j] < array[smallest_idx]:\n",
    "                smallest_idx = j\n",
    "        temp = array[i]\n",
    "        array[i] = array[smallest_idx]\n",
    "        array[smallest_idx] = temp\n",
    "    \n",
    "    return array"
   ]
  },
  {
   "cell_type": "markdown",
   "metadata": {},
   "source": [
    "### Testing"
   ]
  },
  {
   "cell_type": "code",
   "execution_count": 2,
   "metadata": {},
   "outputs": [],
   "source": [
    "assert(selectionSort([]) == [])\n",
    "assert(selectionSort([1]) == [1])\n",
    "assert(selectionSort([5, 4, 3, 2, 1]) == [1, 2, 3, 4, 5])\n",
    "assert(selectionSort([1, 5, 2, 4, 3]) == [1, 2, 3, 4, 5])"
   ]
  }
 ],
 "metadata": {
  "kernelspec": {
   "display_name": "Python 3",
   "language": "python",
   "name": "python3"
  },
  "language_info": {
   "codemirror_mode": {
    "name": "ipython",
    "version": 3
   },
   "file_extension": ".py",
   "mimetype": "text/x-python",
   "name": "python",
   "nbconvert_exporter": "python",
   "pygments_lexer": "ipython3",
   "version": "3.7.6"
  }
 },
 "nbformat": 4,
 "nbformat_minor": 4
}
