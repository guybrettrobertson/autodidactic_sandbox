{
 "cells": [
  {
   "cell_type": "markdown",
   "metadata": {},
   "source": [
    "# Shifted binary search\n",
    "\n",
    "## Solution"
   ]
  },
  {
   "cell_type": "code",
   "execution_count": 1,
   "metadata": {},
   "outputs": [],
   "source": [
    "def shifted_binary_search(array, target):\n",
    "    '''Binary search for the target on a shifted sorted array.'''\n",
    "    \n",
    "    return shifted_binary_search_helper(array, target, 0, len(array) - 1)\n",
    "\n",
    "def shifted_binary_search_helper(array, target, left, right):\n",
    "    '''Helper function.'''\n",
    "    \n",
    "    if right < left:\n",
    "        return -1\n",
    "    \n",
    "    mid = (left + right) // 2\n",
    "    \n",
    "    if array[mid] == target:\n",
    "        return mid\n",
    "    \n",
    "    if array[left] <= target < array[mid] or array[left] <= target and array[mid] < array[left]:\n",
    "        return shifted_binary_search_helper(array, target, left, mid - 1)\n",
    "    else:\n",
    "        return shifted_binary_search_helper(array, target, mid + 1, right)"
   ]
  },
  {
   "cell_type": "markdown",
   "metadata": {},
   "source": [
    "### Testing"
   ]
  },
  {
   "cell_type": "code",
   "execution_count": 2,
   "metadata": {},
   "outputs": [],
   "source": [
    "assert shifted_binary_search([0, 1, 2, 3, 4, 5], 0) == 0\n",
    "assert shifted_binary_search([0, 1, 2, 3, 4, 5], 1) == 1\n",
    "assert shifted_binary_search([0, 1, 2, 3, 4, 5], 2) == 2\n",
    "assert shifted_binary_search([0, 1, 2, 3, 4, 5], 3) == 3\n",
    "assert shifted_binary_search([0, 1, 2, 3, 4, 5], 4) == 4\n",
    "assert shifted_binary_search([0, 1, 2, 3, 4, 5], 5) == 5\n",
    "assert shifted_binary_search([0, 1, 2, 3, 4, 5], 0) == 0\n",
    "assert shifted_binary_search([4, 5, 0, 1, 2, 3], 0) == 2\n",
    "assert shifted_binary_search([4, 5, 0, 1, 2, 3], 1) == 3\n",
    "assert shifted_binary_search([4, 5, 0, 1, 2, 3], 2) == 4\n",
    "assert shifted_binary_search([4, 5, 0, 1, 2, 3], 3) == 5\n",
    "assert shifted_binary_search([4, 5, 0, 1, 2, 3], 4) == 0\n",
    "assert shifted_binary_search([4, 5, 0, 1, 2, 3], 5) == 1"
   ]
  }
 ],
 "metadata": {
  "kernelspec": {
   "display_name": "Python 3",
   "language": "python",
   "name": "python3"
  },
  "language_info": {
   "codemirror_mode": {
    "name": "ipython",
    "version": 3
   },
   "file_extension": ".py",
   "mimetype": "text/x-python",
   "name": "python",
   "nbconvert_exporter": "python",
   "pygments_lexer": "ipython3",
   "version": "3.7.6"
  }
 },
 "nbformat": 4,
 "nbformat_minor": 4
}
