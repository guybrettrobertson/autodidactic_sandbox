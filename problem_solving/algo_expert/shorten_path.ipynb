{
 "cells": [
  {
   "cell_type": "markdown",
   "metadata": {},
   "source": [
    "# Shorten path\n",
    "\n",
    "Write a function that takes in a non-empty string containing a valid Unix shell path and returns a shortened version of that path.\n",
    "\n",
    "## Solution"
   ]
  },
  {
   "cell_type": "code",
   "execution_count": 1,
   "metadata": {},
   "outputs": [],
   "source": [
    "def shorten_path(path):\n",
    "    '''Simplify and thereby shorten the given Unix shell path.'''\n",
    "    \n",
    "    starts_with_slash = path[0] == '/'\n",
    "    tokens = filter(is_important_token, path.split('/'))\n",
    "    \n",
    "    stack = []\n",
    "    if starts_with_slash:\n",
    "        stack.append('')\n",
    "    \n",
    "    for token in tokens:\n",
    "        if token == '..':\n",
    "            if len(stack) == 0 or stack[-1] == '..':\n",
    "                stack.append(token)\n",
    "            elif stack[-1] != '':\n",
    "                stack.pop()\n",
    "        else:\n",
    "            stack.append(token)\n",
    "    \n",
    "    if stack == ['']:\n",
    "        return '/'\n",
    "    \n",
    "    return '/'.join(stack)\n",
    "\n",
    "def is_important_token(token):\n",
    "    return len(token) > 0 and token != '.'"
   ]
  },
  {
   "cell_type": "code",
   "execution_count": 2,
   "metadata": {},
   "outputs": [
    {
     "data": {
      "text/plain": [
       "'../../foo/bar/baz'"
      ]
     },
     "execution_count": 2,
     "metadata": {},
     "output_type": "execute_result"
    }
   ],
   "source": [
    "shorten_path('../../foo/bar/baz')"
   ]
  },
  {
   "cell_type": "code",
   "execution_count": 3,
   "metadata": {},
   "outputs": [
    {
     "data": {
      "text/plain": [
       "'foo/bar/baz'"
      ]
     },
     "execution_count": 3,
     "metadata": {},
     "output_type": "execute_result"
    }
   ],
   "source": [
    "shorten_path('foo/bar/baz')"
   ]
  },
  {
   "cell_type": "code",
   "execution_count": 4,
   "metadata": {},
   "outputs": [
    {
     "data": {
      "text/plain": [
       "'..'"
      ]
     },
     "execution_count": 4,
     "metadata": {},
     "output_type": "execute_result"
    }
   ],
   "source": [
    "shorten_path('./..')"
   ]
  },
  {
   "cell_type": "code",
   "execution_count": 5,
   "metadata": {},
   "outputs": [
    {
     "data": {
      "text/plain": [
       "'..'"
      ]
     },
     "execution_count": 5,
     "metadata": {},
     "output_type": "execute_result"
    }
   ],
   "source": [
    "shorten_path('foo/../..')"
   ]
  },
  {
   "cell_type": "code",
   "execution_count": null,
   "metadata": {},
   "outputs": [],
   "source": []
  },
  {
   "cell_type": "code",
   "execution_count": null,
   "metadata": {},
   "outputs": [],
   "source": []
  }
 ],
 "metadata": {
  "kernelspec": {
   "display_name": "Python 3",
   "language": "python",
   "name": "python3"
  },
  "language_info": {
   "codemirror_mode": {
    "name": "ipython",
    "version": 3
   },
   "file_extension": ".py",
   "mimetype": "text/x-python",
   "name": "python",
   "nbconvert_exporter": "python",
   "pygments_lexer": "ipython3",
   "version": "3.7.6"
  }
 },
 "nbformat": 4,
 "nbformat_minor": 4
}
