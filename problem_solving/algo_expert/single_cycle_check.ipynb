{
 "cells": [
  {
   "cell_type": "markdown",
   "metadata": {},
   "source": [
    "# Single cycle check\n",
    "\n",
    "## Solution"
   ]
  },
  {
   "cell_type": "code",
   "execution_count": 1,
   "metadata": {},
   "outputs": [],
   "source": [
    "def single_cycle_check(array):\n",
    "    '''Check whether the jumps in the array form a single cycle.'''\n",
    "    i = 0\n",
    "    n = len(array)\n",
    "    counts = dict(zip(list(range(n)), [0] * n))\n",
    "    \n",
    "    while True:\n",
    "        if counts[i] == 2:\n",
    "            return False\n",
    "        if sum(counts.values()) == n:\n",
    "            return True\n",
    "        i += array[i]\n",
    "        i = i % n\n",
    "        counts[i] += 1"
   ]
  },
  {
   "cell_type": "markdown",
   "metadata": {},
   "source": [
    "### Testing"
   ]
  },
  {
   "cell_type": "code",
   "execution_count": 2,
   "metadata": {},
   "outputs": [],
   "source": [
    "assert(single_cycle_check([0]) == True)\n",
    "assert(single_cycle_check([1, -1]) == True)\n",
    "assert(single_cycle_check([1, 1]) == True)\n",
    "assert(single_cycle_check([1, 2]) == False)\n",
    "assert(single_cycle_check([10, 11, -6, -23, -2, 3, 88, 908, -26]) == True)\n",
    "assert(single_cycle_check([11, 11, -6, -23, -2, 3, 88, 908, -26]) == False)"
   ]
  }
 ],
 "metadata": {
  "kernelspec": {
   "display_name": "Python 3",
   "language": "python",
   "name": "python3"
  },
  "language_info": {
   "codemirror_mode": {
    "name": "ipython",
    "version": 3
   },
   "file_extension": ".py",
   "mimetype": "text/x-python",
   "name": "python",
   "nbconvert_exporter": "python",
   "pygments_lexer": "ipython3",
   "version": "3.7.6"
  }
 },
 "nbformat": 4,
 "nbformat_minor": 4
}
