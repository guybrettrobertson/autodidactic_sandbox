{
 "cells": [
  {
   "cell_type": "markdown",
   "metadata": {},
   "source": [
    "# Smallest difference\n",
    "\n",
    "## Solution"
   ]
  },
  {
   "cell_type": "code",
   "execution_count": 1,
   "metadata": {},
   "outputs": [],
   "source": [
    "def smallest_difference(array_1, array_2):\n",
    "    '''Finds the smallest absolute difference between a number in array_1 and a number in array_2.'''\n",
    "    \n",
    "    smallest_diff = float('inf')\n",
    "    \n",
    "    for num_1 in array_1:\n",
    "        for num_2 in array_2:\n",
    "            diff = abs(num_1 - num_2)\n",
    "            if diff < smallest_diff:\n",
    "                smallest_diff = diff\n",
    "    \n",
    "    return smallest_diff"
   ]
  },
  {
   "cell_type": "markdown",
   "metadata": {},
   "source": [
    "### Testing"
   ]
  },
  {
   "cell_type": "code",
   "execution_count": 2,
   "metadata": {},
   "outputs": [],
   "source": [
    "array_1 = [0, 1, 2, 3, 4, 5]\n",
    "array_2 = [10, 11, 12, 13, 14]\n",
    "actual = smallest_difference(array_1, array_2)\n",
    "expected = 5\n",
    "assert(actual == expected)"
   ]
  },
  {
   "cell_type": "code",
   "execution_count": 3,
   "metadata": {},
   "outputs": [],
   "source": [
    "array_1 = [0]\n",
    "array_2 = [0]\n",
    "actual = smallest_difference(array_1, array_2)\n",
    "expected = 0\n",
    "assert(actual == expected)"
   ]
  }
 ],
 "metadata": {
  "kernelspec": {
   "display_name": "Python 3",
   "language": "python",
   "name": "python3"
  },
  "language_info": {
   "codemirror_mode": {
    "name": "ipython",
    "version": 3
   },
   "file_extension": ".py",
   "mimetype": "text/x-python",
   "name": "python",
   "nbconvert_exporter": "python",
   "pygments_lexer": "ipython3",
   "version": "3.7.6"
  }
 },
 "nbformat": 4,
 "nbformat_minor": 4
}
