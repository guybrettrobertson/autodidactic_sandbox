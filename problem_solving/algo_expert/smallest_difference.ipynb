{
 "cells": [
  {
   "cell_type": "markdown",
   "metadata": {},
   "source": [
    "# Smallest difference\n",
    "\n",
    "## Solution"
   ]
  },
  {
   "cell_type": "code",
   "execution_count": 1,
   "metadata": {},
   "outputs": [],
   "source": [
    "def smallest_difference(array_1, array_2):\n",
    "    '''\n",
    "    Finds the smallest absolute difference between a number in array_1 and a number in array_2.\n",
    "    Returns the two nums in a new array.\n",
    "    '''\n",
    "    \n",
    "    smallest_diff = float('inf')\n",
    "    \n",
    "    for num_1 in array_1:\n",
    "        for num_2 in array_2:\n",
    "            diff = abs(num_1 - num_2)\n",
    "            if diff < smallest_diff:\n",
    "                smallest_diff = diff\n",
    "                result = [num_1, num_2]\n",
    "    \n",
    "    return result"
   ]
  },
  {
   "cell_type": "markdown",
   "metadata": {},
   "source": [
    "### Testing"
   ]
  },
  {
   "cell_type": "code",
   "execution_count": 2,
   "metadata": {},
   "outputs": [],
   "source": [
    "array_1 = [0]\n",
    "array_2 = [0]\n",
    "actual = smallest_difference(array_1, array_2)\n",
    "expected = [0, 0]\n",
    "assert(actual == expected)"
   ]
  },
  {
   "cell_type": "code",
   "execution_count": 3,
   "metadata": {},
   "outputs": [],
   "source": [
    "array_1 = [0, 1, 2, 3, 4, 5]\n",
    "array_2 = [10, 11, 12, 13, 14]\n",
    "actual = smallest_difference(array_1, array_2)\n",
    "expected = [5, 10]\n",
    "assert(actual == expected)"
   ]
  },
  {
   "cell_type": "code",
   "execution_count": 4,
   "metadata": {},
   "outputs": [],
   "source": [
    "array_1 = [-1, 5, 10, 20, 28, 3]\n",
    "array_2 = [26, 134, 135, 15, 17]\n",
    "actual = smallest_difference(array_1, array_2)\n",
    "expected = [28, 26]\n",
    "assert(actual == expected)"
   ]
  },
  {
   "cell_type": "code",
   "execution_count": 5,
   "metadata": {},
   "outputs": [],
   "source": [
    "def smallest_difference(array_1, array_2):\n",
    "    '''\n",
    "    Finds the smallest absolute difference between a number in array_1 and a number in array_2.\n",
    "    Returns the two nums in a new array.\n",
    "    '''\n",
    "    \n",
    "    array_1.sort()\n",
    "    array_2.sort()\n",
    "    \n",
    "    i = 0\n",
    "    j = 0\n",
    "    \n",
    "    smallest_diff = abs(array_1[0] - array_2[0])\n",
    "    result = [array_1[0], array_2[0]]\n",
    "    \n",
    "    while i < len(array_1) and j < len(array_2):\n",
    "        num_1 = array_1[i]\n",
    "        num_2 = array_2[j]\n",
    "        \n",
    "        if abs(num_1 - num_2) < smallest_diff:\n",
    "            smallest_diff = abs(num_1 - num_2)\n",
    "            result = [num_1, num_2]\n",
    "            \n",
    "        if num_1 == num_2:\n",
    "            return [num_1, num_2]\n",
    "        elif num_1 < num_2:\n",
    "            i += 1\n",
    "        else:\n",
    "            j += 1\n",
    "    \n",
    "    return result"
   ]
  },
  {
   "cell_type": "markdown",
   "metadata": {},
   "source": [
    "### Testing"
   ]
  },
  {
   "cell_type": "code",
   "execution_count": 6,
   "metadata": {},
   "outputs": [],
   "source": [
    "array_1 = [0]\n",
    "array_2 = [0]\n",
    "actual = smallest_difference(array_1, array_2)\n",
    "expected = [0, 0]\n",
    "assert(actual == expected)"
   ]
  },
  {
   "cell_type": "code",
   "execution_count": 7,
   "metadata": {},
   "outputs": [],
   "source": [
    "array_1 = [0, 1, 2, 3, 4, 5]\n",
    "array_2 = [10, 11, 12, 13, 14]\n",
    "actual = smallest_difference(array_1, array_2)\n",
    "expected = [5, 10]\n",
    "assert(actual == expected)"
   ]
  },
  {
   "cell_type": "code",
   "execution_count": 8,
   "metadata": {},
   "outputs": [],
   "source": [
    "array_1 = [-1, 5, 10, 20, 28, 3]\n",
    "array_2 = [26, 134, 135, 15, 17]\n",
    "actual = smallest_difference(array_1, array_2)\n",
    "expected = [28, 26]\n",
    "assert(actual == expected)"
   ]
  }
 ],
 "metadata": {
  "kernelspec": {
   "display_name": "Python 3",
   "language": "python",
   "name": "python3"
  },
  "language_info": {
   "codemirror_mode": {
    "name": "ipython",
    "version": 3
   },
   "file_extension": ".py",
   "mimetype": "text/x-python",
   "name": "python",
   "nbconvert_exporter": "python",
   "pygments_lexer": "ipython3",
   "version": "3.7.6"
  }
 },
 "nbformat": 4,
 "nbformat_minor": 4
}
