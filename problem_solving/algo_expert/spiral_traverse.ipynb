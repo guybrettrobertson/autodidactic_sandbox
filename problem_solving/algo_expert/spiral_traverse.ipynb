{
 "cells": [
  {
   "cell_type": "markdown",
   "metadata": {},
   "source": [
    "# Spiral traverse\n",
    "\n",
    "## Solution"
   ]
  },
  {
   "cell_type": "code",
   "execution_count": 23,
   "metadata": {},
   "outputs": [],
   "source": [
    "def spiral_traverse(array):\n",
    "    '''Take an array and return its elements in clockwise spiral order.'''\n",
    "    \n",
    "    n = len(array)\n",
    "    m = len(array[0])\n",
    "    \n",
    "    row = 0\n",
    "    col = 0\n",
    "    output = []\n",
    "    \n",
    "    while n > 0 and m > 0:\n",
    "        # Traverse top row rightwards\n",
    "        for i in range(m - 1):\n",
    "            output.append(array[row][col])\n",
    "            col += 1\n",
    "        # Traverse right column downwards\n",
    "        for i in range(n - 1):\n",
    "            output.append(array[row][col])\n",
    "            row += 1\n",
    "        # Traverse bottom row leftwards\n",
    "        for i in range(m - 1):\n",
    "            output.append(array[row][col])\n",
    "            col -= 1\n",
    "        \n",
    "        # Edge case where there is only one row left\n",
    "        if n == 1:\n",
    "            break\n",
    "        \n",
    "        # Traverse left column upwards\n",
    "        for i in range(n - 2):\n",
    "            output.append(array[row][col])\n",
    "            row -= 1\n",
    "        output.append(array[row][col])\n",
    "        \n",
    "        col += 1\n",
    "        n -= 2\n",
    "        m -= 2\n",
    "    \n",
    "    return output"
   ]
  },
  {
   "cell_type": "markdown",
   "metadata": {},
   "source": [
    "### Testing"
   ]
  },
  {
   "cell_type": "code",
   "execution_count": 24,
   "metadata": {},
   "outputs": [],
   "source": [
    "array = [\n",
    "    [1, 2, 3, 4],\n",
    "    [12, 13, 14, 5],\n",
    "    [11, 16, 15, 6],\n",
    "    [10, 9, 8, 7]\n",
    "]\n",
    "assert(spiral_traverse(array) == list(range(1, 17)))"
   ]
  },
  {
   "cell_type": "code",
   "execution_count": 25,
   "metadata": {},
   "outputs": [],
   "source": [
    "array = [\n",
    "    [1, 2, 3, 4],\n",
    "    [10, 11, 12, 5],\n",
    "    [9, 8, 7, 6]\n",
    "]\n",
    "assert(spiral_traverse(array) == list(range(1, 13)))"
   ]
  }
 ],
 "metadata": {
  "kernelspec": {
   "display_name": "Python 3",
   "language": "python",
   "name": "python3"
  },
  "language_info": {
   "codemirror_mode": {
    "name": "ipython",
    "version": 3
   },
   "file_extension": ".py",
   "mimetype": "text/x-python",
   "name": "python",
   "nbconvert_exporter": "python",
   "pygments_lexer": "ipython3",
   "version": "3.7.6"
  }
 },
 "nbformat": 4,
 "nbformat_minor": 4
}
