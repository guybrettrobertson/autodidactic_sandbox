{
 "cells": [
  {
   "cell_type": "markdown",
   "metadata": {},
   "source": [
    "# Spiral traverse\n",
    "\n",
    "## Solution"
   ]
  },
  {
   "cell_type": "code",
   "execution_count": 84,
   "metadata": {},
   "outputs": [],
   "source": [
    "def spiral_traverse(array):\n",
    "    '''Take an array and return its elements in clockwise spiral order.'''\n",
    "    \n",
    "    n = len(array)\n",
    "    m = len(array[0])\n",
    "    \n",
    "    row = 0\n",
    "    col = 0\n",
    "    output = []\n",
    "    \n",
    "    while n > 0 and m > 0:\n",
    "        for i in range(m - 1):\n",
    "            output.append(array[row][col])\n",
    "            col += 1\n",
    "        for i in range(n - 1):\n",
    "            output.append(array[row][col])\n",
    "            row += 1\n",
    "        for i in range(m - 1):\n",
    "            output.append(array[row][col])\n",
    "            col -= 1\n",
    "        for i in range(n - 2):\n",
    "            output.append(array[row][col])\n",
    "            row -= 1\n",
    "        output.append(array[row][col])\n",
    "        col += 1\n",
    "        n -= 2\n",
    "        m -= 2\n",
    "    \n",
    "    return output[0:len(array) * len(array[0])]"
   ]
  },
  {
   "cell_type": "code",
   "execution_count": 85,
   "metadata": {},
   "outputs": [
    {
     "name": "stdout",
     "output_type": "stream",
     "text": [
      "[1, 2, 3, 4, 5, 6, 7, 8, 9, 10, 11, 12, 13, 14, 15, 16]\n"
     ]
    }
   ],
   "source": [
    "array = [\n",
    "    [1, 2, 3, 4],\n",
    "    [12, 13, 14, 5],\n",
    "    [11, 16, 15, 6],\n",
    "    [10, 9, 8, 7]\n",
    "]  \n",
    "print(spiral_traverse(array))"
   ]
  },
  {
   "cell_type": "code",
   "execution_count": 86,
   "metadata": {},
   "outputs": [
    {
     "data": {
      "text/plain": [
       "[1, 2, 3, 4, 5, 6, 7, 8, 9, 10, 11, 12]"
      ]
     },
     "execution_count": 86,
     "metadata": {},
     "output_type": "execute_result"
    }
   ],
   "source": [
    "array = [\n",
    "    [1, 2, 3, 4],\n",
    "    [10, 11, 12, 5],\n",
    "    [9, 8, 7, 6]\n",
    "]  \n",
    "spiral_traverse(array)"
   ]
  },
  {
   "cell_type": "code",
   "execution_count": null,
   "metadata": {},
   "outputs": [],
   "source": []
  },
  {
   "cell_type": "code",
   "execution_count": null,
   "metadata": {},
   "outputs": [],
   "source": []
  }
 ],
 "metadata": {
  "kernelspec": {
   "display_name": "Python 3",
   "language": "python",
   "name": "python3"
  },
  "language_info": {
   "codemirror_mode": {
    "name": "ipython",
    "version": 3
   },
   "file_extension": ".py",
   "mimetype": "text/x-python",
   "name": "python",
   "nbconvert_exporter": "python",
   "pygments_lexer": "ipython3",
   "version": "3.7.6"
  }
 },
 "nbformat": 4,
 "nbformat_minor": 4
}
