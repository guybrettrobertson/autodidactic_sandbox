{
 "cells": [
  {
   "cell_type": "markdown",
   "metadata": {},
   "source": [
    "# Staircase traversal\n",
    "\n",
    "You're given two positive integers representing the height of a staircase and the maximum number of steps that you can advance up a staircase at a time. Write a function that returns the numbers of ways you can climb the staircase.\n",
    "\n",
    "For example, if you were given a staircase of height = 3 and max_steps = 2, you could climb the staircase in 3 ways. You could take 1 step, 1 step, and 1 step; 1 step and 2 steps; or 2 steps and 1 step.\n",
    "\n",
    "Note that max_steps <= height will always be true.\n",
    "\n",
    "## Solution"
   ]
  },
  {
   "cell_type": "code",
   "execution_count": 33,
   "metadata": {},
   "outputs": [],
   "source": [
    "def staircase_traversal(height, max_steps):\n",
    "    '''Find the number of ways you can climb the staircase.'''\n",
    "    print('call')\n",
    "    if height <= 1:\n",
    "        return 1\n",
    "    \n",
    "    ways = 0\n",
    "    step = height - 1\n",
    "    while step >= 0 and step >= height - max_steps:\n",
    "        print(step)\n",
    "        ways += staircase_traversal(step, max_steps)\n",
    "        step -= 1\n",
    "\n",
    "    return ways"
   ]
  },
  {
   "cell_type": "markdown",
   "metadata": {},
   "source": [
    "### Testing"
   ]
  },
  {
   "cell_type": "code",
   "execution_count": 34,
   "metadata": {},
   "outputs": [
    {
     "name": "stdout",
     "output_type": "stream",
     "text": [
      "call\n",
      "2\n",
      "call\n",
      "1\n",
      "call\n",
      "0\n",
      "call\n",
      "1\n",
      "call\n"
     ]
    },
    {
     "data": {
      "text/plain": [
       "3"
      ]
     },
     "execution_count": 34,
     "metadata": {},
     "output_type": "execute_result"
    }
   ],
   "source": [
    "staircase_traversal(3, 2)"
   ]
  },
  {
   "cell_type": "code",
   "execution_count": 35,
   "metadata": {},
   "outputs": [
    {
     "name": "stdout",
     "output_type": "stream",
     "text": [
      "call\n",
      "3\n",
      "call\n",
      "2\n",
      "call\n",
      "1\n",
      "call\n",
      "0\n",
      "call\n",
      "1\n",
      "call\n",
      "0\n",
      "call\n",
      "2\n",
      "call\n",
      "1\n",
      "call\n",
      "0\n",
      "call\n",
      "1\n",
      "call\n"
     ]
    },
    {
     "data": {
      "text/plain": [
       "7"
      ]
     },
     "execution_count": 35,
     "metadata": {},
     "output_type": "execute_result"
    }
   ],
   "source": [
    "staircase_traversal(4, 3)"
   ]
  },
  {
   "cell_type": "code",
   "execution_count": null,
   "metadata": {},
   "outputs": [],
   "source": []
  }
 ],
 "metadata": {
  "kernelspec": {
   "display_name": "Python 3",
   "language": "python",
   "name": "python3"
  },
  "language_info": {
   "codemirror_mode": {
    "name": "ipython",
    "version": 3
   },
   "file_extension": ".py",
   "mimetype": "text/x-python",
   "name": "python",
   "nbconvert_exporter": "python",
   "pygments_lexer": "ipython3",
   "version": "3.7.6"
  }
 },
 "nbformat": 4,
 "nbformat_minor": 4
}
