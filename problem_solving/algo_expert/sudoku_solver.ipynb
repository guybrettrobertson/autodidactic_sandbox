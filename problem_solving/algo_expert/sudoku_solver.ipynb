{
 "cells": [
  {
   "cell_type": "markdown",
   "metadata": {},
   "source": [
    "# Sudoku solver\n",
    "\n",
    "## Solution"
   ]
  },
  {
   "cell_type": "code",
   "execution_count": 58,
   "metadata": {},
   "outputs": [],
   "source": [
    "def sudoku_solver(board):\n",
    "    '''Solve the sudoku.'''\n",
    "\n",
    "def check_value(board, row, col, value):\n",
    "    '''Check if the board could be a valid sudoku arrangement.'''\n",
    "    \n",
    "    is_valid_row = value not in board[row]\n",
    "    is_valid_col = value not in map(lambda r: r[col], board)\n",
    "    if not is_valid_row or not is_valid_col:\n",
    "        return False\n",
    "    \n",
    "    row = (row // 3) * 3\n",
    "    col = (col // 3) * 3\n",
    "    for i in range(3):\n",
    "        for j in range(3):\n",
    "            if value == board[row + i][col + j]:\n",
    "                print(board[row + i][col + j])\n",
    "                return False\n",
    "    \n",
    "    return True"
   ]
  },
  {
   "cell_type": "markdown",
   "metadata": {},
   "source": [
    "### Testing"
   ]
  },
  {
   "cell_type": "code",
   "execution_count": 59,
   "metadata": {},
   "outputs": [
    {
     "name": "stdout",
     "output_type": "stream",
     "text": [
      "0\n",
      "4\n",
      "0\n",
      "0\n",
      "5\n",
      "0\n",
      "0\n",
      "6\n",
      "0\n"
     ]
    },
    {
     "data": {
      "text/plain": [
       "True"
      ]
     },
     "execution_count": 59,
     "metadata": {},
     "output_type": "execute_result"
    }
   ],
   "source": [
    "board = [\n",
    "    [7, 8, 0, 4, 0, 0, 1, 2, 0],\n",
    "    [6, 0, 0, 0, 7, 5, 0, 0, 9],\n",
    "    [0, 0, 0, 6, 0, 1, 0, 7, 8],\n",
    "    [0, 0, 7, 0, 4, 0, 2, 6, 0],\n",
    "    [0, 0, 1, 0, 5, 0, 9, 3, 0],\n",
    "    [9, 0, 4, 0, 6, 0, 0, 0, 5],\n",
    "    [0, 7, 0, 3, 0, 0, 0, 1, 2],\n",
    "    [1, 2, 0, 0, 0, 7, 4, 0, 0],\n",
    "    [0, 4, 9, 2, 0, 6, 0, 0, 7],\n",
    "]\n",
    "check_value(board, 4, 4, 2)"
   ]
  },
  {
   "cell_type": "code",
   "execution_count": null,
   "metadata": {},
   "outputs": [],
   "source": []
  }
 ],
 "metadata": {
  "kernelspec": {
   "display_name": "Python 3",
   "language": "python",
   "name": "python3"
  },
  "language_info": {
   "codemirror_mode": {
    "name": "ipython",
    "version": 3
   },
   "file_extension": ".py",
   "mimetype": "text/x-python",
   "name": "python",
   "nbconvert_exporter": "python",
   "pygments_lexer": "ipython3",
   "version": "3.7.6"
  }
 },
 "nbformat": 4,
 "nbformat_minor": 4
}
