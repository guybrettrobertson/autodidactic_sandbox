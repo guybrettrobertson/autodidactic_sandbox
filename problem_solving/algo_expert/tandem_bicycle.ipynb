{
 "cells": [
  {
   "cell_type": "markdown",
   "metadata": {},
   "source": [
    "# Tendem bicycle\n",
    "\n",
    "A tandem bicycle is a bicycle that's operated by two people: person A and person B. Both people pedal the bicycle, but the person that pedals faster dictates the speed of the bicycle. So if person A pedals at speed of 5, and person B pedals at speed of 4, the tandem bicycle moves at a speed of 5 (i.e., tandem_speed = max(speed_A, speed_B).\n",
    "\n",
    "You're given two lists of positive integers: one that contains the speeds of riders wearing red shirts and one that contains the speeds of riders wearing blue shirts. Each rider is represented by a single positive integer, which is the speed that they pedal a tandem bicycle at. Both lists have the same length, meaning that there are as many red-shirt riders as there are blue-shirt riders. Your goal is to pair every rider wearing a red shirt with a rider wearing a blue shirt to operate a tandem bicycle.\n",
    "\n",
    "Write a function that returns the maximum possible total speed or the minimum possible total speed of all of the tandem bicycles being ridden based on an input parameter, fastest. If fastest=True, your function should return the maximum possible total speed; otherwise it should return the minimum total speed.\n",
    "\n",
    "'Total speed' is defined as the sum of the speeds of all the tandem bicyles being ridden. For example, if there are 4 riders (2 red-shirt riders and 2 blue-shirt riders) who have speeds of 1, 3, 4, 5, and if they're paired on tandem bicycles as follows: [1, 4], [5, 3], then the total speed of these tandem bicycles is 4 + 5 = 9.\n",
    "\n",
    "## Solution"
   ]
  },
  {
   "cell_type": "code",
   "execution_count": 1,
   "metadata": {},
   "outputs": [],
   "source": [
    "def tandem_bicycle(red_shirt_speeds, blue_shirt_speeds, fastest):\n",
    "    \n",
    "    red_shirt_speeds.sort()\n",
    "    blue_shirt_speeds.sort(reverse=fastest)\n",
    "    \n",
    "    total = 0\n",
    "    for i in range(len(red_shirt_speeds)):\n",
    "        total += max(red_shirt_speeds[i], blue_shirt_speeds[i])\n",
    "    \n",
    "    return total"
   ]
  },
  {
   "cell_type": "markdown",
   "metadata": {},
   "source": [
    "### Testing"
   ]
  },
  {
   "cell_type": "code",
   "execution_count": 2,
   "metadata": {},
   "outputs": [],
   "source": [
    "red_shirt_speeds = []\n",
    "blue_shirt_speeds = []\n",
    "fastest = True\n",
    "assert tandem_bicycle(red_shirt_speeds, blue_shirt_speeds, fastest) == 0\n",
    "fastest = False\n",
    "assert tandem_bicycle(red_shirt_speeds, blue_shirt_speeds, fastest) == 0"
   ]
  },
  {
   "cell_type": "code",
   "execution_count": 3,
   "metadata": {},
   "outputs": [],
   "source": [
    "red_shirt_speeds = [1]\n",
    "blue_shirt_speeds = [1]\n",
    "fastest = True\n",
    "assert tandem_bicycle(red_shirt_speeds, blue_shirt_speeds, fastest) == 1\n",
    "fastest = False\n",
    "assert tandem_bicycle(red_shirt_speeds, blue_shirt_speeds, fastest) == 1"
   ]
  },
  {
   "cell_type": "code",
   "execution_count": 4,
   "metadata": {},
   "outputs": [],
   "source": [
    "red_shirt_speeds = [5, 5, 3, 9, 2]\n",
    "blue_shirt_speeds = [3, 6, 7, 2, 1]\n",
    "fastest = True\n",
    "assert tandem_bicycle(red_shirt_speeds, blue_shirt_speeds, fastest) == 32\n",
    "fastest = False\n",
    "assert tandem_bicycle(red_shirt_speeds, blue_shirt_speeds, fastest) == 25"
   ]
  },
  {
   "cell_type": "code",
   "execution_count": 5,
   "metadata": {},
   "outputs": [],
   "source": [
    "red_shirt_speeds = [3, 3, 4, 6, 1, 2]\n",
    "blue_shirt_speeds = [1, 2, 1, 9, 12, 3]\n",
    "fastest = False\n",
    "assert tandem_bicycle(red_shirt_speeds, blue_shirt_speeds, fastest) == 30\n",
    "fastest = True\n",
    "assert tandem_bicycle(red_shirt_speeds, blue_shirt_speeds, fastest) == 37"
   ]
  }
 ],
 "metadata": {
  "kernelspec": {
   "display_name": "Python 3",
   "language": "python",
   "name": "python3"
  },
  "language_info": {
   "codemirror_mode": {
    "name": "ipython",
    "version": 3
   },
   "file_extension": ".py",
   "mimetype": "text/x-python",
   "name": "python",
   "nbconvert_exporter": "python",
   "pygments_lexer": "ipython3",
   "version": "3.6.5"
  }
 },
 "nbformat": 4,
 "nbformat_minor": 2
}
