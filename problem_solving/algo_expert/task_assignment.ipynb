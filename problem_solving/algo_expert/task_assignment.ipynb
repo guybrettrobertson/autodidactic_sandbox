{
 "cells": [
  {
   "cell_type": "markdown",
   "metadata": {},
   "source": [
    "# Task assignment\n",
    "\n",
    "You're given an integer k representing a number of workers and an array of positive integers representing durations of tasks that must be completed by the workers. Specifically, each worker must complete two unique tasks and can only work on one task at a time. The number of tasks will always be equal to 2k such that each worker always has exactly two tasks to complete. Workers will complete their assigned tasks in parallel, and the time taken to complete all tasks will be equal to the time taken to complete the longest pair of tasks.\n",
    "\n",
    "Write a function that returns the optimal assignment of tasks to each worker such that the tasks are completed as fast as possible. Your function should return a list of pairs, where each pair stoes the indices of the tasks that should be completed by one worker. The pairs should be in the following format: [task_1, task_2], where the order of task_1 and task_2 doesn't matter. Your function can return the pairs in any order. If multiple optimal assignments exist, any correct answer will be accepted.\n",
    "\n",
    "Note: you'll always be given at least one worker (i.e., k will always be greater than 0).\n",
    "\n",
    "## Solution\n",
    "\n",
    "1. Generate a dictionary with the elements in tasks as keys and their positions as values.\n",
    "2. "
   ]
  },
  {
   "cell_type": "code",
   "execution_count": 66,
   "metadata": {},
   "outputs": [],
   "source": [
    "def task_assignment(k, tasks):\n",
    "    '''Find the optimal assignment of tasks to each worker.'''\n",
    "\n",
    "    idx_order = {}\n",
    "    \n",
    "    for i, num in enumerate(tasks):\n",
    "        if num in idx_order.keys():\n",
    "            idx_order[num].append(i)\n",
    "        else:\n",
    "            idx_order[num] = [i]\n",
    "    \n",
    "    print(idx_order)\n",
    "    sorted_tasks = sorted(tasks)\n",
    "    output = []\n",
    "    for i in range(k):\n",
    "        output.append([idx_order[sorted_tasks[i]].pop()])\n",
    "        output[i].append(idx_order[sorted_tasks[2 * k - 1 - i]].pop())\n",
    "    \n",
    "    return output"
   ]
  },
  {
   "cell_type": "code",
   "execution_count": 65,
   "metadata": {},
   "outputs": [
    {
     "name": "stdout",
     "output_type": "stream",
     "text": [
      "{3: [0], 1: [1, 2], 4: [3]}\n",
      "{3: [0], 1: [1], 4: []}\n",
      "{3: [], 1: [], 4: []}\n",
      "[[2, 3], [1, 0]]\n"
     ]
    }
   ],
   "source": [
    "k = 2\n",
    "tasks = [3, 1, 1, 4]\n",
    "task_assignment(k, tasks)"
   ]
  },
  {
   "cell_type": "code",
   "execution_count": 10,
   "metadata": {},
   "outputs": [],
   "source": [
    "d = {}"
   ]
  },
  {
   "cell_type": "code",
   "execution_count": 57,
   "metadata": {},
   "outputs": [
    {
     "name": "stdout",
     "output_type": "stream",
     "text": [
      "[1, 2]\n",
      "[3]\n"
     ]
    }
   ],
   "source": [
    "a = [1, 2, 3]\n",
    "b = []\n",
    "b.append(a.pop())\n",
    "print(a)\n",
    "print(b)"
   ]
  },
  {
   "cell_type": "code",
   "execution_count": null,
   "metadata": {},
   "outputs": [],
   "source": []
  }
 ],
 "metadata": {
  "kernelspec": {
   "display_name": "Python 3",
   "language": "python",
   "name": "python3"
  },
  "language_info": {
   "codemirror_mode": {
    "name": "ipython",
    "version": 3
   },
   "file_extension": ".py",
   "mimetype": "text/x-python",
   "name": "python",
   "nbconvert_exporter": "python",
   "pygments_lexer": "ipython3",
   "version": "3.7.6"
  }
 },
 "nbformat": 4,
 "nbformat_minor": 4
}
