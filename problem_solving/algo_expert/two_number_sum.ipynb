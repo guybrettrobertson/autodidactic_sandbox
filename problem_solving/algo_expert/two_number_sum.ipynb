{
 "cells": [
  {
   "cell_type": "markdown",
   "metadata": {},
   "source": [
    "# Two number sum"
   ]
  },
  {
   "cell_type": "markdown",
   "metadata": {},
   "source": [
    "## Solution 1\n",
    "\n",
    "Time: $O(N^2)$<br>\n",
    "Space: $O(1)$"
   ]
  },
  {
   "cell_type": "code",
   "execution_count": 1,
   "metadata": {},
   "outputs": [],
   "source": [
    "def two_number_sum_1(array, target):\n",
    "    '''\n",
    "    Find the two numbers in the array which sum to the target.\n",
    "    '''\n",
    "    \n",
    "    n = len(array)\n",
    "    \n",
    "    for i in range(n-1):\n",
    "        firstNum = array[i]\n",
    "        for j in range(i+1, n):\n",
    "            secondNum = array[j]\n",
    "            if firstNum + secondNum == target:\n",
    "                return [secondNum, firstNum]\n",
    "    \n",
    "    return []"
   ]
  },
  {
   "cell_type": "markdown",
   "metadata": {},
   "source": [
    "### Testing"
   ]
  },
  {
   "cell_type": "code",
   "execution_count": 2,
   "metadata": {},
   "outputs": [],
   "source": [
    "array = [3, 5, -4, 8, 11, 1, -1, 6]\n",
    "target = 10\n",
    "output = two_number_sum_1(array, target)\n",
    "assert(11 in output)\n",
    "assert(-1 in output)"
   ]
  },
  {
   "cell_type": "code",
   "execution_count": 3,
   "metadata": {},
   "outputs": [],
   "source": [
    "array = [3, 5, -4, 8, 11, 1, -1, 6]\n",
    "target = 100000\n",
    "output = two_number_sum_1(array, target)\n",
    "assert(len(output) == 0)"
   ]
  },
  {
   "cell_type": "markdown",
   "metadata": {},
   "source": [
    "## Solution 2\n",
    "\n",
    "Time: $O(N)$<br>\n",
    "Space: $O(N)$"
   ]
  },
  {
   "cell_type": "code",
   "execution_count": 4,
   "metadata": {},
   "outputs": [],
   "source": [
    "def two_number_sum_2(array, target):\n",
    "    '''\n",
    "    Find the two numbers in the array which sum to the target.\n",
    "    '''\n",
    "    nums_checked = {}\n",
    "    \n",
    "    for num in array:\n",
    "        potential_match = target - num\n",
    "        if potential_match in nums_checked:\n",
    "            return [potential_match, num]\n",
    "        else:\n",
    "            nums_checked[num] = True\n",
    "    return []"
   ]
  },
  {
   "cell_type": "markdown",
   "metadata": {},
   "source": [
    "### Testing"
   ]
  },
  {
   "cell_type": "code",
   "execution_count": 5,
   "metadata": {},
   "outputs": [],
   "source": [
    "array = [3, 5, -4, 8, 11, 1, -1, 6]\n",
    "target = 10\n",
    "output = two_number_sum_2(array, target)\n",
    "assert(11 in output)\n",
    "assert(-1 in output)"
   ]
  },
  {
   "cell_type": "code",
   "execution_count": 6,
   "metadata": {},
   "outputs": [],
   "source": [
    "array = [3, 5, -4, 8, 11, 1, -1, 6]\n",
    "target = 100000\n",
    "output = two_number_sum_2(array, target)\n",
    "assert(len(output) == 0)"
   ]
  },
  {
   "cell_type": "markdown",
   "metadata": {},
   "source": [
    "## Solution 3\n",
    "\n",
    "Time: $O(NlogN)$<br>\n",
    "Space: $O(1)$"
   ]
  },
  {
   "cell_type": "code",
   "execution_count": 7,
   "metadata": {},
   "outputs": [],
   "source": [
    "def two_number_sum_3(array, target):\n",
    "    '''\n",
    "    Find the two numbers in the array which sum to the target.\n",
    "    '''\n",
    "    \n",
    "    array.sort()\n",
    "    \n",
    "    i = 0\n",
    "    j = len(array) - 1\n",
    "    \n",
    "    while i < j:\n",
    "        numSum = array[i] + array[j]\n",
    "        if numSum == target:\n",
    "            return [array[i], array[j]]\n",
    "        elif numSum > target:\n",
    "            j -= 1\n",
    "        else:\n",
    "            i += 1\n",
    "    \n",
    "    return []"
   ]
  },
  {
   "cell_type": "markdown",
   "metadata": {},
   "source": [
    "### Testing"
   ]
  },
  {
   "cell_type": "code",
   "execution_count": 8,
   "metadata": {},
   "outputs": [],
   "source": [
    "array = [3, 5, -4, 8, 11, 1, -1, 6]\n",
    "target = 10\n",
    "output = two_number_sum_3(array, target)\n",
    "assert(11 in output)\n",
    "assert(-1 in output)"
   ]
  },
  {
   "cell_type": "code",
   "execution_count": 9,
   "metadata": {},
   "outputs": [],
   "source": [
    "array = [3, 5, -4, 8, 11, 1, -1, 6]\n",
    "target = 100000\n",
    "output = two_number_sum_3(array, target)\n",
    "assert(len(output) == 0)"
   ]
  }
 ],
 "metadata": {
  "kernelspec": {
   "display_name": "Python 3",
   "language": "python",
   "name": "python3"
  },
  "language_info": {
   "codemirror_mode": {
    "name": "ipython",
    "version": 3
   },
   "file_extension": ".py",
   "mimetype": "text/x-python",
   "name": "python",
   "nbconvert_exporter": "python",
   "pygments_lexer": "ipython3",
   "version": "3.7.6"
  }
 },
 "nbformat": 4,
 "nbformat_minor": 4
}
