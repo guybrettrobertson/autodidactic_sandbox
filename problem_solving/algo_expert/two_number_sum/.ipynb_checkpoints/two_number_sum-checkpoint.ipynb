{
 "cells": [
  {
   "cell_type": "markdown",
   "metadata": {},
   "source": [
    "# Two number sum"
   ]
  },
  {
   "cell_type": "markdown",
   "metadata": {},
   "source": [
    "## Solution 1"
   ]
  },
  {
   "cell_type": "code",
   "execution_count": 10,
   "metadata": {},
   "outputs": [],
   "source": [
    "def two_number_sum_1(array, target):\n",
    "    '''\n",
    "    Find the two numbers in the array which sum to the target.\n",
    "    '''\n",
    "    \n",
    "    n = len(array)\n",
    "    \n",
    "    for i in range(n-1):\n",
    "        firstNum = array[i]\n",
    "        for j in range(i+1, n):\n",
    "            secondNum = array[j]\n",
    "            if firstNum + secondNum == target:\n",
    "                return [secondNum, firstNum]\n",
    "    \n",
    "    return []"
   ]
  },
  {
   "cell_type": "markdown",
   "metadata": {},
   "source": [
    "### Testing"
   ]
  },
  {
   "cell_type": "code",
   "execution_count": 5,
   "metadata": {},
   "outputs": [],
   "source": [
    "array = [3, 5, -4, 8, 11, 1, -1, 6]\n",
    "target = 10\n",
    "output = two_number_sum_1(array, target)\n",
    "assert(11 in output)\n",
    "assert(-1 in output)"
   ]
  },
  {
   "cell_type": "code",
   "execution_count": 6,
   "metadata": {},
   "outputs": [],
   "source": [
    "array = [3, 5, -4, 8, 11, 1, -1, 6]\n",
    "target = 100000\n",
    "output = two_number_sum_1(array, target)\n",
    "assert(len(output) == 0)"
   ]
  },
  {
   "cell_type": "markdown",
   "metadata": {},
   "source": [
    "## Solution 2"
   ]
  },
  {
   "cell_type": "code",
   "execution_count": 7,
   "metadata": {},
   "outputs": [],
   "source": [
    "def two_number_sum_2(array, target):\n",
    "    '''\n",
    "    Find the two numbers in the array which sum to the target.\n",
    "    '''\n",
    "    nums_checked = {}\n",
    "    \n",
    "    for num in array:\n",
    "        potential_match = target - num\n",
    "        if potential_match in nums_checked:\n",
    "            return [potential_match, num]\n",
    "        else:\n",
    "            nums_checked[num] = True\n",
    "    return []"
   ]
  },
  {
   "cell_type": "markdown",
   "metadata": {},
   "source": [
    "### Testing"
   ]
  },
  {
   "cell_type": "code",
   "execution_count": 8,
   "metadata": {},
   "outputs": [],
   "source": [
    "array = [3, 5, -4, 8, 11, 1, -1, 6]\n",
    "target = 10\n",
    "output = two_number_sum_2(array, target)\n",
    "assert(11 in output)\n",
    "assert(-1 in output)"
   ]
  },
  {
   "cell_type": "code",
   "execution_count": 9,
   "metadata": {},
   "outputs": [],
   "source": [
    "array = [3, 5, -4, 8, 11, 1, -1, 6]\n",
    "target = 100000\n",
    "output = two_number_sum_2(array, target)\n",
    "assert(len(output) == 0)"
   ]
  }
 ],
 "metadata": {
  "kernelspec": {
   "display_name": "Python 3",
   "language": "python",
   "name": "python3"
  },
  "language_info": {
   "codemirror_mode": {
    "name": "ipython",
    "version": 3
   },
   "file_extension": ".py",
   "mimetype": "text/x-python",
   "name": "python",
   "nbconvert_exporter": "python",
   "pygments_lexer": "ipython3",
   "version": "3.7.6"
  }
 },
 "nbformat": 4,
 "nbformat_minor": 4
}
