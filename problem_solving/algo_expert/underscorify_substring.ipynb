{
 "cells": [
  {
   "cell_type": "markdown",
   "metadata": {},
   "source": [
    "# Underscorify substring\n",
    "\n",
    "Write a function that takes in two strings: a main string and a potential substring of the main string. The function should return a version of the main string with every instance of the substring in it wrapped between underscores.\n",
    "\n",
    "If two or more instances of the substring in the main string overlap each other or sit side by side, the underscores relevant to  these substrings should only appear on the far left of the leftmost subtring and far right of the rightmost substring. If the main string doesn't contain the other string at all, the function should return the main string intact.\n",
    "\n",
    "## Solution"
   ]
  },
  {
   "cell_type": "code",
   "execution_count": 1,
   "metadata": {},
   "outputs": [],
   "source": [
    "def underscorify_substring(string, substring):\n",
    "    '''\n",
    "    Find a version of the main string with every instance of the \n",
    "    sunbstring wrapped between underscores.\n",
    "    '''\n",
    "    \n",
    "    n = len(string)\n",
    "    m = len(substring)\n",
    "    \n",
    "    match_array = [False for _ in range(n)]\n",
    "    \n",
    "    for i in range(n):\n",
    "        if is_substring(string, substring, i):\n",
    "            match_array[i : i + m] = [True] * m\n",
    "    \n",
    "    if match_array[0] == True:\n",
    "        output = '_' + string[0]\n",
    "    else:\n",
    "        output = string[0]\n",
    "    \n",
    "    for i in range(1, n):\n",
    "        if match_array[i - 1] ^ match_array[i]:\n",
    "            output += '_' + string[i]\n",
    "        else:\n",
    "            output += string[i]\n",
    "    \n",
    "    if match_array[-1]:\n",
    "        output += '_'\n",
    "    \n",
    "    return output\n",
    "            \n",
    "    \n",
    "def is_substring(string, substring, i):\n",
    "    '''\n",
    "    Finds if the substring is found in string starting at i.\n",
    "    '''\n",
    "    \n",
    "    if i + len(substring) > len(string):\n",
    "        return False\n",
    "    \n",
    "    return string[i : i + len(substring)] == substring"
   ]
  },
  {
   "cell_type": "markdown",
   "metadata": {},
   "source": [
    "### Testing"
   ]
  },
  {
   "cell_type": "code",
   "execution_count": 2,
   "metadata": {},
   "outputs": [],
   "source": [
    "assert is_substring('a', 'a', 0) == True\n",
    "assert is_substring('ab', 'b', 1) == True\n",
    "assert is_substring('aabcaaa', 'abc', 0) == False\n",
    "assert is_substring('aabcaaa', 'abc', 1) == True\n",
    "assert is_substring('aabcaaa', 'abc', 2) == False"
   ]
  },
  {
   "cell_type": "code",
   "execution_count": 3,
   "metadata": {},
   "outputs": [],
   "source": [
    "string = 'testthis is a testtest to see if testestest it works'\n",
    "substring = 'test'\n",
    "assert underscorify_substring(string, substring) == '_test_this is a _testtest_ to see if _testestest_ it works'"
   ]
  },
  {
   "cell_type": "code",
   "execution_count": 4,
   "metadata": {},
   "outputs": [],
   "source": [
    "string = 'this is a test to see if it works'\n",
    "substring = 'test'\n",
    "assert underscorify_substring(string, substring) == 'this is a _test_ to see if it works'"
   ]
  },
  {
   "cell_type": "code",
   "execution_count": 5,
   "metadata": {},
   "outputs": [],
   "source": [
    "string = 'ttttttttttttttbtttttctatawtatttttastvb'\n",
    "substring = 'ttt'\n",
    "assert underscorify_substring(string, substring) == '_tttttttttttttt_b_ttttt_ctatawta_ttttt_astvb'"
   ]
  }
 ],
 "metadata": {
  "kernelspec": {
   "display_name": "Python 3",
   "language": "python",
   "name": "python3"
  },
  "language_info": {
   "codemirror_mode": {
    "name": "ipython",
    "version": 3
   },
   "file_extension": ".py",
   "mimetype": "text/x-python",
   "name": "python",
   "nbconvert_exporter": "python",
   "pygments_lexer": "ipython3",
   "version": "3.7.6"
  }
 },
 "nbformat": 4,
 "nbformat_minor": 4
}
