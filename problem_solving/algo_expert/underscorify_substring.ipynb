{
 "cells": [
  {
   "cell_type": "markdown",
   "metadata": {},
   "source": [
    "# Underscorify substring\n",
    "\n",
    "Write a function that takes in two strings: a main string and a potential substring of the main string. The function should return a version of the main string with every instance of the substring in it wrapped between underscores.\n",
    "\n",
    "If two or more instances of the substring in the main string overlap each other or sit side by side, the underscores relevant to  these substrings should only appear on the far left of the leftmost subtring and far right of the rightmost substring. If the main string doesn't contain the other string at all, the function should return the main string intact.\n",
    "\n",
    "## Solution"
   ]
  },
  {
   "cell_type": "code",
   "execution_count": 7,
   "metadata": {},
   "outputs": [],
   "source": [
    "def underscorify_substring(string, substring):\n",
    "    '''\n",
    "    Find a version of the main string with every instance of the \n",
    "    sunbstring wrapped between underscores.\n",
    "    '''\n",
    "    \n",
    "def is_substring(string, substring, i):\n",
    "    '''\n",
    "    Finds if the substring is found in string starting at i.\n",
    "    '''\n",
    "    \n",
    "    n = len(string)\n",
    "    m = len(substring)\n",
    "    \n",
    "    if i + m > n:\n",
    "        return False\n",
    "    \n",
    "    return string[i : i + m] == substring"
   ]
  },
  {
   "cell_type": "markdown",
   "metadata": {},
   "source": [
    "### Testing"
   ]
  },
  {
   "cell_type": "code",
   "execution_count": 3,
   "metadata": {},
   "outputs": [],
   "source": [
    "underscorify_substring('testthis is a testtest to see if testestest it works', 'test')"
   ]
  },
  {
   "cell_type": "code",
   "execution_count": 6,
   "metadata": {},
   "outputs": [
    {
     "data": {
      "text/plain": [
       "'bc'"
      ]
     },
     "execution_count": 6,
     "metadata": {},
     "output_type": "execute_result"
    }
   ],
   "source": [
    "'abcdef'[1:3]"
   ]
  },
  {
   "cell_type": "code",
   "execution_count": null,
   "metadata": {},
   "outputs": [],
   "source": [
    "'abcdef'\n",
    "'abc'"
   ]
  }
 ],
 "metadata": {
  "kernelspec": {
   "display_name": "Python 3",
   "language": "python",
   "name": "python3"
  },
  "language_info": {
   "codemirror_mode": {
    "name": "ipython",
    "version": 3
   },
   "file_extension": ".py",
   "mimetype": "text/x-python",
   "name": "python",
   "nbconvert_exporter": "python",
   "pygments_lexer": "ipython3",
   "version": "3.7.6"
  }
 },
 "nbformat": 4,
 "nbformat_minor": 4
}
