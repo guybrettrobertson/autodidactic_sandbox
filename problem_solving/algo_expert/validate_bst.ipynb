{
 "cells": [
  {
   "cell_type": "markdown",
   "metadata": {},
   "source": [
    "# Validate binary search tree\n",
    "\n",
    "## Solution"
   ]
  },
  {
   "cell_type": "code",
   "execution_count": 1,
   "metadata": {},
   "outputs": [],
   "source": [
    "class BST:\n",
    "    def __init__(self, value):\n",
    "        self.value = value\n",
    "        self.left = None\n",
    "        self.right = None\n",
    "\n",
    "def validate_bst(tree, min_value=float('-inf'), max_value=float('inf')):\n",
    "    if tree is None:\n",
    "        return True\n",
    "    if tree.value < min_value or tree.value >= max_value:\n",
    "        return False\n",
    "    else:\n",
    "        is_left_valid = validate_bst(tree.left, min_value, tree.value)\n",
    "        is_right_valid = validate_bst(tree.right, tree.value, max_value)\n",
    "        return is_left_valid and is_right_valid"
   ]
  },
  {
   "cell_type": "markdown",
   "metadata": {},
   "source": [
    "### Testing"
   ]
  },
  {
   "cell_type": "code",
   "execution_count": 2,
   "metadata": {},
   "outputs": [],
   "source": [
    "root = BST(10)\n",
    "root.left = BST(5)\n",
    "root.left.left = BST(2)\n",
    "root.left.left.left = BST(1)\n",
    "root.left.right = BST(5)\n",
    "root.right = BST(15)\n",
    "root.right.left = BST(13)\n",
    "root.right.left.right = BST(14)\n",
    "root.right.right = BST(22)\n",
    "assert(validate_bst(root) == True)"
   ]
  }
 ],
 "metadata": {
  "kernelspec": {
   "display_name": "Python 3",
   "language": "python",
   "name": "python3"
  },
  "language_info": {
   "codemirror_mode": {
    "name": "ipython",
    "version": 3
   },
   "file_extension": ".py",
   "mimetype": "text/x-python",
   "name": "python",
   "nbconvert_exporter": "python",
   "pygments_lexer": "ipython3",
   "version": "3.7.6"
  }
 },
 "nbformat": 4,
 "nbformat_minor": 4
}
