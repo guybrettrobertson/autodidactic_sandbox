{
 "cells": [
  {
   "cell_type": "markdown",
   "metadata": {},
   "source": [
    "# Water area\n",
    "\n",
    "You're given an array of non-negative integers where each non-zero integer represents the height of a pillar of width 1. Imagine water being poured over all of the pillars; write a function that returns the surface area of the water trapped between the pillars viewed from the front. Note that spilled water should be ignored.\n",
    "\n",
    "## Solution"
   ]
  },
  {
   "cell_type": "code",
   "execution_count": 1,
   "metadata": {},
   "outputs": [],
   "source": [
    "def water_area(heights):\n",
    "    ''' Find the surface area of the water trapped between the pillars viewed from the front.'''\n",
    "    \n",
    "    n = len(heights)\n",
    "    highest_left_array = [0 for _ in heights]\n",
    "    highest_left = 0\n",
    "    highest_right_array = [0 for _ in heights]\n",
    "    highest_right = 0\n",
    "    \n",
    "    for i in range(n):\n",
    "        highest_left_array[i] = highest_left\n",
    "        highest_left = max(highest_left, heights[i])\n",
    "        highest_right_array[n - i - 1] = highest_right\n",
    "        highest_right = max(highest_right, heights[n - i - 1])\n",
    "    \n",
    "    area = 0\n",
    "    \n",
    "    for i in range(n):\n",
    "        area += max(0, min(highest_left_array[i], highest_right_array[i]) - heights[i])\n",
    "    \n",
    "    return area"
   ]
  },
  {
   "cell_type": "code",
   "execution_count": null,
   "metadata": {},
   "outputs": [],
   "source": []
  }
 ],
 "metadata": {
  "kernelspec": {
   "display_name": "Python 3",
   "language": "python",
   "name": "python3"
  },
  "language_info": {
   "codemirror_mode": {
    "name": "ipython",
    "version": 3
   },
   "file_extension": ".py",
   "mimetype": "text/x-python",
   "name": "python",
   "nbconvert_exporter": "python",
   "pygments_lexer": "ipython3",
   "version": "3.7.6"
  }
 },
 "nbformat": 4,
 "nbformat_minor": 4
}
