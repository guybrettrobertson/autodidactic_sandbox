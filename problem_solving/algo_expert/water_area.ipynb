{
 "cells": [
  {
   "cell_type": "markdown",
   "metadata": {},
   "source": [
    "# Water area\n",
    "\n",
    "You're given an array of non-negative integers where each non-zero integer represents the height of a pillar of width 1. Imagine water being poured over all of the pillars; write a function that returns the surface area of the water trapped between the pillars viewed from the front. Note that spilled water should be ignored.\n",
    "\n",
    "## Solution"
   ]
  },
  {
   "cell_type": "code",
   "execution_count": 1,
   "metadata": {},
   "outputs": [],
   "source": [
    "def water_area(heights):\n",
    "    ''' Find the surface area of the water trapped between the pillars viewed from the front.'''\n",
    "    \n",
    "    n = len(heights)\n",
    "    \n",
    "    left = 0\n",
    "    right = n - 1\n",
    "    \n",
    "    while left <= right:\n",
    "        if heights[left] < heights[right]:\n",
    "            area = min(heights[left], heights[right]) * (right - left)\n",
    "            \n",
    "    \n",
    "    return area"
   ]
  },
  {
   "cell_type": "markdown",
   "metadata": {},
   "source": [
    "### Testing"
   ]
  },
  {
   "cell_type": "code",
   "execution_count": 2,
   "metadata": {},
   "outputs": [],
   "source": [
    "assert(water_area([0]) == 0)\n",
    "assert(water_area([1]) == 0)\n",
    "assert(water_area([1, 0, 1]) == 1)\n",
    "assert(water_area([10, 0, 1]) == 1)\n",
    "assert(water_area([10, 0, 10]) == 10)\n",
    "assert(water_area([10, 0, 10, 0]) == 10)\n",
    "assert(water_area([0, 10, 0, 10, 0]) == 10)\n",
    "assert(water_area([0, 8, 0, 0, 5, 0, 0, 10, 0, 0, 1, 1, 0, 3]) == 48)"
   ]
  }
 ],
 "metadata": {
  "kernelspec": {
   "display_name": "Python 3",
   "language": "python",
   "name": "python3"
  },
  "language_info": {
   "codemirror_mode": {
    "name": "ipython",
    "version": 3
   },
   "file_extension": ".py",
   "mimetype": "text/x-python",
   "name": "python",
   "nbconvert_exporter": "python",
   "pygments_lexer": "ipython3",
   "version": "3.7.6"
  }
 },
 "nbformat": 4,
 "nbformat_minor": 4
}
