{
 "cells": [
  {
   "cell_type": "markdown",
   "metadata": {},
   "source": [
    "# Zig zag traverse\n",
    "\n",
    "Write a function that takes a matrix and returns a 1-D array of the matrix's elements in zig zag order.\n",
    "\n",
    "## Solution"
   ]
  },
  {
   "cell_type": "code",
   "execution_count": 1,
   "metadata": {},
   "outputs": [],
   "source": [
    "def zig_zag_traverse(array):\n",
    "    '''Return a 1-D array of the elements of the input array in zig zag order.'''\n",
    "    \n",
    "    n = len(array)\n",
    "    m = len(array[0])\n",
    "    row = 0\n",
    "    col = 0\n",
    "    output = []\n",
    "    direction = 'down'\n",
    "    \n",
    "    while row != n and col != m:\n",
    "        output.append(array[row][col])\n",
    "        if direction == 'down':\n",
    "            if row == n - 1:\n",
    "                col += 1\n",
    "                direction = 'up'\n",
    "            elif col == 0:\n",
    "                row += 1\n",
    "                direction = 'up'\n",
    "            else:\n",
    "                row += 1\n",
    "                col -= 1\n",
    "        else:\n",
    "            if col == m - 1:\n",
    "                row += 1\n",
    "                direction = 'down'\n",
    "            elif row == 0:\n",
    "                col += 1\n",
    "                direction = 'down'\n",
    "            else:\n",
    "                row -= 1\n",
    "                col += 1\n",
    "    \n",
    "    return output"
   ]
  },
  {
   "cell_type": "markdown",
   "metadata": {},
   "source": [
    "### Testing"
   ]
  },
  {
   "cell_type": "code",
   "execution_count": 2,
   "metadata": {},
   "outputs": [],
   "source": [
    "array = [\n",
    "    [1]\n",
    "]\n",
    "assert(zig_zag_traverse(array) == [1])"
   ]
  },
  {
   "cell_type": "code",
   "execution_count": 3,
   "metadata": {},
   "outputs": [],
   "source": [
    "array = [\n",
    "    [1, 2, 3]\n",
    "]\n",
    "assert(zig_zag_traverse(array) == [1, 2, 3])"
   ]
  },
  {
   "cell_type": "code",
   "execution_count": 4,
   "metadata": {},
   "outputs": [],
   "source": [
    "array = [\n",
    "    [1],\n",
    "    [2],\n",
    "    [3]\n",
    "]\n",
    "assert(zig_zag_traverse(array) == [1, 2, 3])"
   ]
  },
  {
   "cell_type": "code",
   "execution_count": 5,
   "metadata": {},
   "outputs": [],
   "source": [
    "array = [\n",
    "    [1, 3],\n",
    "    [2, 4],\n",
    "    [5, 6]\n",
    "]\n",
    "assert(zig_zag_traverse(array) == [1, 2, 3, 4, 5, 6])"
   ]
  },
  {
   "cell_type": "code",
   "execution_count": 6,
   "metadata": {},
   "outputs": [],
   "source": [
    "array = [\n",
    "    [1, 3, 4, 10],\n",
    "    [2, 5, 9, 11],\n",
    "    [6, 8, 12, 15],\n",
    "    [7, 13, 14, 16]\n",
    "]\n",
    "assert(zig_zag_traverse(array) == [1, 2, 3, 4, 5, 6, 7, 8, 9, 10, 11, 12, 13, 14, 15, 16])"
   ]
  }
 ],
 "metadata": {
  "kernelspec": {
   "display_name": "Python 3",
   "language": "python",
   "name": "python3"
  },
  "language_info": {
   "codemirror_mode": {
    "name": "ipython",
    "version": 3
   },
   "file_extension": ".py",
   "mimetype": "text/x-python",
   "name": "python",
   "nbconvert_exporter": "python",
   "pygments_lexer": "ipython3",
   "version": "3.7.6"
  }
 },
 "nbformat": 4,
 "nbformat_minor": 4
}
