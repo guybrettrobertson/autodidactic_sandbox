{
 "cells": [
  {
   "cell_type": "markdown",
   "metadata": {},
   "source": [
    "# Euler Problems\n",
    "\n",
    "Euler problems found [here](https://projecteuler.net/archives).<br>\n",
    "Numerical answers found [here](https://github.com/luckytoilet/projecteuler-solutions/blob/master/Solutions.md).\n",
    "\n",
    "## Import packages"
   ]
  },
  {
   "cell_type": "code",
   "execution_count": 1,
   "metadata": {},
   "outputs": [],
   "source": [
    "import numpy as np\n",
    "import math\n",
    "import time"
   ]
  },
  {
   "cell_type": "markdown",
   "metadata": {},
   "source": [
    "## Problem 30\n",
    "\n",
    "Surprisingly there are only three numbers that can be written as the sum of fourth powers of their digits:\n",
    "\n",
    "$1634 = 1^4 + 6^4 + 3^4 + 4^4$<br>\n",
    "$8208 = 8^4 + 2^4 + 0^4 + 8^4$<br>\n",
    "$9474 = 9^4 + 4^4 + 7^4 + 4^4$\n",
    "\n",
    "As $1 = 1^4$ is not a sum it is not included.\n",
    "\n",
    "The sum of these numbers is $1634 + 8208 + 9474 = 19316$.\n",
    "\n",
    "Find the sum of all the numbers that can be written as the sum of fifth powers of their digits.\n",
    "\n",
    "#### Solution a"
   ]
  },
  {
   "cell_type": "code",
   "execution_count": 2,
   "metadata": {},
   "outputs": [],
   "source": [
    "def solve_problem_30a():\n",
    "    ''''''\n",
    "    \n",
    "    tic = time.perf_counter()\n",
    "    \n",
    "    \n",
    "    toc = time.perf_counter()\n",
    "    \n",
    "    return res, round(toc - tic, 4)"
   ]
  },
  {
   "cell_type": "code",
   "execution_count": 21,
   "metadata": {},
   "outputs": [],
   "source": [
    "def test(power):\n",
    "    \n",
    "    powers = {i:i**power for i in range(10)}\n",
    "    \n",
    "    print(powers)\n",
    "        \n",
    "def separate_into_digits(num):\n",
    "    '''Convert num into a list of its digits.'''\n",
    "    \n",
    "    return [int(digit) for digit in list(str(num))]"
   ]
  },
  {
   "cell_type": "code",
   "execution_count": 22,
   "metadata": {},
   "outputs": [
    {
     "name": "stdout",
     "output_type": "stream",
     "text": [
      "{0: 0, 1: 1, 2: 16, 3: 81, 4: 256, 5: 625, 6: 1296, 7: 2401, 8: 4096, 9: 6561}\n",
      "None\n"
     ]
    }
   ],
   "source": [
    "print(test(4))"
   ]
  },
  {
   "cell_type": "code",
   "execution_count": 14,
   "metadata": {},
   "outputs": [
    {
     "data": {
      "text/plain": [
       "6561"
      ]
     },
     "execution_count": 14,
     "metadata": {},
     "output_type": "execute_result"
    }
   ],
   "source": [
    "9**4"
   ]
  },
  {
   "cell_type": "code",
   "execution_count": null,
   "metadata": {},
   "outputs": [],
   "source": []
  },
  {
   "cell_type": "code",
   "execution_count": null,
   "metadata": {},
   "outputs": [],
   "source": []
  },
  {
   "cell_type": "code",
   "execution_count": 1,
   "metadata": {},
   "outputs": [],
   "source": [
    "powers = dict()"
   ]
  },
  {
   "cell_type": "code",
   "execution_count": 3,
   "metadata": {},
   "outputs": [],
   "source": [
    "powers[1] = 1**5"
   ]
  },
  {
   "cell_type": "code",
   "execution_count": 4,
   "metadata": {},
   "outputs": [
    {
     "data": {
      "text/plain": [
       "{1: 1}"
      ]
     },
     "execution_count": 4,
     "metadata": {},
     "output_type": "execute_result"
    }
   ],
   "source": [
    "powers"
   ]
  },
  {
   "cell_type": "markdown",
   "metadata": {},
   "source": [
    "#### Test case\n",
    "\n",
    "Input:<br>\n",
    "a_min = 2<br>\n",
    "a_max = 5<br>\n",
    "b_min = 2<br>\n",
    "b_max = 5\n",
    "\n",
    "Output: 15"
   ]
  },
  {
   "cell_type": "code",
   "execution_count": 3,
   "metadata": {},
   "outputs": [
    {
     "name": "stdout",
     "output_type": "stream",
     "text": [
      "15\n",
      "Time taken: 0.0 seconds\n"
     ]
    }
   ],
   "source": [
    "test_case, duration = solve_problem_30a()\n",
    "print(test_case)\n",
    "print('Time taken:', duration, 'seconds')"
   ]
  },
  {
   "cell_type": "markdown",
   "metadata": {},
   "source": [
    "#### Final result\n",
    "\n",
    "Input:<br>\n",
    "a_min = 2<br>\n",
    "a_max = 100<br>\n",
    "b_min = 2<br>\n",
    "b_max = 100\n",
    "\n",
    "Output: 9183"
   ]
  },
  {
   "cell_type": "code",
   "execution_count": 4,
   "metadata": {},
   "outputs": [
    {
     "name": "stdout",
     "output_type": "stream",
     "text": [
      "9183\n",
      "Time taken: 0.4391 seconds\n"
     ]
    }
   ],
   "source": [
    "final_result, duration = solve_problem_30a()\n",
    "print(final_result)\n",
    "print('Time taken:', duration, 'seconds')"
   ]
  }
 ],
 "metadata": {
  "kernelspec": {
   "display_name": "Python 3",
   "language": "python",
   "name": "python3"
  },
  "language_info": {
   "codemirror_mode": {
    "name": "ipython",
    "version": 3
   },
   "file_extension": ".py",
   "mimetype": "text/x-python",
   "name": "python",
   "nbconvert_exporter": "python",
   "pygments_lexer": "ipython3",
   "version": "3.7.6"
  }
 },
 "nbformat": 4,
 "nbformat_minor": 4
}
