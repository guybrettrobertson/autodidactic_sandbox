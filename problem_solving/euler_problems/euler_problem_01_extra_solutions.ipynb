{
 "cells": [
  {
   "cell_type": "markdown",
   "metadata": {},
   "source": [
    "# Project Euler Problem 1\n",
    "\n",
    "## Problem statement\n",
    "\n",
    "If we list all the natural numbers below 10 that are multiples of 3 or 5, we get 3, 5, 6 and 9. The sum of these multiples is 23.\n",
    "\n",
    "Find the sum of all the multiples of 3 or 5 below 1000.\n",
    "\n",
    "1, 2, **3**, 4, **5**, **6**, 7, 8, **9**, **10**, 11, **12**, 13, 14, **15**, 16...\n",
    "\n",
    "## Solution 1\n",
    "\n",
    "Naive solution involving an explicit loop and an if statement.\n",
    "\n",
    "Time complexity: $O(N)$<br>\n",
    "Space complexity: $O(1)$"
   ]
  },
  {
   "cell_type": "code",
   "execution_count": 1,
   "metadata": {},
   "outputs": [],
   "source": [
    "def euler_1(n):\n",
    "    '''\n",
    "    Give the sum of all the multiples of 3 or 5 below n.\n",
    "    '''\n",
    "    \n",
    "    total = 0\n",
    "    \n",
    "    for i in range(n):\n",
    "        if (i % 3 == 0) or (i % 5 == 0):\n",
    "            total += i\n",
    "    \n",
    "    return total"
   ]
  },
  {
   "cell_type": "markdown",
   "metadata": {},
   "source": [
    "### Testing"
   ]
  },
  {
   "cell_type": "code",
   "execution_count": 2,
   "metadata": {},
   "outputs": [],
   "source": [
    "assert euler_1(10) == 23\n",
    "assert euler_1(1000) == 233168"
   ]
  },
  {
   "cell_type": "markdown",
   "metadata": {},
   "source": [
    "## Solution 2\n",
    "\n",
    "Very concise solution using a list comprehension, but worse space complexity.\n",
    "\n",
    "Time complexity: $O(N)$<br>\n",
    "Space complexity: $O(N)$"
   ]
  },
  {
   "cell_type": "code",
   "execution_count": 3,
   "metadata": {},
   "outputs": [],
   "source": [
    "def euler_1(n):\n",
    "    '''\n",
    "    Give the sum of all the multiples of 3 or 5 below n.\n",
    "    '''\n",
    "    \n",
    "    return sum([i if (i % 3 == 0) or (i % 5 == 0) else 0 for i in range(n)])"
   ]
  },
  {
   "cell_type": "markdown",
   "metadata": {},
   "source": [
    "### Testing"
   ]
  },
  {
   "cell_type": "code",
   "execution_count": 4,
   "metadata": {},
   "outputs": [],
   "source": [
    "assert euler_1(10) == 23\n",
    "assert euler_1(1000) == 233168"
   ]
  },
  {
   "cell_type": "markdown",
   "metadata": {},
   "source": [
    "## Solution 3\n",
    "\n",
    "Closed-form solution using the formula for the sum of an arithmetic series. For this solution, we recognise that the multiples of 3 and of 5 form two distinct arithmetic series:\n",
    "\n",
    "- 3, 6, 9, 12, 15, 18, 21, ...\n",
    "- 5, 10, 15, 20, 25, 30, 35, ...\n",
    "\n",
    "So we can add the sums of these series using the formula. However, you can see that the 15 is repeated, as are the following multiples of 15:\n",
    "\n",
    "- 15, 30, 45, 60, 75, 90, 105, ...\n",
    "\n",
    "This is because 15 is a multiple of both 3 and 5. We therefore need to subtract the multiples of 15 to get to the final answer. Thus the formula for the solution is:\n",
    "\n",
    "$sum\\_series(3) + sum\\_series(5) - sum\\_series(15)$\n",
    "\n",
    "Where $sum\\_series(n)$ is the formula for the sum of an arithmetic series.\n",
    "\n",
    "This solution has optimal time and space complexity because there are no explicit or implicit loops and no lists are used.\n",
    "\n",
    "Time complexity: $O(1)$<br>\n",
    "Space complexity: $O(1)$"
   ]
  },
  {
   "cell_type": "code",
   "execution_count": 5,
   "metadata": {},
   "outputs": [],
   "source": [
    "def sum_series(a, n, d):\n",
    "    '''\n",
    "    Find the sum of an arithmetic series.\n",
    "    '''\n",
    "    \n",
    "    return int(n / 2 * (2 * a + (n - 1) * d))\n",
    "\n",
    "def euler_1(n):\n",
    "    '''\n",
    "    Give the sum of all the multiples of 3 or 5 below n.\n",
    "    '''\n",
    "    \n",
    "    n -= 1\n",
    "    \n",
    "    # n // 3 is used to determine how many terms there are in the series\n",
    "    return sum_series(3, n // 3, 3) + sum_series(5, n // 5, 5) - sum_series(15, n // 15, 15)"
   ]
  },
  {
   "cell_type": "markdown",
   "metadata": {},
   "source": [
    "## Testing"
   ]
  },
  {
   "cell_type": "code",
   "execution_count": 6,
   "metadata": {},
   "outputs": [],
   "source": [
    "assert euler_1(10) == 23\n",
    "assert euler_1(1000) == 233168"
   ]
  },
  {
   "cell_type": "code",
   "execution_count": 7,
   "metadata": {},
   "outputs": [
    {
     "name": "stdout",
     "output_type": "stream",
     "text": [
      "Solution: 2333333316666668\n",
      "Elapsed time:  0.0009949207305908203 s\n"
     ]
    }
   ],
   "source": [
    "import time\n",
    "\n",
    "t = time.time()\n",
    "print(\"Solution:\", euler_1(100000000))\n",
    "elapsed = time.time() - t\n",
    "\n",
    "print(\"Elapsed time: \", elapsed, \"s\")"
   ]
  },
  {
   "cell_type": "code",
   "execution_count": 2,
   "metadata": {},
   "outputs": [
    {
     "name": "stderr",
     "output_type": "stream",
     "text": [
      "[NbConvertApp] Converting notebook guy.ipynb to html\n",
      "[NbConvertApp] Writing 261177 bytes to guy.html\n"
     ]
    }
   ],
   "source": [
    "!jupyter nbconvert --to html guy.ipynb  "
   ]
  },
  {
   "cell_type": "code",
   "execution_count": null,
   "metadata": {},
   "outputs": [],
   "source": []
  }
 ],
 "metadata": {
  "kernelspec": {
   "display_name": "Python 3",
   "language": "python",
   "name": "python3"
  },
  "language_info": {
   "codemirror_mode": {
    "name": "ipython",
    "version": 3
   },
   "file_extension": ".py",
   "mimetype": "text/x-python",
   "name": "python",
   "nbconvert_exporter": "python",
   "pygments_lexer": "ipython3",
   "version": "3.6.5"
  }
 },
 "nbformat": 4,
 "nbformat_minor": 2
}
