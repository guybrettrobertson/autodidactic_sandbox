{
 "cells": [
  {
   "cell_type": "markdown",
   "metadata": {},
   "source": [
    "# Project Euler Problem 4\n",
    "\n",
    "## Problem statement\n",
    "\n",
    "A palindromic number reads the same both ways. The largest palindrome made from the product of two 2-digit numbers is 9009 = 91 × 99.\n",
    "\n",
    "Find the largest palindrome made from the product of two 3-digit numbers.\n",
    "\n",
    "## Solution 1\n",
    "\n",
    "Naive solution using a nested loop. Looks at all possible products and check whether each is a palindrome.\n",
    "\n",
    "Time complexity: $O(10^{2n})$"
   ]
  },
  {
   "cell_type": "code",
   "execution_count": 1,
   "metadata": {},
   "outputs": [],
   "source": [
    "def is_palindrome(n):\n",
    "    '''\n",
    "    Determine if n is a palindrome.\n",
    "    '''\n",
    "    \n",
    "    as_string = str(n)\n",
    "    as_list = list(str(n))\n",
    "    \n",
    "    return as_list == list(reversed(as_list))\n",
    "\n",
    "def euler_4(n):\n",
    "    '''\n",
    "    Find the largest palindromic number made from the product of two n-digit numbers.\n",
    "    '''\n",
    "    \n",
    "    largest = 0\n",
    "    \n",
    "    for i in range(10**n):\n",
    "        for j in range(i):\n",
    "            product = i * j\n",
    "            \n",
    "            if is_palindrome(product) and product > largest:\n",
    "                largest = product\n",
    "    \n",
    "    return largest"
   ]
  },
  {
   "cell_type": "markdown",
   "metadata": {},
   "source": [
    "### Testing"
   ]
  },
  {
   "cell_type": "code",
   "execution_count": 2,
   "metadata": {},
   "outputs": [],
   "source": [
    "assert is_palindrome(1) == True\n",
    "assert is_palindrome(111) == True\n",
    "assert is_palindrome(123) == False\n",
    "assert is_palindrome(12321) == True\n",
    "assert is_palindrome(12345654321) == True"
   ]
  },
  {
   "cell_type": "code",
   "execution_count": 3,
   "metadata": {},
   "outputs": [],
   "source": [
    "assert euler_4(1) == 9\n",
    "assert euler_4(2) == 9009\n",
    "assert euler_4(3) == 906609"
   ]
  }
 ],
 "metadata": {
  "kernelspec": {
   "display_name": "Python 3",
   "language": "python",
   "name": "python3"
  },
  "language_info": {
   "codemirror_mode": {
    "name": "ipython",
    "version": 3
   },
   "file_extension": ".py",
   "mimetype": "text/x-python",
   "name": "python",
   "nbconvert_exporter": "python",
   "pygments_lexer": "ipython3",
   "version": "3.6.5"
  }
 },
 "nbformat": 4,
 "nbformat_minor": 2
}
