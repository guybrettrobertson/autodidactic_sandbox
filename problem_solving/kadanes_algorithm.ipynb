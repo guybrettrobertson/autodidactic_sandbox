{
 "cells": [
  {
   "cell_type": "markdown",
   "metadata": {},
   "source": [
    "# Kadane's algorithm\n",
    "\n",
    "## Solution"
   ]
  },
  {
   "cell_type": "code",
   "execution_count": 8,
   "metadata": {},
   "outputs": [],
   "source": [
    "def kadanes_algorithm(array):\n",
    "    '''Find the subarray of adjacent elements that has the greatest sum.'''\n",
    "    \n",
    "    n = len(array)\n",
    "    sum_subarray = array[0]\n",
    "    max_sum_subarray = array[0]\n",
    "    \n",
    "    for i in range(1, n):\n",
    "        num = array[i]\n",
    "        sum_subarray = max(sum_subarray + num, num)\n",
    "        max_sum_subarray = max(max_sum_subarray, sum_subarray)\n",
    "    \n",
    "    return max_sum_subarray"
   ]
  },
  {
   "cell_type": "code",
   "execution_count": 6,
   "metadata": {},
   "outputs": [
    {
     "name": "stdout",
     "output_type": "stream",
     "text": [
      "6\n",
      "2\n",
      "-4\n",
      "5\n",
      "-6\n",
      "13\n"
     ]
    }
   ],
   "source": [
    "array = [4, 6, 2, -4, 5, -6]\n",
    "print(kadanes_algorithm(array))"
   ]
  },
  {
   "cell_type": "code",
   "execution_count": 7,
   "metadata": {},
   "outputs": [
    {
     "data": {
      "text/plain": [
       "13"
      ]
     },
     "execution_count": 7,
     "metadata": {},
     "output_type": "execute_result"
    }
   ],
   "source": [
    "4 + 6 + 2 + 5 -4"
   ]
  },
  {
   "cell_type": "code",
   "execution_count": null,
   "metadata": {},
   "outputs": [],
   "source": [
    "[4, 6, 2, -4, 5, -6]\n",
    "[4, 10, 12, 8, 13, 7]\n",
    "[]"
   ]
  },
  {
   "cell_type": "code",
   "execution_count": null,
   "metadata": {},
   "outputs": [],
   "source": [
    "[3, 5, -9, 1, 3, -2, 3, 4, 7 , 2 , -9, 6 , 3 , 1 , -5, 4 ]\n",
    "[3, 8, -1, 0, 3,  1, 4, 8, 15, 17, 8 , 14, 17, 18, 13, 17]"
   ]
  }
 ],
 "metadata": {
  "kernelspec": {
   "display_name": "Python 3",
   "language": "python",
   "name": "python3"
  },
  "language_info": {
   "codemirror_mode": {
    "name": "ipython",
    "version": 3
   },
   "file_extension": ".py",
   "mimetype": "text/x-python",
   "name": "python",
   "nbconvert_exporter": "python",
   "pygments_lexer": "ipython3",
   "version": "3.7.6"
  }
 },
 "nbformat": 4,
 "nbformat_minor": 4
}
