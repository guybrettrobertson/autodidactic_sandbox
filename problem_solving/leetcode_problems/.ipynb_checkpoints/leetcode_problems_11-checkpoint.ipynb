{
 "cells": [
  {
   "cell_type": "markdown",
   "metadata": {},
   "source": [
    "# Problem 11 - Container with most water\n",
    "\n",
    "Problems found at [Leetcode website](https://leetcode.com/problemset/all/).\n",
    "\n",
    "Given n non-negative integers $a_{1}$, $a_{2}$, ..., $a_{n}$ , where each represents a point at coordinate ($i$, $ai$), n vertical lines are drawn such that the two endpoints of line $i$ is at ($i$, $ai$) and ($i$, $0$).\n",
    "\n",
    "Find two lines, which together with x-axis forms a container, such that the container contains the most water.<br>\n",
    "Note: You may not slant the container and $n$ is at least 2.\n",
    "\n",
    "## Solution 1 - Brute force\n",
    "\n",
    "Iterate through each pair of lines to find the two lines which give the greatest amount of water."
   ]
  },
  {
   "cell_type": "code",
   "execution_count": 1,
   "metadata": {},
   "outputs": [],
   "source": [
    "def water_area(heights):\n",
    "    \n",
    "    n = len(heights)\n",
    "    greatest_area = 0\n",
    "    \n",
    "    for i in range(0, n):\n",
    "        for j in range(i + 1, n):\n",
    "            area = min(heights[i], heights[j]) * (j - i)\n",
    "            if area > greatest_area:\n",
    "                greatest_area = area\n",
    "    \n",
    "    return greatest_area"
   ]
  },
  {
   "cell_type": "markdown",
   "metadata": {},
   "source": [
    "#### Test cases"
   ]
  },
  {
   "cell_type": "code",
   "execution_count": 2,
   "metadata": {},
   "outputs": [],
   "source": [
    "assert(water_area([0]) == 0)\n",
    "assert(water_area([1]) == 0)\n",
    "assert(water_area([1, 0, 1]) == 2)\n",
    "assert(water_area([10, 0, 1]) == 2)\n",
    "assert(water_area([10, 0, 10]) == 20)\n",
    "assert(water_area([10, 0, 10, 0]) == 20)\n",
    "assert(water_area([0, 10, 0, 10, 0]) == 20)\n",
    "assert(water_area([0, 8, 0, 0, 5, 0, 0, 10, 0, 0, 1, 1, 0, 3]) == 48)"
   ]
  },
  {
   "cell_type": "markdown",
   "metadata": {},
   "source": [
    "## Solution 2 - O(N)\n",
    "\n",
    "Put a pointer at each end of the array of lines. If the height at the left is less than the height at the right, then the only way we could get a greater water area is to try moving the left pointer rightward, and vice versa. At each step, calculate the water area and the maximum water area encountered so far. End when the pointers pass each other."
   ]
  },
  {
   "cell_type": "code",
   "execution_count": 3,
   "metadata": {},
   "outputs": [],
   "source": [
    "def water_area(heights):\n",
    "    \n",
    "    n = len(heights)\n",
    "    \n",
    "    left = 0\n",
    "    right = n - 1\n",
    "    max_area = 0\n",
    "    \n",
    "    while left <= right:\n",
    "        if heights[left] < heights[right]:\n",
    "            area = min(heights[left], heights[right]) * (right - left)\n",
    "            left += 1\n",
    "        else:\n",
    "            area = min(heights[left], heights[right]) * (right - left)\n",
    "            right -= 1\n",
    "        max_area = max(max_area, area)\n",
    "    \n",
    "    return max_area"
   ]
  },
  {
   "cell_type": "markdown",
   "metadata": {},
   "source": [
    "#### Test cases"
   ]
  },
  {
   "cell_type": "code",
   "execution_count": 4,
   "metadata": {},
   "outputs": [],
   "source": [
    "assert(water_area([0]) == 0)\n",
    "assert(water_area([1]) == 0)\n",
    "assert(water_area([1, 0, 1]) == 2)\n",
    "assert(water_area([10, 0, 1]) == 2)\n",
    "assert(water_area([10, 0, 10]) == 20)\n",
    "assert(water_area([10, 0, 10, 0]) == 20)\n",
    "assert(water_area([0, 10, 0, 10, 0]) == 20)\n",
    "assert(water_area([0, 8, 0, 0, 5, 0, 0, 10, 0, 0, 1, 1, 0, 3]) == 48)"
   ]
  }
 ],
 "metadata": {
  "kernelspec": {
   "display_name": "Python 3",
   "language": "python",
   "name": "python3"
  },
  "language_info": {
   "codemirror_mode": {
    "name": "ipython",
    "version": 3
   },
   "file_extension": ".py",
   "mimetype": "text/x-python",
   "name": "python",
   "nbconvert_exporter": "python",
   "pygments_lexer": "ipython3",
   "version": "3.7.6"
  }
 },
 "nbformat": 4,
 "nbformat_minor": 4
}
