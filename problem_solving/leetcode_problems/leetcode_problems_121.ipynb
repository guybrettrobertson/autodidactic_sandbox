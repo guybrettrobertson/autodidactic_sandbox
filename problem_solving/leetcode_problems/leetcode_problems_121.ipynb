{
 "cells": [
  {
   "cell_type": "markdown",
   "id": "7ccd931d",
   "metadata": {},
   "source": [
    "# Leetcode problem 121 - Best time to buy and sell stock\n",
    "\n",
    "You are given an array prices where prices[i] is the price of a given stock on the ith day.\n",
    "\n",
    "You want to maximize your profit by choosing a single day to buy one stock and choosing a different day in the future to sell that stock.\n",
    "\n",
    "Return the maximum profit you can achieve from this transaction. If you cannot achieve any profit, return 0."
   ]
  },
  {
   "cell_type": "markdown",
   "id": "556f92f1",
   "metadata": {},
   "source": [
    "## Solution 1 - Brute force\n",
    "\n",
    "Loop through every possible pair of numbers to find the highest possible profit.\n",
    "\n",
    "Time complexity: $O(N^2)$<br>\n",
    "Space complexity: $O(1)$"
   ]
  },
  {
   "cell_type": "code",
   "execution_count": 1,
   "id": "52f63c94",
   "metadata": {},
   "outputs": [],
   "source": [
    "def max_profit(prices):\n",
    "    '''\n",
    "    Find the maximum profit you can achieve by buying and selling the stocks at the prices given.\n",
    "    '''\n",
    "    \n",
    "    max_profit = 0\n",
    "    \n",
    "    for i in range(len(prices) - 1):\n",
    "        for j in range(i + 1, len(prices)):\n",
    "            profit = prices[j] - prices[i]\n",
    "            max_profit = max(max_profit, profit)\n",
    "    \n",
    "    return(max_profit)"
   ]
  },
  {
   "cell_type": "markdown",
   "id": "429e6aed",
   "metadata": {},
   "source": [
    "### Testing"
   ]
  },
  {
   "cell_type": "code",
   "execution_count": 2,
   "id": "d4f2e6e7",
   "metadata": {},
   "outputs": [],
   "source": [
    "assert(max_profit([7, 1, 5, 3, 6, 4]) == 5)\n",
    "assert(max_profit([7, 6, 4, 3, 1]) == 0)"
   ]
  },
  {
   "cell_type": "markdown",
   "id": "1dad723a",
   "metadata": {},
   "source": [
    "## Solution 2 - One pass through\n",
    "\n",
    "Iterate through the whole array once. At each step, keep track of the minimum price encountered so far as well as the highest possible profit seen so far. The highest possible profit seen so far is the greater of the highest possible profit at the previous step, and the potential profit that could be gained at this step, which is based on the current price and the minimum price encountered so far.\n",
    "\n",
    "Time complexity: $O(N)$<br>\n",
    "Space complexity: $O(1)$"
   ]
  },
  {
   "cell_type": "code",
   "execution_count": 3,
   "id": "34bf4a13",
   "metadata": {},
   "outputs": [],
   "source": [
    "def max_profit(prices):\n",
    "    '''\n",
    "    Find the maximum profit you can achieve by buying and selling the stocks at the prices given.\n",
    "    '''\n",
    "    \n",
    "    min_price = prices[0]\n",
    "    max_profit = 0\n",
    "    \n",
    "    for i in range(1, len(prices)):\n",
    "        min_price = min(min_price, prices[i])\n",
    "        profit = prices[i] - min_price\n",
    "        max_profit = max(max_profit, profit)\n",
    "    \n",
    "    return(max_profit)"
   ]
  },
  {
   "cell_type": "markdown",
   "id": "00740459",
   "metadata": {},
   "source": [
    "### Testing"
   ]
  },
  {
   "cell_type": "code",
   "execution_count": 4,
   "id": "026c3902",
   "metadata": {},
   "outputs": [],
   "source": [
    "assert(max_profit([7, 1, 5, 3, 6, 4]) == 5)\n",
    "assert(max_profit([7, 6, 4, 3, 1]) == 0)"
   ]
  }
 ],
 "metadata": {
  "kernelspec": {
   "display_name": "Python 3",
   "language": "python",
   "name": "python3"
  },
  "language_info": {
   "codemirror_mode": {
    "name": "ipython",
    "version": 3
   },
   "file_extension": ".py",
   "mimetype": "text/x-python",
   "name": "python",
   "nbconvert_exporter": "python",
   "pygments_lexer": "ipython3",
   "version": "3.8.8"
  }
 },
 "nbformat": 4,
 "nbformat_minor": 5
}
