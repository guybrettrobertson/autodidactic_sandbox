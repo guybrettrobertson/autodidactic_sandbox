{
 "cells": [
  {
   "cell_type": "markdown",
   "metadata": {},
   "source": [
    "# Leetcode problem 231: Power of two\n",
    "\n",
    "Given an integer n, return true if it is a power of two. Otherwise, return false.\n",
    "\n",
    "An integer $n$ is a power of two, if there exists an integer x such that $n == 2^x$.\n",
    "\n",
    "## Solution 1: Iteration\n",
    "\n",
    "First, check whether n is less than or equal to zero, because no powers of two are less than or equal to zero. The first power of two is one. Check whether n is equal to one, if not, double it and keep doubling. You are creating a geometric series of the powers of n. If n is found in this series, it is a power of two, so return true. If you go past n, it is not, so return false.\n",
    "\n",
    "Time complexity: $O(logN)$"
   ]
  },
  {
   "cell_type": "code",
   "execution_count": 1,
   "metadata": {},
   "outputs": [],
   "source": [
    "def power_of_two(n):\n",
    "    '''\n",
    "    Determine whether n is a power of two.\n",
    "    '''\n",
    "    \n",
    "    assert type(n) == int\n",
    "    \n",
    "    if n <= 0:\n",
    "        return False\n",
    "    \n",
    "    i = 1\n",
    "    while True:\n",
    "        if i < n:\n",
    "            i *= 2\n",
    "            \n",
    "        elif i == n:\n",
    "            return True\n",
    "        \n",
    "        else:\n",
    "            return False"
   ]
  },
  {
   "cell_type": "markdown",
   "metadata": {},
   "source": [
    "#### Testing"
   ]
  },
  {
   "cell_type": "code",
   "execution_count": 2,
   "metadata": {},
   "outputs": [],
   "source": [
    "assert power_of_two(-3) == False\n",
    "assert power_of_two(-2) == False\n",
    "assert power_of_two(-1) == False\n",
    "assert power_of_two(0) == False\n",
    "assert power_of_two(1) == True\n",
    "assert power_of_two(2) == True\n",
    "assert power_of_two(3) == False\n",
    "assert power_of_two(4) == True\n",
    "assert power_of_two(64) == True\n",
    "assert power_of_two(65) == False"
   ]
  },
  {
   "cell_type": "markdown",
   "metadata": {},
   "source": [
    "## Solution 2: Recursion\n",
    "\n",
    "First, check whether n is less than or equal to zero, because no powers of two are less than or equal to zero.\n",
    "\n",
    "Check whether n is divisible by two. If it is not, it cannot be a power of two so return false. If it is, divide it by zero and call the function recursively on that value. If you eventually get to 1, n must have been a power of two, so return true.\n",
    "\n",
    "Time complexity: $O(logN)$"
   ]
  },
  {
   "cell_type": "code",
   "execution_count": 3,
   "metadata": {},
   "outputs": [],
   "source": [
    "def power_of_two(n):\n",
    "    '''\n",
    "    Determine whether n is a power of two.\n",
    "    '''\n",
    "    \n",
    "    assert type(n) == int\n",
    "    \n",
    "    if n <= 0:\n",
    "        return False\n",
    "    \n",
    "    if n == 1:\n",
    "        return True\n",
    "    \n",
    "    if n % 2 != 0:\n",
    "        return False\n",
    "    \n",
    "    return power_of_two(n // 2)"
   ]
  },
  {
   "cell_type": "markdown",
   "metadata": {},
   "source": [
    "#### Testing"
   ]
  },
  {
   "cell_type": "code",
   "execution_count": 4,
   "metadata": {},
   "outputs": [],
   "source": [
    "assert power_of_two(-3) == False\n",
    "assert power_of_two(-2) == False\n",
    "assert power_of_two(-1) == False\n",
    "assert power_of_two(0) == False\n",
    "assert power_of_two(1) == True\n",
    "assert power_of_two(2) == True\n",
    "assert power_of_two(3) == False\n",
    "assert power_of_two(4) == True\n",
    "assert power_of_two(64) == True\n",
    "assert power_of_two(65) == False"
   ]
  },
  {
   "cell_type": "markdown",
   "metadata": {},
   "source": [
    "## Solution 3: Log\n",
    "\n",
    "Check if the log (base two) of n is an integer. If so, n is a power of two.\n",
    "\n",
    "Time complexity: $O(1)$ due to underlying C code "
   ]
  },
  {
   "cell_type": "code",
   "execution_count": 5,
   "metadata": {},
   "outputs": [],
   "source": [
    "import math\n",
    "\n",
    "def power_of_two(n):\n",
    "    '''\n",
    "    Determine whether n is a power of two.\n",
    "    '''\n",
    "    \n",
    "    assert type(n) == int\n",
    "    \n",
    "    if n <= 0:\n",
    "        return False\n",
    "    \n",
    "    if math.log2(n) % 1 == 0:\n",
    "        return True\n",
    "    \n",
    "    return False"
   ]
  },
  {
   "cell_type": "markdown",
   "metadata": {},
   "source": [
    "#### Testing"
   ]
  },
  {
   "cell_type": "code",
   "execution_count": 6,
   "metadata": {},
   "outputs": [],
   "source": [
    "assert power_of_two(-3) == False\n",
    "assert power_of_two(-2) == False\n",
    "assert power_of_two(-1) == False\n",
    "assert power_of_two(0) == False\n",
    "assert power_of_two(1) == True\n",
    "assert power_of_two(2) == True\n",
    "assert power_of_two(3) == False\n",
    "assert power_of_two(4) == True\n",
    "assert power_of_two(64) == True\n",
    "assert power_of_two(65) == False"
   ]
  }
 ],
 "metadata": {
  "kernelspec": {
   "display_name": "Python 3",
   "language": "python",
   "name": "python3"
  },
  "language_info": {
   "codemirror_mode": {
    "name": "ipython",
    "version": 3
   },
   "file_extension": ".py",
   "mimetype": "text/x-python",
   "name": "python",
   "nbconvert_exporter": "python",
   "pygments_lexer": "ipython3",
   "version": "3.7.6"
  }
 },
 "nbformat": 4,
 "nbformat_minor": 4
}
