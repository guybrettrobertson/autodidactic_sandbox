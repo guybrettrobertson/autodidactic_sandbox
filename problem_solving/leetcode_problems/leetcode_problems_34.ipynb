{
 "cells": [
  {
   "cell_type": "markdown",
   "metadata": {},
   "source": [
    "# Leetcode problems\n",
    "\n",
    "Problems found at [Leetcode website](https://leetcode.com/problemset/all/)."
   ]
  },
  {
   "cell_type": "markdown",
   "metadata": {},
   "source": [
    "## Import packages"
   ]
  },
  {
   "cell_type": "code",
   "execution_count": 1,
   "metadata": {},
   "outputs": [],
   "source": [
    "import numpy as np\n",
    "import math\n",
    "from collections import deque"
   ]
  },
  {
   "cell_type": "markdown",
   "metadata": {},
   "source": [
    "## Problem 34\n",
    "\n",
    "Given an array of integers nums sorted in ascending order, find the starting and ending position of a given target value.\n",
    "\n",
    "If target is not found in the array, return [-1, -1].\n",
    "\n",
    "Follow up: Could you write an algorithm with O(log n) runtime complexity?\n",
    "\n",
    "Constraints:\n",
    "0 <= nums.length <= 105 -109 <= nums[i] <= 109 nums is a non-decreasing array. -109 <= target <= 109\n",
    "\n",
    "#### Solution\n",
    "\n",
    "Naive O(n) solution using manual loops."
   ]
  },
  {
   "cell_type": "code",
   "execution_count": 2,
   "metadata": {},
   "outputs": [],
   "source": [
    "def solve_problem_34(nums, target):\n",
    "    '''Find the starting and ending position of target in nums.'''\n",
    "    \n",
    "    n = len(nums)\n",
    "    \n",
    "    # Iterate through nums\n",
    "    for i in range(n):\n",
    "        # If we find the target, i will be the starting position\n",
    "        if nums[i] == target:\n",
    "            # Iterate through the remaining values of num\n",
    "            for j in range(i+1, n):\n",
    "                # If we hit a number not equal to num, j-1 will be the ending position\n",
    "                if nums[j] != target:\n",
    "                    return [i, j-1]\n",
    "            \n",
    "            # In this case, the target went from part-way through nums right to the last element\n",
    "            return [i, n-1]\n",
    "    \n",
    "    # In this case, we did not find the target anywhere in nums\n",
    "    return [-1, -1]"
   ]
  },
  {
   "cell_type": "markdown",
   "metadata": {},
   "source": [
    "#### Test cases\n",
    "\n",
    "Example 1:\n",
    "Input: nums = [5, 7, 7, 8, 8, 10], target = 8<br>\n",
    "Output: [3, 4]"
   ]
  },
  {
   "cell_type": "code",
   "execution_count": 3,
   "metadata": {},
   "outputs": [
    {
     "name": "stdout",
     "output_type": "stream",
     "text": [
      "[3, 4]\n"
     ]
    }
   ],
   "source": [
    "nums = [5, 7, 7, 8, 8, 10]\n",
    "target = 8\n",
    "print(solve_problem_34(nums, target))"
   ]
  },
  {
   "cell_type": "markdown",
   "metadata": {},
   "source": [
    "Example 2:\n",
    "Input: nums = [5, 7, 7, 8, 8, 10], target = 6<br>\n",
    "Output: [-1, -1]"
   ]
  },
  {
   "cell_type": "code",
   "execution_count": 4,
   "metadata": {},
   "outputs": [
    {
     "name": "stdout",
     "output_type": "stream",
     "text": [
      "[-1, -1]\n"
     ]
    }
   ],
   "source": [
    "nums = [5, 7, 7, 8, 8, 10]\n",
    "target = 6\n",
    "print(solve_problem_34(nums, target))"
   ]
  },
  {
   "cell_type": "markdown",
   "metadata": {},
   "source": [
    "Example 3:\n",
    "Input: nums = [], target = 0<br>\n",
    "Output: [-1, -1]"
   ]
  },
  {
   "cell_type": "code",
   "execution_count": 5,
   "metadata": {},
   "outputs": [
    {
     "name": "stdout",
     "output_type": "stream",
     "text": [
      "[-1, -1]\n"
     ]
    }
   ],
   "source": [
    "nums = []\n",
    "target = 0\n",
    "print(solve_problem_34(nums, target))"
   ]
  },
  {
   "cell_type": "markdown",
   "metadata": {},
   "source": [
    "#### Solution\n",
    "\n",
    "Slightly less efficient but more concise naive solution using built-in Python list methods."
   ]
  },
  {
   "cell_type": "code",
   "execution_count": 17,
   "metadata": {},
   "outputs": [],
   "source": [
    "def solve_problem_34(nums, target):\n",
    "    '''Find the starting and ending position of target in nums.'''\n",
    "    \n",
    "    n = len(nums)\n",
    "    \n",
    "    try:\n",
    "        start = nums.index(target)\n",
    "        end = start + nums.count(target)\n",
    "        \n",
    "    except:\n",
    "        return [-1, -1]"
   ]
  },
  {
   "cell_type": "code",
   "execution_count": 16,
   "metadata": {},
   "outputs": [
    {
     "name": "stdout",
     "output_type": "stream",
     "text": [
      "l\n"
     ]
    }
   ],
   "source": [
    "l = [0, 1, 2]\n",
    "try:\n",
    "    print(l.index(5))\n",
    "except:\n",
    "    print('l')"
   ]
  },
  {
   "cell_type": "code",
   "execution_count": null,
   "metadata": {},
   "outputs": [],
   "source": []
  },
  {
   "cell_type": "markdown",
   "metadata": {},
   "source": [
    "#### Test cases\n",
    "\n",
    "Example 1:\n",
    "Input: nums = [5, 7, 7, 8, 8, 10], target = 8<br>\n",
    "Output: [3, 4]"
   ]
  },
  {
   "cell_type": "code",
   "execution_count": 18,
   "metadata": {},
   "outputs": [
    {
     "name": "stdout",
     "output_type": "stream",
     "text": [
      "None\n"
     ]
    }
   ],
   "source": [
    "nums = [5, 7, 7, 8, 8, 10]\n",
    "target = 8\n",
    "print(solve_problem_34(nums, target))"
   ]
  },
  {
   "cell_type": "markdown",
   "metadata": {},
   "source": [
    "Example 2:\n",
    "Input: nums = [5, 7, 7, 8, 8, 10], target = 6<br>\n",
    "Output: [-1, -1]"
   ]
  },
  {
   "cell_type": "code",
   "execution_count": 19,
   "metadata": {},
   "outputs": [
    {
     "name": "stdout",
     "output_type": "stream",
     "text": [
      "[-1, -1]\n"
     ]
    }
   ],
   "source": [
    "nums = [5, 7, 7, 8, 8, 10]\n",
    "target = 6\n",
    "print(solve_problem_34(nums, target))"
   ]
  },
  {
   "cell_type": "markdown",
   "metadata": {},
   "source": [
    "Example 3:\n",
    "Input: nums = [], target = 0<br>\n",
    "Output: [-1, -1]"
   ]
  },
  {
   "cell_type": "code",
   "execution_count": 20,
   "metadata": {},
   "outputs": [
    {
     "name": "stdout",
     "output_type": "stream",
     "text": [
      "[-1, -1]\n"
     ]
    }
   ],
   "source": [
    "nums = []\n",
    "target = 0\n",
    "print(solve_problem_34(nums, target))"
   ]
  },
  {
   "cell_type": "code",
   "execution_count": null,
   "metadata": {},
   "outputs": [],
   "source": []
  },
  {
   "cell_type": "code",
   "execution_count": null,
   "metadata": {},
   "outputs": [],
   "source": []
  },
  {
   "cell_type": "code",
   "execution_count": null,
   "metadata": {},
   "outputs": [],
   "source": []
  },
  {
   "cell_type": "code",
   "execution_count": 6,
   "metadata": {},
   "outputs": [],
   "source": [
    "def solve_problem_34(nums, target):\n",
    "    '''Find the length of the longest valid parentheses substring.'''\n",
    "    \n",
    "    n = len(nums)\n",
    "    \n",
    "    x = binary_search(nums, target, 0, n-1)\n",
    "    \n",
    "    if x == -1:\n",
    "        return [-1, -1]"
   ]
  },
  {
   "cell_type": "code",
   "execution_count": 7,
   "metadata": {},
   "outputs": [],
   "source": [
    "def binary_search(nums, target, low, high):\n",
    "    '''Find index of target in nums between low and high.'''\n",
    "    \n",
    "    if high < low:\n",
    "        return -1\n",
    "    \n",
    "    mid = (low + high) // 2\n",
    "    \n",
    "    if target == nums[mid]:\n",
    "        return mid\n",
    "    elif target < nums[mid]:\n",
    "        return binary_search(nums, target, low, mid-1)\n",
    "    else:\n",
    "        return binary_search(nums, target, mid+1, high)"
   ]
  },
  {
   "cell_type": "code",
   "execution_count": 8,
   "metadata": {},
   "outputs": [
    {
     "name": "stdout",
     "output_type": "stream",
     "text": [
      "-1\n"
     ]
    }
   ],
   "source": [
    "nums = [0, 1, 2, 5, 6, 7, 8, 10]\n",
    "target = 11\n",
    "low = 0\n",
    "high = len(nums) - 1\n",
    "print(binary_search(nums, target, low, high))"
   ]
  },
  {
   "cell_type": "code",
   "execution_count": null,
   "metadata": {},
   "outputs": [],
   "source": []
  },
  {
   "cell_type": "markdown",
   "metadata": {},
   "source": [
    "## Test cases\n",
    "\n",
    "Example 1:\n",
    "Input: nums = [5, 7, 7, 8, 8, 10], target = 8<br>\n",
    "Output: [3, 4]"
   ]
  },
  {
   "cell_type": "code",
   "execution_count": 9,
   "metadata": {},
   "outputs": [
    {
     "name": "stdout",
     "output_type": "stream",
     "text": [
      "None\n"
     ]
    }
   ],
   "source": [
    "nums = [5, 7, 7, 8, 8, 10]\n",
    "target = 8\n",
    "print(solve_problem_34(nums, target))"
   ]
  },
  {
   "cell_type": "markdown",
   "metadata": {},
   "source": [
    "Example 2:\n",
    "Input: nums = [5, 7, 7, 8, 8, 10], target = 6<br>\n",
    "Output: [-1, -1]"
   ]
  },
  {
   "cell_type": "code",
   "execution_count": 10,
   "metadata": {},
   "outputs": [
    {
     "name": "stdout",
     "output_type": "stream",
     "text": [
      "[-1, -1]\n"
     ]
    }
   ],
   "source": [
    "nums = [5, 7, 7, 8, 8, 10]\n",
    "target = 6\n",
    "print(solve_problem_34(nums, target))"
   ]
  },
  {
   "cell_type": "markdown",
   "metadata": {},
   "source": [
    "Example 3:\n",
    "Input: nums = [], target = 0<br>\n",
    "Output: [-1, -1]"
   ]
  },
  {
   "cell_type": "code",
   "execution_count": 11,
   "metadata": {},
   "outputs": [
    {
     "name": "stdout",
     "output_type": "stream",
     "text": [
      "[-1, -1]\n"
     ]
    }
   ],
   "source": [
    "nums = []\n",
    "target = 0\n",
    "print(solve_problem_34(nums, target))"
   ]
  },
  {
   "cell_type": "code",
   "execution_count": null,
   "metadata": {},
   "outputs": [],
   "source": []
  }
 ],
 "metadata": {
  "kernelspec": {
   "display_name": "Python 3",
   "language": "python",
   "name": "python3"
  },
  "language_info": {
   "codemirror_mode": {
    "name": "ipython",
    "version": 3
   },
   "file_extension": ".py",
   "mimetype": "text/x-python",
   "name": "python",
   "nbconvert_exporter": "python",
   "pygments_lexer": "ipython3",
   "version": "3.7.6"
  }
 },
 "nbformat": 4,
 "nbformat_minor": 4
}
