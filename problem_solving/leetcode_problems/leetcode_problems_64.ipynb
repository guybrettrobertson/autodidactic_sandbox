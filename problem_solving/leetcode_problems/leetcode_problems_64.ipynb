{
 "cells": [
  {
   "cell_type": "markdown",
   "id": "092d403d",
   "metadata": {},
   "source": [
    "# Leetcode problems\n",
    "\n",
    "Problems found at [Leetcode website](https://leetcode.com/problemset/all/)."
   ]
  },
  {
   "cell_type": "markdown",
   "id": "8d2af1c3",
   "metadata": {},
   "source": [
    "## Import dependencies"
   ]
  },
  {
   "cell_type": "code",
   "execution_count": 58,
   "id": "a326c1e1",
   "metadata": {},
   "outputs": [],
   "source": [
    "import pandas as pd\n",
    "import time"
   ]
  },
  {
   "cell_type": "markdown",
   "id": "cb2a70a8",
   "metadata": {},
   "source": [
    "## Problem 64: Minimum path sum\n",
    "\n",
    "Given a m x n grid filled with non-negative numbers, find a path from top left to bottom right, which minimizes the sum of all numbers along its path.\n",
    "\n",
    "Note: You can only move either down or right at any point in time.\n",
    "\n",
    "### Solution a"
   ]
  },
  {
   "cell_type": "code",
   "execution_count": 60,
   "id": "eceb46f5",
   "metadata": {},
   "outputs": [],
   "source": [
    "def min_path_sum(grid):\n",
    "    \n",
    "    m = len(grid)\n",
    "    n = len(grid[0])\n",
    "    \n",
    "    distances = grid\n",
    "    \n",
    "    # First column\n",
    "    for i in range(1, m):\n",
    "        distances[i][0] += distances[i - 1][0]\n",
    "    \n",
    "    # First row\n",
    "    for i in range(1, n):\n",
    "        distances[0][i] += distances[0][i - 1]\n",
    "    \n",
    "    # Other cells\n",
    "    for i in range(1, m):\n",
    "        for j in range(1, n):\n",
    "            distances[i][j] += min(distances[i - 1][j], distances[i][j - 1])\n",
    "    \n",
    "    return distances[m - 1][n - 1]"
   ]
  },
  {
   "cell_type": "markdown",
   "id": "6fa3f182",
   "metadata": {},
   "source": [
    "## Test cases"
   ]
  },
  {
   "cell_type": "code",
   "execution_count": 61,
   "id": "378d88b3",
   "metadata": {},
   "outputs": [
    {
     "data": {
      "text/plain": [
       "7"
      ]
     },
     "execution_count": 61,
     "metadata": {},
     "output_type": "execute_result"
    }
   ],
   "source": [
    "grid = [[1, 3, 1], [1, 5, 1], [4, 2, 1]]\n",
    "min_path_sum(grid)"
   ]
  },
  {
   "cell_type": "code",
   "execution_count": 66,
   "id": "5da8da66",
   "metadata": {},
   "outputs": [
    {
     "name": "stdout",
     "output_type": "stream",
     "text": [
      "3804\n",
      "0.04254589999982272\n"
     ]
    }
   ],
   "source": [
    "grid = pd.read_csv(\"C:/Users/gbrettrobe001/Downloads/rand_test_grid.csv\", header = None).values.tolist()\n",
    "\n",
    "tic = time.perf_counter()\n",
    "print(min_path_sum(grid))\n",
    "toc = time.perf_counter()\n",
    "print(toc - tic)"
   ]
  }
 ],
 "metadata": {
  "kernelspec": {
   "display_name": "Python 3",
   "language": "python",
   "name": "python3"
  },
  "language_info": {
   "codemirror_mode": {
    "name": "ipython",
    "version": 3
   },
   "file_extension": ".py",
   "mimetype": "text/x-python",
   "name": "python",
   "nbconvert_exporter": "python",
   "pygments_lexer": "ipython3",
   "version": "3.8.8"
  }
 },
 "nbformat": 4,
 "nbformat_minor": 5
}
