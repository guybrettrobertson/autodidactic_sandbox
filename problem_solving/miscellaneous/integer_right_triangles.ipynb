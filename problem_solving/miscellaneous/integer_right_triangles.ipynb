{
 "cells": [
  {
   "cell_type": "markdown",
   "metadata": {},
   "source": [
    "# Integer right triangles\n",
    "\n",
    "If p is the perimeter of a right angle triangle with integral length sides, {a,b,c}, there are exactly three solutions for p = 120.\n",
    "\n",
    "{20,48,52}, {24,45,51}, {30,40,50}\n",
    "\n",
    "For which value of p ≤ 1000, is the number of solutions maximised?\n",
    "\n",
    "## Solution"
   ]
  },
  {
   "cell_type": "code",
   "execution_count": 1,
   "metadata": {},
   "outputs": [],
   "source": [
    "def integer_right_triangles(n):\n",
    "    \n",
    "    max_num = -1\n",
    "    max_num_idx = -1\n",
    "    \n",
    "    for i in range(1, n + 1):\n",
    "        potential = find_num_right_triangles(i)\n",
    "        #print(i, potential)\n",
    "        if potential > max_num:\n",
    "            max_num = potential\n",
    "            max_num_idx = i\n",
    "    \n",
    "    return max_num_idx\n",
    "\n",
    "def find_num_right_triangles(n):\n",
    "    \n",
    "    count = 0\n",
    "    \n",
    "    for i in range(1, n // 4 + 1):\n",
    "        i_squared = i**2\n",
    "        for j in range(i + 1, n // 2):\n",
    "            k = n - i - j\n",
    "            #print(i, j, k)\n",
    "            if i_squared + j**2 == k**2:\n",
    "                count += 1\n",
    "                continue\n",
    "    return count"
   ]
  },
  {
   "cell_type": "markdown",
   "metadata": {},
   "source": [
    "### Testing"
   ]
  },
  {
   "cell_type": "code",
   "execution_count": 2,
   "metadata": {},
   "outputs": [],
   "source": [
    "assert find_num_right_triangles(12) == 1\n",
    "assert find_num_right_triangles(120) == 3"
   ]
  },
  {
   "cell_type": "code",
   "execution_count": 3,
   "metadata": {},
   "outputs": [],
   "source": [
    "assert integer_right_triangles(1000) == 840"
   ]
  }
 ],
 "metadata": {
  "kernelspec": {
   "display_name": "Python 3",
   "language": "python",
   "name": "python3"
  },
  "language_info": {
   "codemirror_mode": {
    "name": "ipython",
    "version": 3
   },
   "file_extension": ".py",
   "mimetype": "text/x-python",
   "name": "python",
   "nbconvert_exporter": "python",
   "pygments_lexer": "ipython3",
   "version": "3.7.6"
  }
 },
 "nbformat": 4,
 "nbformat_minor": 4
}
