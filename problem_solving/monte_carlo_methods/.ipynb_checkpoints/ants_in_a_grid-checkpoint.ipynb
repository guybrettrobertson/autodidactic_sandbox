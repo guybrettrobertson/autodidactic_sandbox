{
 "cells": [
  {
   "cell_type": "markdown",
   "metadata": {},
   "source": [
    "# Ants in a grid\n",
    "\n",
    "## Problem\n",
    "\n",
    "An ant is trying to get from point A to point B in a grid. The coordinates of point A is (0,0), and the coordinates of point BB is (n, n).\n",
    "\n",
    "Once the ant starts moving, there are four options, it can go left, right, up or down (no diagonal movement allowed). The new point should still be within the boundaries of the n×n grid.\n",
    "\n",
    "If P is the probability of the ant reaching point BB for a 6×6 grid, use Monte Carlo simulation to compute P. "
   ]
  },
  {
   "cell_type": "markdown",
   "metadata": {},
   "source": [
    "## Import packages"
   ]
  },
  {
   "cell_type": "code",
   "execution_count": 1,
   "metadata": {},
   "outputs": [],
   "source": [
    "import numpy as np"
   ]
  },
  {
   "cell_type": "markdown",
   "metadata": {},
   "source": [
    "## Solution"
   ]
  },
  {
   "cell_type": "code",
   "execution_count": null,
   "metadata": {},
   "outputs": [],
   "source": [
    "grid_size = 6\n",
    "row = 0\n",
    "col = 0"
   ]
  },
  {
   "cell_type": "code",
   "execution_count": 77,
   "metadata": {},
   "outputs": [
    {
     "name": "stdout",
     "output_type": "stream",
     "text": [
      "Reached corner.\n",
      "Reached corner.\n",
      "Reached corner.\n",
      "Reached corner.\n",
      "Reached corner.\n",
      "Reached corner.\n",
      "Reached corner.\n",
      "Reached corner.\n",
      "Reached corner.\n",
      "Reached corner.\n",
      "Reached corner.\n",
      "Reached corner.\n",
      "Reached corner.\n",
      "Reached corner.\n",
      "Reached corner.\n",
      "Reached corner.\n",
      "Reached corner.\n",
      "Reached corner.\n",
      "Reached corner.\n",
      "Reached corner.\n",
      "Reached corner.\n",
      "Reached corner.\n",
      "Reached corner.\n",
      "23 977\n"
     ]
    }
   ],
   "source": [
    "grid_size = 3\n",
    "row = 0\n",
    "col = 0\n",
    "n_ants = 1000\n",
    "success = 0\n",
    "fail = 0\n",
    "for i in range(n_ants):\n",
    "    #print('------', i,'------')\n",
    "    row = 0\n",
    "    col = 0\n",
    "    while True:\n",
    "        row, col = take_step(row, col)\n",
    "              \n",
    "        if not (0 <= row <= grid_size and 0 <= col <= grid_size):\n",
    "            fail += 1\n",
    "            break\n",
    "        elif if row == grid_size and col == grid_size:\n",
    "            success += 1\n",
    "            break\n",
    "            \n",
    "print(success, fail)"
   ]
  },
  {
   "cell_type": "code",
   "execution_count": 18,
   "metadata": {},
   "outputs": [
    {
     "data": {
      "text/plain": [
       "2"
      ]
     },
     "execution_count": 18,
     "metadata": {},
     "output_type": "execute_result"
    }
   ],
   "source": [
    "np.random.randint(1, 4)"
   ]
  },
  {
   "cell_type": "code",
   "execution_count": 75,
   "metadata": {},
   "outputs": [],
   "source": [
    "def take_step(row, col):\n",
    "    \n",
    "    rand = np.random.randint(4)\n",
    "    \n",
    "    if rand == 0:\n",
    "        row += 1\n",
    "    elif rand == 1:\n",
    "        row -= 1\n",
    "    elif rand == 2:\n",
    "        col += 1\n",
    "    else:\n",
    "        col -= 1\n",
    "        \n",
    "    return row, col"
   ]
  },
  {
   "cell_type": "code",
   "execution_count": 56,
   "metadata": {},
   "outputs": [
    {
     "name": "stdout",
     "output_type": "stream",
     "text": [
      "-1 0\n"
     ]
    }
   ],
   "source": [
    "row = 0\n",
    "col = 0\n",
    "row, col = take_step(row, col)\n",
    "print(row, col)"
   ]
  },
  {
   "cell_type": "code",
   "execution_count": null,
   "metadata": {},
   "outputs": [],
   "source": []
  }
 ],
 "metadata": {
  "kernelspec": {
   "display_name": "Python 3",
   "language": "python",
   "name": "python3"
  },
  "language_info": {
   "codemirror_mode": {
    "name": "ipython",
    "version": 3
   },
   "file_extension": ".py",
   "mimetype": "text/x-python",
   "name": "python",
   "nbconvert_exporter": "python",
   "pygments_lexer": "ipython3",
   "version": "3.7.6"
  }
 },
 "nbformat": 4,
 "nbformat_minor": 4
}
