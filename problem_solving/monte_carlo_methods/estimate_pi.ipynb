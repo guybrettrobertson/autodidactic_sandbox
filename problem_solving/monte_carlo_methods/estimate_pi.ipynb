{
 "cells": [
  {
   "cell_type": "markdown",
   "metadata": {},
   "source": [
    "# Estimate pi"
   ]
  },
  {
   "cell_type": "markdown",
   "metadata": {},
   "source": [
    "## Import packages"
   ]
  },
  {
   "cell_type": "code",
   "execution_count": 1,
   "metadata": {},
   "outputs": [],
   "source": [
    "import numpy as np\n",
    "import matplotlib.pyplot as plt"
   ]
  },
  {
   "cell_type": "markdown",
   "metadata": {},
   "source": [
    "## Calculation\n",
    "\n",
    "A Monte Carlo simulation can be used as a method for estimating the value of $\\pi$. Randomly sample numbers in the unit square between [-0.5, -0.5] and [0.5, 0.5], and calculate the distance from each point to the origin. If a point is within 0.5 of distance from the origin, then it falls within a circle centred on the origin of diameter equal to 1. The proportion of the points falling in the circle relates to the area of the circle and square according to the following equation:\n",
    "\n",
    "$\\frac{\\text{Number of points in circle}}{\\text{Total number of points}} = \\frac{\\text{Area of circle}}{\\text{Area of square}}$\n",
    "\n",
    "Using the equation for the area of a circle ($\\text{Area} = \\pi r^2$), we can rearrange this equation to give a formula for estimating pi:\n",
    "\n",
    "$\\pi = \\frac{\\text{Number of points in circle}}{\\text{Total number of points} \\times r^2}$\n",
    "\n",
    "Where $r$ is the radius of the circle, i.e. 0.5."
   ]
  },
  {
   "cell_type": "code",
   "execution_count": 2,
   "metadata": {},
   "outputs": [],
   "source": [
    "def estimate_pi(n, seed=42):\n",
    "    '''Calculate the value of pi using Monte Carlo simulation of n samples.'''\n",
    "    \n",
    "    # Specify the random seed.\n",
    "    np.random.seed = seed\n",
    "    \n",
    "    # Randomly sample points within the unit square surrounding the origin, giving coordinates x and y.\n",
    "    random_nums = np.random.rand(n, 2) - 0.5\n",
    "    \n",
    "    # Find the square root of the sums of the squares for each point to give the distance from the origin.\n",
    "    squares = np.multiply(random_nums, random_nums)\n",
    "    sums_of_squares = np.sum(squares, axis=1)\n",
    "    distances = np.sqrt(sums_of_squares)\n",
    "\n",
    "    # The values between 0 and 0.5 and within the circle, so we can just apply a rounding function to identify these.\n",
    "    within_circle = n - np.sum(np.round(distances, decimals=0))\n",
    "    \n",
    "    # Estimate pi using the formula given above.\n",
    "    pi_estimate = np.sum(within_circle) / n / 0.25\n",
    "\n",
    "    return pi_estimate"
   ]
  },
  {
   "cell_type": "markdown",
   "metadata": {},
   "source": [
    "### Testing"
   ]
  },
  {
   "cell_type": "markdown",
   "metadata": {},
   "source": [
    "Estimate $\\pi$ for various values of n, i.e. the number of sampling points."
   ]
  },
  {
   "cell_type": "code",
   "execution_count": 3,
   "metadata": {},
   "outputs": [],
   "source": [
    "# Number of different values of n to try.\n",
    "m = 40\n",
    "\n",
    "n_array = [int(10**(x/8)) for x in range(4, m)]\n",
    "\n",
    "pi_estimates = []\n",
    "\n",
    "for n in n_array:\n",
    "    pi_estimates.append(estimate_pi(n, seed=42))"
   ]
  },
  {
   "cell_type": "markdown",
   "metadata": {},
   "source": [
    "Plot the estimated values of $\\pi$ as a function of n."
   ]
  },
  {
   "cell_type": "code",
   "execution_count": 4,
   "metadata": {},
   "outputs": [
    {
     "data": {
      "image/png": "[encoded data removed]",
      "text/plain": [
       "<Figure size 432x288 with 1 Axes>"
      ]
     },
     "metadata": {
      "needs_background": "light"
     },
     "output_type": "display_data"
    }
   ],
   "source": [
    "pi = np.pi\n",
    "plt.plot(n_array, pi_estimates)\n",
    "plt.plot([min(n_array), max(n_array)], [pi, pi])\n",
    "plt.semilogx()\n",
    "plt.xlabel('Number of sample points')\n",
    "plt.ylabel('Estimate of pi')\n",
    "plt.show()"
   ]
  }
 ],
 "metadata": {
  "kernelspec": {
   "display_name": "Python 3",
   "language": "python",
   "name": "python3"
  },
  "language_info": {
   "codemirror_mode": {
    "name": "ipython",
    "version": 3
   },
   "file_extension": ".py",
   "mimetype": "text/x-python",
   "name": "python",
   "nbconvert_exporter": "python",
   "pygments_lexer": "ipython3",
   "version": "3.7.6"
  }
 },
 "nbformat": 4,
 "nbformat_minor": 4
}
