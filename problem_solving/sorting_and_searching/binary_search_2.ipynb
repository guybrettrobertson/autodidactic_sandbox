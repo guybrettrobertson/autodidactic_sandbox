{
 "cells": [
  {
   "cell_type": "markdown",
   "metadata": {},
   "source": [
    "# Binary search"
   ]
  },
  {
   "cell_type": "code",
   "execution_count": 1,
   "metadata": {},
   "outputs": [],
   "source": [
    "def binary_search(array, target):\n",
    "    '''Find the position of the target in the array.'''\n",
    "    \n",
    "    return binary_search_helper(array, target, 0, len(array) - 1)\n",
    "\n",
    "def binary_search_helper(array, target, left, right):\n",
    "    '''Helper function for recursive binary search function calls.'''\n",
    "    \n",
    "    if right < left:\n",
    "        return -1\n",
    "    \n",
    "    mid = (left + right) // 2\n",
    "    \n",
    "    if target == array[mid]:\n",
    "        return mid\n",
    "    elif target < array[mid]:\n",
    "        return binary_search_helper(array, target, left, mid - 1)\n",
    "    else:\n",
    "        return binary_search_helper(array, target, mid + 1, right)"
   ]
  },
  {
   "cell_type": "markdown",
   "metadata": {},
   "source": [
    "### Testing"
   ]
  },
  {
   "cell_type": "code",
   "execution_count": 2,
   "metadata": {},
   "outputs": [],
   "source": [
    "assert binary_search([0], 0) == 0\n",
    "assert binary_search([5, 6, 7, 8, 9], 5) == 0\n",
    "assert binary_search([5, 6, 7, 8, 9], 6) == 1\n",
    "assert binary_search([5, 6, 7, 8, 9], 7) == 2\n",
    "assert binary_search([5, 6, 7, 8, 9], 8) == 3\n",
    "assert binary_search([5, 6, 7, 8, 9], 9) == 4\n",
    "assert binary_search([5, 6, 7, 8, 9], 0) == -1"
   ]
  }
 ],
 "metadata": {
  "kernelspec": {
   "display_name": "Python 3",
   "language": "python",
   "name": "python3"
  },
  "language_info": {
   "codemirror_mode": {
    "name": "ipython",
    "version": 3
   },
   "file_extension": ".py",
   "mimetype": "text/x-python",
   "name": "python",
   "nbconvert_exporter": "python",
   "pygments_lexer": "ipython3",
   "version": "3.7.6"
  }
 },
 "nbformat": 4,
 "nbformat_minor": 4
}
