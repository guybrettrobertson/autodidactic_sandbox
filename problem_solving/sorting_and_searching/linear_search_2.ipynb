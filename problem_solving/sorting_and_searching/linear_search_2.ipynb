{
 "cells": [
  {
   "cell_type": "markdown",
   "metadata": {},
   "source": [
    "# Linear search"
   ]
  },
  {
   "cell_type": "code",
   "execution_count": 1,
   "metadata": {},
   "outputs": [],
   "source": [
    "def linear_search(array, target):\n",
    "    '''Find the position of the target in the array using a linear search.'''\n",
    "    \n",
    "    for i, num in enumerate(array):\n",
    "        if num == target:\n",
    "            return i\n",
    "    \n",
    "    return -1"
   ]
  },
  {
   "cell_type": "markdown",
   "metadata": {},
   "source": [
    "### Testing"
   ]
  },
  {
   "cell_type": "code",
   "execution_count": 3,
   "metadata": {},
   "outputs": [],
   "source": [
    "assert linear_search([0], 0) == 0\n",
    "assert linear_search([5, 6, 7, 8, 9], 5) == 0\n",
    "assert linear_search([5, 6, 7, 8, 9], 6) == 1\n",
    "assert linear_search([5, 6, 7, 8, 9], 7) == 2\n",
    "assert linear_search([5, 6, 7, 8, 9], 8) == 3\n",
    "assert linear_search([5, 6, 7, 8, 9], 9) == 4\n",
    "assert linear_search([5, 6, 7, 8, 9], 0) == -1"
   ]
  }
 ],
 "metadata": {
  "kernelspec": {
   "display_name": "Python 3",
   "language": "python",
   "name": "python3"
  },
  "language_info": {
   "codemirror_mode": {
    "name": "ipython",
    "version": 3
   },
   "file_extension": ".py",
   "mimetype": "text/x-python",
   "name": "python",
   "nbconvert_exporter": "python",
   "pygments_lexer": "ipython3",
   "version": "3.7.6"
  }
 },
 "nbformat": 4,
 "nbformat_minor": 4
}
